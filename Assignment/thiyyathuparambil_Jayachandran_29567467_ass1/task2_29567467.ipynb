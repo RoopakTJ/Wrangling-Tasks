{
 "cells": [
  {
   "cell_type": "markdown",
   "metadata": {},
   "source": [
    "#                         Assignment 1 - Task 2 Text Pre-Processing \n",
    "\n",
    "### Student Name: Roopak TJ\n",
    "### Student ID: 29567467\n",
    "\n",
    "Date: 14th April, 2019\n",
    "\n",
    "Environment: Python 3 and Jupyter notebook\n",
    "Libraries used: \n",
    "* Tabula (for reading and extracting data from pdf tables )\n",
    "* nltk - natural language toolkit (tokenizer, stemmer, collocations and probabilities)\n",
    "* matplotlib - For plots\n",
    "\n",
    "External files used:\n",
    "* Input file : 29567467.pdf | stopwords_en.txt\n",
    "* Output file : 29567467_vocab.txt | 29567467_countVec.txt"
   ]
  },
  {
   "cell_type": "markdown",
   "metadata": {},
   "source": [
    "## Text Pre-Processing\n",
    "The process basically involves processing and formatting of data which can be fed into differnt machine learning and data analysis processes.The current task mainly covers:\n",
    "* Extracting data from PDF tables\n",
    "* Loading the data into Dataframe\n",
    "* Tokenization\n",
    "* Case Normalization\n",
    "* Removing stop words\n",
    "* Stemming technique\n",
    "* Count vectorization"
   ]
  },
  {
   "cell_type": "markdown",
   "metadata": {},
   "source": [
    "## Import libraries"
   ]
  },
  {
   "cell_type": "code",
   "execution_count": 1,
   "metadata": {},
   "outputs": [],
   "source": [
    "from tabula import read_pdf\n",
    "import nltk\n",
    "from nltk.tokenize import RegexpTokenizer\n",
    "from nltk.tokenize import MWETokenizer\n",
    "from nltk.stem import PorterStemmer\n",
    "from nltk.probability import *\n",
    "import matplotlib.pyplot as plt\n",
    "from pylab import *"
   ]
  },
  {
   "cell_type": "code",
   "execution_count": 2,
   "metadata": {},
   "outputs": [
    {
     "name": "stdout",
     "output_type": "stream",
     "text": [
      "Requirement already satisfied: nltk in /anaconda3/lib/python3.6/site-packages (3.3)\r\n",
      "Requirement already satisfied: six in /anaconda3/lib/python3.6/site-packages (from nltk) (1.11.0)\r\n"
     ]
    }
   ],
   "source": [
    "!pip install nltk"
   ]
  },
  {
   "cell_type": "markdown",
   "metadata": {},
   "source": [
    "Using read_pdf function from Tabula package to extract tables in pdf to dataframe.\n",
    "Parameters: \n",
    "* file name\n",
    "* encoding technique\n",
    "* spreadsheet indicator boolean\n",
    "\n",
    "Returns:\n",
    "* dataframe"
   ]
  },
  {
   "cell_type": "code",
   "execution_count": 3,
   "metadata": {},
   "outputs": [],
   "source": [
    "# Import pdf to dataframe\n",
    "df = read_pdf(\"29567467.pdf\",encoding='utf-8', spreadsheet=True, pages='all') "
   ]
  },
  {
   "cell_type": "markdown",
   "metadata": {},
   "source": [
    "Understanding the number of rows and columns"
   ]
  },
  {
   "cell_type": "code",
   "execution_count": 4,
   "metadata": {},
   "outputs": [
    {
     "data": {
      "text/plain": [
       "(200, 3)"
      ]
     },
     "execution_count": 4,
     "metadata": {},
     "output_type": "execute_result"
    }
   ],
   "source": [
    "df.shape"
   ]
  },
  {
   "cell_type": "code",
   "execution_count": 5,
   "metadata": {},
   "outputs": [
    {
     "data": {
      "text/plain": [
       "Index(['Title', 'Synopsis', 'Outcomes'], dtype='object')"
      ]
     },
     "execution_count": 5,
     "metadata": {},
     "output_type": "execute_result"
    }
   ],
   "source": [
    "df.columns"
   ]
  },
  {
   "cell_type": "markdown",
   "metadata": {},
   "source": [
    "On checking the data, it is noticed that some of the values in the cell contains ['NA'] in both Synopsis and Outcomes as seen below. This needs to be removed before text preprocessing"
   ]
  },
  {
   "cell_type": "code",
   "execution_count": 6,
   "metadata": {},
   "outputs": [
    {
     "data": {
      "text/html": [
       "<div>\n",
       "<style scoped>\n",
       "    .dataframe tbody tr th:only-of-type {\n",
       "        vertical-align: middle;\n",
       "    }\n",
       "\n",
       "    .dataframe tbody tr th {\n",
       "        vertical-align: top;\n",
       "    }\n",
       "\n",
       "    .dataframe thead th {\n",
       "        text-align: right;\n",
       "    }\n",
       "</style>\n",
       "<table border=\"1\" class=\"dataframe\">\n",
       "  <thead>\n",
       "    <tr style=\"text-align: right;\">\n",
       "      <th></th>\n",
       "      <th>Title</th>\n",
       "      <th>Synopsis</th>\n",
       "      <th>Outcomes</th>\n",
       "    </tr>\n",
       "  </thead>\n",
       "  <tbody>\n",
       "    <tr>\n",
       "      <th>111</th>\n",
       "      <td>AZA3644</td>\n",
       "      <td>The unit is a survey course on the history and...</td>\n",
       "      <td>['NA']</td>\n",
       "    </tr>\n",
       "  </tbody>\n",
       "</table>\n",
       "</div>"
      ],
      "text/plain": [
       "       Title                                           Synopsis Outcomes\n",
       "111  AZA3644  The unit is a survey course on the history and...   ['NA']"
      ]
     },
     "execution_count": 6,
     "metadata": {},
     "output_type": "execute_result"
    }
   ],
   "source": [
    "# Some rows have Synopsis and Outcomes as \"NA\"\n",
    "df[df[\"Title\"] == \"AZA3644\"]"
   ]
  },
  {
   "cell_type": "markdown",
   "metadata": {},
   "source": [
    "Writing a function which will consider such cases and replace ['NA'] with empty string.\n",
    "\n",
    "Parameters : String\n",
    "\n",
    "Return : Same string after removing null cases"
   ]
  },
  {
   "cell_type": "code",
   "execution_count": 7,
   "metadata": {},
   "outputs": [],
   "source": [
    "def removeNull(s):\n",
    "    s = str(s)\n",
    "    if s == \"['NA']\":\n",
    "        s = \"\"\n",
    "    return s\n",
    "\n",
    "df[\"Synopsis\"] = df[\"Synopsis\"].apply(removeNull)\n",
    "df[\"Outcomes\"] = df[\"Outcomes\"].apply(removeNull)"
   ]
  },
  {
   "cell_type": "markdown",
   "metadata": {},
   "source": [
    "It can be seen that the ['NA'] values has been replaced by empty string "
   ]
  },
  {
   "cell_type": "code",
   "execution_count": 8,
   "metadata": {},
   "outputs": [
    {
     "data": {
      "text/html": [
       "<div>\n",
       "<style scoped>\n",
       "    .dataframe tbody tr th:only-of-type {\n",
       "        vertical-align: middle;\n",
       "    }\n",
       "\n",
       "    .dataframe tbody tr th {\n",
       "        vertical-align: top;\n",
       "    }\n",
       "\n",
       "    .dataframe thead th {\n",
       "        text-align: right;\n",
       "    }\n",
       "</style>\n",
       "<table border=\"1\" class=\"dataframe\">\n",
       "  <thead>\n",
       "    <tr style=\"text-align: right;\">\n",
       "      <th></th>\n",
       "      <th>Title</th>\n",
       "      <th>Synopsis</th>\n",
       "      <th>Outcomes</th>\n",
       "    </tr>\n",
       "  </thead>\n",
       "  <tbody>\n",
       "    <tr>\n",
       "      <th>16</th>\n",
       "      <td>LAW4227</td>\n",
       "      <td>Criminal investigation and procedure involves ...</td>\n",
       "      <td></td>\n",
       "    </tr>\n",
       "  </tbody>\n",
       "</table>\n",
       "</div>"
      ],
      "text/plain": [
       "      Title                                           Synopsis Outcomes\n",
       "16  LAW4227  Criminal investigation and procedure involves ...         "
      ]
     },
     "execution_count": 8,
     "metadata": {},
     "output_type": "execute_result"
    }
   ],
   "source": [
    "# Some rows have Synopsis and Outcomes as \"NA\"\n",
    "df[df[\"Title\"] == \"AZA3644\"]\n",
    "df[df[\"Title\"] == \"LAW4227\"]"
   ]
  },
  {
   "cell_type": "markdown",
   "metadata": {},
   "source": [
    "Combining 2 columns(Synopsis and Outcomes) into a single column Combination for simplicity"
   ]
  },
  {
   "cell_type": "code",
   "execution_count": 9,
   "metadata": {},
   "outputs": [],
   "source": [
    "# Create a new column to combine synopsis and outcome\n",
    "df[\"Combination\"] = df.Synopsis + df.Outcomes"
   ]
  },
  {
   "cell_type": "markdown",
   "metadata": {},
   "source": [
    "Droping the actual columns which contains redundant data"
   ]
  },
  {
   "cell_type": "code",
   "execution_count": 10,
   "metadata": {},
   "outputs": [],
   "source": [
    "# Drop synopsis and outcome\n",
    "df.drop(columns = ['Synopsis', 'Outcomes'], inplace = True, axis=1)"
   ]
  },
  {
   "cell_type": "code",
   "execution_count": 11,
   "metadata": {},
   "outputs": [
    {
     "data": {
      "text/plain": [
       "Index(['Title', 'Combination'], dtype='object')"
      ]
     },
     "execution_count": 11,
     "metadata": {},
     "output_type": "execute_result"
    }
   ],
   "source": [
    "df.columns"
   ]
  },
  {
   "cell_type": "markdown",
   "metadata": {},
   "source": [
    "Writing a function which will be called in the dataframe column which will perform the case Normalization and make every word except the Noun lower case"
   ]
  },
  {
   "cell_type": "code",
   "execution_count": 12,
   "metadata": {},
   "outputs": [],
   "source": [
    "def preserveNoun(s):\n",
    "    s = str(s)\n",
    "    First = True\n",
    "    new = \"\"\n",
    "    flag = False\n",
    "    for each in s:\n",
    "        if flag and each != \" \":\n",
    "            each = each.lower()\n",
    "            flag = False\n",
    "        if each == \".\" or each == \"?\" or each == \"!\":\n",
    "            flag = True\n",
    "        if First:\n",
    "            each = each.lower()\n",
    "            First = False\n",
    "        new = new + each\n",
    "    return new"
   ]
  },
  {
   "cell_type": "markdown",
   "metadata": {},
   "source": [
    "Create a new column to store the value returned from the function"
   ]
  },
  {
   "cell_type": "code",
   "execution_count": 13,
   "metadata": {},
   "outputs": [
    {
     "data": {
      "text/html": [
       "<div>\n",
       "<style scoped>\n",
       "    .dataframe tbody tr th:only-of-type {\n",
       "        vertical-align: middle;\n",
       "    }\n",
       "\n",
       "    .dataframe tbody tr th {\n",
       "        vertical-align: top;\n",
       "    }\n",
       "\n",
       "    .dataframe thead th {\n",
       "        text-align: right;\n",
       "    }\n",
       "</style>\n",
       "<table border=\"1\" class=\"dataframe\">\n",
       "  <thead>\n",
       "    <tr style=\"text-align: right;\">\n",
       "      <th></th>\n",
       "      <th>Title</th>\n",
       "      <th>Combination</th>\n",
       "      <th>new</th>\n",
       "    </tr>\n",
       "  </thead>\n",
       "  <tbody>\n",
       "    <tr>\n",
       "      <th>0</th>\n",
       "      <td>ATS3956</td>\n",
       "      <td>This unit focuses on the histories, theories, ...</td>\n",
       "      <td>this unit focuses on the histories, theories, ...</td>\n",
       "    </tr>\n",
       "    <tr>\n",
       "      <th>1</th>\n",
       "      <td>ATS3116</td>\n",
       "      <td>The unit develops Indonesian linguistic and cu...</td>\n",
       "      <td>the unit develops Indonesian linguistic and cu...</td>\n",
       "    </tr>\n",
       "    <tr>\n",
       "      <th>2</th>\n",
       "      <td>APG5337</td>\n",
       "      <td>The unit will explore modern political governa...</td>\n",
       "      <td>the unit will explore modern political governa...</td>\n",
       "    </tr>\n",
       "    <tr>\n",
       "      <th>3</th>\n",
       "      <td>ATS1229</td>\n",
       "      <td>This unit aims to provide a basic foundation i...</td>\n",
       "      <td>this unit aims to provide a basic foundation i...</td>\n",
       "    </tr>\n",
       "    <tr>\n",
       "      <th>4</th>\n",
       "      <td>IMM3990</td>\n",
       "      <td>This unit will provide high achieving students...</td>\n",
       "      <td>this unit will provide high achieving students...</td>\n",
       "    </tr>\n",
       "  </tbody>\n",
       "</table>\n",
       "</div>"
      ],
      "text/plain": [
       "     Title                                        Combination  \\\n",
       "0  ATS3956  This unit focuses on the histories, theories, ...   \n",
       "1  ATS3116  The unit develops Indonesian linguistic and cu...   \n",
       "2  APG5337  The unit will explore modern political governa...   \n",
       "3  ATS1229  This unit aims to provide a basic foundation i...   \n",
       "4  IMM3990  This unit will provide high achieving students...   \n",
       "\n",
       "                                                 new  \n",
       "0  this unit focuses on the histories, theories, ...  \n",
       "1  the unit develops Indonesian linguistic and cu...  \n",
       "2  the unit will explore modern political governa...  \n",
       "3  this unit aims to provide a basic foundation i...  \n",
       "4  this unit will provide high achieving students...  "
      ]
     },
     "execution_count": 13,
     "metadata": {},
     "output_type": "execute_result"
    }
   ],
   "source": [
    "df[\"new\"] = np.NAN\n",
    "df[\"new\"] = df[\"Combination\"].apply(preserveNoun)\n",
    "df.head()"
   ]
  },
  {
   "cell_type": "markdown",
   "metadata": {},
   "source": [
    "Droping Combination column"
   ]
  },
  {
   "cell_type": "code",
   "execution_count": 14,
   "metadata": {},
   "outputs": [
    {
     "data": {
      "text/html": [
       "<div>\n",
       "<style scoped>\n",
       "    .dataframe tbody tr th:only-of-type {\n",
       "        vertical-align: middle;\n",
       "    }\n",
       "\n",
       "    .dataframe tbody tr th {\n",
       "        vertical-align: top;\n",
       "    }\n",
       "\n",
       "    .dataframe thead th {\n",
       "        text-align: right;\n",
       "    }\n",
       "</style>\n",
       "<table border=\"1\" class=\"dataframe\">\n",
       "  <thead>\n",
       "    <tr style=\"text-align: right;\">\n",
       "      <th></th>\n",
       "      <th>Title</th>\n",
       "      <th>Information</th>\n",
       "    </tr>\n",
       "  </thead>\n",
       "  <tbody>\n",
       "    <tr>\n",
       "      <th>0</th>\n",
       "      <td>ATS3956</td>\n",
       "      <td>this unit focuses on the histories, theories, ...</td>\n",
       "    </tr>\n",
       "    <tr>\n",
       "      <th>1</th>\n",
       "      <td>ATS3116</td>\n",
       "      <td>the unit develops Indonesian linguistic and cu...</td>\n",
       "    </tr>\n",
       "    <tr>\n",
       "      <th>2</th>\n",
       "      <td>APG5337</td>\n",
       "      <td>the unit will explore modern political governa...</td>\n",
       "    </tr>\n",
       "    <tr>\n",
       "      <th>3</th>\n",
       "      <td>ATS1229</td>\n",
       "      <td>this unit aims to provide a basic foundation i...</td>\n",
       "    </tr>\n",
       "    <tr>\n",
       "      <th>4</th>\n",
       "      <td>IMM3990</td>\n",
       "      <td>this unit will provide high achieving students...</td>\n",
       "    </tr>\n",
       "  </tbody>\n",
       "</table>\n",
       "</div>"
      ],
      "text/plain": [
       "     Title                                        Information\n",
       "0  ATS3956  this unit focuses on the histories, theories, ...\n",
       "1  ATS3116  the unit develops Indonesian linguistic and cu...\n",
       "2  APG5337  the unit will explore modern political governa...\n",
       "3  ATS1229  this unit aims to provide a basic foundation i...\n",
       "4  IMM3990  this unit will provide high achieving students..."
      ]
     },
     "execution_count": 14,
     "metadata": {},
     "output_type": "execute_result"
    }
   ],
   "source": [
    "df.drop(columns = ['Combination'], inplace = True, axis=1)\n",
    "df = df.rename(columns={'new': 'Information'})\n",
    "df.head()"
   ]
  },
  {
   "cell_type": "markdown",
   "metadata": {},
   "source": [
    "Writing a function tokenise which will generate unigrams from the string\n",
    "\n",
    "Parameters : String (Column value in Information)\n",
    "\n",
    "Returns : List of unigrams"
   ]
  },
  {
   "cell_type": "code",
   "execution_count": 15,
   "metadata": {},
   "outputs": [],
   "source": [
    "def tokenise(s):\n",
    "    s = str(s)\n",
    "    tokenizer = RegexpTokenizer(r\"\\w+(?:[-']\\w+)?\")\n",
    "    unigram = tokenizer.tokenize(s)\n",
    "    return unigram\n",
    "    "
   ]
  },
  {
   "cell_type": "code",
   "execution_count": 16,
   "metadata": {},
   "outputs": [
    {
     "data": {
      "text/html": [
       "<div>\n",
       "<style scoped>\n",
       "    .dataframe tbody tr th:only-of-type {\n",
       "        vertical-align: middle;\n",
       "    }\n",
       "\n",
       "    .dataframe tbody tr th {\n",
       "        vertical-align: top;\n",
       "    }\n",
       "\n",
       "    .dataframe thead th {\n",
       "        text-align: right;\n",
       "    }\n",
       "</style>\n",
       "<table border=\"1\" class=\"dataframe\">\n",
       "  <thead>\n",
       "    <tr style=\"text-align: right;\">\n",
       "      <th></th>\n",
       "      <th>Title</th>\n",
       "      <th>Information</th>\n",
       "    </tr>\n",
       "  </thead>\n",
       "  <tbody>\n",
       "    <tr>\n",
       "      <th>0</th>\n",
       "      <td>ATS3956</td>\n",
       "      <td>[this, unit, focuses, on, the, histories, theo...</td>\n",
       "    </tr>\n",
       "    <tr>\n",
       "      <th>1</th>\n",
       "      <td>ATS3116</td>\n",
       "      <td>[the, unit, develops, Indonesian, linguistic, ...</td>\n",
       "    </tr>\n",
       "    <tr>\n",
       "      <th>2</th>\n",
       "      <td>APG5337</td>\n",
       "      <td>[the, unit, will, explore, modern, political, ...</td>\n",
       "    </tr>\n",
       "    <tr>\n",
       "      <th>3</th>\n",
       "      <td>ATS1229</td>\n",
       "      <td>[this, unit, aims, to, provide, a, basic, foun...</td>\n",
       "    </tr>\n",
       "    <tr>\n",
       "      <th>4</th>\n",
       "      <td>IMM3990</td>\n",
       "      <td>[this, unit, will, provide, high, achieving, s...</td>\n",
       "    </tr>\n",
       "  </tbody>\n",
       "</table>\n",
       "</div>"
      ],
      "text/plain": [
       "     Title                                        Information\n",
       "0  ATS3956  [this, unit, focuses, on, the, histories, theo...\n",
       "1  ATS3116  [the, unit, develops, Indonesian, linguistic, ...\n",
       "2  APG5337  [the, unit, will, explore, modern, political, ...\n",
       "3  ATS1229  [this, unit, aims, to, provide, a, basic, foun...\n",
       "4  IMM3990  [this, unit, will, provide, high, achieving, s..."
      ]
     },
     "execution_count": 16,
     "metadata": {},
     "output_type": "execute_result"
    }
   ],
   "source": [
    "df[\"Information\"] = df[\"Information\"].apply(tokenise)\n",
    "df.head()"
   ]
  },
  {
   "cell_type": "markdown",
   "metadata": {},
   "source": [
    "bigrams() : Creating some of the multigrams using MWETokenizer. Created a unique set of tokens. Appended the tuples of bigrams and used MWETokenizer to replace the existing values in tokens list to words separated by '_'"
   ]
  },
  {
   "cell_type": "code",
   "execution_count": 17,
   "metadata": {},
   "outputs": [],
   "source": [
    "def bigrams(s):\n",
    "\n",
    "    unique_set = list(set(s))\n",
    "    unique_set.append((\"transhistorical\", \"case\", \"studies\"))\n",
    "    unique_set.append((\"Post-Traumatic\", \"Stress\", \"Disorder\"))\n",
    "    unique_set.append((\"professional\", \"competency\"))\n",
    "    unique_set.append((\"occupational\", \"health\"))\n",
    "    \n",
    "    mwe_tokenizer = MWETokenizer(unique_set)\n",
    "    uni_and_bigrams = mwe_tokenizer.tokenize(s)\n",
    "    return uni_and_bigrams"
   ]
  },
  {
   "cell_type": "code",
   "execution_count": 18,
   "metadata": {},
   "outputs": [
    {
     "data": {
      "text/html": [
       "<div>\n",
       "<style scoped>\n",
       "    .dataframe tbody tr th:only-of-type {\n",
       "        vertical-align: middle;\n",
       "    }\n",
       "\n",
       "    .dataframe tbody tr th {\n",
       "        vertical-align: top;\n",
       "    }\n",
       "\n",
       "    .dataframe thead th {\n",
       "        text-align: right;\n",
       "    }\n",
       "</style>\n",
       "<table border=\"1\" class=\"dataframe\">\n",
       "  <thead>\n",
       "    <tr style=\"text-align: right;\">\n",
       "      <th></th>\n",
       "      <th>Title</th>\n",
       "      <th>Information</th>\n",
       "    </tr>\n",
       "  </thead>\n",
       "  <tbody>\n",
       "    <tr>\n",
       "      <th>0</th>\n",
       "      <td>ATS3956</td>\n",
       "      <td>[this, unit, focuses, on, the, histories, theo...</td>\n",
       "    </tr>\n",
       "    <tr>\n",
       "      <th>1</th>\n",
       "      <td>ATS3116</td>\n",
       "      <td>[the, unit, develops, Indonesian, linguistic, ...</td>\n",
       "    </tr>\n",
       "    <tr>\n",
       "      <th>2</th>\n",
       "      <td>APG5337</td>\n",
       "      <td>[the, unit, will, explore, modern, political, ...</td>\n",
       "    </tr>\n",
       "    <tr>\n",
       "      <th>3</th>\n",
       "      <td>ATS1229</td>\n",
       "      <td>[this, unit, aims, to, provide, a, basic, foun...</td>\n",
       "    </tr>\n",
       "    <tr>\n",
       "      <th>4</th>\n",
       "      <td>IMM3990</td>\n",
       "      <td>[this, unit, will, provide, high, achieving, s...</td>\n",
       "    </tr>\n",
       "  </tbody>\n",
       "</table>\n",
       "</div>"
      ],
      "text/plain": [
       "     Title                                        Information\n",
       "0  ATS3956  [this, unit, focuses, on, the, histories, theo...\n",
       "1  ATS3116  [the, unit, develops, Indonesian, linguistic, ...\n",
       "2  APG5337  [the, unit, will, explore, modern, political, ...\n",
       "3  ATS1229  [this, unit, aims, to, provide, a, basic, foun...\n",
       "4  IMM3990  [this, unit, will, provide, high, achieving, s..."
      ]
     },
     "execution_count": 18,
     "metadata": {},
     "output_type": "execute_result"
    }
   ],
   "source": [
    "df[\"Information\"] = df[\"Information\"].apply(bigrams)\n",
    "df.head()"
   ]
  },
  {
   "cell_type": "markdown",
   "metadata": {},
   "source": [
    "remove_three_or_less() : Function to remove the the words which have length less than 3. Such words are usually a part of stop words.\n",
    "\n",
    "Parameters: String (Values in the column Information)\n",
    "    \n",
    "Returns: Same String with the words of length less than 3 removed "
   ]
  },
  {
   "cell_type": "code",
   "execution_count": 19,
   "metadata": {},
   "outputs": [],
   "source": [
    "# Function to remove tokens less than 3\n",
    "\n",
    "def remove_three_or_less(s):\n",
    "    new_list = []\n",
    "    for each in s:\n",
    "        if len(each) < 3:\n",
    "            continue\n",
    "        else:\n",
    "            new_list.append(each)\n",
    "            \n",
    "    return new_list"
   ]
  },
  {
   "cell_type": "code",
   "execution_count": 20,
   "metadata": {},
   "outputs": [
    {
     "data": {
      "text/html": [
       "<div>\n",
       "<style scoped>\n",
       "    .dataframe tbody tr th:only-of-type {\n",
       "        vertical-align: middle;\n",
       "    }\n",
       "\n",
       "    .dataframe tbody tr th {\n",
       "        vertical-align: top;\n",
       "    }\n",
       "\n",
       "    .dataframe thead th {\n",
       "        text-align: right;\n",
       "    }\n",
       "</style>\n",
       "<table border=\"1\" class=\"dataframe\">\n",
       "  <thead>\n",
       "    <tr style=\"text-align: right;\">\n",
       "      <th></th>\n",
       "      <th>Title</th>\n",
       "      <th>Information</th>\n",
       "    </tr>\n",
       "  </thead>\n",
       "  <tbody>\n",
       "    <tr>\n",
       "      <th>0</th>\n",
       "      <td>ATS3956</td>\n",
       "      <td>[this, unit, focuses, the, histories, theories...</td>\n",
       "    </tr>\n",
       "    <tr>\n",
       "      <th>1</th>\n",
       "      <td>ATS3116</td>\n",
       "      <td>[the, unit, develops, Indonesian, linguistic, ...</td>\n",
       "    </tr>\n",
       "    <tr>\n",
       "      <th>2</th>\n",
       "      <td>APG5337</td>\n",
       "      <td>[the, unit, will, explore, modern, political, ...</td>\n",
       "    </tr>\n",
       "    <tr>\n",
       "      <th>3</th>\n",
       "      <td>ATS1229</td>\n",
       "      <td>[this, unit, aims, provide, basic, foundation,...</td>\n",
       "    </tr>\n",
       "    <tr>\n",
       "      <th>4</th>\n",
       "      <td>IMM3990</td>\n",
       "      <td>[this, unit, will, provide, high, achieving, s...</td>\n",
       "    </tr>\n",
       "  </tbody>\n",
       "</table>\n",
       "</div>"
      ],
      "text/plain": [
       "     Title                                        Information\n",
       "0  ATS3956  [this, unit, focuses, the, histories, theories...\n",
       "1  ATS3116  [the, unit, develops, Indonesian, linguistic, ...\n",
       "2  APG5337  [the, unit, will, explore, modern, political, ...\n",
       "3  ATS1229  [this, unit, aims, provide, basic, foundation,...\n",
       "4  IMM3990  [this, unit, will, provide, high, achieving, s..."
      ]
     },
     "execution_count": 20,
     "metadata": {},
     "output_type": "execute_result"
    }
   ],
   "source": [
    "df[\"Information\"] = df[\"Information\"].apply(remove_three_or_less)\n",
    "df.head()"
   ]
  },
  {
   "cell_type": "markdown",
   "metadata": {},
   "source": [
    "Provided with a txt file containing stop words. Creating a function to read the data from the stopwords from the .txt file and removing the words from Information column which has words present in the stop words"
   ]
  },
  {
   "cell_type": "code",
   "execution_count": 21,
   "metadata": {},
   "outputs": [],
   "source": [
    "def remove_stop_words(s):\n",
    "    \n",
    "    stop_words = open(\"stopwords_en.txt\", 'r')\n",
    "    stop_words = stop_words.read()\n",
    "    stop_words = stop_words.split(\"\\n\")\n",
    "    stopped_list = [w for w in s if w not in stop_words]\n",
    "    return stopped_list"
   ]
  },
  {
   "cell_type": "code",
   "execution_count": 22,
   "metadata": {},
   "outputs": [
    {
     "data": {
      "text/html": [
       "<div>\n",
       "<style scoped>\n",
       "    .dataframe tbody tr th:only-of-type {\n",
       "        vertical-align: middle;\n",
       "    }\n",
       "\n",
       "    .dataframe tbody tr th {\n",
       "        vertical-align: top;\n",
       "    }\n",
       "\n",
       "    .dataframe thead th {\n",
       "        text-align: right;\n",
       "    }\n",
       "</style>\n",
       "<table border=\"1\" class=\"dataframe\">\n",
       "  <thead>\n",
       "    <tr style=\"text-align: right;\">\n",
       "      <th></th>\n",
       "      <th>Title</th>\n",
       "      <th>Information</th>\n",
       "    </tr>\n",
       "  </thead>\n",
       "  <tbody>\n",
       "    <tr>\n",
       "      <th>0</th>\n",
       "      <td>ATS3956</td>\n",
       "      <td>[unit, focuses, histories, theories, applicati...</td>\n",
       "    </tr>\n",
       "    <tr>\n",
       "      <th>1</th>\n",
       "      <td>ATS3116</td>\n",
       "      <td>[unit, develops, Indonesian, linguistic, cultu...</td>\n",
       "    </tr>\n",
       "    <tr>\n",
       "      <th>2</th>\n",
       "      <td>APG5337</td>\n",
       "      <td>[unit, explore, modern, political, governance,...</td>\n",
       "    </tr>\n",
       "    <tr>\n",
       "      <th>3</th>\n",
       "      <td>ATS1229</td>\n",
       "      <td>[unit, aims, provide, basic, foundation, basic...</td>\n",
       "    </tr>\n",
       "    <tr>\n",
       "      <th>4</th>\n",
       "      <td>IMM3990</td>\n",
       "      <td>[unit, provide, high, achieving, students, str...</td>\n",
       "    </tr>\n",
       "  </tbody>\n",
       "</table>\n",
       "</div>"
      ],
      "text/plain": [
       "     Title                                        Information\n",
       "0  ATS3956  [unit, focuses, histories, theories, applicati...\n",
       "1  ATS3116  [unit, develops, Indonesian, linguistic, cultu...\n",
       "2  APG5337  [unit, explore, modern, political, governance,...\n",
       "3  ATS1229  [unit, aims, provide, basic, foundation, basic...\n",
       "4  IMM3990  [unit, provide, high, achieving, students, str..."
      ]
     },
     "execution_count": 22,
     "metadata": {},
     "output_type": "execute_result"
    }
   ],
   "source": [
    "df[\"Information\"] = df[\"Information\"].apply(remove_stop_words)\n",
    "df.head()"
   ]
  },
  {
   "cell_type": "markdown",
   "metadata": {},
   "source": [
    "Writing a function which will get the words fromt the Information column and stem it to its base form."
   ]
  },
  {
   "cell_type": "code",
   "execution_count": 23,
   "metadata": {},
   "outputs": [],
   "source": [
    "def stem(mwe_text):\n",
    "    \n",
    "    #tagged_sent = nltk.tag.pos_tag(mwe_text)\n",
    "    lemmatizer = PorterStemmer()\n",
    "    \n",
    "    final_tokens = [lemmatizer.stem(w) for w in mwe_text ]\n",
    "\n",
    "    return final_tokens"
   ]
  },
  {
   "cell_type": "code",
   "execution_count": 24,
   "metadata": {},
   "outputs": [
    {
     "data": {
      "text/html": [
       "<div>\n",
       "<style scoped>\n",
       "    .dataframe tbody tr th:only-of-type {\n",
       "        vertical-align: middle;\n",
       "    }\n",
       "\n",
       "    .dataframe tbody tr th {\n",
       "        vertical-align: top;\n",
       "    }\n",
       "\n",
       "    .dataframe thead th {\n",
       "        text-align: right;\n",
       "    }\n",
       "</style>\n",
       "<table border=\"1\" class=\"dataframe\">\n",
       "  <thead>\n",
       "    <tr style=\"text-align: right;\">\n",
       "      <th></th>\n",
       "      <th>Title</th>\n",
       "      <th>Information</th>\n",
       "    </tr>\n",
       "  </thead>\n",
       "  <tbody>\n",
       "    <tr>\n",
       "      <th>0</th>\n",
       "      <td>ATS3956</td>\n",
       "      <td>[unit, focus, histori, theori, applic, concept...</td>\n",
       "    </tr>\n",
       "    <tr>\n",
       "      <th>1</th>\n",
       "      <td>ATS3116</td>\n",
       "      <td>[unit, develop, indonesian, linguist, cultur, ...</td>\n",
       "    </tr>\n",
       "    <tr>\n",
       "      <th>2</th>\n",
       "      <td>APG5337</td>\n",
       "      <td>[unit, explor, modern, polit, govern, mode, au...</td>\n",
       "    </tr>\n",
       "    <tr>\n",
       "      <th>3</th>\n",
       "      <td>ATS1229</td>\n",
       "      <td>[unit, aim, provid, basic, foundat, basic, lan...</td>\n",
       "    </tr>\n",
       "    <tr>\n",
       "      <th>4</th>\n",
       "      <td>IMM3990</td>\n",
       "      <td>[unit, provid, high, achiev, student, structur...</td>\n",
       "    </tr>\n",
       "  </tbody>\n",
       "</table>\n",
       "</div>"
      ],
      "text/plain": [
       "     Title                                        Information\n",
       "0  ATS3956  [unit, focus, histori, theori, applic, concept...\n",
       "1  ATS3116  [unit, develop, indonesian, linguist, cultur, ...\n",
       "2  APG5337  [unit, explor, modern, polit, govern, mode, au...\n",
       "3  ATS1229  [unit, aim, provid, basic, foundat, basic, lan...\n",
       "4  IMM3990  [unit, provid, high, achiev, student, structur..."
      ]
     },
     "execution_count": 24,
     "metadata": {},
     "output_type": "execute_result"
    }
   ],
   "source": [
    "df[\"Information\"] = df[\"Information\"].apply(stem)\n",
    "df.head()"
   ]
  },
  {
   "cell_type": "markdown",
   "metadata": {},
   "source": [
    "Till now, we were handling tokens for each units. Now, we will iterate through the entire data frame to extract data from all units together into a global token list . Also using \"set\" to get unique tokens from the list"
   ]
  },
  {
   "cell_type": "code",
   "execution_count": 25,
   "metadata": {},
   "outputs": [
    {
     "name": "stdout",
     "output_type": "stream",
     "text": [
      "The number of global tokens: 20345\n",
      "The number of unique tokens: 2624\n"
     ]
    }
   ],
   "source": [
    "# Get complete tokens in a list\n",
    "count = df.shape[0]\n",
    "tokens = list()\n",
    "for index, row in df.head(n=count).iterrows():\n",
    "    for each in row[1]:\n",
    "        tokens.append(each)\n",
    "tokens_set = list(set(tokens))\n",
    "print(\"The number of global tokens: \" + str(len(tokens)))\n",
    "print(\"The number of unique tokens: \" + str(len(tokens_set)))"
   ]
  },
  {
   "cell_type": "markdown",
   "metadata": {},
   "source": [
    "To get the first 200 meaningful bigrams, nltk.collocations.BigramAssocMeasures is used and this will be added to the existing unique set of tokens for updating the tokens already present in the tokens list."
   ]
  },
  {
   "cell_type": "code",
   "execution_count": 26,
   "metadata": {},
   "outputs": [],
   "source": [
    "# First 200 meaningful bigrams\n",
    "import nltk\n",
    "bigram = nltk.collocations.BigramAssocMeasures()\n",
    "locater = nltk.collocations.BigramCollocationFinder.from_words(tokens_set)\n",
    "bestbigrams = locater.nbest(bigram.pmi, 200)    "
   ]
  },
  {
   "cell_type": "code",
   "execution_count": 27,
   "metadata": {},
   "outputs": [
    {
     "name": "stdout",
     "output_type": "stream",
     "text": [
      "Size of token set for MWE:  2824\n",
      "Size of initial unique token list:  2624\n"
     ]
    }
   ],
   "source": [
    "# Added 200 to the existing set of global tokens\n",
    "token_set_bi = []\n",
    "\n",
    "for each in tokens_set:\n",
    "    token_set_bi.append(each)\n",
    "\n",
    "for each in bestbigrams:\n",
    "    token_set_bi.append(each)\n",
    "    \n",
    "print(\"Size of token set for MWE: \",len(token_set_bi))\n",
    "print(\"Size of initial unique token list: \", len(tokens_set))"
   ]
  },
  {
   "cell_type": "markdown",
   "metadata": {},
   "source": [
    "It can be noticed that the size of unique tokens has increased by 200."
   ]
  },
  {
   "cell_type": "code",
   "execution_count": 28,
   "metadata": {},
   "outputs": [
    {
     "name": "stdout",
     "output_type": "stream",
     "text": [
      "Before updating the bigrams, size of the tokens are :  2624\n",
      "After updating the bigrams, size of the tokens are :  2434\n"
     ]
    }
   ],
   "source": [
    "# Changing the values in the existing tokens to bigrams using MWETokenizer class\n",
    "print(\"Before updating the bigrams, size of the tokens are : \",len(tokens_set))\n",
    "mwe_tokenizer = MWETokenizer(token_set_bi)\n",
    "tokens_set = mwe_tokenizer.tokenize(tokens_set)\n",
    "print(\"After updating the bigrams, size of the tokens are : \", len(tokens_set))"
   ]
  },
  {
   "cell_type": "markdown",
   "metadata": {},
   "source": [
    "After updating the bigrams, it can be noticed that the size of tokens have decreased below the count of original number of uniqur tokens. This is because we have combined tokens in the process. Alos updating the tokens in the dataframe with bigrams such that frequency can be calculated accurately"
   ]
  },
  {
   "cell_type": "code",
   "execution_count": 29,
   "metadata": {},
   "outputs": [],
   "source": [
    "def updateColumn(s):\n",
    "    mwe_tokenizer = MWETokenizer(token_set_bi)\n",
    "    tokens = mwe_tokenizer.tokenize(s)\n",
    "    return s"
   ]
  },
  {
   "cell_type": "code",
   "execution_count": 30,
   "metadata": {},
   "outputs": [
    {
     "data": {
      "text/html": [
       "<div>\n",
       "<style scoped>\n",
       "    .dataframe tbody tr th:only-of-type {\n",
       "        vertical-align: middle;\n",
       "    }\n",
       "\n",
       "    .dataframe tbody tr th {\n",
       "        vertical-align: top;\n",
       "    }\n",
       "\n",
       "    .dataframe thead th {\n",
       "        text-align: right;\n",
       "    }\n",
       "</style>\n",
       "<table border=\"1\" class=\"dataframe\">\n",
       "  <thead>\n",
       "    <tr style=\"text-align: right;\">\n",
       "      <th></th>\n",
       "      <th>Title</th>\n",
       "      <th>Information</th>\n",
       "    </tr>\n",
       "  </thead>\n",
       "  <tbody>\n",
       "    <tr>\n",
       "      <th>0</th>\n",
       "      <td>ATS3956</td>\n",
       "      <td>[unit, focus, histori, theori, applic, concept...</td>\n",
       "    </tr>\n",
       "    <tr>\n",
       "      <th>1</th>\n",
       "      <td>ATS3116</td>\n",
       "      <td>[unit, develop, indonesian, linguist, cultur, ...</td>\n",
       "    </tr>\n",
       "    <tr>\n",
       "      <th>2</th>\n",
       "      <td>APG5337</td>\n",
       "      <td>[unit, explor, modern, polit, govern, mode, au...</td>\n",
       "    </tr>\n",
       "    <tr>\n",
       "      <th>3</th>\n",
       "      <td>ATS1229</td>\n",
       "      <td>[unit, aim, provid, basic, foundat, basic, lan...</td>\n",
       "    </tr>\n",
       "    <tr>\n",
       "      <th>4</th>\n",
       "      <td>IMM3990</td>\n",
       "      <td>[unit, provid, high, achiev, student, structur...</td>\n",
       "    </tr>\n",
       "  </tbody>\n",
       "</table>\n",
       "</div>"
      ],
      "text/plain": [
       "     Title                                        Information\n",
       "0  ATS3956  [unit, focus, histori, theori, applic, concept...\n",
       "1  ATS3116  [unit, develop, indonesian, linguist, cultur, ...\n",
       "2  APG5337  [unit, explor, modern, polit, govern, mode, au...\n",
       "3  ATS1229  [unit, aim, provid, basic, foundat, basic, lan...\n",
       "4  IMM3990  [unit, provid, high, achiev, student, structur..."
      ]
     },
     "execution_count": 30,
     "metadata": {},
     "output_type": "execute_result"
    }
   ],
   "source": [
    "df[\"Information\"] = df[\"Information\"].apply(updateColumn)\n",
    "df.head()"
   ]
  },
  {
   "cell_type": "markdown",
   "metadata": {},
   "source": [
    "Using getTokenFrequency to get the frequency of tokens as a Dictionary and sorting the dictionary with respect to values to identify the most frequent and rare tokens"
   ]
  },
  {
   "cell_type": "code",
   "execution_count": 32,
   "metadata": {},
   "outputs": [
    {
     "name": "stdout",
     "output_type": "stream",
     "text": [
      "[('twenty-first', 1), ('transhistorical_case_studi', 1), ('nineteenth', 1), ('struggl', 1), ('genocid', 1), ('globe', 1), ('colon', 1), ('decolon', 1), ('gender-bas', 1), ('worldwid', 1), ('post-traumatic_stress_disord', 1), ('rememb', 1), ('non-western', 1), ('memoir', 1), ('historiographi', 1), ('televis', 1), ('photographi', 1), ('ethnic', 1), ('serv', 1), ('20th', 1), ('presidenti', 1), ('parliamentari', 1), ('south-east', 1), ('formalis', 1), ('persist', 1), ('persever', 1), ('autocrat', 1), ('authoritarian', 1), ('intric', 1), ('highest', 1), ('succinctli', 1), ('elementari', 1), ('up-to', 1), ('multi-part', 1), ('virtuoso', 1), ('professional_compet', 1), ('socio-linguist', 1), ('dialogu', 1), ('monologu', 1), ('apologis', 1), ('hope', 1), ('gratitud', 1), ('japan-rel', 1), ('kanji', 1), ('240', 1), ('curv', 1), ('short-term', 1), ('medium-term', 1), ('usag', 1), ('wisdom', 1), ('hard', 1), ('copi', 1), ('exemplifi', 1), ('principles-bas', 1), ('adequ', 1), ('milieu', 1), ('icm', 1), ('statut', 1), ('reach', 1), ('espous', 1), ('avail', 1), ('micro', 1), ('macro', 1), ('ethico-leg', 1), ('advoc', 1), ('breastfeed', 1), ('acmi', 1), ('publicli', 1), ('valuat', 1), ('return', 1), ('ensur', 1), ('value-chang', 1), ('maximis', 1), ('riski', 1), ('bff2140', 1), ('cancer', 1), ('difficult', 1), ('debilit', 1), ('diabet', 1), ('sclerosi', 1), ('imm2011', 1), ('mediat', 1), ('inflamm', 1), ('utter', 1), ('genesi', 1), ('pragmat', 1), ('fashion', 1), ('problemat', 1), ('individually-bas', 1), ('high-risk', 1), ('weak', 1), ('foster', 1), ('hundr', 1), ('alleg', 1), ('problem-bas', 1), ('cohort', 1), ('clearer', 1), ('contributor', 1), ('discipline-specif', 1), ('enquiri', 1), ('fastest', 1), ('subdisciplin', 1), ('bioethic', 1), ('obes', 1), ('tobacco', 1), ('pandem', 1), ('nudg', 1), ('arriv', 1), ('well-argu', 1), ('ncommonli', 1), ('nargument', 1), ('pro', 1), ('con', 1), ('nof', 1), ('ngenr', 1), ('alert', 1), ('ncomposit', 1), ('retrofit', 1), ('allevi', 1), ('remain', 1), ('mass-market', 1), ('smaller', 1), ('entrepreneuri', 1), ('bureaucrat', 1), ('nine', 1), ('fairfax', 1), ('appl', 1), ('itun', 1), ('facebook', 1), ('wikipedia', 1), ('trigger', 1), ('revolut', 1), ('broadcast', 1), ('nin', 1), ('apg5401', 1), ('canvass', 1), ('reportag', 1), ('showcas', 1), (\"monash'\", 1), ('mojo', 1), ('interview', 1), ('evidentiari', 1), ('sponsorship', 1), ('forum', 1), ('deadlin', 1), ('socio-profession', 1), ('portray', 1), ('high-perform', 1), ('chromatographi', 1), ('hplc', 1), ('chromatography-mass', 1), ('lc-m', 1), ('operator-control', 1), ('reproduc', 1), ('generalis', 1), ('psychosoci', 1), ('entrant', 1), ('end-of', 1), ('glean', 1), ('episod', 1), ('mid-term', 1), ('masterclass', 1), ('breakfast', 1), ('keen', 1), ('citizenship', 1), ('due', 1), ('purchas', 1), ('and', 1), ('paradigm', 1), ('subsect', 1), ('decid', 1), ('defect', 1), ('unwarr', 1), ('leukaemia', 1), ('tumour', 1), ('evad', 1), ('microorgan', 1), ('leukemia', 1), ('immunosuppress', 1), ('immunopotenti', 1), ('cure', 1), ('mmd4001not', 1), ('intranet', 1), ('ipv6', 1), ('subnet', 1), ('supernet', 1), ('reno', 1), ('new-reno', 1), ('retransmit', 1), ('unicast', 1), ('multicast', 1), ('bgp4', 1), ('ospf', 1), ('mospf', 1), ('dvmrp', 1), ('smtp', 1), ('mime', 1), ('pop3', 1), ('imap', 1), ('http', 1), ('rtp', 1), ('rtcp', 1), ('rsvp', 1), ('firewal', 1), ('diffserv', 1), ('intserv', 1), ('configur', 1), ('tune', 1), ('organisataion', 1), ('setup', 1), ('upgrad', 1), ('brief', 1), ('scheme', 1), ('fluenci', 1), ('reduc', 1), ('post-fascist', 1), ('communist', 1), ('yet', 1), ('politi', 1), ('profound', 1), ('credenti', 1), ('wake', 1), ('eurozon', 1), ('resurg', 1), ('russia', 1), ('influx', 1), ('refuge', 1), ('path', 1), (\"eu'\", 1), ('wick', 1), ('leav', 1), ('repercuss', 1), ('old', 1), ('second', 1), (\"union'\", 1), ('inter-play', 1), ('secondary-sourc', 1), ('work-famili', 1), ('separ', 1), ('alter', 1), ('endocrinolog', 1), ('danger', 1), ('extinct', 1), ('pet', 1), ('zoo', 1), ('hormon', 1), ('insemin', 1), ('intra-cytoplasm', 1), ('sperm', 1), ('endang', 1), ('captiv', 1), ('2-hour', 1), ('pool', 1), ('criticis', 1), ('nthose', 1), ('pedagogi', 1), ('cd-rom', 1), ('dvd-rom', 1), ('eye', 1), ('start', 1), ('galileo', 1), ('galilei', 1), ('17th', 1), ('nurtur', 1), ('medici', 1), ('lorrain', 1), ('founder', 1), ('ruler', 1), ('18th', 1), ('planetarium', 1), ('tap', 1), ('telescop', 1), ('squar', 1), ('kilometr', 1), ('ska', 1), ('laser', 1), ('interferomet', 1), ('gravitational-wav', 1), ('ligo', 1), ('propag', 1), ('internationalis', 1), ('breadth', 1), ('sequenti', 1), ('unknown', 1), ('shortcom', 1), (\"school'\", 1), ('cutting-edg', 1), ('magneto-hydrodynam', 1), ('nucleosynthesi', 1), ('galact', 1), ('remnant', 1), ('neutron', 1), ('supermass', 1), ('black', 1), ('hole', 1), ('gravit', 1), ('planetari', 1), ('exoplanet', 1), ('msc', 1), ('last', 1), ('council', 1), ('non-stat', 1), ('ngo', 1), ('terrorist', 1), ('on-lin', 1), ('tropospher', 1), ('presenc', 1), ('timescal', 1), ('turbul', 1), ('monin-obukhov', 1), ('flux', 1), ('entrain', 1), ('numer', 1), ('pollut', 1), ('diurnal', 1), ('terrestri', 1), ('maritim', 1), ('warm', 1), ('cold', 1), ('advect', 1), ('stronger', 1), ('overlap', 1), ('neg', 1), (\"family'\", 1), ('wide-rang', 1), ('bridg', 1), ('trust', 1), ('augment', 1), ('informat', 1), ('problem-ori', 1), ('cinema', 1), ('hallyu', 1), ('insid', 1), ('peninsula', 1), ('state-cent', 1), ('fandom', 1), ('each', 1), ('util', 1), ('unpack', 1), ('korea', 1), ('connect', 1), ('sociocultur', 1), ('tendenc', 1), ('spread', 1), ('uncertainti', 1), (\"pearson'\", 1), ('coeffici', 1), ('proport', 1), ('bureau', 1), ('domain', 1), ('poll', 1), ('neurolog', 1), ('neural', 1), ('visuospati', 1), ('mould', 1), ('bronz', 1), ('aluminium', 1), ('plaster', 1), ('bps1032', 1), ('3rd', 1), ('buffer', 1), ('titrat', 1), ('solubl', 1), ('sketch', 1), ('temperatur', 1), ('tempor', 1), ('logarithm', 1), ('exponenti', 1), ('group-workshop', 1), ('blueprint', 1), ('genom', 1), ('world-class', 1), ('precis', 1), ('databas', 1), ('student-gener', 1), ('self-manag', 1), ('schedul', 1), ('not-for', 1), ('faculti', 1), ('confirm', 1), ('react', 1), ('drug-target', 1), ('steric', 1), ('arrow-push', 1), ('rationalis', 1), ('purif', 1), ('primarili', 1), ('magnet', 1), ('reson', 1), ('clearli', 1), ('wealth', 1), ('punish', 1), (\"state'\", 1), ('attempt', 1), ('analyst', 1), ('lie', 1), ('non-financi', 1), ('acs1000', 1), ('osc', 1), ('sit', 1), ('compulsori', 1), ('dietari', 1), ('conting', 1), ('segment', 1), ('maladapt', 1), ('gastrointestin', 1), ('tract', 1), ('gross', 1), ('section', 1), ('pelvi', 1), ('coron', 1), ('sagitt', 1), ('atherosclerosi', 1), ('vein', 1), ('thrombosi', 1), ('symptom', 1), ('knee', 1), ('abdomin', 1), ('pancrea', 1), ('breast', 1), ('pelvic', 1), ('urinari', 1), ('inter-lingu', 1), ('administr', 1), ('dosag', 1), ('ingredi', 1), ('intestin', 1), ('parenter', 1), ('pharmacokinet', 1), ('plasma', 1), ('bioavail', 1), ('profil', 1), ('mother', 1), ('pre-concept', 1), ('fetal', 1), ('women-centr', 1), ('anmc', 1), ('2006', 1), ('depict', 1), ('wall', 1), ('impress', 1), ('000-40', 1), ('000', 1), ('ago', 1), ('imageri', 1), ('preconcept', 1), ('ice', 1), ('matter', 1), ('descend', 1), ('infanc', 1), ('eat', 1), ('alfr', 1), ('prognosi', 1), ('amen', 1), ('usabl', 1), ('robust', 1), ('defens', 1), ('high-level', 1), ('ntrauma', 1), ('resuscit', 1), ('injur', 1), ('inter-disciplinari', 1), ('self-discoveri', 1), ('occas', 1), ('unsettl', 1), ('undo', 1), ('track', 1), ('reader', 1), ('geo-loc', 1), ('tuscan', 1), ('situ', 1), ('excurs', 1), ('agent', 1), ('non-italian', 1), ('broken', 1), ('breakdown', 1), ('gate', 1), ('keep', 1), ('amount', 1), ('add', 1), ('potent', 1), ('pitfal', 1), ('friendship', 1), ('multilingu', 1), ('led', 1), ('nadvers', 1), ('nsatisfact', 1), ('nbenchmark', 1), ('nevid', 1), ('nqualiti', 1), ('naccredit', 1), ('nrisk', 1), ('upstream', 1), ('mid-stream', 1), ('dowstream', 1), ('prioriti', 1), ('remark', 1), ('distant', 1), ('pole', 1), ('contin', 1), ('usual', 1), ('non-indigen', 1), ('diverg', 1), ('ceremoni', 1), ('ethnobiolog', 1), ('linnaean', 1), ('ethnoecolog', 1), ('forefront', 1), ('religion', 1), ('etiolog', 1), (\"member'\", 1), ('premis', 1), ('charter', 1), ('co-exist', 1), ('motor', 1), ('leisur', 1), ('preschool', 1), ('standardis', 1), ('hered', 1), ('disadvantag', 1), ('psychologist', 1), ('item', 1), ('administ', 1), ('textual', 1), (\"translator'\", 1), ('cat', 1), ('corpora', 1), ('guest', 1), (\"one'\", 1), ('poster', 1), ('programm', 1), ('career-readi', 1), ('bottom', 1), ('first-ord', 1), ('second-ord', 1), ('stiff', 1), ('matrix', 1), ('refin', 1), ('aircraft', 1), ('truss', 1), ('commonly-us', 1), ('eae4000', 1), ('deeper', 1), ('larger', 1), ('exam', 1), ('service-domin', 1), ('theory-build', 1), ('dispar', 1), ('discontinu', 1), ('mine-to', 1), ('mill', 1), ('mine', 1), ('in-situ', 1), ('ndesign', 1), ('nmanag', 1), ('nevalu', 1), ('explos', 1), ('colleagu', 1), ('circul', 1), ('geopolit', 1), ('vital', 1), ('landmass', 1), ('pacif', 1), ('neighbour', 1), ('nation-st', 1), ('fluiditi', 1), ('voic', 1), ('otheris', 1), ('super-powerdom', 1), ('ever-mobil', 1), ('fluentli', 1), ('retold', 1), ('refut', 1), ('nsocio-cultur', 1), ('oversight', 1), ('self-regulatori', 1), ('broad-bas', 1), ('summar', 1), ('afs2740', 1), ('wholli', 1), ('partli', 1), ('at-acquisit', 1), ('adjust', 1), ('goodwil', 1), ('afs3730', 1), ('acs3730', 1), ('wholly-own', 1), ('partly-own', 1), ('subsidiari', 1), ('ownership', 1), ('acs3740', 1), ('apa', 1), ('6th', 1), ('par1011', 1), ('consciou', 1), ('pain', 1), ('hypoxia', 1), ('manual', 1), ('ambul', 1), ('operationalis', 1), ('socio-histor', 1), ('illicit', 1), ('gambl', 1), ('aod-rel', 1), ('intersect', 1), ('workforc', 1), ('employe', 1), ('grand', 1), ('rapid', 1), ('highlight', 1), ('pervas', 1), ('acknowledg', 1), ('veget', 1), ('geographi', 1), ('landform', 1), ('photo', 1), ('satellit', 1), ('gi', 1), ('phenomena', 1), ('fine', 1), ('payment', 1), ('bank', 1), ('unsecur', 1), ('issuer', 1), ('varianc', 1), ('non-parametr', 1), ('rivalri', 1), ('intertwin', 1), ('imperi', 1), ('unfold', 1), ('affair', 1), ('exploratori', 1), ('ats2296', 1), ('ats3296', 1), ('entail', 1), ('semester-long', 1), ('concurr', 1), ('sing', 1), ('danc', 1), ('incept', 1), ('tabular', 1), ('manuscript', 1), ('apprehend', 1), ('etiquett', 1), ('adher', 1), ('recogn', 1), ('haematopoiesi', 1), ('gut', 1), ('prostat', 1), ('limb', 1), ('infertil', 1), ('moder', 1), ('pluripotenti', 1), ('tissue-specif', 1), ('controversi', 1), ('subsystem', 1), ('orthodox', 1), ('www', 1), ('phil', 1), ('ats2866', 1), ('equival', 1), ('post-tens', 1), ('anchorag', 1), ('lower', 1), ('bound', 1), ('strip', 1), ('team-work', 1), ('strut-and', 1), ('ultim', 1), ('theorem', 1), ('capitalist', 1), ('apartheid', 1), ('dual', 1), ('mass-bas', 1), ('view', 1), ('proce', 1), ('testament', 1), ('apocalypt', 1), ('devot', 1), ('israel', 1), ('revel', 1), ('redempt', 1), ('evil', 1), ('divin', 1), ('propheci', 1), ('cult', 1), ('authorship', 1), ('canonis', 1), ('christian', 1), ('intertestament', 1), ('israelit', 1), ('sea', 1), ('crucial', 1), ('canon', 1), ('notat', 1), ('excerpt', 1), ('aasw', 1), (\"provider'\", 1), ('self-learn', 1), ('nstudent', 1), ('post-gradu', 1), ('drone', 1), ('unman', 1), ('aerial', 1), ('vehicl', 1), ('photogrammetri', 1), ('sensor', 1), ('photogrammetr', 1), ('extract', 1), ('cloud', 1), ('ortho-imag', 1), ('geophys', 1), ('later', 1), ('geoscienc', 1), ('dataset', 1), ('exclus', 1), ('sole', 1), ('owner', 1), ('deserv', 1), ('meta-cultur', 1), ('final-year', 1), ('co-produc', 1), ('recollect', 1), ('enrich', 1), ('succinct', 1), ('marxist', 1), ('psychoanalyt', 1), ('poststructuralist', 1), ('favourit', 1), ('they', 1), ('lifetim', 1), ('stimul', 1), ('engrain', 1), ('mention', 1), ('mind', 1), ('conscious', 1), ('opinion', 1), ('stimuli', 1), ('multi-degre', 1), ('discret', 1), ('free', 1), ('non-period', 1), ('kinemat', 1), ('vector', 1), ('modal', 1), ('arbitrari', 1), ('excit', 1), ('woman-centr', 1), ('screen', 1), ('post-partum', 1), ('grief', 1), ('loss', 1), ('stress-diathesi', 1), ('fit3169', 1), ('prerequisit', 1), ('fit1033', 1), ('javascript', 1), ('visualis', 1), ('cpd', 1), ('rome', 1), ('india', 1), ('mediev', 1), ('nineteenth-centuri', 1), ('happen', 1), ('extent', 1), ('stanc', 1), ('mainten', 1), ('laboratory-bas', 1), ('categoris', 1), ('two-week', 1), ('citi', 1), ('brussel', 1), ('tokyo', 1), ('vienna', 1), ('london', 1), ('washington', 1), ('tank', 1), ('embassi', 1), ('defenc', 1), ('trade', 1), ('terror', 1), ('policy-relev', 1), ('inter-profession', 1), ('aborigin', 1), ('torr', 1), ('strait', 1), ('island', 1), ('nmba', 1), ('similarli', 1), ('volum', 1), ('operation', 1), ('nanomateri', 1), ('nanocryst', 1), ('copolym', 1), ('supramolecular', 1), ('amphiphil', 1), (\"worker'\", 1), ('compens', 1), ('ohsm', 1), ('aspir', 1), ('bargain', 1), ('termin', 1), ('interplay', 1), ('hypothet', 1), ('nan', 1), ('shader', 1), ('radiographi', 1), (\"master'\", 1), ('accuraci', 1), ('error', 1), ('psychophys', 1), ('vision', 1), ('culmin', 1), ('sequenc', 1), ('through', 1), ('input', 1), ('procur', 1), ('ats1267not', 1), ('virgil', 1), ('cicero', 1), ('suetoniu', 1), ('republican', 1), ('exegesi', 1), ('argu', 1), ('ambiti', 1), ('transfer', 1), ('personnel', 1), ('layout', 1), ('troubleshoot', 1), ('succeed', 1), ('embodi', 1), ('autonomi', 1), ('benefic', 1), ('alloc', 1), ('patern', 1), ('breach', 1), ('fertilis', 1), ('euthanasia', 1), ('conscienti', 1), ('race', 1), ('symbiot', 1), ('well-structur', 1), ('inter-st', 1), ('state-centr', 1), ('preserv', 1), ('sovereignti', 1), ('back', 1), ('allow', 1), ('empiric', 1), ('sceptic', 1), ('ration', 1), ('pseudosci', 1), ('scientist', 1), ('politician', 1), ('grant', 1), ('generalist', 1), ('reinvent', 1), ('bioactiv', 1), ('metal-medi', 1), ('apparatu', 1), ('conjug', 1), ('assembl', 1), ('aromat', 1), ('pericycl', 1), ('catalys', 1), ('organocatalyt', 1), ('speaker', 1), ('grammat', 1), ('vernacular', 1), ('three-dimension', 1), ('thing', 1), ('card', 1), ('paper', 1), ('foam', 1), ('cad', 1), ('sketch-up', 1), ('cardboard', 1), ('geometri', 1), ('static', 1), (\"designer'\", 1), ('held', 1), ('revenu', 1), ('exert', 1), ('older', 1), ('consol', 1), ('remedi', 1), ('tailor', 1), ('academic-bas', 1), ('industry-bas', 1), ('summer', 1), ('decemb', 1), ('campu', 1), ('there', 1), ('fulfil', 1), ('dietitian', 1), ('nutriti', 1), ('dissemin', 1), ('variant', 1), ('transduc', 1), ('infect', 1), ('artefact', 1), ('modif', 1), ('spectral', 1), ('colour', 1), ('doppler', 1), ('psycho-dynam', 1), ('contra-ind', 1), ('psychotherapi', 1), ('mandarin', 1), ('aural', 1), ('pinyin', 1), ('romanis', 1), ('dealt', 1), ('annual', 1), ('conform', 1), ('intracompani', 1), ('demand', 1), ('marketplac', 1), ('inter-government', 1), ('civil', 1), ('hegemoni', 1), ('realism', 1), ('neo-marxist', 1), ('constructivist', 1), ('green', 1), ('substanc', 1), ('steady-st', 1), ('more', 1), ('briefli', 1), ('electr', 1), ('hydraul', 1), ('pneumat', 1), ('graph', 1), ('time-domain', 1), ('frequency-domain', 1), ('unifi', 1), ('capacit', 1), ('inertia', 1), ('induct', 1), ('laplac', 1), ('bode', 1), ('plot', 1), ('desir', 1), ('non-linear', 1), ('matlab', 1), ('fieldwork', 1), ('necess', 1), ('it-rel', 1), ('ac', 1), ('disempower', 1), ('dispossess', 1), ('assimil', 1), ('over-represent', 1), ('custodi', 1), ('stolen', 1), ('land', 1), ('mabo', 1), ('wik', 1), ('titl', 1), ('act', 1), ('1993', 1), ('cth', 1), ('reconcili', 1), ('reform', 1), ('victoria', 1), ('injustic', 1), ('eighteenth', 1), ('spanish', 1), ('baroqu', 1), ('spectacl', 1), ('poussin', 1), ('ingr', 1), ('northern', 1), ('still-lif', 1), ('commentari', 1), ('franc', 1), ('england', 1), ('spain', 1), ('picturesqu', 1), ('sublim', 1), ('erotic', 1), ('escap', 1), ('rococo', 1), ('romantic', 1), ('modular', 1), ('discipline-rel', 1), ('minimum', 1), ('for', 1), ('short-list', 1), ('pre-hospit', 1), ('flight', 1), ('mitig', 1), ('reput', 1), ('realist', 1), ('timelin', 1), ('endnot', 1), ('curricula', 1), ('teacher', 1), ('vocal', 1), ('trace', 1), ('criminalist', 1), ('tension', 1), ('end-us', 1), ('marginalis', 1), ('iii', 1), ('elicit', 1), (\"organisation'\", 1), ('sbu', 1), ('brand', 1), ('mindset', 1), ('metric', 1), ('semin', 1), ('privaci', 1), ('iso', 1), ('multiplex', 1), ('wan', 1), ('lan', 1), ('internetwork', 1), ('transport', 1), ('countermeasur', 1), ('permiss', 1), ('geneva', 1), ('customari', 1), ('combat', 1), ('civilian', 1), ('imbal', 1), ('ju', 1), ('bellum', 1), ('illeg', 1), ('scalabl', 1), ('process-unit', 1), ('biomolecul', 1), ('recombin', 1), ('protein', 1), ('peptid', 1), ('enzym', 1), ('nucleic', 1), ('large-scal', 1), ('biomolecular', 1), ('bioreactor', 1), ('filtrat', 1), ('chromatograph', 1), ('column', 1), ('sterilis', 1), ('asept', 1), ('auxiliari', 1), ('gxp', 1), ('biosafeti', 1), ('bio-mechan', 1), ('bite', 1), ('mark', 1), ('manifest', 1), ('abus', 1), ('cctv', 1), ('board', 1), ('malpractic', 1), ('fraud', 1), ('dento-leg', 1), ('ramif', 1), ('paramedicin', 1), ('wonder', 1), (\"marketing'\", 1), ('anthropologist', 1), ('ethnograph', 1), ('rest', 1), ('receiv', 1), ('so-cal', 1), ('beneficiari', 1), ('automat', 1), ('insan', 1), ('intox', 1), ('duress', 1), ('entrap', 1), ('obscen', 1), ('contempt', 1), ('homicid', 1), ('juri', 1), ('psychiatrist', 1), ('settler', 1), ('frontier', 1), ('battl', 1), ('servicemen', 1), ('contest', 1), ('rich', 1), ('diari', 1), ('letter', 1), ('repatri', 1), ('veteran', 1), ('grown', 1), ('redefin', 1), ('learnt', 1), ('illumin', 2), ('transnat', 2), ('rise', 2), ('middl', 2), ('violat', 2), ('classif', 2), ('possibl', 2), ('museum', 2), ('paint', 2), ('audiovisu', 2), ('testimoni', 2), ('vi', 2), ('democratis', 2), ('participatori', 2), ('pressur', 2), ('democrat', 2), ('america', 2), ('effort', 2), ('date', 2), ('instanc', 2), ('consult', 2), ('preliminari', 2), ('enrol', 2), ('china', 2), ('viabl', 2), ('japanes', 2), ('advic', 2), ('approx', 2), ('long-term', 2), ('oversea', 2), ('syndic', 2), ('open', 2), ('lactat', 2), ('put', 2), ('activist', 2), ('advocaci', 2), ('who', 2), ('well-b', 2), ('midwiv', 2), ('pathogen', 2), ('surveil', 2), ('caus', 2), ('broaden', 2), ('antisoci', 2), ('stalk', 2), ('fire-set', 2), ('complain', 2), ('commiss', 2), ('convers', 2), ('break', 2), ('earlier', 2), ('diffus', 2), ('note', 2), ('elabor', 2), ('submiss', 2), ('21st', 2), ('follow', 2), ('dilemma', 2), ('compil', 2), ('accommod', 2), ('job', 2), ('graduat', 2), ('consist', 2), ('smart', 2), ('dispers', 2), ('advertis', 2), ('new', 2), ('channel', 2), ('pose', 2), ('googl', 2), ('exploit', 2), ('converg', 2), ('websit', 2), ('lifestyl', 2), ('concis', 2), ('meet', 2), ('liquid', 2), ('spectrometri', 2), ('viewpoint', 2), ('overarch', 2), ('experienti', 2), ('day', 2), ('craft', 2), ('deepli', 2), ('buyer', 2), ('proper', 2), ('specimen', 2), ('storag', 2), ('pathogenesi', 2), ('excess', 2), ('immunodefici', 2), ('lymphoma', 2), ('prospect', 2), ('molecular', 2), ('2019', 2), (\"individual'\", 2), ('folio', 2), ('embrac', 2), ('site-specif', 2), ('further', 2), ('match', 2), ('fast', 2), ('recoveri', 2), ('messag', 2), ('client-serv', 2), ('remot', 2), ('previou', 2), ('nomin', 2), ('zone', 2), ('crisi', 2), ('deep', 2), ('interdepend', 2), ('radic', 2), ('demograph', 2), ('men', 2), ('decad', 2), ('tutori', 2), ('farm', 2), ('how', 2), ('vertebr', 2), ('pest', 2), ('artifici', 2), ('vitro', 2), ('facil', 2), ('drawn', 2), ('astronom', 2), ('tuscani', 2), ('forward', 2), ('array', 2), ('observatori', 2), ('research-bas', 2), ('endeavour', 2), ('biomed', 2), ('synthes', 2), ('galaxi', 2), ('fluid', 2), ('supernova', 2), ('energi', 2), ('wave', 2), ('nich', 2), ('non-tradit', 2), ('meteorolog', 2), ('hour', 2), ('hierarchi', 2), ('strengths-bas', 2), ('optim', 2), ('healthi', 2), ('vulner', 2), ('multicultur', 2), ('reshap', 2), ('broadli', 2), ('replac', 2), ('pop', 2), ('tie', 2), ('notion', 2), ('business-rel', 2), ('probabl', 2), ('forecast', 2), ('sheet', 2), ('deviat', 2), ('privat', 2), ('execut', 2), ('metal', 2), ('finish', 2), ('proposit', 2), ('constant', 2), ('acid-bas', 2), ('aqueou', 2), ('stabil', 2), ('algebra', 2), ('transmit', 2), ('biochemistri', 2), ('attribut', 2), ('fulli', 2), ('sector', 2), ('profit', 2), ('modifi', 2), ('reactiv', 2), ('nmr', 2), ('spectroscopi', 2), ('spectroscop', 2), ('princip', 2), ('sharehold', 2), ('chronic', 2), ('readi', 2), ('polic', 2), ('wwc', 2), ('immunis', 2), ('certif', 2), ('longer', 2), ('localis', 2), ('thyroid', 2), ('hepatobiliari', 2), ('embryolog', 2), ('digest', 2), ('shoulder', 2), ('choos', 2), ('metabol', 2), ('excret', 2), ('suggest', 2), ('carer', 2), ('partnership', 2), ('archaeologist', 2), ('cave', 2), ('artwork', 2), ('earliest', 2), ('chronolog', 2), ('harm', 2), ('nemerg', 2), ('rigor', 2), ('treat', 2), ('narr', 2), ('actual', 2), ('legaci', 2), ('tell', 2), ('grasp', 2), ('admiss', 2), ('satisfact', 2), ('benchmark', 2), ('nclinic', 2), ('accredit', 2), ('disclosur', 2), ('embed', 2), ('opposit', 2), ('spiritu', 2), ('kinship', 2), ('zoolog', 2), ('botan', 2), ('taxonomi', 2), ('icf', 2), ('neurodevelop', 2), ('expertis', 2), ('face-to', 2), ('ideal', 2), ('pair', 2), ('bio1011', 2), ('bio1022', 2), ('biodivers', 2), ('biogeochem', 2), ('self-evalu', 2), ('moral', 2), ('enter', 2), ('scholar', 2), ('citizen', 2), ('top', 2), ('computer-aid', 2), ('mesh', 2), ('strain', 2), ('axisymmetr', 2), ('nonlinear', 2), ('deform', 2), ('correct', 2), ('legitim', 2), ('readili', 2), ('damag', 2), ('imaginari', 2), ('hegemon', 2), ('discurs', 2), ('correctli', 2), ('convey', 2), ('explicit', 2), ('acs2740', 2), ('intragroup', 2), ('fair', 2), ('prefer', 2), ('referenc', 2), ('acuiti', 2), ('conclud', 2), ('higher', 2), ('literaci', 2), ('confid', 2), ('deconstruct', 2), ('minimis', 2), ('valuabl', 2), ('soil', 2), (\"world'\", 2), ('light', 2), ('assum', 2), ('abstract', 2), ('extens', 2), ('close', 2), ('satisfactori', 2), ('pluripot', 2), ('newborn', 2), ('induc', 2), ('anatom', 2), ('kidney', 2), ('regener', 2), ('nanotechnolog', 2), ('monash', 2), ('beam', 2), ('hillerborg', 2), ('collaps', 2), (\"africa'\", 2), ('transit', 2), ('coloni', 2), ('constitut', 2), ('hebrew', 2), ('near', 2), ('eastern', 2), ('jewish', 2), ('jurisdict', 2), ('disput', 2), ('self-def', 2), ('in-class', 2), ('referr', 2), ('inclus', 2), ('bad', 2), ('real-lif', 2), ('enjoy', 2), ('postcoloni', 2), ('exeget', 2), ('theorist', 2), ('life-long', 2), ('thinker', 2), ('realiti', 2), ('fact', 2), ('rigid', 2), ('focuss', 2), (\"newton'\", 2), ('lagrang', 2), ('suffici', 2), ('pharmaci', 2), ('appf', 2), ('slave', 2), ('bibliograph', 2), ('repertoir', 2), ('intens', 2), ('promin', 2), ('non-government', 2), ('interconnect', 2), ('postgradu', 2), ('uphold', 2), ('nanofabr', 2), ('death', 2), ('urban', 2), ('hop', 2), ('ats2113', 2), ('prompt', 2), ('semi-form', 2), ('indonesia', 2), ('pipelin', 2), ('render', 2), ('opengl', 2), ('skeleton', 2), ('bone', 2), ('soft', 2), ('skelet', 2), ('pan-disciplinari', 2), ('realis', 2), ('inher', 2), ('architect', 2), ('candid', 2), ('assur', 2), ('run', 2), ('clinician', 2), ('confidenti', 2), ('liter', 2), ('rational', 2), ('begun', 2), ('900', 2), ('ecosystem', 2), ('spatial', 2), ('photograph', 2), ('scale', 2), ('prescrib', 2), ('scan', 2), ('recognit', 2), ('paid', 2), ('consent', 2), (\"adolescent'\", 2), ('250', 2), ('earn', 2), ('competitor', 2), ('mainstream', 2), ('root', 2), ('locu', 2), ('linear', 2), ('signal', 2), ('resist', 2), ('call', 2), ('need', 2), ('historiograph', 2), ('algorithm', 2), ('vocat', 2), ('chm4180', 2), ('triag', 2), ('insular', 2), ('silo', 2), ('multin', 2), ('court', 2), ('non-intern', 2), ('bioprocess', 2), ('odontolog', 2), ('facial', 2), ('offenc', 2), ('mytholog', 2), ('anzac', 2), ('interrog', 2), ('anthropolog', 3), ('turn', 3), ('perpetr', 3), ('suffer', 3), ('traumat', 3), ('youth', 3), ('writer', 3), ('norm', 3), ('move', 3), ('directli', 3), ('highli', 3), ('listen', 3), ('depart', 3), ('regard', 3), ('supervisor', 3), ('depend', 3), ('subsequ', 3), ('rel', 3), ('doubl', 3), ('request', 3), ('end', 3), ('suppli', 3), ('distinct', 3), ('submit', 3), ('undergradu', 3), ('medico-leg', 3), ('assault', 3), ('neglig', 3), ('parent', 3), ('definit', 3), ('counsel', 3), ('childbirth', 3), ('price', 3), ('firm', 3), ('transplant', 3), ('allergi', 3), ('autoimmun', 3), ('web', 3), ('output', 3), ('aetiolog', 3), ('offend', 3), ('psychiatr', 3), ('societ', 3), ('empir', 3), ('ongo', 3), ('socioeconom', 3), ('explan', 3), ('coher', 3), ('lab', 3), ('bachelor', 3), ('devis', 3), ('project-bas', 3), ('disciplinari', 3), ('coverag', 3), ('grow', 3), ('edit', 3), ('peer-review', 3), ('learner', 3), ('latest', 3), ('complement', 3), ('contact', 3), ('coordin', 3), ('gather', 3), ('factual', 3), ('packag', 3), ('oblig', 3), ('journalist', 3), ('alcohol', 3), ('shift', 3), ('persuas', 3), ('leader', 3), ('exhibit', 3), ('satisfi', 3), ('branch', 3), ('reject', 3), ('cellular', 3), ('immunopatholog', 3), (\"student'\", 3), ('tcp', 3), ('rout', 3), ('file', 3), ('identif', 3), ('help', 3), ('era', 3), ('prato', 3), (\"today'\", 3), ('linkag', 3), ('work-lif', 3), ('breed', 3), ('nativ', 3), ('coursework', 3), ('attend', 3), ('optimis', 3), ('astronomi', 3), ('encompass', 3), ('star', 3), ('nuclear', 3), ('archaeolog', 3), ('transient', 3), ('scholarship', 3), (\"earth'\", 3), ('air', 3), ('singl', 3), ('consequ', 3), ('drama', 3), ('north', 3), ('frequenc', 3), ('hypothesi', 3), ('regress', 3), ('correl', 3), ('emot', 3), ('impair', 3), ('cross', 3), ('2nd', 3), ('absorpt', 3), ('equilibria', 3), ('concentr', 3), ('har', 3), ('pertin', 3), ('internship', 3), ('synthet', 3), ('mass', 3), ('compound', 3), ('user', 3), ('lender', 3), ('therapeut', 3), ('autonom', 3), ('target', 3), ('trend', 3), ('adult', 3), ('childhood', 3), ('advers', 3), ('nervou', 3), ('genitourinari', 3), ('vascular', 3), ('ultrasound', 3), ('cross-sect', 3), ('symbol', 3), ('evolutionari', 3), ('growth', 3), ('credit', 3), ('diagnost', 3), ('disturb', 3), ('renew', 3), ('geograph', 3), ('devic', 3), ('dimens', 3), ('weekli', 3), ('career', 3), ('merit', 3), ('expect', 3), ('inequ', 3), ('myth', 3), ('depth', 3), ('encod', 3), ('neurodevelopment', 3), (\"child'\", 3), ('psychometr', 3), ('word', 3), ('self-direct', 3), ('practis', 3), ('fractur', 3), ('drill', 3), ('handl', 3), ('special', 3), ('refus', 3), ('comment', 3), ('sophist', 3), ('enforc', 3), ('wit', 3), ('accord', 3), ('joint', 3), ('emphasis', 3), ('low', 3), ('ubiquit', 3), ('block', 3), ('tax', 3), ('ideolog', 3), ('religi', 3), ('commercialis', 3), ('load', 3), ('greek', 3), ('poetri', 3), ('feminist', 3), ('500', 3), ('uav', 3), ('geolog', 3), ('globalis', 3), ('real-world', 3), ('agreement', 3), ('cognitive-behaviour', 3), ('particl', 3), ('vibratori', 3), ('freedom', 3), ('enslav', 3), ('campaign', 3), ('librari', 3), ('agenc', 3), ('humanitarian', 3), ('provis', 3), ('budget', 3), ('modul', 3), ('transmiss', 3), ('legend', 3), ('found', 3), ('statutori', 3), ('chest', 3), ('appear', 3), ('sentenc', 3), ('approxim', 3), ('cash', 3), ('state-spac', 3), ('eighteenth-centuri', 3), ('python', 3), ('underli', 3), ('bia', 3), ('ntheme', 3), ('loac', 3), ('biotechnolog', 3), ('dental', 3), ('aid', 3), ('front', 3), ('span', 4), ('sexual', 4), ('memori', 4), ('extern', 4), ('phenomenon', 4), ('clear', 4), ('linguist', 4), ('concern', 4), ('analyz', 4), ('deepen', 4), ('mode', 4), ('domin', 4), ('liber', 4), ('display', 4), ('speak', 4), ('award', 4), ('univers', 4), ('seek', 4), ('inquiri', 4), ('socio-cultur', 4), ('intermedi', 4), ('short', 4), ('speech', 4), ('essay', 4), ('similar', 4), ('comparison', 4), ('money', 4), ('yield', 4), ('foreign', 4), ('interperson', 4), ('whilst', 4), ('fertil', 4), ('woman', 4), ('facilit', 4), ('made', 4), ('equiti', 4), ('fund', 4), ('asset', 4), ('dividend', 4), ('deliv', 4), ('commonli', 4), ('abnorm', 4), ('variabl', 4), ('multidisciplinari', 4), ('medium', 4), ('evolv', 4), ('hand', 4), ('background', 4), ('conceptualis', 4), ('vaccin', 4), ('obtain', 4), ('conclus', 4), ('rehabilit', 4), ('long', 4), ('fragment', 4), ('meaning', 4), ('entertain', 4), ('seri', 4), ('illustr', 4), ('worker', 4), ('recommend', 4), ('capston', 4), ('scenario', 4), ('immers', 4), ('confront', 4), ('problem-solv', 4), ('reliabl', 4), ('strong', 4), ('instal', 4), ('preced', 4), ('union', 4), ('uniqu', 4), ('greater', 4), ('balanc', 4), ('speci', 4), ('stream', 4), ('pursu', 4), ('earli', 4), ('statu', 4), ('astrophys', 4), ('stellar', 4), ('gap', 4), ('suitabl', 4), ('interim', 4), ('atmospher', 4), ('mix', 4), ('daili', 4), ('valu', 4), ('belief', 4), ('mathemat', 4), ('expos', 4), ('neuropsycholog', 4), ('attent', 4), ('artist', 4), ('acid', 4), ('thermodynam', 4), ('phase', 4), ('diagram', 4), ('physicochem', 4), ('kinet', 4), ('earth', 4), ('microbiolog', 4), ('resolv', 4), ('host', 4), ('incom', 4), ('entri', 4), ('regular', 4), ('check', 4), ('sociolog', 4), ('adolesc', 4), ('stage', 4), ('embryon', 4), ('step', 4), ('complianc', 4), ('continuum', 4), ('scene', 4), ('mobil', 4), ('ecolog', 4), ('home', 4), ('african', 4), ('audio', 4), ('taught', 4), ('biospher', 4), ('articl', 4), ('respect', 4), ('plane', 4), ('breakag', 4), ('asia-pacif', 4), ('accept', 4), ('climat', 4), ('abl', 4), ('map', 4), ('theatr', 4), ('steel', 4), ('computer-bas', 4), ('scriptur', 4), ('orchestr', 4), ('motion', 4), ('good', 4), ('labour', 4), ('slaveri', 4), ('regist', 4), ('polym', 4), ('contextu', 4), ('enterpris', 4), ('train', 4), ('charact', 4), ('paediatr', 4), ('neonat', 4), ('seventeenth', 4), ('europ', 5), ('violenc', 5), ('repres', 5), ('western', 5), ('non-fict', 5), ('novel', 5), ('kind', 5), ('solid', 5), ('asian', 5), ('expand', 5), ('frame', 5), ('adapt', 5), ('larg', 5), ('list', 5), ('intent', 5), ('session', 5), ('exchang', 5), ('total', 5), ('sensit', 5), ('borrow', 5), ('summ', 5), ('economi', 5), ('final', 5), ('portfolio', 5), ('effici', 5), ('estim', 5), ('reason', 5), ('tissu', 5), ('exampl', 5), ('occur', 5), ('threat', 5), ('criminolog', 5), ('answer', 5), ('featur', 5), ('distinguish', 5), ('combin', 5), ('bring', 5), ('aris', 5), ('piec', 5), ('sampl', 5), ('motiv', 5), ('paramet', 5), ('rais', 5), ('equal', 5), ('sens', 5), ('prototyp', 5), ('interior', 5), ('hazard', 5), ('gender', 5), ('ivf', 5), ('sub-unit', 5), ('theme', 5), ('prior', 5), ('commenc', 5), ('today', 5), ('surfac', 5), ('lifespan', 5), ('wellb', 5), ('ict', 5), ('domest', 5), ('indic', 5), ('descript', 5), ('terminolog', 5), ('manner', 5), ('aesthet', 5), ('partner', 5), ('small', 5), ('elucid', 5), ('link', 5), ('cross-cultur', 5), ('point', 5), ('itali', 5), ('increasingli', 5), ('carri', 5), ('score', 5), ('plant', 5), ('instruct', 5), ('hands-on', 5), ('biota', 5), ('stress', 5), ('honour', 5), ('imagin', 5), (\"australia'\", 5), ('cooper', 5), ('associ', 5), ('biopsychosoci', 5), ('addict', 5), ('contract', 5), ('encount', 5), ('plastic', 5), ('line', 5), ('slab', 5), ('bibl', 5), ('biblic', 5), ('routin', 5), ('obstetr', 5), ('brain', 5), ('wider', 5), ('ensembl', 5), ('built', 5), ('custom', 5), ('jazz', 5), ('film', 6), ('scholarli', 6), ('vari', 6), ('comprehend', 6), ('authent', 6), ('appropri', 6), ('staff', 6), ('maintain', 6), ('accur', 6), ('record', 6), ('defend', 6), ('direct', 6), ('electron', 6), ('orient', 6), ('member', 6), ('profess', 6), ('consider', 6), ('babi', 6), ('choic', 6), ('attitud', 6), ('debt', 6), ('cost', 6), ('purpos', 6), ('multi-disciplinari', 6), ('age', 6), ('chang', 6), ('circuit', 6), ('overview', 6), ('hypothes', 6), ('competit', 6), ('ground', 6), ('consumpt', 6), ('use', 6), ('diagnosi', 6), ('space', 6), ('crise', 6), ('initi', 6), ('full', 6), ('actor', 6), ('pertain', 6), ('week', 6), ('sound', 6), ('chemistri', 6), ('pharmaceut', 6), ('expert', 6), ('judgement', 6), ('characteris', 6), ('centr', 6), ('pathophysiolog', 6), ('altern', 6), ('draw', 6), ('action', 6), ('negoti', 6), ('landscap', 6), ('thought', 6), ('experienc', 6), ('intellig', 6), ('multimod', 6), ('differenti', 6), ('syntax', 6), ('paramed', 6), ('glass', 6), ('blow', 6), ('engin', 6), ('vibrat', 6), ('injuri', 6), ('hip', 6), ('twentieth', 7), ('number', 7), ('east', 7), ('fiction', 7), ('show', 7), ('formal', 7), ('italian', 7), ('everyday', 7), ('high', 7), ('patholog', 7), ('assign', 7), ('encourag', 7), ('thi', 7), ('resolut', 7), ('consolid', 7), ('spoken', 7), ('assumpt', 7), ('real', 7), ('client', 7), ('radiat', 7), ('in-depth', 7), ('childbear', 7), ('invest', 7), ('option', 7), ('give', 7), ('broader', 7), ('specialis', 7), ('feedback', 7), ('infrastructur', 7), ('predict', 7), ('surround', 7), ('capac', 7), ('discrimin', 7), ('visit', 7), ('decision-mak', 7), ('search', 7), ('secondari', 7), ('play', 7), ('live', 7), ('pathway', 7), ('storytel', 7), ('benefit', 7), ('constraint', 7), ('genet', 7), ('appreci', 7), ('discoveri', 7), ('classroom', 7), ('summaris', 7), ('verbal', 7), ('cycl', 7), ('graphic', 7), ('pattern', 7), ('molecul', 7), ('musculoskelet', 7), ('period', 7), ('stakehold', 7), ('survey', 7), ('countri', 7), ('creation', 7), ('entiti', 7), ('transact', 7), ('ancient', 7), ('oh', 7), ('equat', 7), ('regim', 7), ('radiograph', 7), ('crime', 7), ('arm', 7), ('past', 8), ('style', 8), ('convent', 8), ('vocabulari', 8), ('democraci', 8), ('futur', 8), ('publish', 8), ('lectur', 8), ('lead', 8), ('cognit', 8), ('genr', 8), ('class', 8), ('term', 8), ('access', 8), ('degre', 8), ('matern', 8), ('pregnanc', 8), ('power', 8), ('deal', 8), ('central', 8), ('incorpor', 8), ('epidemiolog', 8), ('scriptwrit', 8), ('philosoph', 8), ('distribut', 8), ('onlin', 8), ('prevent', 8), ('ill', 8), ('legisl', 8), ('code', 8), ('locat', 8), ('main', 8), ('studio', 8), ('offer', 8), ('interfac', 8), ('virtual', 8), ('increas', 8), ('popul', 8), ('seminar', 8), ('format', 8), ('forc', 8), ('cast', 8), ('sculptur', 8), ('calcul', 8), ('capabl', 8), ('dietet', 8), ('abdomen', 8), ('subject', 8), ('guidelin', 8), ('school', 8), ('child', 8), ('finit', 8), ('fea', 8), ('thesi', 8), ('blast', 8), ('grammar', 8), ('psychodynam', 8), ('talent', 8), ('sonograph', 8), ('author', 9), ('enhanc', 9), ('immunolog', 9), ('content', 9), ('semest', 9), ('south', 9), ('synthesi', 9), ('intercultur', 9), ('rate', 9), ('birth', 9), ('observ', 9), ('compani', 9), ('multipl', 9), ('progress', 9), ('reinforc', 9), ('video', 9), ('disord', 9), ('evidence-bas', 9), ('characterist', 9), ('outlin', 9), ('strength', 9), ('platform', 9), ('year', 9), ('share', 9), ('exercis', 9), ('tradit', 9), ('stori', 9), ('systemat', 9), ('treatment', 9), ('wide', 9), ('chemic', 9), ('recent', 9), ('physiolog', 9), ('manipul', 9), ('bodi', 9), ('introductori', 9), ('signific', 9), ('concret', 9), ('children', 9), ('interdisciplinari', 10), ('take', 10), ('place', 10), ('insight', 10), ('latin', 10), ('innov', 10), ('begin', 10), ('express', 10), ('extend', 10), ('assist', 10), ('flow', 10), ('practition', 10), ('protect', 10), ('consid', 10), ('peer', 10), ('core', 10), ('medicin', 10), ('enabl', 10), ('workshop', 10), ('valid', 10), ('specialist', 10), ('potenti', 10), ('classic', 10), ('french', 10), ('ifr', 10), ('establish', 11), ('visual', 11), ('master', 11), ('occupational_health', 11), ('contrast', 11), ('instrument', 11), ('teamwork', 11), ('arrang', 11), ('justic', 11), ('audienc', 11), ('transform', 11), ('journal', 11), ('underpin', 11), ('simul', 11), ('qualit', 11), ('softwar', 11), ('essenti', 11), ('peac', 11), ('korean', 11), ('intellectu', 11), ('reaction', 11), ('ident', 11), ('basi', 11), ('scope', 12), ('posit', 12), ('refer', 12), ('supervis', 12), ('undertaken', 12), ('respond', 12), ('discours', 12), ('compon', 12), ('capit', 12), ('midwif', 12), ('local', 12), ('site', 12), ('monitor', 12), ('statist', 12), ('development', 12), ('philosophi', 13), ('profici', 13), ('chosen', 13), ('procedur', 13), ('simpl', 13), ('document', 13), ('implic', 13), ('mental', 13), ('logic', 13), ('architectur', 13), ('goal', 13), ('disabl', 13), ('normal', 13), ('utilis', 13), ('network', 13), ('reproduct', 13), ('commerci', 13), ('popular', 13), ('evolut', 13), ('cell', 13), ('stem', 13), ('indigen', 13), ('centuri', 14), ('asia', 14), ('right', 14), ('acquisit', 14), ('produc', 14), ('nation', 14), ('teach', 14), ('order', 14), ('consum', 14), ('diseas', 14), ('broad', 14), ('continu', 14), ('exist', 14), ('justifi', 14), ('nurs', 14), ('composit', 14), ('anatomi', 14), ('rock', 14), ('represent', 15), ('object', 15), ('boundari', 15), ('success', 15), ('internet', 15), ('econom', 15), ('type', 15), ('affect', 15), ('deliveri', 15), ('defin', 15), ('support', 15), ('safe', 15), ('review', 15), ('face', 15), ('way', 15), ('influenc', 15), ('layer', 15), ('part', 15), ('properti', 15), ('nutrit', 15), ('bilingu', 15), ('the', 16), ('articul', 16), ('differ', 16), ('region', 16), ('particip', 16), ('interest', 16), ('comprehens', 16), ('mean', 16), ('primari', 16), ('educ', 16), ('women', 16), ('corpor', 16), ('immun', 16), ('equip', 16), ('organ', 16), ('peopl', 16), ('protocol', 16), ('origin', 16), ('have', 16), ('english', 16), ('war', 17), ('shape', 17), ('divers', 17), ('strateg', 17), ('resourc', 17), ('emphasi', 17), ('addit', 17), ('technic', 17), ('synthesis', 17), ('financ', 17), ('promot', 17), ('argument', 17), ('forens', 17), ('time', 17), ('acquir', 17), ('propos', 17), ('physic', 17), ('statement', 17), ('event', 18), ('limit', 18), ('australia', 18), ('rule', 18), ('conduct', 18), ('safeti', 18), ('find', 18), ('anim', 18), ('crimin', 18), ('occup', 18), ('measur', 18), ('healthcar', 18), ('chines', 18), ('comput', 18), ('focus', 19), ('indonesian', 19), ('apprais', 19), ('experiment', 19), ('outcom', 19), ('conceptu', 19), ('task', 19), ('institut', 19), ('regulatori', 19), ('intervent', 19), ('familiar', 19), ('food', 19), ('conflict', 20), ('literari', 20), ('solut', 20), ('test', 20), ('quantit', 20), ('european', 20), ('music', 20), ('engag', 21), ('detail', 21), ('varieti', 21), ('independ', 21), ('recognis', 21), ('compar', 21), ('therapi', 21), ('risk', 21), ('condit', 21), ('mechan', 21), ('creativ', 21), ('workplac', 21), ('complet', 21), ('tool', 21), ('imag', 21), ('contribut', 22), ('debat', 22), ('standard', 22), ('introduct', 22), ('achiev', 22), ('laboratori', 22), ('determin', 22), ('critiqu', 22), ('life', 22), ('creat', 22), ('drug', 22), ('placement', 22), ('aim', 23), ('foundat', 23), ('opportun', 23), ('awar', 23), ('question', 23), ('natur', 23), ('digit', 23), ('sustain', 23), ('dynam', 23), ('oper', 24), ('govern', 24), ('analyt', 24), ('solv', 24), ('midwiferi', 24), ('fundament', 24), ('histori', 25), ('trauma', 25), ('focu', 25), ('text', 25), ('state', 25), ('field', 25), ('academ', 25), ('regul', 25), ('idea', 25), ('major', 25), ('think', 25), ('import', 25), ('medic', 25), ('multimedia', 25), ('biolog', 25), ('modern', 26), ('sourc', 26), ('control', 26), ('build', 26), ('formul', 26), ('game', 26), ('australian', 27), ('translat', 27), ('qualiti', 27), ('address', 27), ('emerg', 27), ('world', 28), ('investig', 28), ('activ', 28), ('methodolog', 28), ('prepar', 28), ('patient', 28), ('construct', 29), ('leadership', 29), ('materi', 29), ('secur', 29), ('psycholog', 30), ('employ', 30), ('level', 30), ('interact', 30), ('team', 30), ('common', 30), ('decis', 31), ('collect', 32), ('read', 32), ('case', 32), ('situat', 32), ('cover', 32), ('evid', 32), ('element', 32), ('aspect', 33), ('industri', 33), ('plan', 33), ('relationship', 33), ('gain', 34), ('implement', 34), ('disciplin', 34), ('involv', 34), ('histor', 35), ('collabor', 35), ('gener', 35), ('undertak', 35), ('person', 35), ('public', 35), ('product', 35), ('compet', 36), ('financi', 36), ('improv', 36), ('factor', 37), ('form', 37), ('specif', 37), ('select', 37), ('result', 37), ('technolog', 37), ('global', 39), ('experi', 39), ('complex', 39), ('requir', 39), ('make', 39), ('environment', 39), ('famili', 39), ('perspect', 40), ('current', 40), ('societi', 40), ('perform', 40), ('function', 40), ('servic', 40), ('integr', 40), ('set', 41), ('scienc', 41), ('polici', 42), ('art', 43), ('languag', 44), ('organis', 44), ('polit', 45), ('oral', 45), ('clinic', 45), ('behaviour', 45), ('framework', 45), ('program', 45), ('area', 46), ('literatur', 46), ('challeng', 46), ('account', 46), ('provid', 47), ('scientif', 47), ('strategi', 48), ('base', 48), ('impact', 48), ('model', 49), ('theoret', 49), ('introduc', 49), ('individu', 50), ('legal', 50), ('applic', 51), ('group', 51), ('report', 51), ('respons', 51), ('written', 53), ('human', 54), ('advanc', 54), ('care', 54), ('contemporari', 56), ('structur', 56), ('topic', 58), ('environ', 59), ('relev', 61), ('abil', 62), ('explain', 62), ('busi', 62), ('techniqu', 62), ('data', 63), ('basic', 64), ('analysi', 64), ('reflect', 64), ('problem', 65), ('examin', 66), ('assess', 67), ('write', 67), ('effect', 67), ('interpret', 67), ('method', 67), ('discuss', 69), ('present', 70), ('law', 70), ('approach', 72), ('key', 73), ('media', 75), ('rang', 75), ('explor', 76), ('process', 76), ('role', 76), ('inform', 77), ('social', 78), ('ethic', 78), ('describ', 79), ('studi', 81), ('learn', 81), ('profession', 82), ('principl', 82), ('context', 85), ('cultur', 90), ('intern', 96), ('market', 96), ('concept', 97), ('knowledg', 97), ('issu', 99), ('health', 102), ('theori', 104), ('system', 105), ('evalu', 105), ('project', 109), ('work', 112), ('demonstr', 113), ('includ', 114), ('relat', 115), ('manag', 118), ('identifi', 120), ('commun', 128), ('analys', 129), ('appli', 145), ('design', 160), ('critic', 181), ('skill', 184), ('practic', 200), ('understand', 213), ('research', 245), ('student', 250), ('develop', 257), ('unit', 275)]\n"
     ]
    }
   ],
   "source": [
    "def getTokenFrequency(tokens):\n",
    "    fc = FreqDist(tokens)\n",
    "    fc = dict(fc)\n",
    "    return fc\n",
    "\n",
    "global_token_frequency_dict = getTokenFrequency(tokens)\n",
    "global_token_frequency_dict = sorted(global_token_frequency_dict.items(), key=lambda x: x[1], reverse=False)\n",
    "print(global_token_frequency_dict)"
   ]
  },
  {
   "cell_type": "code",
   "execution_count": 33,
   "metadata": {},
   "outputs": [
    {
     "data": {
      "text/plain": [
       "2624"
      ]
     },
     "execution_count": 33,
     "metadata": {},
     "output_type": "execute_result"
    }
   ],
   "source": [
    "len(global_token_frequency_dict)"
   ]
  },
  {
   "cell_type": "markdown",
   "metadata": {},
   "source": [
    "In order to remove 5% of the global rare tokens, we will iterate through the dictionary till the count of 131(which was separately calculated to be 5% of the total number of unique tokens) and store the keys in a rare_tokens list. This rare_token list will be further used to remove from the actual tokens."
   ]
  },
  {
   "cell_type": "code",
   "execution_count": 34,
   "metadata": {},
   "outputs": [
    {
     "name": "stdout",
     "output_type": "stream",
     "text": [
      "['twenty-first', 'transhistorical_case_studi', 'nineteenth', 'struggl', 'genocid', 'globe', 'colon', 'decolon', 'gender-bas', 'worldwid', 'post-traumatic_stress_disord', 'rememb', 'non-western', 'memoir', 'historiographi', 'televis', 'photographi', 'ethnic', 'serv', '20th', 'presidenti', 'parliamentari', 'south-east', 'formalis', 'persist', 'persever', 'autocrat', 'authoritarian', 'intric', 'highest', 'succinctli', 'elementari', 'up-to', 'multi-part', 'virtuoso', 'professional_compet', 'socio-linguist', 'dialogu', 'monologu', 'apologis', 'hope', 'gratitud', 'japan-rel', 'kanji', '240', 'curv', 'short-term', 'medium-term', 'usag', 'wisdom', 'hard', 'copi', 'exemplifi', 'principles-bas', 'adequ', 'milieu', 'icm', 'statut', 'reach', 'espous', 'avail', 'micro', 'macro', 'ethico-leg', 'advoc', 'breastfeed', 'acmi', 'publicli', 'valuat', 'return', 'ensur', 'value-chang', 'maximis', 'riski', 'bff2140', 'cancer', 'difficult', 'debilit', 'diabet', 'sclerosi', 'imm2011', 'mediat', 'inflamm', 'utter', 'genesi', 'pragmat', 'fashion', 'problemat', 'individually-bas', 'high-risk', 'weak', 'foster', 'hundr', 'alleg', 'problem-bas', 'cohort', 'clearer', 'contributor', 'discipline-specif', 'enquiri', 'fastest', 'subdisciplin', 'bioethic', 'obes', 'tobacco', 'pandem', 'nudg', 'arriv', 'well-argu', 'ncommonli', 'nargument', 'pro', 'con', 'nof', 'ngenr', 'alert', 'ncomposit', 'retrofit', 'allevi', 'remain', 'mass-market', 'smaller', 'entrepreneuri', 'bureaucrat', 'nine', 'fairfax', 'appl', 'itun', 'facebook', 'wikipedia']\n"
     ]
    }
   ],
   "source": [
    "count = 0\n",
    "rare_tokens = []\n",
    "for k,v in global_token_frequency_dict:\n",
    "    count += 1\n",
    "    if(count == 131):\n",
    "        break\n",
    "    rare_tokens.append(k)\n",
    "print(rare_tokens)"
   ]
  },
  {
   "cell_type": "code",
   "execution_count": 35,
   "metadata": {},
   "outputs": [],
   "source": [
    "# Removing the rare tokens from the tokens present in dataframe column\n",
    "\n",
    "def remove_rare_words(s):\n",
    "    \n",
    "    rare_removed_list = [w for w in s if w not in rare_tokens]\n",
    "    return rare_removed_list"
   ]
  },
  {
   "cell_type": "code",
   "execution_count": 36,
   "metadata": {},
   "outputs": [
    {
     "data": {
      "text/html": [
       "<div>\n",
       "<style scoped>\n",
       "    .dataframe tbody tr th:only-of-type {\n",
       "        vertical-align: middle;\n",
       "    }\n",
       "\n",
       "    .dataframe tbody tr th {\n",
       "        vertical-align: top;\n",
       "    }\n",
       "\n",
       "    .dataframe thead th {\n",
       "        text-align: right;\n",
       "    }\n",
       "</style>\n",
       "<table border=\"1\" class=\"dataframe\">\n",
       "  <thead>\n",
       "    <tr style=\"text-align: right;\">\n",
       "      <th></th>\n",
       "      <th>Title</th>\n",
       "      <th>Information</th>\n",
       "    </tr>\n",
       "  </thead>\n",
       "  <tbody>\n",
       "    <tr>\n",
       "      <th>0</th>\n",
       "      <td>ATS3956</td>\n",
       "      <td>[unit, focus, histori, theori, applic, concept...</td>\n",
       "    </tr>\n",
       "    <tr>\n",
       "      <th>1</th>\n",
       "      <td>ATS3116</td>\n",
       "      <td>[unit, develop, indonesian, linguist, cultur, ...</td>\n",
       "    </tr>\n",
       "    <tr>\n",
       "      <th>2</th>\n",
       "      <td>APG5337</td>\n",
       "      <td>[unit, explor, modern, polit, govern, mode, au...</td>\n",
       "    </tr>\n",
       "    <tr>\n",
       "      <th>3</th>\n",
       "      <td>ATS1229</td>\n",
       "      <td>[unit, aim, provid, basic, foundat, basic, lan...</td>\n",
       "    </tr>\n",
       "    <tr>\n",
       "      <th>4</th>\n",
       "      <td>IMM3990</td>\n",
       "      <td>[unit, provid, high, achiev, student, structur...</td>\n",
       "    </tr>\n",
       "  </tbody>\n",
       "</table>\n",
       "</div>"
      ],
      "text/plain": [
       "     Title                                        Information\n",
       "0  ATS3956  [unit, focus, histori, theori, applic, concept...\n",
       "1  ATS3116  [unit, develop, indonesian, linguist, cultur, ...\n",
       "2  APG5337  [unit, explor, modern, polit, govern, mode, au...\n",
       "3  ATS1229  [unit, aim, provid, basic, foundat, basic, lan...\n",
       "4  IMM3990  [unit, provid, high, achiev, student, structur..."
      ]
     },
     "execution_count": 36,
     "metadata": {},
     "output_type": "execute_result"
    }
   ],
   "source": [
    "df[\"Information\"] = df[\"Information\"].apply(remove_rare_words)\n",
    "df.head()"
   ]
  },
  {
   "cell_type": "markdown",
   "metadata": {},
   "source": [
    "Using FreqDist to get the frequency of tokens in the Information column as a separate TokenFrequency column"
   ]
  },
  {
   "cell_type": "code",
   "execution_count": 37,
   "metadata": {},
   "outputs": [],
   "source": [
    "# Generate frequency column\n",
    "\n",
    "def getTokenFrequency(tokens):\n",
    "    fc = FreqDist(tokens)\n",
    "    fc = dict(fc)\n",
    "    return fc"
   ]
  },
  {
   "cell_type": "code",
   "execution_count": 38,
   "metadata": {},
   "outputs": [
    {
     "data": {
      "text/html": [
       "<div>\n",
       "<style scoped>\n",
       "    .dataframe tbody tr th:only-of-type {\n",
       "        vertical-align: middle;\n",
       "    }\n",
       "\n",
       "    .dataframe tbody tr th {\n",
       "        vertical-align: top;\n",
       "    }\n",
       "\n",
       "    .dataframe thead th {\n",
       "        text-align: right;\n",
       "    }\n",
       "</style>\n",
       "<table border=\"1\" class=\"dataframe\">\n",
       "  <thead>\n",
       "    <tr style=\"text-align: right;\">\n",
       "      <th></th>\n",
       "      <th>Title</th>\n",
       "      <th>Information</th>\n",
       "      <th>TokenFrequency</th>\n",
       "    </tr>\n",
       "  </thead>\n",
       "  <tbody>\n",
       "    <tr>\n",
       "      <th>0</th>\n",
       "      <td>ATS3956</td>\n",
       "      <td>[unit, focus, histori, theori, applic, concept...</td>\n",
       "      <td>{'unit': 1, 'focus': 1, 'histori': 3, 'theori'...</td>\n",
       "    </tr>\n",
       "    <tr>\n",
       "      <th>1</th>\n",
       "      <td>ATS3116</td>\n",
       "      <td>[unit, develop, indonesian, linguist, cultur, ...</td>\n",
       "      <td>{'unit': 2, 'develop': 1, 'indonesian': 9, 'li...</td>\n",
       "    </tr>\n",
       "    <tr>\n",
       "      <th>2</th>\n",
       "      <td>APG5337</td>\n",
       "      <td>[unit, explor, modern, polit, govern, mode, au...</td>\n",
       "      <td>{'unit': 4, 'explor': 3, 'modern': 1, 'polit':...</td>\n",
       "    </tr>\n",
       "    <tr>\n",
       "      <th>3</th>\n",
       "      <td>ATS1229</td>\n",
       "      <td>[unit, aim, provid, basic, foundat, basic, lan...</td>\n",
       "      <td>{'unit': 1, 'aim': 1, 'provid': 1, 'basic': 4,...</td>\n",
       "    </tr>\n",
       "    <tr>\n",
       "      <th>4</th>\n",
       "      <td>IMM3990</td>\n",
       "      <td>[unit, provid, high, achiev, student, structur...</td>\n",
       "      <td>{'unit': 1, 'provid': 1, 'high': 1, 'achiev': ...</td>\n",
       "    </tr>\n",
       "  </tbody>\n",
       "</table>\n",
       "</div>"
      ],
      "text/plain": [
       "     Title                                        Information  \\\n",
       "0  ATS3956  [unit, focus, histori, theori, applic, concept...   \n",
       "1  ATS3116  [unit, develop, indonesian, linguist, cultur, ...   \n",
       "2  APG5337  [unit, explor, modern, polit, govern, mode, au...   \n",
       "3  ATS1229  [unit, aim, provid, basic, foundat, basic, lan...   \n",
       "4  IMM3990  [unit, provid, high, achiev, student, structur...   \n",
       "\n",
       "                                      TokenFrequency  \n",
       "0  {'unit': 1, 'focus': 1, 'histori': 3, 'theori'...  \n",
       "1  {'unit': 2, 'develop': 1, 'indonesian': 9, 'li...  \n",
       "2  {'unit': 4, 'explor': 3, 'modern': 1, 'polit':...  \n",
       "3  {'unit': 1, 'aim': 1, 'provid': 1, 'basic': 4,...  \n",
       "4  {'unit': 1, 'provid': 1, 'high': 1, 'achiev': ...  "
      ]
     },
     "execution_count": 38,
     "metadata": {},
     "output_type": "execute_result"
    }
   ],
   "source": [
    "df[\"TokenFrequency\"] = np.NAN\n",
    "df[\"TokenFrequency\"] = df[\"Information\"].apply(getTokenFrequency)\n",
    "df.head()"
   ]
  },
  {
   "cell_type": "markdown",
   "metadata": {},
   "source": [
    "In order to create a token id dictionary in the format (token,id), we will iterate through all the unique tokens  and insert it to a dictionary assigning a value to it value which will be the count. Id starts with index 1 and not 0"
   ]
  },
  {
   "cell_type": "code",
   "execution_count": 39,
   "metadata": {},
   "outputs": [
    {
     "name": "stdout",
     "output_type": "stream",
     "text": [
      "{'contact': 1, 'crise': 2, 'manipul': 3, 'hydraul': 4, 'undo': 5, 'professional_compet': 6, 'seri': 7, 'non-parametr': 8, 'freedom': 9, 'post-gradu': 10, 'land': 11, 'steady-st': 12, 'cross': 13, 'twenty-first': 14, 'learnt': 15, 'authoritarian': 16, 'day': 17, 'leader': 18, 'botan': 19, 'cast': 20, 'lagrang': 21, 'poetri': 22, 'sub-unit': 23, 'vi': 24, 'interact': 25, 'scalabl': 26, 'rtcp': 27, 'strengths-bas': 28, 'demonstr': 29, 'disadvantag': 30, 'medici': 31, 'basic': 32, 'deliveri': 33, 'audiovisu': 34, 'diffserv': 35, 'stream': 36, 'gate': 37, 'illicit': 38, 'public': 39, 'articl_offend': 40, 'media': 41, 'learner': 42, 'socioeconom': 43, \"marketing'\": 44, 'partly-own': 45, 'reinvent': 46, 'bound': 47, 'focus': 48, 'brain': 49, 'chest': 50, 'childbear': 51, 'peopl': 52, 'site-specif': 53, 'criminalist': 54, 'full': 55, 'signific': 56, 'nine': 57, 'choic': 58, 'integr': 59, \"translator'\": 60, 'summaris': 61, 'choos': 62, 'pair': 63, 'digit': 64, 'strip': 65, 'pre-hospit': 66, 'paediatr': 67, 'cctv': 68, 'patholog': 69, 'locu': 70, 'write': 71, 'smaller': 72, 'transient': 73, 'transform': 74, 'oblig': 75, 'intellectu': 76, 'nthose': 77, 'ideolog': 78, 'still-lif': 79, 'exponenti': 80, 'industri': 81, 'internship': 82, 'small': 83, 'rise': 84, 'dimens': 85, 'vocat': 86, 'neg': 87, 'languag': 88, 'facilit': 89, 'decad': 90, 'aluminium_extens': 91, 'frequenc': 92, 'bank': 93, 'contest': 94, 'listen': 95, 'liquid': 96, 'internetwork': 97, 'honour': 98, 'tap': 99, 'subject': 100, 'scholarli': 101, 'gain': 102, 'turbul': 103, 'mmd4001not': 104, 'wwc': 105, 'elucid': 106, 'ortho-imag': 107, 'exemplifi': 108, 'conduct': 109, 'inequ': 110, 'utter': 111, 'carer': 112, 'replac': 113, 'span': 114, 'messag': 115, 'purif': 116, 'forc': 117, 'psycholog': 118, 'textual': 119, 'inter-profession': 120, 'necess': 121, 'tuscani': 122, 'offer': 123, 'societ': 124, 'haematopoiesi': 125, 'afs3730_retold': 126, 'pervas': 127, 'assembl_compens': 128, 'non-italian': 129, 'polym': 130, 'unsecur': 131, 'immunopatholog': 132, 'bioethic': 133, 'on-lin': 134, 'through': 135, 'regul': 136, 'thinker': 137, 'weekli': 138, 'process-unit': 139, 'circul': 140, 'parliamentari': 141, 'logarithm': 142, 'http': 143, 'made': 144, 'maximis': 145, 'zoolog': 146, 'pacif': 147, 'briefli': 148, 'stronger': 149, 'realist': 150, 'scope': 151, 'physicochem': 152, 'hered': 153, 'forefront': 154, 'similarli': 155, 'prospect': 156, 'poststructuralist': 157, 'etiolog': 158, 'biopsychosoci': 159, 'trust': 160, 'context': 161, 'wake': 162, 'sequenti': 163, 'duress': 164, 'submiss': 165, 'planetari': 166, 'grammat': 167, 'program': 168, 'service-domin': 169, 'sens': 170, 'exampl': 171, 'note': 172, 'ubiquit': 173, 'profound': 174, 'how': 175, 'letter': 176, 'practis': 177, 'geoscienc': 178, 'begun': 179, 'period': 180, 'smtp': 181, 'over-represent': 182, 'safeti': 183, 'broadcast': 184, 'drama': 185, 'tumour': 186, 'intertestament': 187, 'korea': 188, 'immunis': 189, 'conscienti': 190, 'strait': 191, 'colour': 192, 'variabl': 193, 'insular': 194, 'nineteenth-centuri': 195, 'centuri': 196, 'kind': 197, 'refuge': 198, 'theory-build': 199, 'research-bas': 200, 'disciplinari': 201, 'gambl': 202, 'problem-bas': 203, 'more': 204, 'interdisciplinari': 205, 'lactat': 206, 'mention': 207, 'matrix': 208, \"newton'\": 209, 'anthropologist_rapid': 210, 'forum': 211, 'geopolit': 212, 'nudg': 213, 'bring': 214, 'increas': 215, 'euthanasia': 216, 'describ': 217, 'aborigin_literatur': 218, 'infanc': 219, 'possibl': 220, 'lectur': 221, 'physiolog': 222, 'psychometr': 223, 'record': 224, 'privat': 225, 'sterilis': 226, 'worldwid': 227, 'materi': 228, 'direct': 229, 'rock': 230, 'cultur': 231, 'justifi': 232, 'decis': 233, 'identifi': 234, 'abil_demand': 235, 'equiti': 236, 'govern': 237, 'express': 238, 'complet': 239, 'student': 240, 'remark': 241, 'asset_pressur': 242, 'breadth': 243, 'con': 244, 'neural': 245, 'visit': 246, 'era': 247, 'put': 248, 'specif': 249, 'frame': 250, 'manual': 251, 'religi': 252, 'decid': 253, 'function': 254, 'high': 255, 'intox': 256, 'nargument': 257, 'meet': 258, 'undertaken': 259, 'recoveri': 260, 'pipelin': 261, 'suetoniu': 262, 'manag': 263, 'taught': 264, 'interview': 265, 'principl': 266, 'pursu': 267, 'actual_earliest': 268, 'valuabl': 269, 'cth': 270, 'deadlin': 271, 'tract': 272, 'self-discoveri': 273, 'journalist': 274, 'relat': 275, 'asia_embrac': 276, 'frequency-domain': 277, 'midwiferi': 278, 'warm': 279, 'nich': 280, 'video': 281, 'intric': 282, 'approach_remedi': 283, 'monologu': 284, 'fact': 285, 'accord_transit': 286, 'friendship': 287, 'deserv': 288, 'configur': 289, 'surveil': 290, 'torr': 291, 'kinship': 292, 'base': 293, 'slave': 294, 'canvass': 295, 'seventeenth': 296, 'unit': 297, 'economi': 298, 'accept_collabor': 299, 'stage': 300, 'packag': 301, 'babi': 302, 'evidentiari': 303, 'washington': 304, 'escap': 305, 'ethnic': 306, 'spectroscop': 307, 'academic-bas_wellb': 308, 'pseudosci': 309, 'princip': 310, 'politi': 311, 'introduc': 312, 'vocal': 313, 'submit': 314, 'galaxi': 315, 'breastfeed': 316, 'strength': 317, 'midwiv': 318, 'summ': 319, 'endocrinolog': 320, 'filtrat': 321, 'appropri_offenc': 322, 'supernova': 323, 'wik': 324, 'magnet': 325, 'espous': 326, 'problem-ori': 327, 'axisymmetr': 328, 'transport': 329, 'autocrat': 330, 'architect_synthesi': 331, 'show': 332, 'artist_co-exist': 333, 'astronomi_psychotherapi': 334, 'enjoy': 335, 'coron': 336, 'branch': 337, 'employe': 338, 'apprehend_spanish': 339, 'cognit': 340, 'fund': 341, 'regard': 342, 'sector': 343, 'larger': 344, 'resolv': 345, 'logic': 346, 'locat': 347, 'comprehend': 348, 'crisi': 349, 'accredit_gravit': 350, 'flux': 351, \"adolescent'_redefin\": 352, 'websit': 353, 'tie': 354, 'micro': 355, 'rationalis': 356, 'satisfi': 357, 'origin': 358, 'benefit': 359, 'neurolog': 360, 'entail': 361, 'algorithm_referenc': 362, 'diurnal': 363, 'classif': 364, 'stori': 365, 'geophys': 366, 'guidelin': 367, 'autoimmun': 368, 'electr': 369, 'diseas': 370, 'profit': 371, 'chromatography-mass': 372, \"world'\": 373, 'nanomateri': 374, 'revolut': 375, 'deliv': 376, 'respons': 377, 'effici': 378, 'devic': 379, 'cold': 380, 'keen': 381, 'optim': 382, 'imap': 383, 'rome': 384, 'religion': 385, 'control': 386, 'upstream': 387, 'pluripotenti': 388, 'constraint': 389, 'diabet': 390, 'fulli': 391, 'generalist': 392, 'find': 393, 'front': 394, 'unpack': 395, 'not-for': 396, 'remnant': 397, 'wonder': 398, 'theme': 399, 'titl': 400, 'proper': 401, 'infrastructur': 402, 'memoir': 403, 'databas': 404, 'convey': 405, 'nqualiti': 406, 'transmiss': 407, 'price': 408, 'tissu': 409, 'masterclass': 410, 'subsequ': 411, 'broad-bas': 412, '6th_enquiri': 413, 'battl': 414, 'mother': 415, 'nevalu': 416, 'equat': 417, 'fragment': 418, 'coordin': 419, 'bellum': 420, 'tropospher': 421, 'new': 422, 'biodivers': 423, 'interpret': 424, 'supervisor': 425, 'genesi': 426, 'operator-control': 427, 'ntrauma': 428, 'sentenc': 429, 'highest': 430, 'self-learn': 431, 'proport': 432, 'happen': 433, 'follow': 434, 'retransmit': 435, 'meteorolog': 436, 'face': 437, 'catalys': 438, 'need': 439, 'whilst': 440, 'simpl': 441, 'repercuss': 442, 'chemistri': 443, 'ats1267not_sperm': 444, 'addit_child': 445, 'formalis': 446, 'effect': 447, 'solut': 448, 'alfr_satisfact': 449, 'patient': 450, 'sound': 451, 'amen_connect': 452, 'valu': 453, \"state'\": 454, 'intern': 455, 'specialis': 456, 'reactiv': 457, 'dispar': 458, 'bad': 459, 'remot': 460, 'acid-bas_summar': 461, 'lead': 462, 'enforc': 463, 'earli': 464, 'concis': 465, 'tempor': 466, 'pathogenesi': 467, 'section': 468, 'theatr': 469, 'mental': 470, 'sociolog': 471, 'advertis_experiment': 472, 'pinyin': 473, 'biochemistri': 474, 'vehicl': 475, 'mass-market': 476, 'inertia': 477, 'geometri': 478, 'propag': 479, 'undergradu': 480, 'embassi': 481, 'financi': 482, 'abstract_discontinu': 483, 'french': 484, 'authorship': 485, 'plan': 486, 'sbu': 487, 'ngo': 488, 'violenc': 489, 'har': 490, \"student'\": 491, 'flight': 492, 'valuat': 493, 'cpd': 494, 'traumat': 495, 'compon': 496, 'india': 497, 'copolym': 498, 'rememb': 499, 'contin': 500, 'aasw_group-workshop': 501, 'draw': 502, 'dialogu': 503, 'viewpoint': 504, 'attent': 505, 'correctli': 506, 'practition': 507, 'circuit': 508, 'non-tradit': 509, 'tokyo': 510, 'nurs': 511, 'chronic': 512, 'adolesc_www': 513, 'exchang': 514, 'fieldwork': 515, 'nan': 516, 'vertebr': 517, 'signal': 518, 'telescop': 519, 'strut-and': 520, 'mindset': 521, 'australia': 522, 'output': 523, 'acquir_up-to': 524, 'crime': 525, 'faculti': 526, 'hope': 527, 'ruler': 528, 'dvd-rom': 529, 'advers_volum': 530, 'ndesign': 531, 'posit': 532, 'real': 533, 'maintain': 534, 'bibl': 535, 'christian': 536, 'tailor': 537, 'new-reno': 538, 'dataset': 539, 'long-term': 540, \"pearson'\": 541, 'popular': 542, 'award': 543, 'sole': 544, 'nonlinear': 545, 'capit': 546, 'radiograph': 547, 'found': 548, 'wider': 549, 'concurr': 550, 'suffer': 551, 'eye': 552, 'bps1032': 553, 'condit': 554, 'error': 555, 'prevent': 556, 'mathemat': 557, 'doubl': 558, 'predict': 559, 'growth': 560, 'key': 561, 'ac_publish': 562, 'oversight': 563, 'brand': 564, 'poussin': 565, 'root': 566, 'class': 567, 'unifi': 568, 'spain': 569, 'ever-mobil': 570, 'south-east': 571, 'semest': 572, 'defend': 573, 'hand': 574, 'short-list': 575, 'ill': 576, 'experienti': 577, 'pelvic': 578, 'wit': 579, \"one'\": 580, 'latin': 581, 'improv': 582, 'imagin': 583, 'layout': 584, 'trend': 585, 'symbol': 586, 'explor': 587, 'respond': 588, 'mandarin': 589, 'network': 590, 'plastic': 591, 'preliminari': 592, 'attitud': 593, 'inher': 594, 'colleagu': 595, 'malpractic': 596, 'consid': 597, 'fluid': 598, 'planetarium': 599, 'frontier': 600, 'longer': 601, 'modal': 602, 'vulner': 603, 'financ': 604, 'particip': 605, 'satellit': 606, 'take': 607, 'credenti': 608, 'pre-concept': 609, 'framework': 610, 'diffus': 611, 'intellig': 612, 'breed': 613, 'pitfal': 614, 'elementari': 615, 'therapeut': 616, 'grasp': 617, 'resuscit': 618, 'real-world': 619, '000-40_boundari': 620, 'founder': 621, 'disord': 622, 'portray': 623, 'acknowledg_commiss': 624, 'piec': 625, 'extinct': 626, 'wave': 627, 'biomolecular': 628, 'precis': 629, 'poster': 630, 'fiction': 631, 'deepli': 632, 'socio-linguist': 633, 'inter-government': 634, 'risk': 635, 'futur': 636, 'deform': 637, 'multi-degre': 638, 'transhistorical_case_studi': 639, 'nmanag': 640, 'prerequisit': 641, 'busi': 642, 'probabl': 643, 'project': 644, 'mitig': 645, 'issuer': 646, 'prioriti': 647, 'older': 648, 'synthesis': 649, 'zoo': 650, 'healthcar': 651, 'urban': 652, 'rehabilit': 653, 'defect': 654, 'emot': 655, 'mix': 656, 'art_assign': 657, 'emerg': 658, 'gratitud': 659, 'pandem': 660, 'struggl': 661, 'socio-profession': 662, 'italian': 663, 'politician': 664, 'deconstruct': 665, 'state-spac': 666, 'state-cent': 667, 'marginalis': 668, 'uniqu': 669, 'payment': 670, 'concept': 671, 'resourc': 672, 'it-rel': 673, 'kilometr': 674, 'deviat': 675, 'forens': 676, 'vector': 677, 'dividend': 678, 'complex': 679, 'east': 680, 'problem': 681, 'bibliograph': 682, 'conscious': 683, 'china': 684, 'aesthet_incom': 685, 'culmin': 686, 'troubleshoot': 687, 'ipv6': 688, 'assur_ethico-leg': 689, 'uncertainti': 690, 'theori': 691, 'paint': 692, 'classroom': 693, 'modifi': 694, 'refer': 695, 'hierarchi': 696, 'televis': 697, 'metabol': 698, 'stakehold': 699, 'defenc': 700, 'speci': 701, 'point': 702, 'recombin': 703, 'fetal': 704, 'fire-set': 705, 'promin': 706, 'receiv': 707, 'postgradu': 708, 'today': 709, 'sharehold': 710, 'benefic': 711, 'learn': 712, 'creativ': 713, 'exert': 714, 'coursework': 715, 'product': 716, 'bilingu': 717, 'opposit': 718, 'pericycl': 719, 'static': 720, 'norm': 721, 'last': 722, 'complement': 723, 'aetiolog_crimin': 724, 'notat': 725, 'tabular': 726, 'persuas': 727, 'observ': 728, 'organocatalyt': 729, 'workshop': 730, 'dynam': 731, 'nstudent': 732, 'respect': 733, 'immers': 734, 'taxonomi': 735, 'consent': 736, 'load': 737, 'post-partum': 738, 'depict': 739, 'excret': 740, 'ambiti_insan': 741, 'cad': 742, 'customari': 743, 'thermodynam': 744, 'immunosuppress': 745, 'order': 746, 'dual': 747, 'matlab': 748, 'cost': 749, 'evolut': 750, 'romantic': 751, 'african_engin': 752, 'corpora': 753, 'urinari': 754, 'implement': 755, 'nclinic': 756, 'javascript': 757, 'usual': 758, 'cd-rom': 759, 'disabl': 760, 'vaccin': 761, 'protein': 762, 'cure': 763, 'establish': 764, 'domest': 765, 'nucleic': 766, 'play': 767, 'benchmark': 768, 'matter': 769, 'work': 770, 'icm': 771, 'organis': 772, 'tax': 773, 'doppler': 774, 'anatom_answer': 775, 'definit': 776, 'empiric': 777, 'baroqu': 778, 'apprais_solv': 779, 'defens': 780, 'literaci': 781, 'spectrometri': 782, 'apg5401_budget': 783, 'biospher': 784, 'account_defin': 785, 'custom': 786, 'medium-term': 787, 'track': 788, 'enhanc': 789, 'regulatori': 790, 'iii': 791, 'pathogen': 792, 'capabl': 793, 'victoria': 794, 'interrog': 795, 'equip': 796, 'instal': 797, 'showcas': 798, 'later': 799, 'jazz': 800, 'card': 801, 'help': 802, 'prescrib': 803, 'chm4180': 804, 'loss': 805, 'altern_radiographi': 806, 'close': 807, 'acs3730_medium': 808, 'proce': 809, 'reportag': 810, 'global': 811, 'skeleton': 812, 'calcul': 813, 'mojo': 814, 'apologis_minimum': 815, '17th_live': 816, 'constructivist': 817, 'environment': 818, 'audio': 819, 'concern': 820, 'pharmaceut': 821, 'interplay': 822, 'explan': 823, 'each': 824, 'ncommonli': 825, 'film': 826, 'development': 827, 'orient': 828, 'grammar': 829, 'underli': 830, 'supernet': 831, 'document': 832, 'technolog': 833, 'agreement_nurtur': 834, 'bode': 835, 'domain': 836, 'safe': 837, 'discret': 838, 'aural': 839, 'illustr': 840, 'perspect': 841, 'sit': 842, 'research': 843, 'assess_discuss': 844, 'produc': 845, 'match': 846, 'business-rel': 847, 'expert': 848, 'pregnanc': 849, 'middl': 850, 'team': 851, 'attempt': 852, 'utilis': 853, 'line': 854, 'atmospher_non-period': 855, 'excess': 856, 'bottom': 857, 'opengl': 858, 'wealth': 859, 'obscen': 860, 'psychodynam': 861, 'graph': 862, 'enabl': 863, 'money': 864, 'spatial': 865, 'broader': 866, 'gener': 867, 'violat': 868, 'methodolog': 869, 'reform': 870, 'consumpt': 871, 'fit1033': 872, 'desir': 873, 'embodi': 874, 'pain': 875, 'zone': 876, 'engag': 877, 'form': 878, 'asept_sheet': 879, 'regular': 880, 'biolog': 881, 'riski': 882, 'assault_drawn': 883, '3rd_korean': 884, 'biomed': 885, 'built': 886, 'milieu': 887, 'knowledg': 888, 'photograph': 889, 'laplac': 890, 'oral': 891, 'occupational_health': 892, 'reject': 893, 'sampl': 894, 'issu': 895, 'achiev_view': 896, 'rigor': 897, 'varianc': 898, 'prototyp': 899, 'leisur': 900, 'client-serv': 901, 'ncomposit': 902, 'surfac': 903, 'compound': 904, 'paramet': 905, 'confidenti': 906, 'analyst_expos': 907, 'for': 908, 'harm': 909, 'success': 910, 'area_generalis': 911, 'eurozon': 912, 'nemerg': 913, 'consolid': 914, 'simul': 915, 'pet': 916, 'countermeasur': 917, 'clearli': 918, 'pattern': 919, \"union'\": 920, 'continu': 921, 'involv': 922, 'yield': 923, 'administr_consol': 924, 'categoris': 925, 'participatori': 926, 'unman': 927, 'constitut': 928, 'remain': 929, 'dento-leg': 930, 'argument_expertis': 931, 'neonat': 932, 'linear': 933, 'leukemia': 934, 'erotic': 935, 'antisoci_scholar': 936, 'hands-on': 937, 'extent': 938, 'equal': 939, 'partner': 940, 'council': 941, 'robust': 942, 'carri': 943, 'drill': 944, 'varieti': 945, 'unsettl': 946, 'work-lif': 947, 'acs1000_favourit': 948, 'scene': 949, 'prostat': 950, 'multilingu': 951, 'broaden': 952, 'instruct': 953, 'routin': 954, 'modern': 955, 'amphiphil_classic': 956, 'problemat': 957, 'regress': 958, 'ideal': 959, 'speaker': 960, 'intragroup': 961, 'evidence-bas': 962, 'part': 963, 'process': 964, 'studio': 965, 'comprehens': 966, 'behaviour': 967, 'pelvi': 968, 'aid_limb': 969, 'social': 970, 'ngenr': 971, 'introduct': 972, 'short': 973, 'apa_nevid': 974, 'analyt_mime': 975, 'potent': 976, 'augment': 977, 'fine': 978, 'foam': 979, \"240_eu'\": 980, 'hplc': 981, 'minimis': 982, 'aim_tool': 983, 'fundament': 984, 'essay': 985, 'near': 986, 'pollut': 987, 'chronolog': 988, 'brief': 989, 'citizen': 990, 'state': 991, 'continuum': 992, 'similar': 993, 'woman-centr': 994, 'indigen': 995, 'scriptur': 996, 'compulsori': 997, 'entrap': 998, 'globe': 999, 'paramed': 1000, 'suitabl': 1001, 'instrument': 1002, 'stellar': 1003, 'preserv': 1004, 'focu': 1005, 'multicultur': 1006, 'self-def': 1007, 'home': 1008, 'fastest': 1009, 'acid_facial': 1010, 'intracompani': 1011, 'jewish': 1012, 'fairfax': 1013, 'mid-stream': 1014, 'acmi_biotechnolog': 1015, 'moral': 1016, 'resist': 1017, 'agent_overlap': 1018, 'arbitrari_term': 1019, 'natur': 1020, 'block': 1021, 'nanofabr': 1022, 'statutori': 1023, 'canon': 1024, 'alloc_injustic': 1025, 'overview': 1026, 'genet': 1027, 'real-lif': 1028, 'paper': 1029, 'sustain': 1030, 'eastern': 1031, 'protocol': 1032, 'mid-term': 1033, 'multi-disciplinari': 1034, 'imperi': 1035, 'mine': 1036, 'clinic': 1037, 'pertin': 1038, 'automat': 1039, 'dispers': 1040, 'bite': 1041, 'activ_ats2296': 1042, 'school': 1043, 'argu_depth': 1044, 'ospf': 1045, 'timelin': 1046, 'readili': 1047, 'optimis': 1048, 'settler': 1049, 'realism': 1050, 'obes': 1051, 'reason': 1052, 'high-perform': 1053, 'punish': 1054, 'item': 1055, 'overarch': 1056, 'air_healthi': 1057, 'north': 1058, 'evalu': 1059, 'aircraft_picturesqu': 1060, 'mainstream': 1061, 'stanc': 1062, 'thesi': 1063, 'philosophi': 1064, 'interfac': 1065, 'affair_nmba': 1066, 'independ': 1067, 'oversea': 1068, 'world': 1069, 'commentari': 1070, 'coher': 1071, 'word': 1072, 'transact': 1073, 'keep': 1074, \"master'\": 1075, 'abus_includ': 1076, 'conceptu': 1077, 'controversi': 1078, 'immunopotenti': 1079, 'difficult': 1080, 'human': 1081, 'dispossess': 1082, 'subdisciplin': 1083, 'exclus': 1084, 'wide': 1085, 'memori': 1086, 'debt': 1087, 'access_portfolio': 1088, 'decision-mak': 1089, 'sceptic': 1090, 'mark': 1091, 'societi': 1092, 'aod-rel_they': 1093, 'high-risk': 1094, 'verbal': 1095, 'relationship': 1096, 'place': 1097, 'board': 1098, 'game': 1099, 'scientif': 1100, 'vein': 1101, 'citi': 1102, 'trigger': 1103, 'induct': 1104, 'substanc': 1105, 'complianc': 1106, 'life': 1107, 'end-of': 1108, 'phase': 1109, 'famili': 1110, 'web': 1111, 'member': 1112, 'chosen': 1113, 'ats2113_grown': 1114, 'year': 1115, 'critic': 1116, 'legaci': 1117, 'power': 1118, 'meta-cultur': 1119, 'motor': 1120, 'vibratori': 1121, 'interest': 1122, 'terminolog': 1123, \"provider'\": 1124, 'summer': 1125, 'stolen': 1126, 'monash': 1127, 'emphasis': 1128, 'placement': 1129, \"earth'\": 1130, 'candid': 1131, 'deeper': 1132, 'bridg': 1133, 'previou': 1134, 'dietet': 1135, 'temperatur': 1136, 'problem-solv': 1137, 'statu': 1138, 'cell': 1139, 'intserv': 1140, 'fertilis': 1141, 'nsocio-cultur': 1142, 'associ_collaps': 1143, 'convers': 1144, 'facebook': 1145, 'conjug': 1146, 'unicast': 1147, 'colon': 1148, 'further': 1149, 'tcp': 1150, 'pro': 1151, 'discrimin': 1152, 'disturb': 1153, 'confid': 1154, 'googl': 1155, 'eae4000': 1156, 'inter-lingu': 1157, 'geograph': 1158, 'foreign': 1159, 'outlin': 1160, 'hundr': 1161, 'broken': 1162, 'scientist': 1163, 'hillerborg': 1164, 'special': 1165, 'rang': 1166, 'method': 1167, 'disput': 1168, 'midwif': 1169, 'green': 1170, 'northern': 1171, 'english': 1172, 'judgement': 1173, 'profession': 1174, 'anmc_gastrointestin': 1175, 'capitalist': 1176, 'date': 1177, 'intervent': 1178, 'homicid': 1179, 'feminist': 1180, 'tension': 1181, 'surround': 1182, 'extend': 1183, 'phil': 1184, 'succinct': 1185, 'thing': 1186, 'veteran': 1187, 'major': 1188, 'constant': 1189, 'appear_artefact': 1190, 'dental': 1191, 'read': 1192, 'occas': 1193, 'articul_concret': 1194, 'actor_imm2011': 1195, 'impact': 1196, 'squar': 1197, 'grand': 1198, 'strategi': 1199, 'succinctli': 1200, 'two-week': 1201, 'copi': 1202, 'marxist': 1203, 'core': 1204, 'procedur': 1205, 'wisdom': 1206, 'acuiti_glass': 1207, 'regener': 1208, 'co-produc': 1209, 'in-situ': 1210, 'greater': 1211, 'text': 1212, 'spoken': 1213, 'captiv': 1214, 'chines': 1215, 'array_fea': 1216, 'youth': 1217, 'photogrammetr': 1218, 'syntax': 1219, 'career-readi': 1220, 'event': 1221, 'analys_region': 1222, 'acs2740_techniqu': 1223, 'peac': 1224, 'diari': 1225, 'fit3169': 1226, 'nineteenth': 1227, 'auxiliari': 1228, 'everyday': 1229, 'hallyu': 1230, 'writer': 1231, 'readi': 1232, 'civilian': 1233, 'scale': 1234, 'second-ord': 1235, 'symptom': 1236, 'artifici_ration': 1237, 'blast': 1238, 'evil': 1239, 'histor': 1240, 'mabo': 1241, 'appreci_aspir': 1242, 'impress': 1243, 'vascular': 1244, 'mind': 1245, 'biogeochem': 1246, 'reach': 1247, 'represent': 1248, 'modif': 1249, 'inter-disciplinari': 1250, 'publicli': 1251, 'craft': 1252, 'archaeolog_determin': 1253, 'medicin': 1254, 'short-term': 1255, 'expect': 1256, 'schedul': 1257, 'charter': 1258, 'beam': 1259, 'privaci': 1260, 'hard': 1261, 'extern': 1262, 'invest': 1263, 'commun': 1264, 'alert_ecolog': 1265, 'sovereignti': 1266, 'communist': 1267, '500_shortcom': 1268, 'rococo': 1269, 'folio': 1270, 'bronz': 1271, 'internationalis': 1272, 'microbiolog': 1273, 'galilei': 1274, 'newborn': 1275, 'test': 1276, 'linkag': 1277, 'comput': 1278, 'australian': 1279, 'action_partnership': 1280, 'orthodox': 1281, 'care': 1282, 'landform': 1283, 'descript': 1284, 'seek': 1285, 'philosoph': 1286, 'legal': 1287, \"worker'\": 1288, 'in-class': 1289, 'recollect': 1290, 'leav': 1291, 'review': 1292, 'debat': 1293, 'danger': 1294, 'recogn': 1295, 'edit': 1296, 'revenu': 1297, 'pharmacokinet': 1298, 'coloni': 1299, 'graduat': 1300, 'marketplac': 1301, 'econom': 1302, 'authent': 1303, 'recognit': 1304, 'object': 1305, 'excurs': 1306, 'reduc': 1307, 'recognis': 1308, 'incorpor': 1309, 'eighteenth-centuri': 1310, 'inquiri': 1311, 'divers': 1312, 'move': 1313, 'space': 1314, 'south': 1315, 'hole': 1316, 'broad': 1317, 'ownership': 1318, 'food': 1319, 'legisl': 1320, 'plane': 1321, 'etiquett': 1322, 'genitourinari': 1323, 'radic': 1324, 'reinforc': 1325, 'japan-rel': 1326, 'environ': 1327, 'breakdown': 1328, 'radiat': 1329, 'format': 1330, 'lifestyl': 1331, 'conceptualis': 1332, 'reno': 1333, 'multiplex': 1334, 'macro': 1335, 'cash': 1336, 'specialist': 1337, 'emphasi': 1338, 'system': 1339, 'nation': 1340, 'synthes': 1341, 'speech': 1342, 'path': 1343, 'aerial_otheris': 1344, 'convent': 1345, 'nucleosynthesi': 1346, 'kanji': 1347, 'parenter': 1348, \"school'\": 1349, 'platform': 1350, 'adapt_act': 1351, 'in-depth': 1352, 'storytel': 1353, 'so-cal': 1354, 'consist': 1355, 'trauma': 1356, 'immunolog': 1357, 'creation': 1358, 'borrow': 1359, 'sclerosi': 1360, 'bargain': 1361, 'vari': 1362, 'formal': 1363, 'role': 1364, 'nof': 1365, 'bia': 1366, 'star': 1367, 'uphold': 1368, 'polici': 1369, 'divin': 1370, 'segment': 1371, 'criminolog': 1372, 'element': 1373, 'encourag': 1374, 'analysi_style': 1375, 'propos': 1376, 'have': 1377, 'drug-target': 1378, 'individually-bas': 1379, 'compet': 1380, 'abl_secondary-sourc': 1381, 'secur': 1382, 'degre': 1383, 'conclus': 1384, 'genom': 1385, 'apocalypt_scenario': 1386, 'persist': 1387, \"family'\": 1388, 'childhood': 1389, 'primarili': 1390, 'anthropolog_grief': 1391, 'local': 1392, 'titrat': 1393, 'rais': 1394, 'diverg': 1395, 'policy-relev': 1396, 'state-centr': 1397, 'bio1011': 1398, 'code': 1399, 'complain': 1400, 'life-long': 1401, 'photographi': 1402, 'set': 1403, 'biblic': 1404, 'staff': 1405, 'super-powerdom': 1406, 'addict_hepatobiliari': 1407, 'mesh': 1408, 'excit': 1409, 'non-linear': 1410, 'perpetr': 1411, 'score': 1412, 'abnorm_molecular': 1413, 'cat': 1414, 'disempower': 1415, 'enrol': 1416, 'voic': 1417, 'free': 1418, 'value-chang': 1419, 'distant': 1420, 'number': 1421, 'pedagogi': 1422, 'spiritu': 1423, 'sketch': 1424, 'assist_regist': 1425, 'hebrew': 1426, 'sonograph': 1427, 'mill': 1428, 'phenomena': 1429, 'accuraci_case': 1430, 'operation': 1431, 'treat': 1432, 'cover': 1433, 'wholli': 1434, 'repatri': 1435, 'employ': 1436, 'render': 1437, 'screen': 1438, 'reliabl': 1439, 'increasingli': 1440, 'prefer': 1441, 'cancer': 1442, 'undertak': 1443, 'extract': 1444, 'challeng': 1445, 'profil': 1446, 'break': 1447, 'forecast': 1448, 'current': 1449, 'revel': 1450, 'neuropsycholog': 1451, 'psychologist': 1452, 'plaster': 1453, 'transfer': 1454, 'israel': 1455, 'depend': 1456, 'grow': 1457, 'plant': 1458, 'topic': 1459, 'plot': 1460, 'bgp4': 1461, 'composit': 1462, 'proposit': 1463, 'earn': 1464, 'immun': 1465, 'preconcept': 1466, 'explos': 1467, 'option': 1468, 'maladapt': 1469, 'breakfast': 1470, 'corpor': 1471, 'wall': 1472, 'provid': 1473, 'exploratori': 1474, 'musculoskelet': 1475, 'charact': 1476, 'citizenship': 1477, 'anzac_succeed': 1478, 'potenti': 1479, 'link': 1480, 'icf': 1481, 'absorpt_step': 1482, 'histori': 1483, 'occup': 1484, 'termin': 1485, 'conclud': 1486, 'contribut': 1487, 'background': 1488, 'biomolecul': 1489, 'contrast': 1490, 'anim_nanocryst': 1491, 'practic': 1492, 'tank': 1493, 'purpos': 1494, 'gi': 1495, 'eighteenth': 1496, 'programm': 1497, 'gxp': 1498, 'interferomet': 1499, 'engrain': 1500, 'poll': 1501, 'mediev': 1502, 'anatomi_inter-play': 1503, 'evolv': 1504, 'standard': 1505, 'episod': 1506, 'underpin': 1507, 'cloud': 1508, 'ingredi': 1509, 'self-evalu': 1510, 'meaning': 1511, 'self-direct': 1512, 'industry-bas': 1513, 'neurodevelopment': 1514, 'neo-marxist': 1515, 'magneto-hydrodynam': 1516, 'japanes': 1517, 'structur': 1518, 'stress': 1519, 'postcoloni': 1520, 'normal': 1521, 'psycho-dynam': 1522, 'humanitarian': 1523, 'discipline-rel': 1524, 'kidney': 1525, 'reproduct': 1526, 'higher': 1527, 'systemat': 1528, 'justic': 1529, 'obtain': 1530, 'mass-bas': 1531, 'master': 1532, 'refut': 1533, 'campaign': 1534, 'abdomin_ground': 1535, 'slaveri': 1536, 'ju': 1537, 'commerci': 1538, 'internet': 1539, 'jurisdict': 1540, 'syndic': 1541, 'combin': 1542, 'entrain': 1543, 'propheci': 1544, 'ident': 1545, 'metal': 1546, 'descend': 1547, 'par1011': 1548, 'ats2866': 1549, 'exist': 1550, 'fluenci': 1551, 'laboratory-bas': 1552, 'basi': 1553, 'person': 1554, 'western': 1555, 'observatori': 1556, \"designer'\": 1557, 'microorgan': 1558, 'endnot': 1559, 'compar': 1560, 'trace': 1561, 'digest': 1562, 'biota': 1563, 'itali': 1564, 'sublim': 1565, 'differenti': 1566, 'molecul': 1567, 'testimoni': 1568, 'indonesian': 1569, 'embryolog': 1570, 'field': 1571, 'construct': 1572, 'ago_race': 1573, 'servic': 1574, 'call': 1575, '900_pop3': 1576, 'make': 1577, 'end-us': 1578, 'landmass': 1579, 'therapi': 1580, 'wick': 1581, 'museum': 1582, 'parent': 1583, 'dietari': 1584, 'realiti': 1585, 'cutting-edg': 1586, 'neutron': 1587, 'vital': 1588, 'appf_timescal': 1589, 'outcom': 1590, 'explicit': 1591, 'impair': 1592, 'subsidiari': 1593, 'softwar': 1594, 'reproduc': 1595, 'transmit': 1596, 'time': 1597, 'clinician': 1598, 'fulfil': 1599, 'hegemon': 1600, 'injur': 1601, 'equival': 1602, 'commenc': 1603, 'chromatographi': 1604, 'galact': 1605, 'informat': 1606, 'countri': 1607, 'reconcili': 1608, 'silo': 1609, 'imag': 1610, 'effort': 1611, 'medico-leg': 1612, 'sociocultur': 1613, 'supervis': 1614, 'multi-part': 1615, 'hypoxia': 1616, 'cinema': 1617, 'artwork_explain': 1618, 'vocabulari': 1619, 'preced': 1620, 'childbirth': 1621, 'intestin': 1622, 'address_implic': 1623, 'organisataion': 1624, 'consequ': 1625, 'socio-cultur': 1626, 'damag': 1627, 'limit': 1628, 'renew': 1629, 'gross': 1630, 'evolutionari': 1631, 'paradigm': 1632, 'laboratori': 1633, 'servicemen': 1634, 'twentieth': 1635, 'lorrain': 1636, 'goodwil': 1637, 'indic': 1638, 'first-ord': 1639, 'discurs': 1640, 'scienc': 1641, 'itun': 1642, 'diagram': 1643, 'capacit': 1644, 'file': 1645, 'ethic': 1646, 'deepen': 1647, 'differ': 1648, 'credit': 1649, 'workforc': 1650, 'well-b': 1651, 'low': 1652, 'bodi': 1653, 'owner': 1654, 'investig': 1655, 'satisfactori': 1656, 'semin': 1657, 'oh': 1658, 'map': 1659, '2006_support': 1660, 'subsystem': 1661, 'uav': 1662, 'permiss': 1663, 'entertain': 1664, 'annual_cave': 1665, 'consider': 1666, 'pluripot': 1667, 'fashion': 1668, 'host': 1669, '1993_retrofit': 1670, 'admiss_nanotechnolog': 1671, 'intermedi': 1672, 'unfold': 1673, 'final-year': 1674, 'mass': 1675, 'directli': 1676, 'foundat': 1677, \"africa'_progress\": 1678, 'centr': 1679, 'sequenc': 1680, 'fair': 1681, 'forward': 1682, 'distribut': 1683, 'nmr': 1684, 'neighbour': 1685, 'well-structur': 1686, 'arriv_synthet': 1687, 'pathway': 1688, 'principles-bas': 1689, 'refin': 1690, 'injuri': 1691, 'correct': 1692, 'tell': 1693, 'pathophysiolog': 1694, 'kinemat': 1695, 'nrisk': 1696, 'modul': 1697, 'leukaemia': 1698, \"individual'\": 1699, 'trade': 1700, 'pole': 1701, 'market': 1702, 'pose': 1703, 'presidenti': 1704, 'iso': 1705, 'semi-form': 1706, 'infect': 1707, 'spectacl': 1708, 'requir': 1709, 'exercis': 1710, 'steric': 1711, 'america_ingr': 1712, 'neglig': 1713, 'request': 1714, 'nativ': 1715, 'afs2740_insemin': 1716, 'mediat': 1717, 'client': 1718, 'strong': 1719, 'prepar': 1720, 'list': 1721, 'curv': 1722, 'popul': 1723, 'socio-histor': 1724, 'opinion': 1725, 'england': 1726, 'legend': 1727, 'familiar': 1728, 'gather': 1729, 'question': 1730, 'aris_supramolecular': 1731, 'notion': 1732, 'daili': 1733, 'children': 1734, 'joint': 1735, 'non-indigen': 1736, 'thyroid': 1737, 'treatment': 1738, 'cohort': 1739, 'truss': 1740, 'statist': 1741, 'island': 1742, 'sponsorship': 1743, 'nadvers': 1744, 'capston': 1745, 'way': 1746, 'alter_lifetim': 1747, 'latest': 1748, 'ethnobiolog': 1749, 'final': 1750, 'aqueou_motion': 1751, 'sourc': 1752, 'return': 1753, 'drug': 1754, 'thought': 1755, 'eat': 1756, 'appl_nutriti': 1757, 'facil': 1758, 'interdepend': 1759, 'embryon': 1760, 'enslav': 1761, 'thrombosi': 1762, 'fractur': 1763, 'domin': 1764, 'three-dimension': 1765, 'numer': 1766, 'literari': 1767, 'msc': 1768, 'prognosi': 1769, 'illeg': 1770, 'clearer': 1771, 'insight': 1772, 'patern': 1773, 'distinct': 1774, 'endang': 1775, 'campu': 1776, 'dilemma': 1777, 'birth': 1778, 'build': 1779, 'cellular': 1780, 'audienc': 1781, 'instanc': 1782, 'bioactiv': 1783, 'elicit': 1784, 'written': 1785, 'astronom_focuss': 1786, 'nomin': 1787, 'held': 1788, 'linnaean': 1789, 'devis': 1790, 'commonli': 1791, 'tuscan': 1792, 'accommod_certif': 1793, 'ntheme': 1794, 'women-centr': 1795, 'onlin': 1796, 'entiti': 1797, 'plasma': 1798, 'evad': 1799, 'visuospati': 1800, 'wholly-own': 1801, 'atherosclerosi_second': 1802, 'nation-st': 1803, 'ivf': 1804, 'fandom': 1805, 'refus': 1806, 'pertain': 1807, 'goal': 1808, 'and_python': 1809, 'provis': 1810, 'criticis': 1811, 'workplac': 1812, 'non-stat': 1813, 'vision': 1814, 'pancrea': 1815, 'adjust_contemporari': 1816, 'scholarship': 1817, 'discoveri': 1818, 'main': 1819, 'abdomen_ancient': 1820, 'caus': 1821, 'survey': 1822, 'virtual': 1823, 'transduc': 1824, 'advanc_teamwork': 1825, 'job': 1826, 'non-western': 1827, 'educ': 1828, 'subnet': 1829, 'util': 1830, 'metal-medi': 1831, 'leadership': 1832, 'contract': 1833, 'unknown': 1834, 'top': 1835, 'matern': 1836, 'well-argu': 1837, 'journal': 1838, 'creat': 1839, 'ensur': 1840, 'advoc_physic': 1841, 'firewal': 1842, 'the': 1843, \"organisation'\": 1844, 'mytholog': 1845, 'endeavour': 1846, 'computer-aid': 1847, 'rel': 1848, 'encod': 1849, 'induc': 1850, 'balanc': 1851, 'intranet': 1852, 'psychiatrist': 1853, 'exhibit': 1854, 'self-regulatori': 1855, 'exam': 1856, 'evid': 1857, 'historiographi': 1858, 'non-financi': 1859, 'fluentli': 1860, 'paid': 1861, 'ict': 1862, 'decemb': 1863, 'quantit': 1864, 'begin': 1865, 'firm': 1866, '2nd_world-class': 1867, 'content': 1868, 'administ_hip': 1869, 'exeget': 1870, 'virgil': 1871, 'terrorist': 1872, 'sensit': 1873, 'rest': 1874, 'pool': 1875, 'allergi_london': 1876, 'custodi': 1877, 'column': 1878, 'commercialis': 1879, '2-hour_galileo': 1880, 'attend': 1881, 'transplant': 1882, 'compil': 1883, 'arrow-push_asian': 1884, 'ice': 1885, 'dissemin': 1886, 'pest': 1887, 'shader': 1888, 'pneumat': 1889, 'loac': 1890, 'ultrasound': 1891, 'awar': 1892, 'approx_studi': 1893, 'mean': 1894, 'alleg_recent': 1895, 'post-fascist': 1896, 'profess': 1897, '2019_manuscript': 1898, 'approxim_use': 1899, 'labour': 1900, 'women': 1901, 'inform': 1902, 'metric': 1903, 'opportun': 1904, 'strain': 1905, 'computer-bas': 1906, 'suppli': 1907, 'intercultur': 1908, 'intens': 1909, 'immunodefici': 1910, 'bureau': 1911, 'algebra_osc': 1912, 'primari': 1913, 'rtp': 1914, 'translat': 1915, 'rigid': 1916, 'design': 1917, 'republican': 1918, 'task': 1919, 'valid': 1920, 'black': 1921, 'hormon': 1922, 'display': 1923, 'contempt': 1924, 'collect': 1925, 'law': 1926, 'hazard': 1927, 'legitim': 1928, 'run': 1929, 'empir': 1930, 'knee': 1931, 'hegemoni': 1932, \"today'\": 1933, 'strateg': 1934, 'teach': 1935, 'earlier': 1936, 'europ': 1937, 'non-fict': 1938, 'think': 1939, 'cross-cultur': 1940, 'chromatograph': 1941, 'advocaci_monitor': 1942, 'initi': 1943, 'peninsula': 1944, 'singl': 1945, 'photo': 1946, 'coeffici': 1947, 'give': 1948, 'insid': 1949, 'distinguish': 1950, 'archaeologist_pop': 1951, 'experi': 1952, 'reson': 1953, 'neurodevelop': 1954, 'execut': 1955, 'non-government': 1956, 'disclosur': 1957, 'mode': 1958, 'wan': 1959, 'interperson': 1960, 'week': 1961, 'astrophys_tobacco': 1962, 'juri': 1963, 'devot': 1964, 'smart': 1965, 'romanis': 1966, 'common': 1967, 'author': 1968, 'mechan': 1969, 'persever': 1970, 'reput': 1971, 'lender': 1972, 'debilit': 1973, 'theorist': 1974, 'career': 1975, 'idea': 1976, 'purchas': 1977, 'good': 1978, 'acs3740_weak': 1979, 'guest': 1980, 'agenc_democrat': 1981, 'psychiatr': 1982, 'rational': 1983, 'sexual': 1984, 'lc-m': 1985, 'franc': 1986, 'genr': 1987, 'worker': 1988, 'reflect': 1989, 'wide-rang': 1990, 'psychoanalyt': 1991, 'appli_speak': 1992, 'interior': 1993, 'regim': 1994, 'inter-st': 1995, 'greek': 1996, 'mine-to': 1997, 'peptid': 1998, 'soft': 1999, 'develop': 2000, 'threat': 2001, 'secondari': 2002, 'canonis': 2003, 'ethnograph': 2004, 'union': 2005, 'men': 2006, 'user': 2007, 'stimuli': 2008, 'bio-mechan': 2009, 'lifespan': 2010, 'ifr': 2011, 'teacher': 2012, 'encount': 2013, 'storag': 2014, 'excerpt': 2015, 'incept': 2016, 'separ': 2017, 'bioprocess': 2018, 'viabl': 2019, 'past': 2020, 'music': 2021, 'cross-sect': 2022, 'entri': 2023, 'lab': 2024, 'breach': 2025, 'visualis': 2026, \"australia'\": 2027, 'stress-diathesi': 2028, 'merit': 2029, 'exoplanet': 2030, 'medic': 2031, 'advic_long': 2032, 'amount_cardboard': 2033, '20th_perform': 2034, 'graphic': 2035, 'modular': 2036, 'highli': 2037, 'fluiditi': 2038, 'usag': 2039, 'innov': 2040, 'finit': 2041, 'intersect': 2042, 'partli': 2043, 'multimod': 2044, 'ultim': 2045, 'commonly-us': 2046, 'understand': 2047, 'biosafeti': 2048, 'geo-loc': 2049, 'premis': 2050, 'disciplin': 2051, 'unwarr': 2052, 'converg': 2053, 'procur': 2054, 'layer': 2055, 'open': 2056, 'sensor': 2057, 'stalk': 2058, 'academ_lie': 2059, 'electron': 2060, 'hop': 2061, 'end': 2062, 'health': 2063, 'asia-pacif_ohsm': 2064, 'influx': 2065, 'sketch-up': 2066, 'realis': 2067, 'vernacular': 2068, 'formul': 2069, 'exegesi': 2070, 'broadli': 2071, 'spectral': 2072, 'advect_post-traumatic_stress_disord': 2073, 'multidisciplinari': 2074, 'demograph': 2075, 'repertoir': 2076, 'pragmat': 2077, 'work-famili': 2078, 'imbal': 2079, 'ongo': 2080, 'dealt': 2081, 'wikipedia': 2082, 'channel': 2083, 'attribut': 2084, 'dosag': 2085, 'bioreactor': 2086, 'imaginari': 2087, 'slab': 2088, 'decolon': 2089, 'geolog': 2090, 'triag': 2091, 'multicast': 2092, 'motiv': 2093, 'infertil': 2094, 'adequ_select': 2095, 'consum': 2096, 'sophist': 2097, 'search': 2098, 'interim': 2099, 'rate': 2100, 'bachelor': 2101, 'veget': 2102, 'shift': 2103, 'present': 2104, 'introductori': 2105, 'sing': 2106, 'autonomi': 2107, 'visual': 2108, 'nervou': 2109, 'competit': 2110, 'foster': 2111, 'operationalis': 2112, 'russia': 2113, 'handl': 2114, 'factual': 2115, 'arm_prompt': 2116, 'woman': 2117, 'comparison': 2118, 'concentr': 2119, 'shoulder': 2120, 'fast': 2121, 'indonesia': 2122, 'intertwin': 2123, 'situat': 2124, 'due': 2125, 'nutrit': 2126, 'solubl': 2127, 'apparatu_gender-bas': 2128, 'elabor': 2129, 'activist_multipl': 2130, 'statement': 2131, 'gender': 2132, 'equilibria': 2133, 'polic': 2134, 'localis': 2135, 'yet': 2136, 'embed': 2137, 'large-scal': 2138, 'energi': 2139, 'site': 2140, 'negoti': 2141, 'civil': 2142, 'contextu': 2143, 'mobil': 2144, 'symbiot': 2145, 'rich': 2146, 'skelet': 2147, 'age_conform': 2148, 'skill': 2149, 'conflict': 2150, 'compani': 2151, 'mospf': 2152, 'depart': 2153, 'presenc': 2154, 'particl': 2155, 'consult': 2156, 'theoret': 2157, 'result': 2158, 'enzym': 2159, 'israelit': 2160, 'light': 2161, 'total': 2162, 'turn': 2163, 'counsel': 2164, 'ensembl': 2165, 'flow': 2166, 'fertil': 2167, 'thi': 2168, 'protect': 2169, 'rsvp': 2170, 'multin': 2171, 'hypothesi': 2172, 'odontolog': 2173, 'personnel': 2174, 'ambul_setup': 2175, 'manifest': 2176, 'vibrat': 2177, 'tradit': 2178, 'crucial': 2179, 'war': 2180, 'avail': 2181, 'reader': 2182, 'librari': 2183, 'assumpt_drone': 2184, 'psychophys': 2185, 'factor': 2186, 'clear': 2187, 'post-tens': 2188, 'react': 2189, 'encompass': 2190, 'aspect_moder': 2191, 'who': 2192, 'dvmrp': 2193, 'terror': 2194, 'shape': 2195, 'dietitian': 2196, 'deep': 2197, 'project-bas': 2198, 'nbenchmark': 2199, 'serv': 2200, 'report': 2201, 'transnat': 2202, 'breakag': 2203, 'examin': 2204, 'characteris': 2205, 'bureaucrat': 2206, 'architectur_tutori': 2207, 'beneficiari': 2208, 'feedback': 2209, 'identif': 2210, 'adult_aromat': 2211, \"member'\": 2212, 'referr': 2213, 'gap': 2214, 'chang': 2215, 'enrich': 2216, 'enter': 2217, 'scriptwrit': 2218, 'preschool': 2219, 'student-gener': 2220, 'group': 2221, 'specimen': 2222, 'phenomenon': 2223, 'acquisit_polit': 2224, 'spectroscopi': 2225, 'high-level': 2226, 'analyz_highlight': 2227, 'earth': 2228, 'univers': 2229, 'lymphoma': 2230, 'tissue-specif': 2231, 'affect_bio1022': 2232, 'ska': 2233, 'cycl': 2234, 'maritim': 2235, 'relev': 2236, 'democratis': 2237, 'hour': 2238, 'european': 2239, 'correl': 2240, 'suggest': 2241, 'death': 2242, \"child'\": 2243, 'lower': 2244, 'train': 2245, 'larg': 2246, 'share': 2247, 'epidemiolog': 2248, 'anchorag_pharmaci': 2249, 'semester-long': 2250, 'historiograph': 2251, 'danc': 2252, 'conting': 2253, 'target': 2254, 'vitro': 2255, 'sea': 2256, 'pan-disciplinari': 2257, 'court': 2258, 'right': 2259, 'intent': 2260, 'exploit': 2261, 'bff2140': 2262, 'monin-obukhov': 2263, 'cult': 2264, 'central': 2265, 'assum_rivalri': 2266, 'diagnosi': 2267, 'spread': 2268, 'time-domain': 2269, 'qualit': 2270, 'bioavail': 2271, 'subsect': 2272, 'individu': 2273, 'genocid': 2274, 'brussel': 2275, 'enterpris': 2276, 'profici': 2277, 'landscap': 2278, 'arrang_situ': 2279, 'belief': 2280, 'promot': 2281, '18th_consciou': 2282, 'laser': 2283, 'virtuoso': 2284, 'bone': 2285, 'climat': 2286, 'scan': 2287, 'ats3296': 2288, 'psychosoci': 2289, 'multimedia': 2290, 'start': 2291, 'talent': 2292, 'adher_redempt': 2293, 'soil': 2294, '000_kinet': 2295, 'applic_illumin': 2296, 'qualiti': 2297, 'level': 2298, 'linguist': 2299, 'theorem': 2300, 'prato': 2301, 'sagitt': 2302, 'assimil_capac': 2303, 'type': 2304, 'ligo': 2305, 'farm': 2306, 'resurg': 2307, 'novel': 2308, 'ecosystem': 2309, 'experienc': 2310, 'at-acquisit_alcohol': 2311, 'import': 2312, 'coverag': 2313, 'ethnoecolog': 2314, 'intra-cytoplasm': 2315, 'allevi_seminar': 2316, 'old': 2317, 'confirm': 2318, 'confront': 2319, 'blow': 2320, 'reshap': 2321, 'critiqu': 2322, 'entrepreneuri': 2323, 'oper': 2324, 'stimul': 2325, 'blueprint': 2326, 'model': 2327, 'repres': 2328, 'ceremoni': 2329, 'variant': 2330, 'solid': 2331, 'characterist': 2332, 'usabl': 2333, 'session': 2334, 'sculptur': 2335, 'self-manag': 2336, 'non-intern': 2337, 'scheme': 2338, 'suffici': 2339, 'dowstream': 2340, 'contra-ind': 2341, 'orchestr': 2342, 'competitor': 2343, 'properti': 2344, 'inclus': 2345, 'grant': 2346, 'nuclear': 2347, 'standardis': 2348, 'gravitational-wav': 2349, 'buffer': 2350, 'reaction': 2351, 'stabil': 2352, 'steel': 2353, 'featur': 2354, 'geneva': 2355, 'apartheid_hypothes': 2356, 'technic': 2357, 'essenti': 2358, 'peer': 2359, 'peer-review': 2360, 'estim': 2361, 'chemic': 2362, 'inflamm': 2363, 'combat': 2364, 'gut': 2365, 'there': 2366, 'diagnost': 2367, 'recommend': 2368, 'occur': 2369, 'supermass': 2370, 'naccredit': 2371, 'myth': 2372, 'statut': 2373, 'add_obstetr': 2374, 'deal': 2375, '21st_team-work': 2376, 'narr': 2377, 'discours': 2378, 'data': 2379, 'nin': 2380, 'entrant': 2381, 'stiff': 2382, 'detail': 2383, 'expand': 2384, 'rout': 2385, 'tune': 2386, 'buyer': 2387, 'geographi': 2388, 'paramedicin': 2389, 'discipline-specif': 2390, 'cognitive-behaviour': 2391, 'liber': 2392, 'mainten': 2393, 'cooper': 2394, 'democraci': 2395, 'hypothet': 2396, \"monash'\": 2397, 'liter': 2398, 'comment': 2399, 'vienna': 2400, 'terrestri': 2401, 'upgrad': 2402, 'stem': 2403, 'testament': 2404, 'cicero': 2405, 'tendenc': 2406, 'glean': 2407, 'nsatisfact': 2408, 'breast': 2409, 'ramif': 2410, 'curricula': 2411, 'manner': 2412, 'face-to': 2413, '250_check': 2414, 'accur_institut': 2415, 'back': 2416, 'influenc': 2417, 'imageri': 2418, 'allow_measur': 2419, 'lan': 2420, 'globalis': 2421, 'interconnect': 2422, 'autonom': 2423, 'photogrammetri': 2424, 'prior': 2425, 'mould': 2426, 'fraud': 2427, 'contributor': 2428, 'finish': 2429, 'rule': 2430, 'organ': 2431, 'resolut': 2432, 'input': 2433, 'led': 2434}\n"
     ]
    }
   ],
   "source": [
    "# Creating a dictionary for unique id\n",
    "\n",
    "token_id_dict = {}\n",
    "count = 0\n",
    "for each in tokens_set:\n",
    "    count += 1\n",
    "    token_id_dict[each] = count\n",
    "\n",
    "print(token_id_dict)"
   ]
  },
  {
   "cell_type": "markdown",
   "metadata": {},
   "source": [
    "Iterating through the dictionary in the column Token frequency, using the key of the dictionary to find the value in the previously created global dictionary to get its token id and inserting it to a separate dictionary which is added to a separate column in the dataframe - IdFrequency. See the data in head display to understand better."
   ]
  },
  {
   "cell_type": "code",
   "execution_count": 40,
   "metadata": {},
   "outputs": [],
   "source": [
    "def mapping_frequency(s):\n",
    "    tokenid_freq_dict = {}\n",
    "    for k, v in s.items():\n",
    "        if k in token_id_dict:\n",
    "            token_id = token_id_dict[k]\n",
    "            tokenid_freq_dict[token_id] = v\n",
    "    return tokenid_freq_dict    "
   ]
  },
  {
   "cell_type": "code",
   "execution_count": 41,
   "metadata": {},
   "outputs": [
    {
     "data": {
      "text/html": [
       "<div>\n",
       "<style scoped>\n",
       "    .dataframe tbody tr th:only-of-type {\n",
       "        vertical-align: middle;\n",
       "    }\n",
       "\n",
       "    .dataframe tbody tr th {\n",
       "        vertical-align: top;\n",
       "    }\n",
       "\n",
       "    .dataframe thead th {\n",
       "        text-align: right;\n",
       "    }\n",
       "</style>\n",
       "<table border=\"1\" class=\"dataframe\">\n",
       "  <thead>\n",
       "    <tr style=\"text-align: right;\">\n",
       "      <th></th>\n",
       "      <th>Title</th>\n",
       "      <th>Information</th>\n",
       "      <th>TokenFrequency</th>\n",
       "      <th>IdFrequency</th>\n",
       "    </tr>\n",
       "  </thead>\n",
       "  <tbody>\n",
       "    <tr>\n",
       "      <th>0</th>\n",
       "      <td>ATS3956</td>\n",
       "      <td>[unit, focus, histori, theori, applic, concept...</td>\n",
       "      <td>{'unit': 1, 'focus': 1, 'histori': 3, 'theori'...</td>\n",
       "      <td>{297: 1, 48: 1, 1483: 3, 691: 1, 671: 3, 1356:...</td>\n",
       "    </tr>\n",
       "    <tr>\n",
       "      <th>1</th>\n",
       "      <td>ATS3116</td>\n",
       "      <td>[unit, develop, indonesian, linguist, cultur, ...</td>\n",
       "      <td>{'unit': 2, 'develop': 1, 'indonesian': 9, 'li...</td>\n",
       "      <td>{297: 2, 2000: 1, 1569: 9, 2299: 1, 231: 4, 22...</td>\n",
       "    </tr>\n",
       "    <tr>\n",
       "      <th>2</th>\n",
       "      <td>APG5337</td>\n",
       "      <td>[unit, explor, modern, polit, govern, mode, au...</td>\n",
       "      <td>{'unit': 4, 'explor': 3, 'modern': 1, 'polit':...</td>\n",
       "      <td>{297: 4, 587: 3, 955: 1, 237: 2, 1958: 3, 1968...</td>\n",
       "    </tr>\n",
       "    <tr>\n",
       "      <th>3</th>\n",
       "      <td>ATS1229</td>\n",
       "      <td>[unit, aim, provid, basic, foundat, basic, lan...</td>\n",
       "      <td>{'unit': 1, 'aim': 1, 'provid': 1, 'basic': 4,...</td>\n",
       "      <td>{297: 1, 1473: 1, 32: 4, 1677: 1, 88: 3, 2149:...</td>\n",
       "    </tr>\n",
       "    <tr>\n",
       "      <th>4</th>\n",
       "      <td>IMM3990</td>\n",
       "      <td>[unit, provid, high, achiev, student, structur...</td>\n",
       "      <td>{'unit': 1, 'provid': 1, 'high': 1, 'achiev': ...</td>\n",
       "      <td>{297: 1, 1473: 1, 255: 1, 240: 4, 1518: 1, 843...</td>\n",
       "    </tr>\n",
       "  </tbody>\n",
       "</table>\n",
       "</div>"
      ],
      "text/plain": [
       "     Title                                        Information  \\\n",
       "0  ATS3956  [unit, focus, histori, theori, applic, concept...   \n",
       "1  ATS3116  [unit, develop, indonesian, linguist, cultur, ...   \n",
       "2  APG5337  [unit, explor, modern, polit, govern, mode, au...   \n",
       "3  ATS1229  [unit, aim, provid, basic, foundat, basic, lan...   \n",
       "4  IMM3990  [unit, provid, high, achiev, student, structur...   \n",
       "\n",
       "                                      TokenFrequency  \\\n",
       "0  {'unit': 1, 'focus': 1, 'histori': 3, 'theori'...   \n",
       "1  {'unit': 2, 'develop': 1, 'indonesian': 9, 'li...   \n",
       "2  {'unit': 4, 'explor': 3, 'modern': 1, 'polit':...   \n",
       "3  {'unit': 1, 'aim': 1, 'provid': 1, 'basic': 4,...   \n",
       "4  {'unit': 1, 'provid': 1, 'high': 1, 'achiev': ...   \n",
       "\n",
       "                                         IdFrequency  \n",
       "0  {297: 1, 48: 1, 1483: 3, 691: 1, 671: 3, 1356:...  \n",
       "1  {297: 2, 2000: 1, 1569: 9, 2299: 1, 231: 4, 22...  \n",
       "2  {297: 4, 587: 3, 955: 1, 237: 2, 1958: 3, 1968...  \n",
       "3  {297: 1, 1473: 1, 32: 4, 1677: 1, 88: 3, 2149:...  \n",
       "4  {297: 1, 1473: 1, 255: 1, 240: 4, 1518: 1, 843...  "
      ]
     },
     "execution_count": 41,
     "metadata": {},
     "output_type": "execute_result"
    }
   ],
   "source": [
    "df[\"IdFrequency\"] = np.NAN\n",
    "df[\"IdFrequency\"] = df[\"TokenFrequency\"].apply(mapping_frequency)\n",
    "df.head()"
   ]
  },
  {
   "cell_type": "markdown",
   "metadata": {},
   "source": [
    "Writing the results to files - '29567467_vocab.txt' and '29567467_countVec.txt'.\n",
    "Global dictionary of token with its id is sorted first alphabetically and written to a file, each token in a separate line\n",
    "In order to write the count vector, we are iterating through the dataframe and writing the first(unitId) and fourth column(IdFrequency). Each unit is written to a separate line"
   ]
  },
  {
   "cell_type": "code",
   "execution_count": 42,
   "metadata": {},
   "outputs": [],
   "source": [
    "# Writing the results to a file\n",
    "\n",
    "file_vocab = open('29567467_vocab.txt', 'w')\n",
    "\n",
    "# Sort dictionary with respect to key\n",
    "token_id_dict = dict(sorted(token_id_dict.items()))\n",
    "\n",
    "for k,v in token_id_dict.items():\n",
    "    file_vocab.write(str(k) + \":\" + str(v) + \"\\n\")\n",
    "file_vocab.close()\n",
    "\n",
    "file_frequency = open('29567467_countVec.txt', 'w')\n",
    "\n",
    "count = df.shape[0]\n",
    "for index, row in df.head(n=count).iterrows():\n",
    "    output = row[0]\n",
    "    for k,v in row[3].items():\n",
    "        output = output + \",\" + str(k) + \":\" + str(v)\n",
    "    output = output + \"\\n\"\n",
    "    file_frequency.write(output)\n",
    "file_frequency.close()"
   ]
  },
  {
   "cell_type": "markdown",
   "metadata": {},
   "source": [
    "To understand the most frequent words in the global tokens, we will plot the first 10 tokens along with their frequencies"
   ]
  },
  {
   "cell_type": "code",
   "execution_count": 43,
   "metadata": {},
   "outputs": [
    {
     "data": {
      "text/plain": [
       "{'unit': 275,\n",
       " 'develop': 257,\n",
       " 'student': 250,\n",
       " 'research': 245,\n",
       " 'understand': 213,\n",
       " 'practic': 200,\n",
       " 'skill': 184,\n",
       " 'critic': 181,\n",
       " 'design': 160,\n",
       " 'appli': 145}"
      ]
     },
     "execution_count": 43,
     "metadata": {},
     "output_type": "execute_result"
    }
   ],
   "source": [
    "tokens_frequent = FreqDist(tokens)\n",
    "type(tokens_frequent.most_common(10))\n",
    "plot = {}\n",
    "for k,v in tokens_frequent.most_common(10):\n",
    "    plot[k] = v\n",
    "plot"
   ]
  },
  {
   "cell_type": "code",
   "execution_count": 44,
   "metadata": {},
   "outputs": [
    {
     "data": {
      "image/png": "[encoded data removed]",
      "text/plain": [
       "<Figure size 720x360 with 1 Axes>"
      ]
     },
     "metadata": {},
     "output_type": "display_data"
    }
   ],
   "source": [
    "plt.figure(figsize=(10,5))\n",
    "plt.bar(range(len(plot)), list(plot.values()), align='center')\n",
    "plt.xticks(range(len(plot)), list(plot.keys()))\n",
    "plt.show()"
   ]
  },
  {
   "cell_type": "code",
   "execution_count": 45,
   "metadata": {},
   "outputs": [
    {
     "data": {
      "image/png": "[encoded data removed]",
      "text/plain": [
       "<Figure size 432x288 with 1 Axes>"
      ]
     },
     "metadata": {},
     "output_type": "display_data"
    }
   ],
   "source": [
    "tokens_frequent.plot(25, cumulative=True)"
   ]
  },
  {
   "cell_type": "markdown",
   "metadata": {},
   "source": [
    "Plotting frequency of frequency using a bar chart"
   ]
  },
  {
   "cell_type": "code",
   "execution_count": 46,
   "metadata": {},
   "outputs": [
    {
     "data": {
      "image/png": "[encoded data removed]",
      "text/plain": [
       "<Figure size 576x576 with 1 Axes>"
      ]
     },
     "metadata": {},
     "output_type": "display_data"
    }
   ],
   "source": [
    "# Applying frequency distribution function on all the values of the tokens(k,v) which will have the frequency count\n",
    "fd = FreqDist(tokens_frequent.values())\n",
    "\n",
    "y = [0]*14\n",
    "for k, v in fd.items():\n",
    "     if k <= 10:\n",
    "        y[k-1] = v\n",
    "     elif k >10 and k <= 50:\n",
    "        y[10] =  y[10] + v\n",
    "     elif k >50 and k <= 100:\n",
    "        y[11] =  y[11] + v\n",
    "     elif k > 100 and k <= 500:\n",
    "        y[12] =  y[12] + v\n",
    "     else:\n",
    "        y[13] =  y[13] + v\n",
    "figure(figsize=(8,8))\n",
    "x = range(1, 15) \n",
    "ytks =list(map(str, range(1, 11))) \n",
    "ytks.append('10-50')\n",
    "ytks.append('51-100')\n",
    "ytks.append('101-400')\n",
    "barh(x,y)\n",
    "yticks(x, ytks)\n",
    "xlabel('Frequency of Frequency')\n",
    "ylabel('Word Frequency')\n",
    "grid(True)"
   ]
  },
  {
   "cell_type": "markdown",
   "metadata": {},
   "source": [
    "## Summary\n",
    "\n",
    "* Extracted data from PDF tables\n",
    "* Loaded the data into Dataframe\n",
    "* Completed word Tokenization\n",
    "* Did Case Normalization\n",
    "* Removed stop words\n",
    "* Stemming technique\n",
    "* Performed Count vectorization\n",
    "* Plotted charts of frequencies"
   ]
  }
 ],
 "metadata": {
  "kernelspec": {
   "display_name": "Python 3",
   "language": "python",
   "name": "python3"
  },
  "language_info": {
   "codemirror_mode": {
    "name": "ipython",
    "version": 3
   },
   "file_extension": ".py",
   "mimetype": "text/x-python",
   "name": "python",
   "nbconvert_exporter": "python",
   "pygments_lexer": "ipython3",
   "version": "3.6.5"
  }
 },
 "nbformat": 4,
 "nbformat_minor": 2
}
