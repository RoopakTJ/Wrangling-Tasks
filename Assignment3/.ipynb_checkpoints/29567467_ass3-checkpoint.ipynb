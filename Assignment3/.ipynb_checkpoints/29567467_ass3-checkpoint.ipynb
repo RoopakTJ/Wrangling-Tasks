{
 "cells": [
  {
   "cell_type": "markdown",
   "metadata": {},
   "source": [
    "# FIT5196 Assessment 3 : Data Integration and Reshaping\n",
    "#### Student Name: Roopak Thiyyathuparambil Jayachandran\n",
    "#### Student ID: 29567467\n",
    "\n",
    "Date: 13/05/2019\n",
    "\n",
    "Environment: Python 3.6 and Jupyter notebook\n",
    "Libraries used: \n",
    "* pandas - to hold and manipulate csv data\n",
    "* matplotlib - for graphical EDA\n",
    "\n",
    "\n",
    "## 1. Introduction\n",
    "\n",
    "This task involves integration of several dataset related to house, suburb and train to one schema which will have information about creating housing information in Victoria, Australia.\n",
    "Given dataset :\n",
    " * vic_suburb_boundary.zip,\n",
    " * gtfs.zip,\n",
    " * Crimebylocation.xlsx\n",
    " * 29567467.csv\n",
    " * council.txt\n",
    " \n",
    " Importing the required libraries in the begining"
   ]
  },
  {
   "cell_type": "code",
   "execution_count": 1158,
   "metadata": {
    "ExecuteTime": {
     "end_time": "2019-06-12T15:50:09.401391Z",
     "start_time": "2019-06-12T15:50:09.398057Z"
    }
   },
   "outputs": [],
   "source": [
    "# Imports\n",
    "import pandas as pd\n",
    "import shapefile\n",
    "import geopandas as gpd\n",
    "from statistics import median\n",
    "from shapely.geometry import Polygon, Point, MultiPolygon\n",
    "import warnings\n",
    "warnings.filterwarnings('ignore')"
   ]
  },
  {
   "cell_type": "markdown",
   "metadata": {},
   "source": [
    "Importing the csv to a dataframe. This dataframe will be the basic table to which we will append other data."
   ]
  },
  {
   "cell_type": "code",
   "execution_count": 1159,
   "metadata": {
    "ExecuteTime": {
     "end_time": "2019-06-12T15:50:09.419376Z",
     "start_time": "2019-06-12T15:50:09.404276Z"
    }
   },
   "outputs": [],
   "source": [
    "property_info = pd.read_csv(\"29567467.csv\", delimiter=\",\", encoding=\"UTF-8\")"
   ]
  },
  {
   "cell_type": "code",
   "execution_count": 1160,
   "metadata": {
    "ExecuteTime": {
     "end_time": "2019-06-12T15:50:09.437087Z",
     "start_time": "2019-06-12T15:50:09.421184Z"
    }
   },
   "outputs": [
    {
     "data": {
      "text/html": [
       "<div>\n",
       "<style scoped>\n",
       "    .dataframe tbody tr th:only-of-type {\n",
       "        vertical-align: middle;\n",
       "    }\n",
       "\n",
       "    .dataframe tbody tr th {\n",
       "        vertical-align: top;\n",
       "    }\n",
       "\n",
       "    .dataframe thead th {\n",
       "        text-align: right;\n",
       "    }\n",
       "</style>\n",
       "<table border=\"1\" class=\"dataframe\">\n",
       "  <thead>\n",
       "    <tr style=\"text-align: right;\">\n",
       "      <th></th>\n",
       "      <th>ID</th>\n",
       "      <th>Address</th>\n",
       "      <th>Rooms</th>\n",
       "      <th>Type</th>\n",
       "      <th>Price</th>\n",
       "      <th>Date</th>\n",
       "      <th>Bathroom</th>\n",
       "      <th>Car</th>\n",
       "      <th>Landsize</th>\n",
       "      <th>Age</th>\n",
       "      <th>Lattitude</th>\n",
       "      <th>Longtitude</th>\n",
       "    </tr>\n",
       "  </thead>\n",
       "  <tbody>\n",
       "    <tr>\n",
       "      <th>0</th>\n",
       "      <td>ID648060837</td>\n",
       "      <td>8/131 Grange Rd</td>\n",
       "      <td>1</td>\n",
       "      <td>u</td>\n",
       "      <td>260000.0</td>\n",
       "      <td>13/05/2017</td>\n",
       "      <td>1.0</td>\n",
       "      <td>1.0</td>\n",
       "      <td>1162.0</td>\n",
       "      <td>54.0</td>\n",
       "      <td>-37.8911</td>\n",
       "      <td>145.0451</td>\n",
       "    </tr>\n",
       "    <tr>\n",
       "      <th>1</th>\n",
       "      <td>ID604692611</td>\n",
       "      <td>76 Newry St</td>\n",
       "      <td>2</td>\n",
       "      <td>h</td>\n",
       "      <td>1116000.0</td>\n",
       "      <td>3/09/2016</td>\n",
       "      <td>1.0</td>\n",
       "      <td>0.0</td>\n",
       "      <td>152.0</td>\n",
       "      <td>109.0</td>\n",
       "      <td>-37.7910</td>\n",
       "      <td>144.9809</td>\n",
       "    </tr>\n",
       "    <tr>\n",
       "      <th>2</th>\n",
       "      <td>ID803803522</td>\n",
       "      <td>22 Kyarra Rd</td>\n",
       "      <td>4</td>\n",
       "      <td>h</td>\n",
       "      <td>1857000.0</td>\n",
       "      <td>25/02/2017</td>\n",
       "      <td>2.0</td>\n",
       "      <td>3.0</td>\n",
       "      <td>548.0</td>\n",
       "      <td>89.0</td>\n",
       "      <td>-37.8536</td>\n",
       "      <td>145.0547</td>\n",
       "    </tr>\n",
       "    <tr>\n",
       "      <th>3</th>\n",
       "      <td>ID344558125</td>\n",
       "      <td>5/698 Inkerman Rd</td>\n",
       "      <td>2</td>\n",
       "      <td>u</td>\n",
       "      <td>523000.0</td>\n",
       "      <td>7/11/2016</td>\n",
       "      <td>1.0</td>\n",
       "      <td>1.0</td>\n",
       "      <td>0.0</td>\n",
       "      <td>59.0</td>\n",
       "      <td>-37.8694</td>\n",
       "      <td>145.0246</td>\n",
       "    </tr>\n",
       "    <tr>\n",
       "      <th>4</th>\n",
       "      <td>ID809539804</td>\n",
       "      <td>5/25 Clarence St</td>\n",
       "      <td>1</td>\n",
       "      <td>u</td>\n",
       "      <td>373000.0</td>\n",
       "      <td>24/09/2016</td>\n",
       "      <td>1.0</td>\n",
       "      <td>1.0</td>\n",
       "      <td>0.0</td>\n",
       "      <td>54.0</td>\n",
       "      <td>-37.8728</td>\n",
       "      <td>145.0417</td>\n",
       "    </tr>\n",
       "  </tbody>\n",
       "</table>\n",
       "</div>"
      ],
      "text/plain": [
       "            ID            Address  Rooms Type      Price        Date  \\\n",
       "0  ID648060837    8/131 Grange Rd      1    u   260000.0  13/05/2017   \n",
       "1  ID604692611        76 Newry St      2    h  1116000.0   3/09/2016   \n",
       "2  ID803803522       22 Kyarra Rd      4    h  1857000.0  25/02/2017   \n",
       "3  ID344558125  5/698 Inkerman Rd      2    u   523000.0   7/11/2016   \n",
       "4  ID809539804   5/25 Clarence St      1    u   373000.0  24/09/2016   \n",
       "\n",
       "   Bathroom  Car  Landsize    Age  Lattitude  Longtitude  \n",
       "0       1.0  1.0    1162.0   54.0   -37.8911    145.0451  \n",
       "1       1.0  0.0     152.0  109.0   -37.7910    144.9809  \n",
       "2       2.0  3.0     548.0   89.0   -37.8536    145.0547  \n",
       "3       1.0  1.0       0.0   59.0   -37.8694    145.0246  \n",
       "4       1.0  1.0       0.0   54.0   -37.8728    145.0417  "
      ]
     },
     "execution_count": 1160,
     "metadata": {},
     "output_type": "execute_result"
    }
   ],
   "source": [
    "property_info.head()"
   ]
  },
  {
   "cell_type": "markdown",
   "metadata": {},
   "source": [
    "Understadind the features and data types of each"
   ]
  },
  {
   "cell_type": "code",
   "execution_count": 1161,
   "metadata": {
    "ExecuteTime": {
     "end_time": "2019-06-12T15:50:09.446985Z",
     "start_time": "2019-06-12T15:50:09.439564Z"
    }
   },
   "outputs": [
    {
     "data": {
      "text/plain": [
       "ID             object\n",
       "Address        object\n",
       "Rooms           int64\n",
       "Type           object\n",
       "Price         float64\n",
       "Date           object\n",
       "Bathroom      float64\n",
       "Car           float64\n",
       "Landsize      float64\n",
       "Age           float64\n",
       "Lattitude     float64\n",
       "Longtitude    float64\n",
       "dtype: object"
      ]
     },
     "execution_count": 1161,
     "metadata": {},
     "output_type": "execute_result"
    }
   ],
   "source": [
    "property_info.dtypes"
   ]
  },
  {
   "cell_type": "code",
   "execution_count": 1162,
   "metadata": {
    "ExecuteTime": {
     "end_time": "2019-06-12T15:50:09.453481Z",
     "start_time": "2019-06-12T15:50:09.448821Z"
    }
   },
   "outputs": [
    {
     "data": {
      "text/plain": [
       "(720, 12)"
      ]
     },
     "execution_count": 1162,
     "metadata": {},
     "output_type": "execute_result"
    }
   ],
   "source": [
    "property_info.shape"
   ]
  },
  {
   "cell_type": "markdown",
   "metadata": {},
   "source": [
    "720 rows and 12 columns. Checking if there is any duplicate data using ID which is the primary key in the table."
   ]
  },
  {
   "cell_type": "code",
   "execution_count": 1163,
   "metadata": {
    "ExecuteTime": {
     "end_time": "2019-06-12T15:50:09.461324Z",
     "start_time": "2019-06-12T15:50:09.455745Z"
    }
   },
   "outputs": [
    {
     "data": {
      "text/plain": [
       "673"
      ]
     },
     "execution_count": 1163,
     "metadata": {},
     "output_type": "execute_result"
    }
   ],
   "source": [
    "property_info.ID.nunique()"
   ]
  },
  {
   "cell_type": "markdown",
   "metadata": {},
   "source": [
    "Since there are just 673 unique IDS, it means that we have got duplicates in ID which need to be further investigated"
   ]
  },
  {
   "cell_type": "code",
   "execution_count": 1164,
   "metadata": {
    "ExecuteTime": {
     "end_time": "2019-06-12T15:50:09.472841Z",
     "start_time": "2019-06-12T15:50:09.463631Z"
    }
   },
   "outputs": [
    {
     "data": {
      "text/plain": [
       "ID308508892    3\n",
       "ID207189846    3\n",
       "ID272145538    3\n",
       "ID667934293    3\n",
       "ID902722542    3\n",
       "ID400512415    3\n",
       "ID619044644    2\n",
       "ID761201148    2\n",
       "ID335542969    2\n",
       "ID132747066    2\n",
       "ID385240788    2\n",
       "ID762637732    2\n",
       "ID680699927    2\n",
       "ID631354457    2\n",
       "ID436968030    2\n",
       "ID692857550    2\n",
       "ID235847962    2\n",
       "ID225300670    2\n",
       "ID684957664    2\n",
       "ID679296086    2\n",
       "ID989109617    2\n",
       "ID708384264    2\n",
       "ID824053591    2\n",
       "ID761539925    2\n",
       "ID583727011    2\n",
       "ID230635266    2\n",
       "ID814528510    2\n",
       "ID952227053    2\n",
       "ID203669849    2\n",
       "ID746461786    2\n",
       "ID833956813    2\n",
       "ID355816548    2\n",
       "ID519360390    2\n",
       "ID175715264    2\n",
       "ID490089000    2\n",
       "ID811087539    2\n",
       "ID113051188    2\n",
       "ID590249521    2\n",
       "ID161987324    2\n",
       "ID615004306    2\n",
       "ID122710788    2\n",
       "Name: ID, dtype: int64"
      ]
     },
     "execution_count": 1164,
     "metadata": {},
     "output_type": "execute_result"
    }
   ],
   "source": [
    "property_info.ID.value_counts().head(41)"
   ]
  },
  {
   "cell_type": "code",
   "execution_count": 1165,
   "metadata": {
    "ExecuteTime": {
     "end_time": "2019-06-12T15:50:09.497329Z",
     "start_time": "2019-06-12T15:50:09.474939Z"
    }
   },
   "outputs": [
    {
     "data": {
      "text/html": [
       "<div>\n",
       "<style scoped>\n",
       "    .dataframe tbody tr th:only-of-type {\n",
       "        vertical-align: middle;\n",
       "    }\n",
       "\n",
       "    .dataframe tbody tr th {\n",
       "        vertical-align: top;\n",
       "    }\n",
       "\n",
       "    .dataframe thead th {\n",
       "        text-align: right;\n",
       "    }\n",
       "</style>\n",
       "<table border=\"1\" class=\"dataframe\">\n",
       "  <thead>\n",
       "    <tr style=\"text-align: right;\">\n",
       "      <th></th>\n",
       "      <th>ID</th>\n",
       "      <th>Address</th>\n",
       "      <th>Rooms</th>\n",
       "      <th>Type</th>\n",
       "      <th>Price</th>\n",
       "      <th>Date</th>\n",
       "      <th>Bathroom</th>\n",
       "      <th>Car</th>\n",
       "      <th>Landsize</th>\n",
       "      <th>Age</th>\n",
       "      <th>Lattitude</th>\n",
       "      <th>Longtitude</th>\n",
       "    </tr>\n",
       "  </thead>\n",
       "  <tbody>\n",
       "    <tr>\n",
       "      <th>498</th>\n",
       "      <td>ID667934293</td>\n",
       "      <td>8/33 Gordon St</td>\n",
       "      <td>1</td>\n",
       "      <td>u</td>\n",
       "      <td>305000.0</td>\n",
       "      <td>17/09/2016</td>\n",
       "      <td>1.0</td>\n",
       "      <td>1.0</td>\n",
       "      <td>59.0</td>\n",
       "      <td>54.0</td>\n",
       "      <td>-37.7903</td>\n",
       "      <td>144.8899</td>\n",
       "    </tr>\n",
       "    <tr>\n",
       "      <th>709</th>\n",
       "      <td>ID667934293</td>\n",
       "      <td>8/33 Gordon St</td>\n",
       "      <td>1</td>\n",
       "      <td>u</td>\n",
       "      <td>305000.0</td>\n",
       "      <td>17/09/2016</td>\n",
       "      <td>1.0</td>\n",
       "      <td>1.0</td>\n",
       "      <td>59.0</td>\n",
       "      <td>54.0</td>\n",
       "      <td>-37.7903</td>\n",
       "      <td>144.8899</td>\n",
       "    </tr>\n",
       "    <tr>\n",
       "      <th>713</th>\n",
       "      <td>ID667934293</td>\n",
       "      <td>8/33 Gordon St</td>\n",
       "      <td>1</td>\n",
       "      <td>u</td>\n",
       "      <td>305000.0</td>\n",
       "      <td>17/09/2016</td>\n",
       "      <td>1.0</td>\n",
       "      <td>1.0</td>\n",
       "      <td>59.0</td>\n",
       "      <td>54.0</td>\n",
       "      <td>-37.7903</td>\n",
       "      <td>144.8899</td>\n",
       "    </tr>\n",
       "  </tbody>\n",
       "</table>\n",
       "</div>"
      ],
      "text/plain": [
       "              ID         Address  Rooms Type     Price        Date  Bathroom  \\\n",
       "498  ID667934293  8/33 Gordon St      1    u  305000.0  17/09/2016       1.0   \n",
       "709  ID667934293  8/33 Gordon St      1    u  305000.0  17/09/2016       1.0   \n",
       "713  ID667934293  8/33 Gordon St      1    u  305000.0  17/09/2016       1.0   \n",
       "\n",
       "     Car  Landsize   Age  Lattitude  Longtitude  \n",
       "498  1.0      59.0  54.0   -37.7903    144.8899  \n",
       "709  1.0      59.0  54.0   -37.7903    144.8899  \n",
       "713  1.0      59.0  54.0   -37.7903    144.8899  "
      ]
     },
     "execution_count": 1165,
     "metadata": {},
     "output_type": "execute_result"
    }
   ],
   "source": [
    "property_info[property_info.ID == 'ID667934293']"
   ]
  },
  {
   "cell_type": "markdown",
   "metadata": {},
   "source": [
    "On investigating a single ID which has 3 records in the dataframe, we can see that the values are same for all 3 records. Just confirming this nature of duplicates with others also"
   ]
  },
  {
   "cell_type": "code",
   "execution_count": 1166,
   "metadata": {
    "ExecuteTime": {
     "end_time": "2019-06-12T15:50:09.518238Z",
     "start_time": "2019-06-12T15:50:09.500103Z"
    }
   },
   "outputs": [
    {
     "data": {
      "text/html": [
       "<div>\n",
       "<style scoped>\n",
       "    .dataframe tbody tr th:only-of-type {\n",
       "        vertical-align: middle;\n",
       "    }\n",
       "\n",
       "    .dataframe tbody tr th {\n",
       "        vertical-align: top;\n",
       "    }\n",
       "\n",
       "    .dataframe thead th {\n",
       "        text-align: right;\n",
       "    }\n",
       "</style>\n",
       "<table border=\"1\" class=\"dataframe\">\n",
       "  <thead>\n",
       "    <tr style=\"text-align: right;\">\n",
       "      <th></th>\n",
       "      <th>ID</th>\n",
       "      <th>Address</th>\n",
       "      <th>Rooms</th>\n",
       "      <th>Type</th>\n",
       "      <th>Price</th>\n",
       "      <th>Date</th>\n",
       "      <th>Bathroom</th>\n",
       "      <th>Car</th>\n",
       "      <th>Landsize</th>\n",
       "      <th>Age</th>\n",
       "      <th>Lattitude</th>\n",
       "      <th>Longtitude</th>\n",
       "    </tr>\n",
       "  </thead>\n",
       "  <tbody>\n",
       "    <tr>\n",
       "      <th>14</th>\n",
       "      <td>ID902722542</td>\n",
       "      <td>3/4 Lemon Rd</td>\n",
       "      <td>2</td>\n",
       "      <td>u</td>\n",
       "      <td>682000.0</td>\n",
       "      <td>24/06/2017</td>\n",
       "      <td>1.0</td>\n",
       "      <td>1.0</td>\n",
       "      <td>140.0</td>\n",
       "      <td>49.0</td>\n",
       "      <td>-37.79334</td>\n",
       "      <td>145.10025</td>\n",
       "    </tr>\n",
       "    <tr>\n",
       "      <th>217</th>\n",
       "      <td>ID902722542</td>\n",
       "      <td>3/4 Lemon Rd</td>\n",
       "      <td>2</td>\n",
       "      <td>u</td>\n",
       "      <td>682000.0</td>\n",
       "      <td>24/06/2017</td>\n",
       "      <td>1.0</td>\n",
       "      <td>1.0</td>\n",
       "      <td>140.0</td>\n",
       "      <td>49.0</td>\n",
       "      <td>-37.79334</td>\n",
       "      <td>145.10025</td>\n",
       "    </tr>\n",
       "    <tr>\n",
       "      <th>711</th>\n",
       "      <td>ID902722542</td>\n",
       "      <td>3/4 Lemon Rd</td>\n",
       "      <td>2</td>\n",
       "      <td>u</td>\n",
       "      <td>682000.0</td>\n",
       "      <td>24/06/2017</td>\n",
       "      <td>1.0</td>\n",
       "      <td>1.0</td>\n",
       "      <td>140.0</td>\n",
       "      <td>49.0</td>\n",
       "      <td>-37.79334</td>\n",
       "      <td>145.10025</td>\n",
       "    </tr>\n",
       "  </tbody>\n",
       "</table>\n",
       "</div>"
      ],
      "text/plain": [
       "              ID       Address  Rooms Type     Price        Date  Bathroom  \\\n",
       "14   ID902722542  3/4 Lemon Rd      2    u  682000.0  24/06/2017       1.0   \n",
       "217  ID902722542  3/4 Lemon Rd      2    u  682000.0  24/06/2017       1.0   \n",
       "711  ID902722542  3/4 Lemon Rd      2    u  682000.0  24/06/2017       1.0   \n",
       "\n",
       "     Car  Landsize   Age  Lattitude  Longtitude  \n",
       "14   1.0     140.0  49.0  -37.79334   145.10025  \n",
       "217  1.0     140.0  49.0  -37.79334   145.10025  \n",
       "711  1.0     140.0  49.0  -37.79334   145.10025  "
      ]
     },
     "execution_count": 1166,
     "metadata": {},
     "output_type": "execute_result"
    }
   ],
   "source": [
    "property_info[property_info.ID == 'ID902722542']"
   ]
  },
  {
   "cell_type": "markdown",
   "metadata": {},
   "source": [
    "Deleting the duplicates by keeping the first occurrence."
   ]
  },
  {
   "cell_type": "code",
   "execution_count": 1167,
   "metadata": {
    "ExecuteTime": {
     "end_time": "2019-06-12T15:50:09.529578Z",
     "start_time": "2019-06-12T15:50:09.520880Z"
    }
   },
   "outputs": [],
   "source": [
    "property_info.drop_duplicates(keep=\"first\", inplace=True)"
   ]
  },
  {
   "cell_type": "code",
   "execution_count": 1168,
   "metadata": {
    "ExecuteTime": {
     "end_time": "2019-06-12T15:50:09.536890Z",
     "start_time": "2019-06-12T15:50:09.531974Z"
    }
   },
   "outputs": [
    {
     "data": {
      "text/plain": [
       "673"
      ]
     },
     "execution_count": 1168,
     "metadata": {},
     "output_type": "execute_result"
    }
   ],
   "source": [
    "property_info.shape[0]"
   ]
  },
  {
   "cell_type": "markdown",
   "metadata": {
    "ExecuteTime": {
     "end_time": "2019-06-12T05:23:51.909061Z",
     "start_time": "2019-06-12T05:23:51.868235Z"
    }
   },
   "source": [
    "property_info is the basic dataset which has all the columns from the given dataset. These columns are:\n",
    "    * ID\n",
    "    * Address\n",
    "    * Price\n",
    "    * Type\n",
    "    * Date\n",
    "    * Rooms\n",
    "    * Bathroom\n",
    "    * Car\n",
    "    * LandSize\n",
    "    * Age\n",
    "    * Latitude\n",
    "    * Longitude\n",
    "\n",
    "Need to add:\n",
    "    * Suburb\n",
    "    * train_station_id\n",
    "    * distance_to_train_stat\n",
    "    * travel_min_to_CBD\n",
    "    * over_priced?\n",
    "    * crime_A_average\n",
    "    * crime_B_average\n",
    "    * crime_C_average\n",
    "    "
   ]
  },
  {
   "cell_type": "markdown",
   "metadata": {
    "ExecuteTime": {
     "end_time": "2019-06-12T05:45:12.155654Z",
     "start_time": "2019-06-12T05:45:12.143714Z"
    }
   },
   "source": [
    "### Suburb\n",
    "\n",
    "Methodology:\n",
    " * Use shapefile package to create polygon(using coordinates) of suburb.\n",
    " * FOr each coordinates in property dataframe, iterate through the shape file and check if the coordinate is inside polygon.\n",
    " * If coordinate is present in the suburb, then write the suburb name to a new column of property dataframe"
   ]
  },
  {
   "cell_type": "markdown",
   "metadata": {},
   "source": [
    "Importing the shape file to geopandas to get an overview of the given data"
   ]
  },
  {
   "cell_type": "code",
   "execution_count": 1169,
   "metadata": {
    "ExecuteTime": {
     "end_time": "2019-06-12T15:50:10.286106Z",
     "start_time": "2019-06-12T15:50:09.539605Z"
    }
   },
   "outputs": [
    {
     "data": {
      "text/html": [
       "<div>\n",
       "<style scoped>\n",
       "    .dataframe tbody tr th:only-of-type {\n",
       "        vertical-align: middle;\n",
       "    }\n",
       "\n",
       "    .dataframe tbody tr th {\n",
       "        vertical-align: top;\n",
       "    }\n",
       "\n",
       "    .dataframe thead th {\n",
       "        text-align: right;\n",
       "    }\n",
       "</style>\n",
       "<table border=\"1\" class=\"dataframe\">\n",
       "  <thead>\n",
       "    <tr style=\"text-align: right;\">\n",
       "      <th></th>\n",
       "      <th>LC_PLY_PID</th>\n",
       "      <th>DT_CREATE</th>\n",
       "      <th>DT_RETIRE</th>\n",
       "      <th>LOC_PID</th>\n",
       "      <th>VIC_LOCALI</th>\n",
       "      <th>VIC_LOCA_1</th>\n",
       "      <th>VIC_LOCA_2</th>\n",
       "      <th>VIC_LOCA_3</th>\n",
       "      <th>VIC_LOCA_4</th>\n",
       "      <th>VIC_LOCA_5</th>\n",
       "      <th>VIC_LOCA_6</th>\n",
       "      <th>VIC_LOCA_7</th>\n",
       "      <th>geometry</th>\n",
       "    </tr>\n",
       "  </thead>\n",
       "  <tbody>\n",
       "    <tr>\n",
       "      <th>0</th>\n",
       "      <td>6670</td>\n",
       "      <td>2011-08-31</td>\n",
       "      <td>None</td>\n",
       "      <td>VIC2615</td>\n",
       "      <td>2012-04-27</td>\n",
       "      <td>None</td>\n",
       "      <td>UNDERBOOL</td>\n",
       "      <td>None</td>\n",
       "      <td>None</td>\n",
       "      <td>G</td>\n",
       "      <td>None</td>\n",
       "      <td>2</td>\n",
       "      <td>POLYGON ((141.74552399 -35.07228701, 141.74552...</td>\n",
       "    </tr>\n",
       "  </tbody>\n",
       "</table>\n",
       "</div>"
      ],
      "text/plain": [
       "  LC_PLY_PID   DT_CREATE DT_RETIRE  LOC_PID  VIC_LOCALI VIC_LOCA_1 VIC_LOCA_2  \\\n",
       "0       6670  2011-08-31      None  VIC2615  2012-04-27       None  UNDERBOOL   \n",
       "\n",
       "  VIC_LOCA_3 VIC_LOCA_4 VIC_LOCA_5 VIC_LOCA_6 VIC_LOCA_7  \\\n",
       "0       None       None          G       None          2   \n",
       "\n",
       "                                            geometry  \n",
       "0  POLYGON ((141.74552399 -35.07228701, 141.74552...  "
      ]
     },
     "execution_count": 1169,
     "metadata": {},
     "output_type": "execute_result"
    }
   ],
   "source": [
    "shapefileshp = gpd.read_file(\"./vic_suburb_boundary/VIC_LOCALITY_POLYGON_shp.shp\")\n",
    "shapefileshp.head(1)"
   ]
  },
  {
   "cell_type": "code",
   "execution_count": 1170,
   "metadata": {
    "ExecuteTime": {
     "end_time": "2019-06-12T15:50:10.292999Z",
     "start_time": "2019-06-12T15:50:10.288141Z"
    }
   },
   "outputs": [],
   "source": [
    "myshp = open(\"./vic_suburb_boundary/VIC_LOCALITY_POLYGON_shp.shp\", \"rb\")\n",
    "myprj = open(\"./vic_suburb_boundary/VIC_LOCALITY_POLYGON_shp.prj\", \"rb\")\n",
    "mydbf = open(\"./vic_suburb_boundary/VIC_LOCALITY_POLYGON_shp.dbf\", \"rb\")\n",
    "myshx = open(\"./vic_suburb_boundary/VIC_LOCALITY_POLYGON_shp.shx\", \"rb\")"
   ]
  },
  {
   "cell_type": "code",
   "execution_count": 1171,
   "metadata": {
    "ExecuteTime": {
     "end_time": "2019-06-12T15:50:10.302870Z",
     "start_time": "2019-06-12T15:50:10.297088Z"
    }
   },
   "outputs": [],
   "source": [
    "r = shapefile.Reader(shp=myshp, dbf=mydbf, prj=myprj, shx=myshx)"
   ]
  },
  {
   "cell_type": "code",
   "execution_count": 1172,
   "metadata": {
    "ExecuteTime": {
     "end_time": "2019-06-12T15:50:10.731037Z",
     "start_time": "2019-06-12T15:50:10.304875Z"
    }
   },
   "outputs": [],
   "source": [
    "geometry = r.shapes()"
   ]
  },
  {
   "cell_type": "code",
   "execution_count": 1173,
   "metadata": {
    "ExecuteTime": {
     "end_time": "2019-06-12T15:50:10.840729Z",
     "start_time": "2019-06-12T15:50:10.732942Z"
    }
   },
   "outputs": [],
   "source": [
    "shpfilePoints = [ shape.points for shape in geometry ]"
   ]
  },
  {
   "cell_type": "markdown",
   "metadata": {},
   "source": [
    "Adding a new column Suburb initialised with default value of \"not available\""
   ]
  },
  {
   "cell_type": "code",
   "execution_count": 1174,
   "metadata": {
    "ExecuteTime": {
     "end_time": "2019-06-12T15:50:10.846056Z",
     "start_time": "2019-06-12T15:50:10.842670Z"
    }
   },
   "outputs": [],
   "source": [
    "property_info[\"Suburb\"] = \"not available\""
   ]
  },
  {
   "cell_type": "code",
   "execution_count": 1175,
   "metadata": {
    "ExecuteTime": {
     "end_time": "2019-06-12T15:50:10.863397Z",
     "start_time": "2019-06-12T15:50:10.848104Z"
    }
   },
   "outputs": [
    {
     "data": {
      "text/html": [
       "<div>\n",
       "<style scoped>\n",
       "    .dataframe tbody tr th:only-of-type {\n",
       "        vertical-align: middle;\n",
       "    }\n",
       "\n",
       "    .dataframe tbody tr th {\n",
       "        vertical-align: top;\n",
       "    }\n",
       "\n",
       "    .dataframe thead th {\n",
       "        text-align: right;\n",
       "    }\n",
       "</style>\n",
       "<table border=\"1\" class=\"dataframe\">\n",
       "  <thead>\n",
       "    <tr style=\"text-align: right;\">\n",
       "      <th></th>\n",
       "      <th>ID</th>\n",
       "      <th>Address</th>\n",
       "      <th>Rooms</th>\n",
       "      <th>Type</th>\n",
       "      <th>Price</th>\n",
       "      <th>Date</th>\n",
       "      <th>Bathroom</th>\n",
       "      <th>Car</th>\n",
       "      <th>Landsize</th>\n",
       "      <th>Age</th>\n",
       "      <th>Lattitude</th>\n",
       "      <th>Longtitude</th>\n",
       "      <th>Suburb</th>\n",
       "    </tr>\n",
       "  </thead>\n",
       "  <tbody>\n",
       "    <tr>\n",
       "      <th>0</th>\n",
       "      <td>ID648060837</td>\n",
       "      <td>8/131 Grange Rd</td>\n",
       "      <td>1</td>\n",
       "      <td>u</td>\n",
       "      <td>260000.0</td>\n",
       "      <td>13/05/2017</td>\n",
       "      <td>1.0</td>\n",
       "      <td>1.0</td>\n",
       "      <td>1162.0</td>\n",
       "      <td>54.0</td>\n",
       "      <td>-37.8911</td>\n",
       "      <td>145.0451</td>\n",
       "      <td>not available</td>\n",
       "    </tr>\n",
       "    <tr>\n",
       "      <th>1</th>\n",
       "      <td>ID604692611</td>\n",
       "      <td>76 Newry St</td>\n",
       "      <td>2</td>\n",
       "      <td>h</td>\n",
       "      <td>1116000.0</td>\n",
       "      <td>3/09/2016</td>\n",
       "      <td>1.0</td>\n",
       "      <td>0.0</td>\n",
       "      <td>152.0</td>\n",
       "      <td>109.0</td>\n",
       "      <td>-37.7910</td>\n",
       "      <td>144.9809</td>\n",
       "      <td>not available</td>\n",
       "    </tr>\n",
       "    <tr>\n",
       "      <th>2</th>\n",
       "      <td>ID803803522</td>\n",
       "      <td>22 Kyarra Rd</td>\n",
       "      <td>4</td>\n",
       "      <td>h</td>\n",
       "      <td>1857000.0</td>\n",
       "      <td>25/02/2017</td>\n",
       "      <td>2.0</td>\n",
       "      <td>3.0</td>\n",
       "      <td>548.0</td>\n",
       "      <td>89.0</td>\n",
       "      <td>-37.8536</td>\n",
       "      <td>145.0547</td>\n",
       "      <td>not available</td>\n",
       "    </tr>\n",
       "    <tr>\n",
       "      <th>3</th>\n",
       "      <td>ID344558125</td>\n",
       "      <td>5/698 Inkerman Rd</td>\n",
       "      <td>2</td>\n",
       "      <td>u</td>\n",
       "      <td>523000.0</td>\n",
       "      <td>7/11/2016</td>\n",
       "      <td>1.0</td>\n",
       "      <td>1.0</td>\n",
       "      <td>0.0</td>\n",
       "      <td>59.0</td>\n",
       "      <td>-37.8694</td>\n",
       "      <td>145.0246</td>\n",
       "      <td>not available</td>\n",
       "    </tr>\n",
       "    <tr>\n",
       "      <th>4</th>\n",
       "      <td>ID809539804</td>\n",
       "      <td>5/25 Clarence St</td>\n",
       "      <td>1</td>\n",
       "      <td>u</td>\n",
       "      <td>373000.0</td>\n",
       "      <td>24/09/2016</td>\n",
       "      <td>1.0</td>\n",
       "      <td>1.0</td>\n",
       "      <td>0.0</td>\n",
       "      <td>54.0</td>\n",
       "      <td>-37.8728</td>\n",
       "      <td>145.0417</td>\n",
       "      <td>not available</td>\n",
       "    </tr>\n",
       "  </tbody>\n",
       "</table>\n",
       "</div>"
      ],
      "text/plain": [
       "            ID            Address  Rooms Type      Price        Date  \\\n",
       "0  ID648060837    8/131 Grange Rd      1    u   260000.0  13/05/2017   \n",
       "1  ID604692611        76 Newry St      2    h  1116000.0   3/09/2016   \n",
       "2  ID803803522       22 Kyarra Rd      4    h  1857000.0  25/02/2017   \n",
       "3  ID344558125  5/698 Inkerman Rd      2    u   523000.0   7/11/2016   \n",
       "4  ID809539804   5/25 Clarence St      1    u   373000.0  24/09/2016   \n",
       "\n",
       "   Bathroom  Car  Landsize    Age  Lattitude  Longtitude         Suburb  \n",
       "0       1.0  1.0    1162.0   54.0   -37.8911    145.0451  not available  \n",
       "1       1.0  0.0     152.0  109.0   -37.7910    144.9809  not available  \n",
       "2       2.0  3.0     548.0   89.0   -37.8536    145.0547  not available  \n",
       "3       1.0  1.0       0.0   59.0   -37.8694    145.0246  not available  \n",
       "4       1.0  1.0       0.0   54.0   -37.8728    145.0417  not available  "
      ]
     },
     "execution_count": 1175,
     "metadata": {},
     "output_type": "execute_result"
    }
   ],
   "source": [
    "property_info.head()"
   ]
  },
  {
   "cell_type": "markdown",
   "metadata": {},
   "source": [
    "For each of the coordniates value(latitude and longitude) in property dataset, checking if the coordinates lie inside any of the previously generated polygons for each suburb. If the point is present, iteration is stopped and corressponding Suburb value (VIC_LOCA_2) is inserted to property dataset"
   ]
  },
  {
   "cell_type": "code",
   "execution_count": 1176,
   "metadata": {
    "ExecuteTime": {
     "end_time": "2019-06-12T15:50:41.544349Z",
     "start_time": "2019-06-12T15:50:10.865736Z"
    }
   },
   "outputs": [],
   "source": [
    "for index1, row in property_info.iterrows():\n",
    "    suburb = None\n",
    "    point = Point(row[11], row[10])\n",
    "    index = 0\n",
    "    for polygon in shpfilePoints:\n",
    "        poly = Polygon(polygon)\n",
    "        a = point.within(poly)\n",
    "        if a == True:\n",
    "            break\n",
    "        index += 1\n",
    "    if index != 0:\n",
    "        suburb = shapefileshp.loc[index,'VIC_LOCA_2']\n",
    "    if suburb is not None and row[0] is not None:\n",
    "        property_info.set_value(index1, 'Suburb', suburb)"
   ]
  },
  {
   "cell_type": "code",
   "execution_count": 1177,
   "metadata": {
    "ExecuteTime": {
     "end_time": "2019-06-12T15:50:41.561857Z",
     "start_time": "2019-06-12T15:50:41.546549Z"
    }
   },
   "outputs": [
    {
     "data": {
      "text/html": [
       "<div>\n",
       "<style scoped>\n",
       "    .dataframe tbody tr th:only-of-type {\n",
       "        vertical-align: middle;\n",
       "    }\n",
       "\n",
       "    .dataframe tbody tr th {\n",
       "        vertical-align: top;\n",
       "    }\n",
       "\n",
       "    .dataframe thead th {\n",
       "        text-align: right;\n",
       "    }\n",
       "</style>\n",
       "<table border=\"1\" class=\"dataframe\">\n",
       "  <thead>\n",
       "    <tr style=\"text-align: right;\">\n",
       "      <th></th>\n",
       "      <th>ID</th>\n",
       "      <th>Address</th>\n",
       "      <th>Rooms</th>\n",
       "      <th>Type</th>\n",
       "      <th>Price</th>\n",
       "      <th>Date</th>\n",
       "      <th>Bathroom</th>\n",
       "      <th>Car</th>\n",
       "      <th>Landsize</th>\n",
       "      <th>Age</th>\n",
       "      <th>Lattitude</th>\n",
       "      <th>Longtitude</th>\n",
       "      <th>Suburb</th>\n",
       "    </tr>\n",
       "  </thead>\n",
       "  <tbody>\n",
       "    <tr>\n",
       "      <th>695</th>\n",
       "      <td>ID307843751</td>\n",
       "      <td>5/8 Swan St</td>\n",
       "      <td>2</td>\n",
       "      <td>t</td>\n",
       "      <td>380000.0</td>\n",
       "      <td>10/09/2016</td>\n",
       "      <td>1.0</td>\n",
       "      <td>1.0</td>\n",
       "      <td>161.0</td>\n",
       "      <td>9.0</td>\n",
       "      <td>-37.72510</td>\n",
       "      <td>144.8621</td>\n",
       "      <td>KEILOR PARK</td>\n",
       "    </tr>\n",
       "    <tr>\n",
       "      <th>696</th>\n",
       "      <td>ID392319924</td>\n",
       "      <td>54 Balmain St</td>\n",
       "      <td>2</td>\n",
       "      <td>h</td>\n",
       "      <td>1110000.0</td>\n",
       "      <td>24/09/2016</td>\n",
       "      <td>1.0</td>\n",
       "      <td>1.0</td>\n",
       "      <td>144.0</td>\n",
       "      <td>4.0</td>\n",
       "      <td>-37.83010</td>\n",
       "      <td>144.9927</td>\n",
       "      <td>CREMORNE</td>\n",
       "    </tr>\n",
       "    <tr>\n",
       "      <th>697</th>\n",
       "      <td>ID746461786</td>\n",
       "      <td>2/16 Beaver St</td>\n",
       "      <td>3</td>\n",
       "      <td>t</td>\n",
       "      <td>1370000.0</td>\n",
       "      <td>22/08/2016</td>\n",
       "      <td>2.0</td>\n",
       "      <td>2.0</td>\n",
       "      <td>323.0</td>\n",
       "      <td>49.0</td>\n",
       "      <td>-37.87040</td>\n",
       "      <td>145.0411</td>\n",
       "      <td>MALVERN EAST</td>\n",
       "    </tr>\n",
       "    <tr>\n",
       "      <th>698</th>\n",
       "      <td>ID880818663</td>\n",
       "      <td>18 Empress Rd</td>\n",
       "      <td>2</td>\n",
       "      <td>h</td>\n",
       "      <td>1260000.0</td>\n",
       "      <td>13/05/2017</td>\n",
       "      <td>1.0</td>\n",
       "      <td>0.0</td>\n",
       "      <td>269.0</td>\n",
       "      <td>109.0</td>\n",
       "      <td>-37.82010</td>\n",
       "      <td>145.0887</td>\n",
       "      <td>SURREY HILLS</td>\n",
       "    </tr>\n",
       "    <tr>\n",
       "      <th>699</th>\n",
       "      <td>ID783762726</td>\n",
       "      <td>37 Wellington St</td>\n",
       "      <td>4</td>\n",
       "      <td>h</td>\n",
       "      <td>4000000.0</td>\n",
       "      <td>19/08/2017</td>\n",
       "      <td>2.0</td>\n",
       "      <td>3.0</td>\n",
       "      <td>792.0</td>\n",
       "      <td>114.0</td>\n",
       "      <td>-37.80926</td>\n",
       "      <td>145.0331</td>\n",
       "      <td>KEW</td>\n",
       "    </tr>\n",
       "  </tbody>\n",
       "</table>\n",
       "</div>"
      ],
      "text/plain": [
       "              ID           Address  Rooms Type      Price        Date  \\\n",
       "695  ID307843751       5/8 Swan St      2    t   380000.0  10/09/2016   \n",
       "696  ID392319924     54 Balmain St      2    h  1110000.0  24/09/2016   \n",
       "697  ID746461786    2/16 Beaver St      3    t  1370000.0  22/08/2016   \n",
       "698  ID880818663     18 Empress Rd      2    h  1260000.0  13/05/2017   \n",
       "699  ID783762726  37 Wellington St      4    h  4000000.0  19/08/2017   \n",
       "\n",
       "     Bathroom  Car  Landsize    Age  Lattitude  Longtitude        Suburb  \n",
       "695       1.0  1.0     161.0    9.0  -37.72510    144.8621   KEILOR PARK  \n",
       "696       1.0  1.0     144.0    4.0  -37.83010    144.9927      CREMORNE  \n",
       "697       2.0  2.0     323.0   49.0  -37.87040    145.0411  MALVERN EAST  \n",
       "698       1.0  0.0     269.0  109.0  -37.82010    145.0887  SURREY HILLS  \n",
       "699       2.0  3.0     792.0  114.0  -37.80926    145.0331           KEW  "
      ]
     },
     "execution_count": 1177,
     "metadata": {},
     "output_type": "execute_result"
    }
   ],
   "source": [
    "property_info.tail(5)"
   ]
  },
  {
   "cell_type": "markdown",
   "metadata": {},
   "source": [
    "Cross verification of the data using geocoder. GeoCoder is not used for any result generation."
   ]
  },
  {
   "cell_type": "code",
   "execution_count": 1178,
   "metadata": {
    "ExecuteTime": {
     "end_time": "2019-06-12T15:50:46.016632Z",
     "start_time": "2019-06-12T15:50:41.564012Z"
    }
   },
   "outputs": [
    {
     "data": {
      "text/plain": [
       "<[OK] Osm - Reverse [Wellington Street, Willsmere, Kew, City of Boroondara, Victoria, 3101, Australia]>"
      ]
     },
     "execution_count": 1178,
     "metadata": {},
     "output_type": "execute_result"
    }
   ],
   "source": [
    "import geocoder\n",
    "\n",
    "g = geocoder.osm([-37.80926, 145.0331], method='reverse')\n",
    "g "
   ]
  },
  {
   "cell_type": "markdown",
   "metadata": {},
   "source": [
    "### Train station id and Distance travelled\n",
    "\n",
    "Methodology:\n",
    " * Add a new column train_station_id with default value 0.\n",
    " * Extract dataset from each of the files and created a common dataset for each file with unique values. Like stops_df,  trips_df, stop_times_df etc\n",
    " * From calendar_df retain only those columns which have train on all weekdays\n",
    " * Get the service id to a list.\n",
    " * From trips_df only retain those columns which have service id present in the above created list.\n",
    " * Get the unique trip ids to a list and retain columns in stop_times which have trip id in the trip ids list\n",
    " * Create a dictionary to store \"Southern Cross Station\" arrival times\n",
    " * For each record in property, get the station_id which is nearest to the location using Haversine formula.\n",
    " * Append the distance travelled to a new column distance_to_train_stat.\n",
    " * for same distance to the nearest stop_ids, get the stop_id which will take less time to Southern Cross in the same trip."
   ]
  },
  {
   "cell_type": "code",
   "execution_count": 1179,
   "metadata": {
    "ExecuteTime": {
     "end_time": "2019-06-12T15:50:46.023231Z",
     "start_time": "2019-06-12T15:50:46.019855Z"
    }
   },
   "outputs": [],
   "source": [
    "property_info[\"train_station_id\"] = \"0\""
   ]
  },
  {
   "cell_type": "code",
   "execution_count": 1180,
   "metadata": {
    "ExecuteTime": {
     "end_time": "2019-06-12T15:50:46.034486Z",
     "start_time": "2019-06-12T15:50:46.026026Z"
    }
   },
   "outputs": [],
   "source": [
    "stop = pd.read_csv(\"29567467.csv\", delimiter=\",\", encoding=\"UTF-8\")"
   ]
  },
  {
   "cell_type": "code",
   "execution_count": 1181,
   "metadata": {
    "ExecuteTime": {
     "end_time": "2019-06-12T15:50:46.039039Z",
     "start_time": "2019-06-12T15:50:46.036244Z"
    }
   },
   "outputs": [],
   "source": [
    "path1 = \"./gtfs/\"\n",
    "path2 = \"/google_transit/\""
   ]
  },
  {
   "cell_type": "markdown",
   "metadata": {},
   "source": [
    "From the information, it is understood that folder 1, 2 and 10 have train data which is needed for this analysis. Other folders have information of trams and busses"
   ]
  },
  {
   "cell_type": "code",
   "execution_count": 1182,
   "metadata": {
    "ExecuteTime": {
     "end_time": "2019-06-12T15:50:46.045611Z",
     "start_time": "2019-06-12T15:50:46.041175Z"
    }
   },
   "outputs": [],
   "source": [
    "def extract(file):\n",
    "    first = True\n",
    "    for each in ['1','2','10']:  \n",
    "        path = path1 + each + path2 + file\n",
    "        df_temp = pd.read_csv(path, delimiter=\",\", encoding=\"UTF-8\")\n",
    "        if first is False:\n",
    "            df = pd.concat([df, df_temp]) \n",
    "        else:\n",
    "            df = df_temp\n",
    "            first = False\n",
    "    # Removing duplicates\n",
    "    df.drop_duplicates(keep=\"first\", inplace=True)\n",
    "    return df"
   ]
  },
  {
   "cell_type": "code",
   "execution_count": 1183,
   "metadata": {
    "ExecuteTime": {
     "end_time": "2019-06-12T15:50:47.030737Z",
     "start_time": "2019-06-12T15:50:46.047801Z"
    }
   },
   "outputs": [],
   "source": [
    "stops_df = extract(\"stops.txt\")\n",
    "trips_df = extract(\"trips.txt\")\n",
    "stop_times_df = extract(\"stop_times.txt\")\n",
    "calendar_df = extract(\"calendar.txt\")"
   ]
  },
  {
   "cell_type": "code",
   "execution_count": 1184,
   "metadata": {
    "ExecuteTime": {
     "end_time": "2019-06-12T15:50:47.038836Z",
     "start_time": "2019-06-12T15:50:47.032521Z"
    }
   },
   "outputs": [],
   "source": [
    "calendar_df = calendar_df[(calendar_df.monday == 1) & (calendar_df.tuesday == 1) & (calendar_df.wednesday == 1) & (calendar_df.thursday == 1) & (calendar_df.friday == 1)]"
   ]
  },
  {
   "cell_type": "code",
   "execution_count": 1185,
   "metadata": {
    "ExecuteTime": {
     "end_time": "2019-06-12T15:50:47.054817Z",
     "start_time": "2019-06-12T15:50:47.040921Z"
    }
   },
   "outputs": [
    {
     "data": {
      "text/html": [
       "<div>\n",
       "<style scoped>\n",
       "    .dataframe tbody tr th:only-of-type {\n",
       "        vertical-align: middle;\n",
       "    }\n",
       "\n",
       "    .dataframe tbody tr th {\n",
       "        vertical-align: top;\n",
       "    }\n",
       "\n",
       "    .dataframe thead th {\n",
       "        text-align: right;\n",
       "    }\n",
       "</style>\n",
       "<table border=\"1\" class=\"dataframe\">\n",
       "  <thead>\n",
       "    <tr style=\"text-align: right;\">\n",
       "      <th></th>\n",
       "      <th>service_id</th>\n",
       "      <th>monday</th>\n",
       "      <th>tuesday</th>\n",
       "      <th>wednesday</th>\n",
       "      <th>thursday</th>\n",
       "      <th>friday</th>\n",
       "      <th>saturday</th>\n",
       "      <th>sunday</th>\n",
       "      <th>start_date</th>\n",
       "      <th>end_date</th>\n",
       "    </tr>\n",
       "  </thead>\n",
       "  <tbody>\n",
       "    <tr>\n",
       "      <th>6</th>\n",
       "      <td>T0</td>\n",
       "      <td>1</td>\n",
       "      <td>1</td>\n",
       "      <td>1</td>\n",
       "      <td>1</td>\n",
       "      <td>1</td>\n",
       "      <td>0</td>\n",
       "      <td>0</td>\n",
       "      <td>20190515</td>\n",
       "      <td>20190523</td>\n",
       "    </tr>\n",
       "    <tr>\n",
       "      <th>13</th>\n",
       "      <td>T0_1</td>\n",
       "      <td>1</td>\n",
       "      <td>1</td>\n",
       "      <td>1</td>\n",
       "      <td>1</td>\n",
       "      <td>1</td>\n",
       "      <td>0</td>\n",
       "      <td>0</td>\n",
       "      <td>20190530</td>\n",
       "      <td>20190606</td>\n",
       "    </tr>\n",
       "    <tr>\n",
       "      <th>16</th>\n",
       "      <td>T0_2</td>\n",
       "      <td>1</td>\n",
       "      <td>1</td>\n",
       "      <td>1</td>\n",
       "      <td>1</td>\n",
       "      <td>1</td>\n",
       "      <td>0</td>\n",
       "      <td>0</td>\n",
       "      <td>20190607</td>\n",
       "      <td>20190628</td>\n",
       "    </tr>\n",
       "    <tr>\n",
       "      <th>20</th>\n",
       "      <td>T0_3</td>\n",
       "      <td>1</td>\n",
       "      <td>1</td>\n",
       "      <td>1</td>\n",
       "      <td>1</td>\n",
       "      <td>1</td>\n",
       "      <td>0</td>\n",
       "      <td>0</td>\n",
       "      <td>20190629</td>\n",
       "      <td>20190810</td>\n",
       "    </tr>\n",
       "    <tr>\n",
       "      <th>11</th>\n",
       "      <td>T0</td>\n",
       "      <td>1</td>\n",
       "      <td>1</td>\n",
       "      <td>1</td>\n",
       "      <td>1</td>\n",
       "      <td>1</td>\n",
       "      <td>0</td>\n",
       "      <td>0</td>\n",
       "      <td>20190524</td>\n",
       "      <td>20190810</td>\n",
       "    </tr>\n",
       "  </tbody>\n",
       "</table>\n",
       "</div>"
      ],
      "text/plain": [
       "   service_id  monday  tuesday  wednesday  thursday  friday  saturday  sunday  \\\n",
       "6          T0       1        1          1         1       1         0       0   \n",
       "13       T0_1       1        1          1         1       1         0       0   \n",
       "16       T0_2       1        1          1         1       1         0       0   \n",
       "20       T0_3       1        1          1         1       1         0       0   \n",
       "11         T0       1        1          1         1       1         0       0   \n",
       "\n",
       "    start_date  end_date  \n",
       "6     20190515  20190523  \n",
       "13    20190530  20190606  \n",
       "16    20190607  20190628  \n",
       "20    20190629  20190810  \n",
       "11    20190524  20190810  "
      ]
     },
     "execution_count": 1185,
     "metadata": {},
     "output_type": "execute_result"
    }
   ],
   "source": [
    "calendar_df"
   ]
  },
  {
   "cell_type": "code",
   "execution_count": 1186,
   "metadata": {
    "ExecuteTime": {
     "end_time": "2019-06-12T15:50:47.064355Z",
     "start_time": "2019-06-12T15:50:47.057149Z"
    }
   },
   "outputs": [],
   "source": [
    "trips_df = trips_df[trips_df.service_id.isin(calendar_df.service_id.tolist())]"
   ]
  },
  {
   "cell_type": "code",
   "execution_count": 1187,
   "metadata": {
    "ExecuteTime": {
     "end_time": "2019-06-12T15:50:47.099783Z",
     "start_time": "2019-06-12T15:50:47.066310Z"
    }
   },
   "outputs": [],
   "source": [
    "set_trip_id = set(trips_df.trip_id.tolist())\n",
    "set_trip_id_list = list(set_trip_id)\n",
    "stop_times_df = stop_times_df[stop_times_df.trip_id.isin(set_trip_id_list)]"
   ]
  },
  {
   "cell_type": "code",
   "execution_count": 1188,
   "metadata": {
    "ExecuteTime": {
     "end_time": "2019-06-12T15:50:47.125357Z",
     "start_time": "2019-06-12T15:50:47.103171Z"
    }
   },
   "outputs": [],
   "source": [
    "stop_times_df = pd.merge(stop_times_df, stops_df, on='stop_id', how='left')"
   ]
  },
  {
   "cell_type": "code",
   "execution_count": 1189,
   "metadata": {
    "ExecuteTime": {
     "end_time": "2019-06-12T15:50:47.142354Z",
     "start_time": "2019-06-12T15:50:47.127118Z"
    }
   },
   "outputs": [
    {
     "data": {
      "text/html": [
       "<div>\n",
       "<style scoped>\n",
       "    .dataframe tbody tr th:only-of-type {\n",
       "        vertical-align: middle;\n",
       "    }\n",
       "\n",
       "    .dataframe tbody tr th {\n",
       "        vertical-align: top;\n",
       "    }\n",
       "\n",
       "    .dataframe thead th {\n",
       "        text-align: right;\n",
       "    }\n",
       "</style>\n",
       "<table border=\"1\" class=\"dataframe\">\n",
       "  <thead>\n",
       "    <tr style=\"text-align: right;\">\n",
       "      <th></th>\n",
       "      <th>ID</th>\n",
       "      <th>Address</th>\n",
       "      <th>Rooms</th>\n",
       "      <th>Type</th>\n",
       "      <th>Price</th>\n",
       "      <th>Date</th>\n",
       "      <th>Bathroom</th>\n",
       "      <th>Car</th>\n",
       "      <th>Landsize</th>\n",
       "      <th>Age</th>\n",
       "      <th>Lattitude</th>\n",
       "      <th>Longtitude</th>\n",
       "      <th>Suburb</th>\n",
       "      <th>train_station_id</th>\n",
       "    </tr>\n",
       "  </thead>\n",
       "  <tbody>\n",
       "    <tr>\n",
       "      <th>0</th>\n",
       "      <td>ID648060837</td>\n",
       "      <td>8/131 Grange Rd</td>\n",
       "      <td>1</td>\n",
       "      <td>u</td>\n",
       "      <td>260000.0</td>\n",
       "      <td>13/05/2017</td>\n",
       "      <td>1.0</td>\n",
       "      <td>1.0</td>\n",
       "      <td>1162.0</td>\n",
       "      <td>54.0</td>\n",
       "      <td>-37.8911</td>\n",
       "      <td>145.0451</td>\n",
       "      <td>GLEN HUNTLY</td>\n",
       "      <td>0</td>\n",
       "    </tr>\n",
       "    <tr>\n",
       "      <th>1</th>\n",
       "      <td>ID604692611</td>\n",
       "      <td>76 Newry St</td>\n",
       "      <td>2</td>\n",
       "      <td>h</td>\n",
       "      <td>1116000.0</td>\n",
       "      <td>3/09/2016</td>\n",
       "      <td>1.0</td>\n",
       "      <td>0.0</td>\n",
       "      <td>152.0</td>\n",
       "      <td>109.0</td>\n",
       "      <td>-37.7910</td>\n",
       "      <td>144.9809</td>\n",
       "      <td>FITZROY NORTH</td>\n",
       "      <td>0</td>\n",
       "    </tr>\n",
       "    <tr>\n",
       "      <th>2</th>\n",
       "      <td>ID803803522</td>\n",
       "      <td>22 Kyarra Rd</td>\n",
       "      <td>4</td>\n",
       "      <td>h</td>\n",
       "      <td>1857000.0</td>\n",
       "      <td>25/02/2017</td>\n",
       "      <td>2.0</td>\n",
       "      <td>3.0</td>\n",
       "      <td>548.0</td>\n",
       "      <td>89.0</td>\n",
       "      <td>-37.8536</td>\n",
       "      <td>145.0547</td>\n",
       "      <td>GLEN IRIS</td>\n",
       "      <td>0</td>\n",
       "    </tr>\n",
       "    <tr>\n",
       "      <th>3</th>\n",
       "      <td>ID344558125</td>\n",
       "      <td>5/698 Inkerman Rd</td>\n",
       "      <td>2</td>\n",
       "      <td>u</td>\n",
       "      <td>523000.0</td>\n",
       "      <td>7/11/2016</td>\n",
       "      <td>1.0</td>\n",
       "      <td>1.0</td>\n",
       "      <td>0.0</td>\n",
       "      <td>59.0</td>\n",
       "      <td>-37.8694</td>\n",
       "      <td>145.0246</td>\n",
       "      <td>CAULFIELD NORTH</td>\n",
       "      <td>0</td>\n",
       "    </tr>\n",
       "    <tr>\n",
       "      <th>4</th>\n",
       "      <td>ID809539804</td>\n",
       "      <td>5/25 Clarence St</td>\n",
       "      <td>1</td>\n",
       "      <td>u</td>\n",
       "      <td>373000.0</td>\n",
       "      <td>24/09/2016</td>\n",
       "      <td>1.0</td>\n",
       "      <td>1.0</td>\n",
       "      <td>0.0</td>\n",
       "      <td>54.0</td>\n",
       "      <td>-37.8728</td>\n",
       "      <td>145.0417</td>\n",
       "      <td>MALVERN EAST</td>\n",
       "      <td>0</td>\n",
       "    </tr>\n",
       "  </tbody>\n",
       "</table>\n",
       "</div>"
      ],
      "text/plain": [
       "            ID            Address  Rooms Type      Price        Date  \\\n",
       "0  ID648060837    8/131 Grange Rd      1    u   260000.0  13/05/2017   \n",
       "1  ID604692611        76 Newry St      2    h  1116000.0   3/09/2016   \n",
       "2  ID803803522       22 Kyarra Rd      4    h  1857000.0  25/02/2017   \n",
       "3  ID344558125  5/698 Inkerman Rd      2    u   523000.0   7/11/2016   \n",
       "4  ID809539804   5/25 Clarence St      1    u   373000.0  24/09/2016   \n",
       "\n",
       "   Bathroom  Car  Landsize    Age  Lattitude  Longtitude           Suburb  \\\n",
       "0       1.0  1.0    1162.0   54.0   -37.8911    145.0451      GLEN HUNTLY   \n",
       "1       1.0  0.0     152.0  109.0   -37.7910    144.9809    FITZROY NORTH   \n",
       "2       2.0  3.0     548.0   89.0   -37.8536    145.0547        GLEN IRIS   \n",
       "3       1.0  1.0       0.0   59.0   -37.8694    145.0246  CAULFIELD NORTH   \n",
       "4       1.0  1.0       0.0   54.0   -37.8728    145.0417     MALVERN EAST   \n",
       "\n",
       "  train_station_id  \n",
       "0                0  \n",
       "1                0  \n",
       "2                0  \n",
       "3                0  \n",
       "4                0  "
      ]
     },
     "execution_count": 1189,
     "metadata": {},
     "output_type": "execute_result"
    }
   ],
   "source": [
    "property_info.head()"
   ]
  },
  {
   "cell_type": "code",
   "execution_count": 1190,
   "metadata": {
    "ExecuteTime": {
     "end_time": "2019-06-12T15:50:47.150028Z",
     "start_time": "2019-06-12T15:50:47.144201Z"
    }
   },
   "outputs": [],
   "source": [
    "stop_list = list(set(stop_times_df.stop_id.tolist()))"
   ]
  },
  {
   "cell_type": "code",
   "execution_count": 1191,
   "metadata": {
    "ExecuteTime": {
     "end_time": "2019-06-12T15:50:47.157385Z",
     "start_time": "2019-06-12T15:50:47.152360Z"
    }
   },
   "outputs": [],
   "source": [
    "from math import sin, cos, sqrt, atan2, radians\n",
    "def coordinate_distance(la1, lo1, la2, lo2):\n",
    "    # approximate radius of earth in km\n",
    "    R = 6378000.0\n",
    "\n",
    "    lat1 = radians(la1)\n",
    "    lon1 = radians(lo1)\n",
    "    lat2 = radians(la2)\n",
    "    lon2 = radians(lo2)\n",
    "\n",
    "    dlon = lon2 - lon1\n",
    "    dlat = lat2 - lat1\n",
    "\n",
    "    a = sin(dlat / 2)**2 + cos(lat1) * cos(lat2) * sin(dlon / 2)**2\n",
    "    c = 2 * atan2(sqrt(a), sqrt(1 - a))\n",
    "\n",
    "    distance = R * c\n",
    "    return distance"
   ]
  },
  {
   "cell_type": "code",
   "execution_count": 1192,
   "metadata": {
    "ExecuteTime": {
     "end_time": "2019-06-12T15:50:47.164065Z",
     "start_time": "2019-06-12T15:50:47.159556Z"
    }
   },
   "outputs": [
    {
     "data": {
      "text/plain": [
       "Index(['stop_id', 'stop_name', 'stop_lat', 'stop_lon'], dtype='object')"
      ]
     },
     "execution_count": 1192,
     "metadata": {},
     "output_type": "execute_result"
    }
   ],
   "source": [
    "stops_df.columns"
   ]
  },
  {
   "cell_type": "code",
   "execution_count": 1193,
   "metadata": {
    "ExecuteTime": {
     "end_time": "2019-06-12T15:50:47.170487Z",
     "start_time": "2019-06-12T15:50:47.166261Z"
    }
   },
   "outputs": [],
   "source": [
    "property_info[\"stop_id\"] = \"-1\"\n",
    "property_info[\"distance_to_train_stat\"] = 0.0"
   ]
  },
  {
   "cell_type": "code",
   "execution_count": 1194,
   "metadata": {
    "ExecuteTime": {
     "end_time": "2019-06-12T15:51:04.150694Z",
     "start_time": "2019-06-12T15:50:47.172532Z"
    }
   },
   "outputs": [],
   "source": [
    "for index, row in property_info.iterrows():\n",
    "    lat = row[10]\n",
    "    lon = row[11]\n",
    "    equal_dist = []\n",
    "    first = True\n",
    "    min_d = 0\n",
    "    for index2, row2 in stops_df.iterrows():\n",
    "        lat2 = row2[2]\n",
    "        lon2 = row2[3]\n",
    "        distance = coordinate_distance(lat, lon, lat2, lon2)\n",
    "        if first is True:\n",
    "            min_dist = distance\n",
    "            first = False\n",
    "            continue\n",
    "        if distance <= min_dist:\n",
    "            if distance == min_dist:\n",
    "                if row2[0] in stop_list:\n",
    "                    equal_dist.append(row2[0])\n",
    "                    continue\n",
    "            if distance < min_dist:\n",
    "                min_dist = distance\n",
    "                equal_dist.clear()\n",
    "                if(row2[0] in stop_list):\n",
    "                    equal_dist.append(row2[0])         \n",
    "        min_d = min_dist\n",
    "    \n",
    "    equal_dist = list(set(equal_dist))\n",
    "    property_info.set_value(index, 'stop_id', equal_dist)\n",
    "    property_info.set_value(index, 'distance_to_train_stat', min_d)\n",
    "    "
   ]
  },
  {
   "cell_type": "code",
   "execution_count": 1195,
   "metadata": {
    "ExecuteTime": {
     "end_time": "2019-06-12T15:51:04.219450Z",
     "start_time": "2019-06-12T15:51:04.152919Z"
    }
   },
   "outputs": [],
   "source": [
    "stops_in_prop = []\n",
    "for index, row in property_info.iterrows():\n",
    "    stops_in_prop.extend(row[14])\n",
    "stops_in_prop = list(set(stops_in_prop))"
   ]
  },
  {
   "cell_type": "code",
   "execution_count": 1196,
   "metadata": {
    "ExecuteTime": {
     "end_time": "2019-06-12T15:51:04.224760Z",
     "start_time": "2019-06-12T15:51:04.221540Z"
    }
   },
   "outputs": [],
   "source": [
    "stops_in_prop.append(20043)\n",
    "stops_in_prop.append(22180)"
   ]
  },
  {
   "cell_type": "code",
   "execution_count": 1197,
   "metadata": {
    "ExecuteTime": {
     "end_time": "2019-06-12T15:51:04.247507Z",
     "start_time": "2019-06-12T15:51:04.226919Z"
    }
   },
   "outputs": [
    {
     "data": {
      "text/plain": [
       "(41849, 12)"
      ]
     },
     "execution_count": 1197,
     "metadata": {},
     "output_type": "execute_result"
    }
   ],
   "source": [
    "stop_times_df = stop_times_df[stop_times_df.stop_id.isin(stops_in_prop)]\n",
    "stop_times_df.shape"
   ]
  },
  {
   "cell_type": "code",
   "execution_count": 1198,
   "metadata": {
    "ExecuteTime": {
     "end_time": "2019-06-12T15:51:04.260804Z",
     "start_time": "2019-06-12T15:51:04.249899Z"
    }
   },
   "outputs": [
    {
     "data": {
      "text/html": [
       "<div>\n",
       "<style scoped>\n",
       "    .dataframe tbody tr th:only-of-type {\n",
       "        vertical-align: middle;\n",
       "    }\n",
       "\n",
       "    .dataframe tbody tr th {\n",
       "        vertical-align: top;\n",
       "    }\n",
       "\n",
       "    .dataframe thead th {\n",
       "        text-align: right;\n",
       "    }\n",
       "</style>\n",
       "<table border=\"1\" class=\"dataframe\">\n",
       "  <thead>\n",
       "    <tr style=\"text-align: right;\">\n",
       "      <th></th>\n",
       "      <th>trip_id</th>\n",
       "      <th>arrival_time</th>\n",
       "      <th>departure_time</th>\n",
       "      <th>stop_id</th>\n",
       "      <th>stop_sequence</th>\n",
       "      <th>stop_headsign</th>\n",
       "      <th>pickup_type</th>\n",
       "      <th>drop_off_type</th>\n",
       "      <th>shape_dist_traveled</th>\n",
       "      <th>stop_name</th>\n",
       "      <th>stop_lat</th>\n",
       "      <th>stop_lon</th>\n",
       "    </tr>\n",
       "  </thead>\n",
       "  <tbody>\n",
       "    <tr>\n",
       "      <th>11</th>\n",
       "      <td>1051.T0.1-V08-G-mjp-1.1.H</td>\n",
       "      <td>09:09:00</td>\n",
       "      <td>09:09:00</td>\n",
       "      <td>22250</td>\n",
       "      <td>18</td>\n",
       "      <td>NaN</td>\n",
       "      <td>1</td>\n",
       "      <td>0</td>\n",
       "      <td>244167.376904</td>\n",
       "      <td>Dandenong Railway Station (Dandenong)</td>\n",
       "      <td>-37.989968</td>\n",
       "      <td>145.209725</td>\n",
       "    </tr>\n",
       "  </tbody>\n",
       "</table>\n",
       "</div>"
      ],
      "text/plain": [
       "                      trip_id arrival_time departure_time  stop_id  \\\n",
       "11  1051.T0.1-V08-G-mjp-1.1.H     09:09:00       09:09:00    22250   \n",
       "\n",
       "    stop_sequence  stop_headsign  pickup_type  drop_off_type  \\\n",
       "11             18            NaN            1              0   \n",
       "\n",
       "    shape_dist_traveled                              stop_name   stop_lat  \\\n",
       "11        244167.376904  Dandenong Railway Station (Dandenong) -37.989968   \n",
       "\n",
       "      stop_lon  \n",
       "11  145.209725  "
      ]
     },
     "execution_count": 1198,
     "metadata": {},
     "output_type": "execute_result"
    }
   ],
   "source": [
    "stop_times_df.head(1)"
   ]
  },
  {
   "cell_type": "code",
   "execution_count": 1199,
   "metadata": {
    "ExecuteTime": {
     "end_time": "2019-06-12T15:51:07.369460Z",
     "start_time": "2019-06-12T15:51:04.262701Z"
    }
   },
   "outputs": [],
   "source": [
    "southern_cross_arrival_dict = {}\n",
    "for index, row in stop_times_df.iterrows():\n",
    "    if row[3] == 20043 or row[3] == 22180:\n",
    "        southern_cross_arrival_dict[row[0]] = row[1] \n",
    "        "
   ]
  },
  {
   "cell_type": "code",
   "execution_count": 1200,
   "metadata": {
    "ExecuteTime": {
     "end_time": "2019-06-12T15:51:07.383828Z",
     "start_time": "2019-06-12T15:51:07.371556Z"
    }
   },
   "outputs": [],
   "source": [
    "stop_times_df = stop_times_df[(stop_times_df.departure_time > '07:00:00') & (stop_times_df.departure_time < '09:30:00')]"
   ]
  },
  {
   "cell_type": "code",
   "execution_count": 1201,
   "metadata": {
    "ExecuteTime": {
     "end_time": "2019-06-12T15:51:07.393319Z",
     "start_time": "2019-06-12T15:51:07.386065Z"
    }
   },
   "outputs": [
    {
     "data": {
      "text/plain": [
       "(8334, 12)"
      ]
     },
     "execution_count": 1201,
     "metadata": {},
     "output_type": "execute_result"
    }
   ],
   "source": [
    "stop_times_df.shape"
   ]
  },
  {
   "cell_type": "code",
   "execution_count": 1202,
   "metadata": {
    "ExecuteTime": {
     "end_time": "2019-06-12T15:51:27.066005Z",
     "start_time": "2019-06-12T15:51:07.396514Z"
    }
   },
   "outputs": [],
   "source": [
    "from datetime import datetime\n",
    "FMT = '%H:%M:%S'\n",
    "\n",
    "property_info[\"dict\"] = \"\"\n",
    "\n",
    "for index, row in property_info.iterrows():\n",
    "    dict_stop = {}\n",
    "    stop_list = row[14]\n",
    "    if(len(stop_list) == 1):\n",
    "        property_info.set_value(index, 'train_station_id', stop_list[0])\n",
    "        property_info.set_value(index, \"dict\", dict_stop)\n",
    "    if(len(stop_list) > 1):\n",
    "        stop_id = \"\"\n",
    "        trip_id = \"\"\n",
    "        departure = \"\"\n",
    "        arrival = \"\"\n",
    "        for index2, row2 in stop_times_df.iterrows():\n",
    "            if row2[3] not in stop_list:\n",
    "                continue\n",
    "            if row2[3] in stop_list:\n",
    "                stop_id = row2[3]\n",
    "                trip_id = row2[0]\n",
    "                departure = row2[2]\n",
    "                if trip_id in southern_cross_arrival_dict.keys():\n",
    "                    arrival = southern_cross_arrival_dict[trip_id]\n",
    "                    if arrival > departure:\n",
    "                        time = datetime.strptime(arrival, FMT) - datetime.strptime(departure, FMT)\n",
    "                    else:\n",
    "                        continue\n",
    "                    dict_stop[stop_id] = time\n",
    "                else:\n",
    "                    continue\n",
    "        property_info.set_value(index, \"dict\", dict_stop)"
   ]
  },
  {
   "cell_type": "code",
   "execution_count": 1203,
   "metadata": {
    "ExecuteTime": {
     "end_time": "2019-06-12T15:51:27.075654Z",
     "start_time": "2019-06-12T15:51:27.068584Z"
    }
   },
   "outputs": [
    {
     "name": "stdout",
     "output_type": "stream",
     "text": [
      "2:00:00\n"
     ]
    }
   ],
   "source": [
    "from datetime import datetime\n",
    "FMT = '%H:%M:%S'\n",
    "tdelta1 = datetime.strptime(\"06:00:00\", FMT)\n",
    "tdelta2 = datetime.strptime(\"08:00:00\", FMT)\n",
    "print(tdelta2 - tdelta1)"
   ]
  },
  {
   "cell_type": "code",
   "execution_count": 1204,
   "metadata": {
    "ExecuteTime": {
     "end_time": "2019-06-12T15:51:27.105754Z",
     "start_time": "2019-06-12T15:51:27.077953Z"
    }
   },
   "outputs": [
    {
     "data": {
      "text/html": [
       "<div>\n",
       "<style scoped>\n",
       "    .dataframe tbody tr th:only-of-type {\n",
       "        vertical-align: middle;\n",
       "    }\n",
       "\n",
       "    .dataframe tbody tr th {\n",
       "        vertical-align: top;\n",
       "    }\n",
       "\n",
       "    .dataframe thead th {\n",
       "        text-align: right;\n",
       "    }\n",
       "</style>\n",
       "<table border=\"1\" class=\"dataframe\">\n",
       "  <thead>\n",
       "    <tr style=\"text-align: right;\">\n",
       "      <th></th>\n",
       "      <th>ID</th>\n",
       "      <th>Address</th>\n",
       "      <th>Rooms</th>\n",
       "      <th>Type</th>\n",
       "      <th>Price</th>\n",
       "      <th>Date</th>\n",
       "      <th>Bathroom</th>\n",
       "      <th>Car</th>\n",
       "      <th>Landsize</th>\n",
       "      <th>Age</th>\n",
       "      <th>Lattitude</th>\n",
       "      <th>Longtitude</th>\n",
       "      <th>Suburb</th>\n",
       "      <th>train_station_id</th>\n",
       "      <th>stop_id</th>\n",
       "      <th>distance_to_train_stat</th>\n",
       "      <th>dict</th>\n",
       "    </tr>\n",
       "  </thead>\n",
       "  <tbody>\n",
       "    <tr>\n",
       "      <th>0</th>\n",
       "      <td>ID648060837</td>\n",
       "      <td>8/131 Grange Rd</td>\n",
       "      <td>1</td>\n",
       "      <td>u</td>\n",
       "      <td>260000.0</td>\n",
       "      <td>13/05/2017</td>\n",
       "      <td>1.0</td>\n",
       "      <td>1.0</td>\n",
       "      <td>1162.0</td>\n",
       "      <td>54.0</td>\n",
       "      <td>-37.8911</td>\n",
       "      <td>145.0451</td>\n",
       "      <td>GLEN HUNTLY</td>\n",
       "      <td>19942</td>\n",
       "      <td>[19942]</td>\n",
       "      <td>295.809056</td>\n",
       "      <td>{}</td>\n",
       "    </tr>\n",
       "    <tr>\n",
       "      <th>1</th>\n",
       "      <td>ID604692611</td>\n",
       "      <td>76 Newry St</td>\n",
       "      <td>2</td>\n",
       "      <td>h</td>\n",
       "      <td>1116000.0</td>\n",
       "      <td>3/09/2016</td>\n",
       "      <td>1.0</td>\n",
       "      <td>0.0</td>\n",
       "      <td>152.0</td>\n",
       "      <td>109.0</td>\n",
       "      <td>-37.7910</td>\n",
       "      <td>144.9809</td>\n",
       "      <td>FITZROY NORTH</td>\n",
       "      <td>19974</td>\n",
       "      <td>[19974]</td>\n",
       "      <td>1303.384256</td>\n",
       "      <td>{}</td>\n",
       "    </tr>\n",
       "    <tr>\n",
       "      <th>2</th>\n",
       "      <td>ID803803522</td>\n",
       "      <td>22 Kyarra Rd</td>\n",
       "      <td>4</td>\n",
       "      <td>h</td>\n",
       "      <td>1857000.0</td>\n",
       "      <td>25/02/2017</td>\n",
       "      <td>2.0</td>\n",
       "      <td>3.0</td>\n",
       "      <td>548.0</td>\n",
       "      <td>89.0</td>\n",
       "      <td>-37.8536</td>\n",
       "      <td>145.0547</td>\n",
       "      <td>GLEN IRIS</td>\n",
       "      <td>19912</td>\n",
       "      <td>[19912]</td>\n",
       "      <td>270.040873</td>\n",
       "      <td>{}</td>\n",
       "    </tr>\n",
       "    <tr>\n",
       "      <th>3</th>\n",
       "      <td>ID344558125</td>\n",
       "      <td>5/698 Inkerman Rd</td>\n",
       "      <td>2</td>\n",
       "      <td>u</td>\n",
       "      <td>523000.0</td>\n",
       "      <td>7/11/2016</td>\n",
       "      <td>1.0</td>\n",
       "      <td>1.0</td>\n",
       "      <td>0.0</td>\n",
       "      <td>59.0</td>\n",
       "      <td>-37.8694</td>\n",
       "      <td>145.0246</td>\n",
       "      <td>CAULFIELD NORTH</td>\n",
       "      <td>19944</td>\n",
       "      <td>[19944]</td>\n",
       "      <td>541.150936</td>\n",
       "      <td>{}</td>\n",
       "    </tr>\n",
       "    <tr>\n",
       "      <th>4</th>\n",
       "      <td>ID809539804</td>\n",
       "      <td>5/25 Clarence St</td>\n",
       "      <td>1</td>\n",
       "      <td>u</td>\n",
       "      <td>373000.0</td>\n",
       "      <td>24/09/2016</td>\n",
       "      <td>1.0</td>\n",
       "      <td>1.0</td>\n",
       "      <td>0.0</td>\n",
       "      <td>54.0</td>\n",
       "      <td>-37.8728</td>\n",
       "      <td>145.0417</td>\n",
       "      <td>MALVERN EAST</td>\n",
       "      <td>0</td>\n",
       "      <td>[22248, 19943]</td>\n",
       "      <td>523.716330</td>\n",
       "      <td>{22248: 0:20:00, 19943: 0:20:00}</td>\n",
       "    </tr>\n",
       "  </tbody>\n",
       "</table>\n",
       "</div>"
      ],
      "text/plain": [
       "            ID            Address  Rooms Type      Price        Date  \\\n",
       "0  ID648060837    8/131 Grange Rd      1    u   260000.0  13/05/2017   \n",
       "1  ID604692611        76 Newry St      2    h  1116000.0   3/09/2016   \n",
       "2  ID803803522       22 Kyarra Rd      4    h  1857000.0  25/02/2017   \n",
       "3  ID344558125  5/698 Inkerman Rd      2    u   523000.0   7/11/2016   \n",
       "4  ID809539804   5/25 Clarence St      1    u   373000.0  24/09/2016   \n",
       "\n",
       "   Bathroom  Car  Landsize    Age  Lattitude  Longtitude           Suburb  \\\n",
       "0       1.0  1.0    1162.0   54.0   -37.8911    145.0451      GLEN HUNTLY   \n",
       "1       1.0  0.0     152.0  109.0   -37.7910    144.9809    FITZROY NORTH   \n",
       "2       2.0  3.0     548.0   89.0   -37.8536    145.0547        GLEN IRIS   \n",
       "3       1.0  1.0       0.0   59.0   -37.8694    145.0246  CAULFIELD NORTH   \n",
       "4       1.0  1.0       0.0   54.0   -37.8728    145.0417     MALVERN EAST   \n",
       "\n",
       "  train_station_id         stop_id  distance_to_train_stat  \\\n",
       "0            19942         [19942]              295.809056   \n",
       "1            19974         [19974]             1303.384256   \n",
       "2            19912         [19912]              270.040873   \n",
       "3            19944         [19944]              541.150936   \n",
       "4                0  [22248, 19943]              523.716330   \n",
       "\n",
       "                               dict  \n",
       "0                                {}  \n",
       "1                                {}  \n",
       "2                                {}  \n",
       "3                                {}  \n",
       "4  {22248: 0:20:00, 19943: 0:20:00}  "
      ]
     },
     "execution_count": 1204,
     "metadata": {},
     "output_type": "execute_result"
    }
   ],
   "source": [
    "property_info.head()"
   ]
  },
  {
   "cell_type": "code",
   "execution_count": 1205,
   "metadata": {
    "ExecuteTime": {
     "end_time": "2019-06-12T15:51:27.173047Z",
     "start_time": "2019-06-12T15:51:27.107910Z"
    }
   },
   "outputs": [],
   "source": [
    "import numpy as np\n",
    "for index, row in property_info.iterrows():\n",
    "    dict_stops = row[16]\n",
    "    if len(dict_stops) == 0:\n",
    "        continue\n",
    "    dict_stops = sorted(dict_stops.items(), key=lambda x: x[1])\n",
    "    for k,v in dict_stops:\n",
    "        property_info.set_value(index, \"train_station_id\", k)\n",
    "        break\n",
    "        "
   ]
  },
  {
   "cell_type": "code",
   "execution_count": 1206,
   "metadata": {
    "ExecuteTime": {
     "end_time": "2019-06-12T15:51:27.192144Z",
     "start_time": "2019-06-12T15:51:27.175015Z"
    }
   },
   "outputs": [
    {
     "data": {
      "text/html": [
       "<div>\n",
       "<style scoped>\n",
       "    .dataframe tbody tr th:only-of-type {\n",
       "        vertical-align: middle;\n",
       "    }\n",
       "\n",
       "    .dataframe tbody tr th {\n",
       "        vertical-align: top;\n",
       "    }\n",
       "\n",
       "    .dataframe thead th {\n",
       "        text-align: right;\n",
       "    }\n",
       "</style>\n",
       "<table border=\"1\" class=\"dataframe\">\n",
       "  <thead>\n",
       "    <tr style=\"text-align: right;\">\n",
       "      <th></th>\n",
       "      <th>ID</th>\n",
       "      <th>Address</th>\n",
       "      <th>Rooms</th>\n",
       "      <th>Type</th>\n",
       "      <th>Price</th>\n",
       "      <th>Date</th>\n",
       "      <th>Bathroom</th>\n",
       "      <th>Car</th>\n",
       "      <th>Landsize</th>\n",
       "      <th>Age</th>\n",
       "      <th>Lattitude</th>\n",
       "      <th>Longtitude</th>\n",
       "      <th>Suburb</th>\n",
       "      <th>train_station_id</th>\n",
       "      <th>stop_id</th>\n",
       "      <th>distance_to_train_stat</th>\n",
       "      <th>dict</th>\n",
       "    </tr>\n",
       "  </thead>\n",
       "  <tbody>\n",
       "    <tr>\n",
       "      <th>7</th>\n",
       "      <td>ID998136226</td>\n",
       "      <td>241 Buckley St</td>\n",
       "      <td>4</td>\n",
       "      <td>h</td>\n",
       "      <td>1380000.0</td>\n",
       "      <td>12/08/2017</td>\n",
       "      <td>2.0</td>\n",
       "      <td>2.0</td>\n",
       "      <td>766.0</td>\n",
       "      <td>139.0</td>\n",
       "      <td>-37.75595</td>\n",
       "      <td>144.90551</td>\n",
       "      <td>ABERFELDIE</td>\n",
       "      <td>22253</td>\n",
       "      <td>[20037, 22253]</td>\n",
       "      <td>940.633699</td>\n",
       "      <td>{22253: 0:18:00, 20037: 0:24:00}</td>\n",
       "    </tr>\n",
       "  </tbody>\n",
       "</table>\n",
       "</div>"
      ],
      "text/plain": [
       "            ID         Address  Rooms Type      Price        Date  Bathroom  \\\n",
       "7  ID998136226  241 Buckley St      4    h  1380000.0  12/08/2017       2.0   \n",
       "\n",
       "   Car  Landsize    Age  Lattitude  Longtitude      Suburb train_station_id  \\\n",
       "7  2.0     766.0  139.0  -37.75595   144.90551  ABERFELDIE            22253   \n",
       "\n",
       "          stop_id  distance_to_train_stat                              dict  \n",
       "7  [20037, 22253]              940.633699  {22253: 0:18:00, 20037: 0:24:00}  "
      ]
     },
     "execution_count": 1206,
     "metadata": {},
     "output_type": "execute_result"
    }
   ],
   "source": [
    "property_info[property_info.ID == \"ID998136226\"]"
   ]
  },
  {
   "cell_type": "code",
   "execution_count": 1207,
   "metadata": {
    "ExecuteTime": {
     "end_time": "2019-06-12T15:51:27.198243Z",
     "start_time": "2019-06-12T15:51:27.194110Z"
    }
   },
   "outputs": [],
   "source": [
    "property_info.drop([\"dict\"], inplace=True, axis=1)"
   ]
  },
  {
   "cell_type": "code",
   "execution_count": 1208,
   "metadata": {
    "ExecuteTime": {
     "end_time": "2019-06-12T15:51:27.217101Z",
     "start_time": "2019-06-12T15:51:27.200341Z"
    }
   },
   "outputs": [
    {
     "data": {
      "text/html": [
       "<div>\n",
       "<style scoped>\n",
       "    .dataframe tbody tr th:only-of-type {\n",
       "        vertical-align: middle;\n",
       "    }\n",
       "\n",
       "    .dataframe tbody tr th {\n",
       "        vertical-align: top;\n",
       "    }\n",
       "\n",
       "    .dataframe thead th {\n",
       "        text-align: right;\n",
       "    }\n",
       "</style>\n",
       "<table border=\"1\" class=\"dataframe\">\n",
       "  <thead>\n",
       "    <tr style=\"text-align: right;\">\n",
       "      <th></th>\n",
       "      <th>ID</th>\n",
       "      <th>Address</th>\n",
       "      <th>Rooms</th>\n",
       "      <th>Type</th>\n",
       "      <th>Price</th>\n",
       "      <th>Date</th>\n",
       "      <th>Bathroom</th>\n",
       "      <th>Car</th>\n",
       "      <th>Landsize</th>\n",
       "      <th>Age</th>\n",
       "      <th>Lattitude</th>\n",
       "      <th>Longtitude</th>\n",
       "      <th>Suburb</th>\n",
       "      <th>train_station_id</th>\n",
       "      <th>distance_to_train_stat</th>\n",
       "    </tr>\n",
       "  </thead>\n",
       "  <tbody>\n",
       "    <tr>\n",
       "      <th>0</th>\n",
       "      <td>ID648060837</td>\n",
       "      <td>8/131 Grange Rd</td>\n",
       "      <td>1</td>\n",
       "      <td>u</td>\n",
       "      <td>260000.0</td>\n",
       "      <td>13/05/2017</td>\n",
       "      <td>1.0</td>\n",
       "      <td>1.0</td>\n",
       "      <td>1162.0</td>\n",
       "      <td>54.0</td>\n",
       "      <td>-37.8911</td>\n",
       "      <td>145.0451</td>\n",
       "      <td>GLEN HUNTLY</td>\n",
       "      <td>19942</td>\n",
       "      <td>295.809056</td>\n",
       "    </tr>\n",
       "    <tr>\n",
       "      <th>1</th>\n",
       "      <td>ID604692611</td>\n",
       "      <td>76 Newry St</td>\n",
       "      <td>2</td>\n",
       "      <td>h</td>\n",
       "      <td>1116000.0</td>\n",
       "      <td>3/09/2016</td>\n",
       "      <td>1.0</td>\n",
       "      <td>0.0</td>\n",
       "      <td>152.0</td>\n",
       "      <td>109.0</td>\n",
       "      <td>-37.7910</td>\n",
       "      <td>144.9809</td>\n",
       "      <td>FITZROY NORTH</td>\n",
       "      <td>19974</td>\n",
       "      <td>1303.384256</td>\n",
       "    </tr>\n",
       "    <tr>\n",
       "      <th>2</th>\n",
       "      <td>ID803803522</td>\n",
       "      <td>22 Kyarra Rd</td>\n",
       "      <td>4</td>\n",
       "      <td>h</td>\n",
       "      <td>1857000.0</td>\n",
       "      <td>25/02/2017</td>\n",
       "      <td>2.0</td>\n",
       "      <td>3.0</td>\n",
       "      <td>548.0</td>\n",
       "      <td>89.0</td>\n",
       "      <td>-37.8536</td>\n",
       "      <td>145.0547</td>\n",
       "      <td>GLEN IRIS</td>\n",
       "      <td>19912</td>\n",
       "      <td>270.040873</td>\n",
       "    </tr>\n",
       "    <tr>\n",
       "      <th>3</th>\n",
       "      <td>ID344558125</td>\n",
       "      <td>5/698 Inkerman Rd</td>\n",
       "      <td>2</td>\n",
       "      <td>u</td>\n",
       "      <td>523000.0</td>\n",
       "      <td>7/11/2016</td>\n",
       "      <td>1.0</td>\n",
       "      <td>1.0</td>\n",
       "      <td>0.0</td>\n",
       "      <td>59.0</td>\n",
       "      <td>-37.8694</td>\n",
       "      <td>145.0246</td>\n",
       "      <td>CAULFIELD NORTH</td>\n",
       "      <td>19944</td>\n",
       "      <td>541.150936</td>\n",
       "    </tr>\n",
       "    <tr>\n",
       "      <th>4</th>\n",
       "      <td>ID809539804</td>\n",
       "      <td>5/25 Clarence St</td>\n",
       "      <td>1</td>\n",
       "      <td>u</td>\n",
       "      <td>373000.0</td>\n",
       "      <td>24/09/2016</td>\n",
       "      <td>1.0</td>\n",
       "      <td>1.0</td>\n",
       "      <td>0.0</td>\n",
       "      <td>54.0</td>\n",
       "      <td>-37.8728</td>\n",
       "      <td>145.0417</td>\n",
       "      <td>MALVERN EAST</td>\n",
       "      <td>22248</td>\n",
       "      <td>523.716330</td>\n",
       "    </tr>\n",
       "  </tbody>\n",
       "</table>\n",
       "</div>"
      ],
      "text/plain": [
       "            ID            Address  Rooms Type      Price        Date  \\\n",
       "0  ID648060837    8/131 Grange Rd      1    u   260000.0  13/05/2017   \n",
       "1  ID604692611        76 Newry St      2    h  1116000.0   3/09/2016   \n",
       "2  ID803803522       22 Kyarra Rd      4    h  1857000.0  25/02/2017   \n",
       "3  ID344558125  5/698 Inkerman Rd      2    u   523000.0   7/11/2016   \n",
       "4  ID809539804   5/25 Clarence St      1    u   373000.0  24/09/2016   \n",
       "\n",
       "   Bathroom  Car  Landsize    Age  Lattitude  Longtitude           Suburb  \\\n",
       "0       1.0  1.0    1162.0   54.0   -37.8911    145.0451      GLEN HUNTLY   \n",
       "1       1.0  0.0     152.0  109.0   -37.7910    144.9809    FITZROY NORTH   \n",
       "2       2.0  3.0     548.0   89.0   -37.8536    145.0547        GLEN IRIS   \n",
       "3       1.0  1.0       0.0   59.0   -37.8694    145.0246  CAULFIELD NORTH   \n",
       "4       1.0  1.0       0.0   54.0   -37.8728    145.0417     MALVERN EAST   \n",
       "\n",
       "  train_station_id  distance_to_train_stat  \n",
       "0            19942              295.809056  \n",
       "1            19974             1303.384256  \n",
       "2            19912              270.040873  \n",
       "3            19944              541.150936  \n",
       "4            22248              523.716330  "
      ]
     },
     "execution_count": 1208,
     "metadata": {},
     "output_type": "execute_result"
    }
   ],
   "source": [
    "property_info.drop([\"stop_id\"], inplace=True, axis=1)\n",
    "property_info.head()"
   ]
  },
  {
   "cell_type": "code",
   "execution_count": 1209,
   "metadata": {
    "ExecuteTime": {
     "end_time": "2019-06-12T15:51:27.232032Z",
     "start_time": "2019-06-12T15:51:27.220477Z"
    }
   },
   "outputs": [
    {
     "data": {
      "text/plain": [
       "Index(['ID', 'Address', 'Rooms', 'Type', 'Price', 'Date', 'Bathroom', 'Car',\n",
       "       'Landsize', 'Age', 'Lattitude', 'Longtitude', 'Suburb',\n",
       "       'train_station_id', 'distance_to_train_stat'],\n",
       "      dtype='object')"
      ]
     },
     "execution_count": 1209,
     "metadata": {},
     "output_type": "execute_result"
    }
   ],
   "source": [
    "property_info.columns"
   ]
  },
  {
   "cell_type": "code",
   "execution_count": 1210,
   "metadata": {
    "ExecuteTime": {
     "end_time": "2019-06-12T15:51:27.245698Z",
     "start_time": "2019-06-12T15:51:27.237610Z"
    }
   },
   "outputs": [
    {
     "data": {
      "text/plain": [
       "(8334, 12)"
      ]
     },
     "execution_count": 1210,
     "metadata": {},
     "output_type": "execute_result"
    }
   ],
   "source": [
    "stop_times_df.shape"
   ]
  },
  {
   "cell_type": "markdown",
   "metadata": {},
   "source": [
    "### travel_min_to_CBD\n",
    "\n",
    "Methodology:\n",
    " * Add a new column in property_info dataset with default value 0\n",
    " * From previous part we have created a dictionary which will save trip id with arrival time of Southern Cross as value. This will act as a lookup dictionary.\n",
    " * for each stop_id in property data structure, iterate through the stop times, get trip id and find the difference between time stopid departure time and southern cross arrival time, append this to a list.\n",
    " * After the iteration, the average of times will be appended to the column"
   ]
  },
  {
   "cell_type": "code",
   "execution_count": 1211,
   "metadata": {
    "ExecuteTime": {
     "end_time": "2019-06-12T15:57:24.837203Z",
     "start_time": "2019-06-12T15:51:27.248573Z"
    }
   },
   "outputs": [],
   "source": [
    "property_info[\"travel_min_to_CBD\"] = \"0\"\n",
    "\n",
    "for index, row in property_info.iterrows():\n",
    "    stop_id = row[13]\n",
    "    time_list = []\n",
    "    departure = \"\"\n",
    "    for index2, row2 in stop_times_df.iterrows():\n",
    "        if stop_id != row2[3]:\n",
    "            continue\n",
    "        if stop_id == row2[3]:\n",
    "            departure = row2[2]\n",
    "            trip_id = row2[0]\n",
    "            if trip_id in southern_cross_arrival_dict.keys():\n",
    "                arrival = southern_cross_arrival_dict[trip_id]\n",
    "            if arrival > departure:\n",
    "                time = datetime.strptime(arrival, FMT) - datetime.strptime(departure, FMT)\n",
    "                time_list.append(time.total_seconds())\n",
    "            else:\n",
    "                continue\n",
    "\n",
    "    time_list = list(set(time_list))\n",
    "    if len(time_list) > 0:\n",
    "        property_info.set_value(index, \"travel_min_to_CBD\", sum(time_list)/len(time_list))"
   ]
  },
  {
   "cell_type": "markdown",
   "metadata": {},
   "source": [
    "### over_priced?"
   ]
  },
  {
   "cell_type": "markdown",
   "metadata": {},
   "source": [
    "Methodology:\n",
    " * Iterate through the property dataset, create a dictionary and populate the dictionary with the similar properties(using concat function) as key and price appended to a list as value.\n",
    " * Find the median of prices and replace the value in dictionary\n",
    " * Iterate through the property dataset and if the price is greater than median, insert value 1 to over_priced else 0"
   ]
  },
  {
   "cell_type": "markdown",
   "metadata": {},
   "source": [
    "Adding a new feature to property_info dataframe to indicate over-price"
   ]
  },
  {
   "cell_type": "code",
   "execution_count": 1212,
   "metadata": {
    "ExecuteTime": {
     "end_time": "2019-06-12T15:57:24.848510Z",
     "start_time": "2019-06-12T15:57:24.840291Z"
    }
   },
   "outputs": [],
   "source": [
    "property_info[\"over_priced?\"] = \"-1\""
   ]
  },
  {
   "cell_type": "markdown",
   "metadata": {},
   "source": [
    "Adding a temporary column to calculate over-price. This will contain a generated hash value which will be used as a key to the dictionary"
   ]
  },
  {
   "cell_type": "code",
   "execution_count": 1213,
   "metadata": {
    "ExecuteTime": {
     "end_time": "2019-06-12T15:57:24.881084Z",
     "start_time": "2019-06-12T15:57:24.851577Z"
    }
   },
   "outputs": [],
   "source": [
    "property_info[\"hash\"] = \"-1\""
   ]
  },
  {
   "cell_type": "markdown",
   "metadata": {},
   "source": [
    "A function which will be used to generate a key to the dictionary. Key will be a concatenated string after extracting rooms, house type, car parking, bathroom, suburb and year "
   ]
  },
  {
   "cell_type": "code",
   "execution_count": 1214,
   "metadata": {
    "ExecuteTime": {
     "end_time": "2019-06-12T15:57:24.893641Z",
     "start_time": "2019-06-12T15:57:24.885336Z"
    }
   },
   "outputs": [],
   "source": [
    "def concat(a, b, c, d, e, f):\n",
    "    final = str(a) + str(b) + str(c) + str(d) + str(e) + str(f)\n",
    "    return final"
   ]
  },
  {
   "cell_type": "code",
   "execution_count": 1215,
   "metadata": {
    "ExecuteTime": {
     "end_time": "2019-06-12T15:57:25.022689Z",
     "start_time": "2019-06-12T15:57:24.897151Z"
    }
   },
   "outputs": [],
   "source": [
    "# An empty dictionary\n",
    "similar_prop = {}\n",
    "\n",
    "# Iterates through all the records and populate the dictionary\n",
    "for index, row in property_info.iterrows():\n",
    "    rooms = row[2]\n",
    "    house_type = row[3]\n",
    "    car_parking = row[7]\n",
    "    bathroom = row[6]\n",
    "    suburb = row[12]\n",
    "    year = row[5].split(\"/\")[2]\n",
    "    first = concat(rooms, house_type, car_parking, bathroom, suburb, year)\n",
    "    if first in similar_prop.keys():\n",
    "        li = similar_prop[first]\n",
    "        li.append(row[4])\n",
    "    else:\n",
    "        similar_prop[first] = [row[4]]"
   ]
  },
  {
   "cell_type": "markdown",
   "metadata": {
    "ExecuteTime": {
     "end_time": "2019-06-05T12:52:19.609541Z",
     "start_time": "2019-06-05T12:52:19.578748Z"
    }
   },
   "source": [
    "The populated dictionary will have the list of prices as value. Calculating the median of the price below:"
   ]
  },
  {
   "cell_type": "code",
   "execution_count": 1216,
   "metadata": {
    "ExecuteTime": {
     "end_time": "2019-06-12T15:57:25.028770Z",
     "start_time": "2019-06-12T15:57:25.024743Z"
    }
   },
   "outputs": [],
   "source": [
    "for k,v in similar_prop.items():\n",
    "    v = sorted(v)\n",
    "    v = median(v)\n",
    "    similar_prop[k] = v    "
   ]
  },
  {
   "cell_type": "markdown",
   "metadata": {
    "ExecuteTime": {
     "end_time": "2019-06-05T12:53:12.168694Z",
     "start_time": "2019-06-05T12:53:12.164206Z"
    }
   },
   "source": [
    "Iterating through all the columns and checking if the price is greater than the median value."
   ]
  },
  {
   "cell_type": "code",
   "execution_count": 1217,
   "metadata": {
    "ExecuteTime": {
     "end_time": "2019-06-12T15:57:25.166166Z",
     "start_time": "2019-06-12T15:57:25.030654Z"
    }
   },
   "outputs": [],
   "source": [
    "for index, row in property_info.iterrows():\n",
    "    rooms = row[2]\n",
    "    house_type = row[3]\n",
    "    car_parking = row[7]\n",
    "    bathroom = row[6]\n",
    "    suburb = row[12]\n",
    "    year = row[5].split(\"/\")[2]\n",
    "    first = concat(rooms, house_type, car_parking, bathroom, suburb, year)\n",
    "    if first in similar_prop.keys():\n",
    "        if row[4] > similar_prop[first]:\n",
    "            property_info.set_value(index, 'over_priced?', 1)\n",
    "        else:\n",
    "            property_info.set_value(index, 'over_priced?', 0)\n",
    "    else:\n",
    "        property_info.set_value(index, 'over_priced?', -1)\n",
    "    "
   ]
  },
  {
   "cell_type": "code",
   "execution_count": 1218,
   "metadata": {
    "ExecuteTime": {
     "end_time": "2019-06-12T15:57:25.177470Z",
     "start_time": "2019-06-12T15:57:25.168219Z"
    }
   },
   "outputs": [
    {
     "data": {
      "text/plain": [
       "0    620\n",
       "1     53\n",
       "Name: over_priced?, dtype: int64"
      ]
     },
     "execution_count": 1218,
     "metadata": {},
     "output_type": "execute_result"
    }
   ],
   "source": [
    "property_info[\"over_priced?\"].value_counts()"
   ]
  },
  {
   "cell_type": "markdown",
   "metadata": {},
   "source": [
    "In the given dataset, 53 records are over-priced"
   ]
  },
  {
   "cell_type": "code",
   "execution_count": 1219,
   "metadata": {
    "ExecuteTime": {
     "end_time": "2019-06-12T15:57:25.189373Z",
     "start_time": "2019-06-12T15:57:25.181196Z"
    }
   },
   "outputs": [],
   "source": [
    "# Dropping the extra temporary column hash\n",
    "property_info.drop([\"hash\"], inplace=True, axis=1)"
   ]
  },
  {
   "cell_type": "code",
   "execution_count": 1220,
   "metadata": {
    "ExecuteTime": {
     "end_time": "2019-06-12T15:57:25.216045Z",
     "start_time": "2019-06-12T15:57:25.192857Z"
    }
   },
   "outputs": [
    {
     "data": {
      "text/html": [
       "<div>\n",
       "<style scoped>\n",
       "    .dataframe tbody tr th:only-of-type {\n",
       "        vertical-align: middle;\n",
       "    }\n",
       "\n",
       "    .dataframe tbody tr th {\n",
       "        vertical-align: top;\n",
       "    }\n",
       "\n",
       "    .dataframe thead th {\n",
       "        text-align: right;\n",
       "    }\n",
       "</style>\n",
       "<table border=\"1\" class=\"dataframe\">\n",
       "  <thead>\n",
       "    <tr style=\"text-align: right;\">\n",
       "      <th></th>\n",
       "      <th>ID</th>\n",
       "      <th>Address</th>\n",
       "      <th>Rooms</th>\n",
       "      <th>Type</th>\n",
       "      <th>Price</th>\n",
       "      <th>Date</th>\n",
       "      <th>Bathroom</th>\n",
       "      <th>Car</th>\n",
       "      <th>Landsize</th>\n",
       "      <th>Age</th>\n",
       "      <th>Lattitude</th>\n",
       "      <th>Longtitude</th>\n",
       "      <th>Suburb</th>\n",
       "      <th>train_station_id</th>\n",
       "      <th>distance_to_train_stat</th>\n",
       "      <th>travel_min_to_CBD</th>\n",
       "      <th>over_priced?</th>\n",
       "    </tr>\n",
       "  </thead>\n",
       "  <tbody>\n",
       "    <tr>\n",
       "      <th>0</th>\n",
       "      <td>ID648060837</td>\n",
       "      <td>8/131 Grange Rd</td>\n",
       "      <td>1</td>\n",
       "      <td>u</td>\n",
       "      <td>260000.0</td>\n",
       "      <td>13/05/2017</td>\n",
       "      <td>1.0</td>\n",
       "      <td>1.0</td>\n",
       "      <td>1162.0</td>\n",
       "      <td>54.0</td>\n",
       "      <td>-37.8911</td>\n",
       "      <td>145.0451</td>\n",
       "      <td>GLEN HUNTLY</td>\n",
       "      <td>19942</td>\n",
       "      <td>295.809056</td>\n",
       "      <td>2320</td>\n",
       "      <td>0</td>\n",
       "    </tr>\n",
       "    <tr>\n",
       "      <th>1</th>\n",
       "      <td>ID604692611</td>\n",
       "      <td>76 Newry St</td>\n",
       "      <td>2</td>\n",
       "      <td>h</td>\n",
       "      <td>1116000.0</td>\n",
       "      <td>3/09/2016</td>\n",
       "      <td>1.0</td>\n",
       "      <td>0.0</td>\n",
       "      <td>152.0</td>\n",
       "      <td>109.0</td>\n",
       "      <td>-37.7910</td>\n",
       "      <td>144.9809</td>\n",
       "      <td>FITZROY NORTH</td>\n",
       "      <td>19974</td>\n",
       "      <td>1303.384256</td>\n",
       "      <td>3810</td>\n",
       "      <td>0</td>\n",
       "    </tr>\n",
       "    <tr>\n",
       "      <th>2</th>\n",
       "      <td>ID803803522</td>\n",
       "      <td>22 Kyarra Rd</td>\n",
       "      <td>4</td>\n",
       "      <td>h</td>\n",
       "      <td>1857000.0</td>\n",
       "      <td>25/02/2017</td>\n",
       "      <td>2.0</td>\n",
       "      <td>3.0</td>\n",
       "      <td>548.0</td>\n",
       "      <td>89.0</td>\n",
       "      <td>-37.8536</td>\n",
       "      <td>145.0547</td>\n",
       "      <td>GLEN IRIS</td>\n",
       "      <td>19912</td>\n",
       "      <td>270.040873</td>\n",
       "      <td>3400</td>\n",
       "      <td>0</td>\n",
       "    </tr>\n",
       "    <tr>\n",
       "      <th>3</th>\n",
       "      <td>ID344558125</td>\n",
       "      <td>5/698 Inkerman Rd</td>\n",
       "      <td>2</td>\n",
       "      <td>u</td>\n",
       "      <td>523000.0</td>\n",
       "      <td>7/11/2016</td>\n",
       "      <td>1.0</td>\n",
       "      <td>1.0</td>\n",
       "      <td>0.0</td>\n",
       "      <td>59.0</td>\n",
       "      <td>-37.8694</td>\n",
       "      <td>145.0246</td>\n",
       "      <td>CAULFIELD NORTH</td>\n",
       "      <td>19944</td>\n",
       "      <td>541.150936</td>\n",
       "      <td>1883.08</td>\n",
       "      <td>0</td>\n",
       "    </tr>\n",
       "    <tr>\n",
       "      <th>4</th>\n",
       "      <td>ID809539804</td>\n",
       "      <td>5/25 Clarence St</td>\n",
       "      <td>1</td>\n",
       "      <td>u</td>\n",
       "      <td>373000.0</td>\n",
       "      <td>24/09/2016</td>\n",
       "      <td>1.0</td>\n",
       "      <td>1.0</td>\n",
       "      <td>0.0</td>\n",
       "      <td>54.0</td>\n",
       "      <td>-37.8728</td>\n",
       "      <td>145.0417</td>\n",
       "      <td>MALVERN EAST</td>\n",
       "      <td>22248</td>\n",
       "      <td>523.716330</td>\n",
       "      <td>2420</td>\n",
       "      <td>0</td>\n",
       "    </tr>\n",
       "  </tbody>\n",
       "</table>\n",
       "</div>"
      ],
      "text/plain": [
       "            ID            Address  Rooms Type      Price        Date  \\\n",
       "0  ID648060837    8/131 Grange Rd      1    u   260000.0  13/05/2017   \n",
       "1  ID604692611        76 Newry St      2    h  1116000.0   3/09/2016   \n",
       "2  ID803803522       22 Kyarra Rd      4    h  1857000.0  25/02/2017   \n",
       "3  ID344558125  5/698 Inkerman Rd      2    u   523000.0   7/11/2016   \n",
       "4  ID809539804   5/25 Clarence St      1    u   373000.0  24/09/2016   \n",
       "\n",
       "   Bathroom  Car  Landsize    Age  Lattitude  Longtitude           Suburb  \\\n",
       "0       1.0  1.0    1162.0   54.0   -37.8911    145.0451      GLEN HUNTLY   \n",
       "1       1.0  0.0     152.0  109.0   -37.7910    144.9809    FITZROY NORTH   \n",
       "2       2.0  3.0     548.0   89.0   -37.8536    145.0547        GLEN IRIS   \n",
       "3       1.0  1.0       0.0   59.0   -37.8694    145.0246  CAULFIELD NORTH   \n",
       "4       1.0  1.0       0.0   54.0   -37.8728    145.0417     MALVERN EAST   \n",
       "\n",
       "  train_station_id  distance_to_train_stat travel_min_to_CBD over_priced?  \n",
       "0            19942              295.809056              2320            0  \n",
       "1            19974             1303.384256              3810            0  \n",
       "2            19912              270.040873              3400            0  \n",
       "3            19944              541.150936           1883.08            0  \n",
       "4            22248              523.716330              2420            0  "
      ]
     },
     "execution_count": 1220,
     "metadata": {},
     "output_type": "execute_result"
    }
   ],
   "source": [
    "property_info.head()"
   ]
  },
  {
   "cell_type": "markdown",
   "metadata": {
    "ExecuteTime": {
     "end_time": "2019-06-06T17:02:04.826129Z",
     "start_time": "2019-06-06T17:02:04.823752Z"
    }
   },
   "source": [
    "### crime columns"
   ]
  },
  {
   "cell_type": "markdown",
   "metadata": {},
   "source": [
    "Methodology:\n",
    " * Extract the crime and council dataset\n",
    " * Remove unwanted records from crime dataset\n",
    " * Iterate through the property dataset, get the suburb, get the council and add crimes for each each type\n",
    " * Find the average of each type\n",
    " * Populate the columns"
   ]
  },
  {
   "cell_type": "code",
   "execution_count": 1221,
   "metadata": {
    "ExecuteTime": {
     "end_time": "2019-06-12T15:57:26.101368Z",
     "start_time": "2019-06-12T15:57:25.219582Z"
    }
   },
   "outputs": [],
   "source": [
    "crime = pd.read_excel(\"crimebylocationdatatable-yearending31march2016.xlsx\", sheet_name='Table 1')"
   ]
  },
  {
   "cell_type": "code",
   "execution_count": 1222,
   "metadata": {
    "ExecuteTime": {
     "end_time": "2019-06-12T15:57:26.108492Z",
     "start_time": "2019-06-12T15:57:26.104223Z"
    }
   },
   "outputs": [],
   "source": [
    "crime = crime[17:]"
   ]
  },
  {
   "cell_type": "code",
   "execution_count": 1223,
   "metadata": {
    "ExecuteTime": {
     "end_time": "2019-06-12T15:57:26.126096Z",
     "start_time": "2019-06-12T15:57:26.110934Z"
    }
   },
   "outputs": [
    {
     "data": {
      "text/html": [
       "<div>\n",
       "<style scoped>\n",
       "    .dataframe tbody tr th:only-of-type {\n",
       "        vertical-align: middle;\n",
       "    }\n",
       "\n",
       "    .dataframe tbody tr th {\n",
       "        vertical-align: top;\n",
       "    }\n",
       "\n",
       "    .dataframe thead th {\n",
       "        text-align: right;\n",
       "    }\n",
       "</style>\n",
       "<table border=\"1\" class=\"dataframe\">\n",
       "  <thead>\n",
       "    <tr style=\"text-align: right;\">\n",
       "      <th>17</th>\n",
       "      <th>nan</th>\n",
       "      <th>Apr - Mar reference period</th>\n",
       "      <th>Police Region</th>\n",
       "      <th>Police Service Area</th>\n",
       "      <th>Local Government Area</th>\n",
       "      <th>CSA Offence Division</th>\n",
       "      <th>CSA Offence Subdivision</th>\n",
       "      <th>Offence Count</th>\n",
       "      <th>LGA ERP</th>\n",
       "      <th>Victorian ERP</th>\n",
       "    </tr>\n",
       "  </thead>\n",
       "  <tbody>\n",
       "    <tr>\n",
       "      <th>17</th>\n",
       "      <td>NaN</td>\n",
       "      <td>Apr - Mar reference period</td>\n",
       "      <td>Police Region</td>\n",
       "      <td>Police Service Area</td>\n",
       "      <td>Local Government Area</td>\n",
       "      <td>CSA Offence Division</td>\n",
       "      <td>CSA Offence Subdivision</td>\n",
       "      <td>Offence Count</td>\n",
       "      <td>LGA ERP</td>\n",
       "      <td>Victorian ERP</td>\n",
       "    </tr>\n",
       "    <tr>\n",
       "      <th>18</th>\n",
       "      <td>NaN</td>\n",
       "      <td>2012</td>\n",
       "      <td>1 North West Metro</td>\n",
       "      <td>BANYULE</td>\n",
       "      <td>BANYULE</td>\n",
       "      <td>A Crimes against the person</td>\n",
       "      <td>A10 Homicide and related offences</td>\n",
       "      <td>4</td>\n",
       "      <td>123600</td>\n",
       "      <td>5632521</td>\n",
       "    </tr>\n",
       "    <tr>\n",
       "      <th>19</th>\n",
       "      <td>NaN</td>\n",
       "      <td>2012</td>\n",
       "      <td>1 North West Metro</td>\n",
       "      <td>BANYULE</td>\n",
       "      <td>BANYULE</td>\n",
       "      <td>A Crimes against the person</td>\n",
       "      <td>A20 Assault and related offences</td>\n",
       "      <td>568</td>\n",
       "      <td>123600</td>\n",
       "      <td>5632521</td>\n",
       "    </tr>\n",
       "    <tr>\n",
       "      <th>20</th>\n",
       "      <td>NaN</td>\n",
       "      <td>2012</td>\n",
       "      <td>1 North West Metro</td>\n",
       "      <td>BANYULE</td>\n",
       "      <td>BANYULE</td>\n",
       "      <td>A Crimes against the person</td>\n",
       "      <td>A30 Sexual offences</td>\n",
       "      <td>132</td>\n",
       "      <td>123600</td>\n",
       "      <td>5632521</td>\n",
       "    </tr>\n",
       "    <tr>\n",
       "      <th>21</th>\n",
       "      <td>NaN</td>\n",
       "      <td>2012</td>\n",
       "      <td>1 North West Metro</td>\n",
       "      <td>BANYULE</td>\n",
       "      <td>BANYULE</td>\n",
       "      <td>A Crimes against the person</td>\n",
       "      <td>A40 Abduction and related offences</td>\n",
       "      <td>12</td>\n",
       "      <td>123600</td>\n",
       "      <td>5632521</td>\n",
       "    </tr>\n",
       "  </tbody>\n",
       "</table>\n",
       "</div>"
      ],
      "text/plain": [
       "17  NaN  Apr - Mar reference period       Police Region  Police Service Area  \\\n",
       "17  NaN  Apr - Mar reference period       Police Region  Police Service Area   \n",
       "18  NaN                        2012  1 North West Metro              BANYULE   \n",
       "19  NaN                        2012  1 North West Metro              BANYULE   \n",
       "20  NaN                        2012  1 North West Metro              BANYULE   \n",
       "21  NaN                        2012  1 North West Metro              BANYULE   \n",
       "\n",
       "17  Local Government Area         CSA Offence Division  \\\n",
       "17  Local Government Area         CSA Offence Division   \n",
       "18                BANYULE  A Crimes against the person   \n",
       "19                BANYULE  A Crimes against the person   \n",
       "20                BANYULE  A Crimes against the person   \n",
       "21                BANYULE  A Crimes against the person   \n",
       "\n",
       "17             CSA Offence Subdivision  Offence Count  LGA ERP  Victorian ERP  \n",
       "17             CSA Offence Subdivision  Offence Count  LGA ERP  Victorian ERP  \n",
       "18   A10 Homicide and related offences              4   123600        5632521  \n",
       "19    A20 Assault and related offences            568   123600        5632521  \n",
       "20                 A30 Sexual offences            132   123600        5632521  \n",
       "21  A40 Abduction and related offences             12   123600        5632521  "
      ]
     },
     "execution_count": 1223,
     "metadata": {},
     "output_type": "execute_result"
    }
   ],
   "source": [
    "crime.columns = crime.iloc[0]\n",
    "crime.head()"
   ]
  },
  {
   "cell_type": "code",
   "execution_count": 1224,
   "metadata": {
    "ExecuteTime": {
     "end_time": "2019-06-12T15:57:26.133216Z",
     "start_time": "2019-06-12T15:57:26.128243Z"
    }
   },
   "outputs": [
    {
     "data": {
      "text/plain": [
       "(9086, 10)"
      ]
     },
     "execution_count": 1224,
     "metadata": {},
     "output_type": "execute_result"
    }
   ],
   "source": [
    "crime.shape"
   ]
  },
  {
   "cell_type": "code",
   "execution_count": 1225,
   "metadata": {
    "ExecuteTime": {
     "end_time": "2019-06-12T15:57:26.142072Z",
     "start_time": "2019-06-12T15:57:26.135568Z"
    }
   },
   "outputs": [],
   "source": [
    "crime = crime[crime[\"Offence Count\"] != \"Offence Count\"]"
   ]
  },
  {
   "cell_type": "code",
   "execution_count": 1226,
   "metadata": {
    "ExecuteTime": {
     "end_time": "2019-06-12T15:57:26.262491Z",
     "start_time": "2019-06-12T15:57:26.144959Z"
    }
   },
   "outputs": [],
   "source": [
    "crime.drop(crime.columns[0], axis=1, inplace=True)"
   ]
  },
  {
   "cell_type": "code",
   "execution_count": 1227,
   "metadata": {
    "ExecuteTime": {
     "end_time": "2019-06-12T15:57:26.269806Z",
     "start_time": "2019-06-12T15:57:26.264861Z"
    }
   },
   "outputs": [
    {
     "data": {
      "text/plain": [
       "18    A Crimes against the person\n",
       "19    A Crimes against the person\n",
       "20    A Crimes against the person\n",
       "21    A Crimes against the person\n",
       "22    A Crimes against the person\n",
       "Name: CSA Offence Division, dtype: object"
      ]
     },
     "execution_count": 1227,
     "metadata": {},
     "output_type": "execute_result"
    }
   ],
   "source": [
    "crime[\"CSA Offence Division\"].head()"
   ]
  },
  {
   "cell_type": "code",
   "execution_count": 1228,
   "metadata": {
    "ExecuteTime": {
     "end_time": "2019-06-12T15:57:26.276167Z",
     "start_time": "2019-06-12T15:57:26.272086Z"
    }
   },
   "outputs": [],
   "source": [
    "council = open(\"council_dataset\", \"r\")\n",
    "council_data = council.read()\n",
    "council_data = council_data.upper()\n",
    "council.close()"
   ]
  },
  {
   "cell_type": "code",
   "execution_count": 1229,
   "metadata": {
    "ExecuteTime": {
     "end_time": "2019-06-12T15:57:26.281271Z",
     "start_time": "2019-06-12T15:57:26.278351Z"
    }
   },
   "outputs": [],
   "source": [
    "council_data_list = council_data.split(\"\\n\")"
   ]
  },
  {
   "cell_type": "code",
   "execution_count": 1230,
   "metadata": {
    "ExecuteTime": {
     "end_time": "2019-06-12T15:57:26.287784Z",
     "start_time": "2019-06-12T15:57:26.283106Z"
    }
   },
   "outputs": [
    {
     "data": {
      "text/plain": [
       "\"BANYULE : ['ABBOTSFORD', 'AIRPORT WEST', 'ALBERT PARK', 'ALPHINGTON']\""
      ]
     },
     "execution_count": 1230,
     "metadata": {},
     "output_type": "execute_result"
    }
   ],
   "source": [
    "council_data_list[0]"
   ]
  },
  {
   "cell_type": "markdown",
   "metadata": {},
   "source": [
    "Adding 3 new columns crime_A_average, crime_B_average and crime_C_average with default value -1"
   ]
  },
  {
   "cell_type": "code",
   "execution_count": 1231,
   "metadata": {
    "ExecuteTime": {
     "end_time": "2019-06-12T15:57:26.294424Z",
     "start_time": "2019-06-12T15:57:26.289727Z"
    }
   },
   "outputs": [],
   "source": [
    "property_info[\"crime_A_average\"] = \"-1\"\n",
    "property_info[\"crime_B_average\"] = \"-1\"\n",
    "property_info[\"crime_C_average\"] = \"-1\""
   ]
  },
  {
   "cell_type": "markdown",
   "metadata": {},
   "source": [
    "Crime dataset has 9086 columns and iterating this many columns 700 times can be very time consuming. Removing the records which are not needed.\n",
    "Our given dataset has records in year 2016 and 2017, so council data of 2012 is not useful. "
   ]
  },
  {
   "cell_type": "code",
   "execution_count": 1232,
   "metadata": {
    "ExecuteTime": {
     "end_time": "2019-06-12T15:57:26.306382Z",
     "start_time": "2019-06-12T15:57:26.296815Z"
    }
   },
   "outputs": [],
   "source": [
    "crime = crime[crime[\"Apr - Mar reference period\"] > 2012]"
   ]
  },
  {
   "cell_type": "markdown",
   "metadata": {
    "ExecuteTime": {
     "end_time": "2019-06-12T09:25:43.149266Z",
     "start_time": "2019-06-12T09:25:43.145471Z"
    }
   },
   "source": [
    "Removing the suburbs which are not present in property dataset"
   ]
  },
  {
   "cell_type": "markdown",
   "metadata": {},
   "source": [
    "Removing the dataset which are not of Crime type A, B or C"
   ]
  },
  {
   "cell_type": "code",
   "execution_count": 1233,
   "metadata": {
    "ExecuteTime": {
     "end_time": "2019-06-12T15:57:26.317821Z",
     "start_time": "2019-06-12T15:57:26.309112Z"
    }
   },
   "outputs": [],
   "source": [
    "crime = crime[(crime[\"CSA Offence Division\"] == \"A Crimes against the person\") | (crime[\"CSA Offence Division\"] == \"B Property and deception offences\") | (crime[\"CSA Offence Division\"] == \"C Drug offences\")]"
   ]
  },
  {
   "cell_type": "code",
   "execution_count": 1234,
   "metadata": {
    "ExecuteTime": {
     "end_time": "2019-06-12T15:57:26.327944Z",
     "start_time": "2019-06-12T15:57:26.320241Z"
    }
   },
   "outputs": [
    {
     "data": {
      "text/plain": [
       "A Crimes against the person          2158\n",
       "B Property and deception offences    1608\n",
       "C Drug offences                       982\n",
       "Name: CSA Offence Division, dtype: int64"
      ]
     },
     "execution_count": 1234,
     "metadata": {},
     "output_type": "execute_result"
    }
   ],
   "source": [
    "crime[\"CSA Offence Division\"].value_counts()"
   ]
  },
  {
   "cell_type": "code",
   "execution_count": 1235,
   "metadata": {
    "ExecuteTime": {
     "end_time": "2019-06-12T15:57:26.335235Z",
     "start_time": "2019-06-12T15:57:26.330334Z"
    }
   },
   "outputs": [
    {
     "data": {
      "text/plain": [
       "(4748, 9)"
      ]
     },
     "execution_count": 1235,
     "metadata": {},
     "output_type": "execute_result"
    }
   ],
   "source": [
    "crime.shape"
   ]
  },
  {
   "cell_type": "code",
   "execution_count": 1236,
   "metadata": {
    "ExecuteTime": {
     "end_time": "2019-06-12T15:57:26.342144Z",
     "start_time": "2019-06-12T15:57:26.337388Z"
    }
   },
   "outputs": [
    {
     "data": {
      "text/plain": [
       "Index(['ID', 'Address', 'Rooms', 'Type', 'Price', 'Date', 'Bathroom', 'Car',\n",
       "       'Landsize', 'Age', 'Lattitude', 'Longtitude', 'Suburb',\n",
       "       'train_station_id', 'distance_to_train_stat', 'travel_min_to_CBD',\n",
       "       'over_priced?', 'crime_A_average', 'crime_B_average',\n",
       "       'crime_C_average'],\n",
       "      dtype='object')"
      ]
     },
     "execution_count": 1236,
     "metadata": {},
     "output_type": "execute_result"
    }
   ],
   "source": [
    "property_info.columns"
   ]
  },
  {
   "cell_type": "code",
   "execution_count": 1237,
   "metadata": {
    "ExecuteTime": {
     "end_time": "2019-06-12T15:57:26.351696Z",
     "start_time": "2019-06-12T15:57:26.345062Z"
    }
   },
   "outputs": [
    {
     "data": {
      "text/plain": [
       "Index(['Apr - Mar reference period', 'Police Region', 'Police Service Area',\n",
       "       'Local Government Area', 'CSA Offence Division',\n",
       "       'CSA Offence Subdivision', 'Offence Count', 'LGA ERP', 'Victorian ERP'],\n",
       "      dtype='object', name=17)"
      ]
     },
     "execution_count": 1237,
     "metadata": {},
     "output_type": "execute_result"
    }
   ],
   "source": [
    "crime.columns"
   ]
  },
  {
   "cell_type": "markdown",
   "metadata": {},
   "source": [
    "The final crime dataset has 184 columns which can be iterated more quickly"
   ]
  },
  {
   "cell_type": "code",
   "execution_count": 1238,
   "metadata": {
    "ExecuteTime": {
     "end_time": "2019-06-12T16:01:19.262487Z",
     "start_time": "2019-06-12T15:57:26.353874Z"
    }
   },
   "outputs": [],
   "source": [
    "# Function to extract Suburb, find the council and find the mean crime for each type\n",
    "for index, row in property_info.iterrows():\n",
    "    date = row[5]\n",
    "    year = int(date.split(\"/\")[2])\n",
    "    date_list = [year-1,year-2, year-3]\n",
    "    suburb = row[12]\n",
    "    council = \"\"\n",
    "    a_list = []\n",
    "    b_list = []\n",
    "    c_list = []\n",
    "    for each in council_data_list:\n",
    "        if suburb in each:\n",
    "            council = each.split(\":\")[0][:-1]\n",
    "    for index2, row2 in crime.iterrows():\n",
    "        if int(row2[0]) in date_list and council == row2[3]:\n",
    "            if row2[4].startswith(\"A\"):\n",
    "                a_list.append(row2[6])\n",
    "            if row2[4].startswith(\"B\"):\n",
    "                b_list.append(row2[6])\n",
    "            if row2[4].startswith(\"C\"):\n",
    "                c_list.append(row2[6])\n",
    "    if len(a_list) > 0:\n",
    "        a_mean = sum(a_list)/len(a_list)\n",
    "        property_info.set_value(index, 'crime_A_average', a_mean)\n",
    "    \n",
    "    if len(b_list) > 0:\n",
    "        b_mean = sum(b_list)/len(b_list)\n",
    "        property_info.set_value(index, 'crime_B_average', b_mean)\n",
    "    \n",
    "    if len(c_list) > 0:\n",
    "        c_mean = sum(c_list)/len(c_list)\n",
    "        property_info.set_value(index, 'crime_C_average', c_mean)\n",
    "        "
   ]
  },
  {
   "cell_type": "markdown",
   "metadata": {},
   "source": [
    "Rearranging the column names in the order given the assignment specification "
   ]
  },
  {
   "cell_type": "code",
   "execution_count": 1239,
   "metadata": {
    "ExecuteTime": {
     "end_time": "2019-06-12T16:01:19.272416Z",
     "start_time": "2019-06-12T16:01:19.264684Z"
    }
   },
   "outputs": [],
   "source": [
    "property_info = property_info[['ID', 'Address', 'Suburb', 'Price', 'Type', 'Date', 'Rooms', 'Bathroom', 'Car', 'Landsize', 'Age', 'Lattitude', 'Longtitude', 'train_station_id',\n",
    "                     'distance_to_train_stat','travel_min_to_CBD','over_priced?','crime_A_average', 'crime_B_average', 'crime_C_average']]"
   ]
  },
  {
   "cell_type": "markdown",
   "metadata": {},
   "source": [
    "Some column names are different in the given assignment specification. Correcting that:"
   ]
  },
  {
   "cell_type": "code",
   "execution_count": 1240,
   "metadata": {
    "ExecuteTime": {
     "end_time": "2019-06-12T16:01:19.437784Z",
     "start_time": "2019-06-12T16:01:19.274617Z"
    }
   },
   "outputs": [],
   "source": [
    "property_info.rename({'Landsize': 'LandSize', 'Lattitude':'Latitude', 'Longtitude':'Longitude', 'distance_to_train_stat':'distance_to_train_station'}, inplace=True)"
   ]
  },
  {
   "cell_type": "markdown",
   "metadata": {},
   "source": [
    "### Final dataset"
   ]
  },
  {
   "cell_type": "code",
   "execution_count": 1241,
   "metadata": {
    "ExecuteTime": {
     "end_time": "2019-06-12T16:01:19.503073Z",
     "start_time": "2019-06-12T16:01:19.440912Z"
    }
   },
   "outputs": [
    {
     "data": {
      "text/html": [
       "<div>\n",
       "<style scoped>\n",
       "    .dataframe tbody tr th:only-of-type {\n",
       "        vertical-align: middle;\n",
       "    }\n",
       "\n",
       "    .dataframe tbody tr th {\n",
       "        vertical-align: top;\n",
       "    }\n",
       "\n",
       "    .dataframe thead th {\n",
       "        text-align: right;\n",
       "    }\n",
       "</style>\n",
       "<table border=\"1\" class=\"dataframe\">\n",
       "  <thead>\n",
       "    <tr style=\"text-align: right;\">\n",
       "      <th></th>\n",
       "      <th>ID</th>\n",
       "      <th>Address</th>\n",
       "      <th>Suburb</th>\n",
       "      <th>Price</th>\n",
       "      <th>Type</th>\n",
       "      <th>Date</th>\n",
       "      <th>Rooms</th>\n",
       "      <th>Bathroom</th>\n",
       "      <th>Car</th>\n",
       "      <th>Landsize</th>\n",
       "      <th>Age</th>\n",
       "      <th>Lattitude</th>\n",
       "      <th>Longtitude</th>\n",
       "      <th>train_station_id</th>\n",
       "      <th>distance_to_train_stat</th>\n",
       "      <th>travel_min_to_CBD</th>\n",
       "      <th>over_priced?</th>\n",
       "      <th>crime_A_average</th>\n",
       "      <th>crime_B_average</th>\n",
       "      <th>crime_C_average</th>\n",
       "    </tr>\n",
       "  </thead>\n",
       "  <tbody>\n",
       "    <tr>\n",
       "      <th>680</th>\n",
       "      <td>ID243441109</td>\n",
       "      <td>126 Albert St</td>\n",
       "      <td>PRESTON</td>\n",
       "      <td>600000.0</td>\n",
       "      <td>h</td>\n",
       "      <td>12/06/2016</td>\n",
       "      <td>3</td>\n",
       "      <td>1.0</td>\n",
       "      <td>3.0</td>\n",
       "      <td>503.0</td>\n",
       "      <td>69.0</td>\n",
       "      <td>-37.73900</td>\n",
       "      <td>145.02380</td>\n",
       "      <td>20012</td>\n",
       "      <td>2049.497406</td>\n",
       "      <td>2048.57</td>\n",
       "      <td>0</td>\n",
       "      <td>85.9565</td>\n",
       "      <td>1043.87</td>\n",
       "      <td>112.778</td>\n",
       "    </tr>\n",
       "    <tr>\n",
       "      <th>681</th>\n",
       "      <td>ID815334022</td>\n",
       "      <td>171 Essex St</td>\n",
       "      <td>WEST FOOTSCRAY</td>\n",
       "      <td>879000.0</td>\n",
       "      <td>h</td>\n",
       "      <td>23/09/2017</td>\n",
       "      <td>3</td>\n",
       "      <td>1.0</td>\n",
       "      <td>2.0</td>\n",
       "      <td>377.0</td>\n",
       "      <td>69.0</td>\n",
       "      <td>-37.79285</td>\n",
       "      <td>144.86969</td>\n",
       "      <td>20022</td>\n",
       "      <td>927.209698</td>\n",
       "      <td>2190</td>\n",
       "      <td>0</td>\n",
       "      <td>42.5714</td>\n",
       "      <td>147</td>\n",
       "      <td>51.3333</td>\n",
       "    </tr>\n",
       "    <tr>\n",
       "      <th>682</th>\n",
       "      <td>ID949891292</td>\n",
       "      <td>8 Campbell St</td>\n",
       "      <td>KEW</td>\n",
       "      <td>1528500.0</td>\n",
       "      <td>h</td>\n",
       "      <td>4/03/2017</td>\n",
       "      <td>3</td>\n",
       "      <td>1.0</td>\n",
       "      <td>1.0</td>\n",
       "      <td>375.0</td>\n",
       "      <td>89.0</td>\n",
       "      <td>-37.80150</td>\n",
       "      <td>145.05050</td>\n",
       "      <td>19903</td>\n",
       "      <td>2362.104752</td>\n",
       "      <td>2470.91</td>\n",
       "      <td>0</td>\n",
       "      <td>41.1429</td>\n",
       "      <td>142.4</td>\n",
       "      <td>25.2222</td>\n",
       "    </tr>\n",
       "    <tr>\n",
       "      <th>683</th>\n",
       "      <td>ID158008948</td>\n",
       "      <td>8 Jerrold St</td>\n",
       "      <td>FOOTSCRAY</td>\n",
       "      <td>752000.0</td>\n",
       "      <td>h</td>\n",
       "      <td>7/05/2016</td>\n",
       "      <td>2</td>\n",
       "      <td>1.0</td>\n",
       "      <td>0.0</td>\n",
       "      <td>215.0</td>\n",
       "      <td>109.0</td>\n",
       "      <td>-37.79220</td>\n",
       "      <td>144.89100</td>\n",
       "      <td>20024</td>\n",
       "      <td>1147.840135</td>\n",
       "      <td>2600</td>\n",
       "      <td>0</td>\n",
       "      <td>36.5909</td>\n",
       "      <td>147.2</td>\n",
       "      <td>42.7778</td>\n",
       "    </tr>\n",
       "    <tr>\n",
       "      <th>684</th>\n",
       "      <td>ID454059105</td>\n",
       "      <td>8/5 Gordon St</td>\n",
       "      <td>TOORAK</td>\n",
       "      <td>405000.0</td>\n",
       "      <td>u</td>\n",
       "      <td>14/05/2016</td>\n",
       "      <td>1</td>\n",
       "      <td>1.0</td>\n",
       "      <td>1.0</td>\n",
       "      <td>0.0</td>\n",
       "      <td>49.0</td>\n",
       "      <td>-37.84400</td>\n",
       "      <td>145.00500</td>\n",
       "      <td>19947</td>\n",
       "      <td>259.694984</td>\n",
       "      <td>1660</td>\n",
       "      <td>0</td>\n",
       "      <td>79.6818</td>\n",
       "      <td>512.188</td>\n",
       "      <td>63.5</td>\n",
       "    </tr>\n",
       "    <tr>\n",
       "      <th>685</th>\n",
       "      <td>ID315313187</td>\n",
       "      <td>1 Estella St</td>\n",
       "      <td>GLEN IRIS</td>\n",
       "      <td>2920000.0</td>\n",
       "      <td>h</td>\n",
       "      <td>27/05/2017</td>\n",
       "      <td>4</td>\n",
       "      <td>3.0</td>\n",
       "      <td>3.0</td>\n",
       "      <td>1064.0</td>\n",
       "      <td>144.0</td>\n",
       "      <td>-37.86224</td>\n",
       "      <td>145.06406</td>\n",
       "      <td>19835</td>\n",
       "      <td>607.847890</td>\n",
       "      <td>3105</td>\n",
       "      <td>0</td>\n",
       "      <td>255.958</td>\n",
       "      <td>1618.41</td>\n",
       "      <td>222.7</td>\n",
       "    </tr>\n",
       "    <tr>\n",
       "      <th>686</th>\n",
       "      <td>ID783237528</td>\n",
       "      <td>52 Stawell St</td>\n",
       "      <td>COBURG</td>\n",
       "      <td>841000.0</td>\n",
       "      <td>h</td>\n",
       "      <td>19/11/2016</td>\n",
       "      <td>3</td>\n",
       "      <td>1.0</td>\n",
       "      <td>3.0</td>\n",
       "      <td>385.0</td>\n",
       "      <td>99.0</td>\n",
       "      <td>-37.73400</td>\n",
       "      <td>144.96030</td>\n",
       "      <td>19964</td>\n",
       "      <td>229.881808</td>\n",
       "      <td>4851.43</td>\n",
       "      <td>0</td>\n",
       "      <td>133.917</td>\n",
       "      <td>1156.73</td>\n",
       "      <td>139.889</td>\n",
       "    </tr>\n",
       "    <tr>\n",
       "      <th>687</th>\n",
       "      <td>ID921825693</td>\n",
       "      <td>3/5 Florence Rd</td>\n",
       "      <td>SURREY HILLS</td>\n",
       "      <td>865000.0</td>\n",
       "      <td>t</td>\n",
       "      <td>25/02/2017</td>\n",
       "      <td>3</td>\n",
       "      <td>1.0</td>\n",
       "      <td>1.0</td>\n",
       "      <td>217.0</td>\n",
       "      <td>49.0</td>\n",
       "      <td>-37.82750</td>\n",
       "      <td>145.10320</td>\n",
       "      <td>19895</td>\n",
       "      <td>539.099140</td>\n",
       "      <td>2382</td>\n",
       "      <td>0</td>\n",
       "      <td>316.542</td>\n",
       "      <td>1022.81</td>\n",
       "      <td>237.667</td>\n",
       "    </tr>\n",
       "    <tr>\n",
       "      <th>688</th>\n",
       "      <td>ID567412321</td>\n",
       "      <td>53 Fordham Rd</td>\n",
       "      <td>RESERVOIR</td>\n",
       "      <td>685000.0</td>\n",
       "      <td>h</td>\n",
       "      <td>3/12/2016</td>\n",
       "      <td>3</td>\n",
       "      <td>1.0</td>\n",
       "      <td>1.0</td>\n",
       "      <td>1262.0</td>\n",
       "      <td>64.0</td>\n",
       "      <td>-37.71390</td>\n",
       "      <td>145.02150</td>\n",
       "      <td>20009</td>\n",
       "      <td>1249.048556</td>\n",
       "      <td>3234</td>\n",
       "      <td>0</td>\n",
       "      <td>117.81</td>\n",
       "      <td>378.067</td>\n",
       "      <td>47.8</td>\n",
       "    </tr>\n",
       "    <tr>\n",
       "      <th>689</th>\n",
       "      <td>ID112632898</td>\n",
       "      <td>1/14 Forrester St</td>\n",
       "      <td>ESSENDON</td>\n",
       "      <td>645000.0</td>\n",
       "      <td>u</td>\n",
       "      <td>10/09/2016</td>\n",
       "      <td>2</td>\n",
       "      <td>1.0</td>\n",
       "      <td>1.0</td>\n",
       "      <td>228.0</td>\n",
       "      <td>49.0</td>\n",
       "      <td>-37.75310</td>\n",
       "      <td>144.90590</td>\n",
       "      <td>22253</td>\n",
       "      <td>962.516625</td>\n",
       "      <td>1110</td>\n",
       "      <td>0</td>\n",
       "      <td>143.042</td>\n",
       "      <td>1283.56</td>\n",
       "      <td>102.455</td>\n",
       "    </tr>\n",
       "    <tr>\n",
       "      <th>690</th>\n",
       "      <td>ID691397146</td>\n",
       "      <td>3A Blanche St</td>\n",
       "      <td>COLLINGWOOD</td>\n",
       "      <td>1308000.0</td>\n",
       "      <td>t</td>\n",
       "      <td>8/04/2017</td>\n",
       "      <td>3</td>\n",
       "      <td>1.0</td>\n",
       "      <td>2.0</td>\n",
       "      <td>125.0</td>\n",
       "      <td>29.0</td>\n",
       "      <td>-37.79530</td>\n",
       "      <td>144.98640</td>\n",
       "      <td>19975</td>\n",
       "      <td>828.241813</td>\n",
       "      <td>4200</td>\n",
       "      <td>0</td>\n",
       "      <td>137.208</td>\n",
       "      <td>1183.2</td>\n",
       "      <td>166</td>\n",
       "    </tr>\n",
       "    <tr>\n",
       "      <th>691</th>\n",
       "      <td>ID753929524</td>\n",
       "      <td>23 Henry St</td>\n",
       "      <td>SEDDON</td>\n",
       "      <td>1200000.0</td>\n",
       "      <td>h</td>\n",
       "      <td>22/08/2016</td>\n",
       "      <td>3</td>\n",
       "      <td>1.0</td>\n",
       "      <td>1.0</td>\n",
       "      <td>374.0</td>\n",
       "      <td>7.0</td>\n",
       "      <td>-37.80570</td>\n",
       "      <td>144.88820</td>\n",
       "      <td>20024</td>\n",
       "      <td>457.536306</td>\n",
       "      <td>2600</td>\n",
       "      <td>0</td>\n",
       "      <td>117.81</td>\n",
       "      <td>378.067</td>\n",
       "      <td>47.8</td>\n",
       "    </tr>\n",
       "    <tr>\n",
       "      <th>692</th>\n",
       "      <td>ID498438672</td>\n",
       "      <td>64 Pearson St</td>\n",
       "      <td>BRUNSWICK WEST</td>\n",
       "      <td>955000.0</td>\n",
       "      <td>h</td>\n",
       "      <td>7/05/2016</td>\n",
       "      <td>3</td>\n",
       "      <td>1.0</td>\n",
       "      <td>0.0</td>\n",
       "      <td>220.0</td>\n",
       "      <td>89.0</td>\n",
       "      <td>-37.76590</td>\n",
       "      <td>144.94940</td>\n",
       "      <td>19968</td>\n",
       "      <td>919.010674</td>\n",
       "      <td>5025</td>\n",
       "      <td>0</td>\n",
       "      <td>119.833</td>\n",
       "      <td>1063.69</td>\n",
       "      <td>188.4</td>\n",
       "    </tr>\n",
       "    <tr>\n",
       "      <th>693</th>\n",
       "      <td>ID622458183</td>\n",
       "      <td>28 Beryl Av</td>\n",
       "      <td>OAKLEIGH SOUTH</td>\n",
       "      <td>1450000.0</td>\n",
       "      <td>h</td>\n",
       "      <td>23/09/2017</td>\n",
       "      <td>4</td>\n",
       "      <td>2.0</td>\n",
       "      <td>2.0</td>\n",
       "      <td>771.0</td>\n",
       "      <td>49.0</td>\n",
       "      <td>-37.92120</td>\n",
       "      <td>145.09125</td>\n",
       "      <td>19916</td>\n",
       "      <td>1495.830429</td>\n",
       "      <td>3940</td>\n",
       "      <td>0</td>\n",
       "      <td>26.625</td>\n",
       "      <td>68.9333</td>\n",
       "      <td>13.1111</td>\n",
       "    </tr>\n",
       "    <tr>\n",
       "      <th>694</th>\n",
       "      <td>ID412867173</td>\n",
       "      <td>1/10 Reno Rd</td>\n",
       "      <td>SANDRINGHAM</td>\n",
       "      <td>1235000.0</td>\n",
       "      <td>h</td>\n",
       "      <td>29/07/2017</td>\n",
       "      <td>4</td>\n",
       "      <td>2.0</td>\n",
       "      <td>2.0</td>\n",
       "      <td>404.0</td>\n",
       "      <td>94.0</td>\n",
       "      <td>-37.95882</td>\n",
       "      <td>145.02138</td>\n",
       "      <td>19948</td>\n",
       "      <td>1752.824844</td>\n",
       "      <td>2598.75</td>\n",
       "      <td>0</td>\n",
       "      <td>23.4615</td>\n",
       "      <td>50.2667</td>\n",
       "      <td>7</td>\n",
       "    </tr>\n",
       "    <tr>\n",
       "      <th>695</th>\n",
       "      <td>ID307843751</td>\n",
       "      <td>5/8 Swan St</td>\n",
       "      <td>KEILOR PARK</td>\n",
       "      <td>380000.0</td>\n",
       "      <td>t</td>\n",
       "      <td>10/09/2016</td>\n",
       "      <td>2</td>\n",
       "      <td>1.0</td>\n",
       "      <td>1.0</td>\n",
       "      <td>161.0</td>\n",
       "      <td>9.0</td>\n",
       "      <td>-37.72510</td>\n",
       "      <td>144.86210</td>\n",
       "      <td>20033</td>\n",
       "      <td>5292.088888</td>\n",
       "      <td>2004</td>\n",
       "      <td>0</td>\n",
       "      <td>131.81</td>\n",
       "      <td>1040.2</td>\n",
       "      <td>89</td>\n",
       "    </tr>\n",
       "    <tr>\n",
       "      <th>696</th>\n",
       "      <td>ID392319924</td>\n",
       "      <td>54 Balmain St</td>\n",
       "      <td>CREMORNE</td>\n",
       "      <td>1110000.0</td>\n",
       "      <td>h</td>\n",
       "      <td>24/09/2016</td>\n",
       "      <td>2</td>\n",
       "      <td>1.0</td>\n",
       "      <td>1.0</td>\n",
       "      <td>144.0</td>\n",
       "      <td>4.0</td>\n",
       "      <td>-37.83010</td>\n",
       "      <td>144.99270</td>\n",
       "      <td>19907</td>\n",
       "      <td>563.013956</td>\n",
       "      <td>3180</td>\n",
       "      <td>0</td>\n",
       "      <td>121.091</td>\n",
       "      <td>439.2</td>\n",
       "      <td>60.4444</td>\n",
       "    </tr>\n",
       "    <tr>\n",
       "      <th>697</th>\n",
       "      <td>ID746461786</td>\n",
       "      <td>2/16 Beaver St</td>\n",
       "      <td>MALVERN EAST</td>\n",
       "      <td>1370000.0</td>\n",
       "      <td>t</td>\n",
       "      <td>22/08/2016</td>\n",
       "      <td>3</td>\n",
       "      <td>2.0</td>\n",
       "      <td>2.0</td>\n",
       "      <td>323.0</td>\n",
       "      <td>49.0</td>\n",
       "      <td>-37.87040</td>\n",
       "      <td>145.04110</td>\n",
       "      <td>22248</td>\n",
       "      <td>795.748942</td>\n",
       "      <td>2420</td>\n",
       "      <td>0</td>\n",
       "      <td>87.1429</td>\n",
       "      <td>348.733</td>\n",
       "      <td>76</td>\n",
       "    </tr>\n",
       "    <tr>\n",
       "      <th>698</th>\n",
       "      <td>ID880818663</td>\n",
       "      <td>18 Empress Rd</td>\n",
       "      <td>SURREY HILLS</td>\n",
       "      <td>1260000.0</td>\n",
       "      <td>h</td>\n",
       "      <td>13/05/2017</td>\n",
       "      <td>2</td>\n",
       "      <td>1.0</td>\n",
       "      <td>0.0</td>\n",
       "      <td>269.0</td>\n",
       "      <td>109.0</td>\n",
       "      <td>-37.82010</td>\n",
       "      <td>145.08870</td>\n",
       "      <td>19894</td>\n",
       "      <td>467.500641</td>\n",
       "      <td>1356</td>\n",
       "      <td>0</td>\n",
       "      <td>316.542</td>\n",
       "      <td>1022.81</td>\n",
       "      <td>237.667</td>\n",
       "    </tr>\n",
       "    <tr>\n",
       "      <th>699</th>\n",
       "      <td>ID783762726</td>\n",
       "      <td>37 Wellington St</td>\n",
       "      <td>KEW</td>\n",
       "      <td>4000000.0</td>\n",
       "      <td>h</td>\n",
       "      <td>19/08/2017</td>\n",
       "      <td>4</td>\n",
       "      <td>2.0</td>\n",
       "      <td>3.0</td>\n",
       "      <td>792.0</td>\n",
       "      <td>114.0</td>\n",
       "      <td>-37.80926</td>\n",
       "      <td>145.03310</td>\n",
       "      <td>19904</td>\n",
       "      <td>1390.188297</td>\n",
       "      <td>3246</td>\n",
       "      <td>0</td>\n",
       "      <td>41.1429</td>\n",
       "      <td>142.4</td>\n",
       "      <td>25.2222</td>\n",
       "    </tr>\n",
       "  </tbody>\n",
       "</table>\n",
       "</div>"
      ],
      "text/plain": [
       "              ID            Address          Suburb      Price Type  \\\n",
       "680  ID243441109      126 Albert St         PRESTON   600000.0    h   \n",
       "681  ID815334022       171 Essex St  WEST FOOTSCRAY   879000.0    h   \n",
       "682  ID949891292      8 Campbell St             KEW  1528500.0    h   \n",
       "683  ID158008948       8 Jerrold St       FOOTSCRAY   752000.0    h   \n",
       "684  ID454059105      8/5 Gordon St          TOORAK   405000.0    u   \n",
       "685  ID315313187       1 Estella St       GLEN IRIS  2920000.0    h   \n",
       "686  ID783237528      52 Stawell St          COBURG   841000.0    h   \n",
       "687  ID921825693    3/5 Florence Rd    SURREY HILLS   865000.0    t   \n",
       "688  ID567412321      53 Fordham Rd       RESERVOIR   685000.0    h   \n",
       "689  ID112632898  1/14 Forrester St        ESSENDON   645000.0    u   \n",
       "690  ID691397146      3A Blanche St     COLLINGWOOD  1308000.0    t   \n",
       "691  ID753929524        23 Henry St          SEDDON  1200000.0    h   \n",
       "692  ID498438672      64 Pearson St  BRUNSWICK WEST   955000.0    h   \n",
       "693  ID622458183        28 Beryl Av  OAKLEIGH SOUTH  1450000.0    h   \n",
       "694  ID412867173       1/10 Reno Rd     SANDRINGHAM  1235000.0    h   \n",
       "695  ID307843751        5/8 Swan St     KEILOR PARK   380000.0    t   \n",
       "696  ID392319924      54 Balmain St        CREMORNE  1110000.0    h   \n",
       "697  ID746461786     2/16 Beaver St    MALVERN EAST  1370000.0    t   \n",
       "698  ID880818663      18 Empress Rd    SURREY HILLS  1260000.0    h   \n",
       "699  ID783762726   37 Wellington St             KEW  4000000.0    h   \n",
       "\n",
       "           Date  Rooms  Bathroom  Car  Landsize    Age  Lattitude  Longtitude  \\\n",
       "680  12/06/2016      3       1.0  3.0     503.0   69.0  -37.73900   145.02380   \n",
       "681  23/09/2017      3       1.0  2.0     377.0   69.0  -37.79285   144.86969   \n",
       "682   4/03/2017      3       1.0  1.0     375.0   89.0  -37.80150   145.05050   \n",
       "683   7/05/2016      2       1.0  0.0     215.0  109.0  -37.79220   144.89100   \n",
       "684  14/05/2016      1       1.0  1.0       0.0   49.0  -37.84400   145.00500   \n",
       "685  27/05/2017      4       3.0  3.0    1064.0  144.0  -37.86224   145.06406   \n",
       "686  19/11/2016      3       1.0  3.0     385.0   99.0  -37.73400   144.96030   \n",
       "687  25/02/2017      3       1.0  1.0     217.0   49.0  -37.82750   145.10320   \n",
       "688   3/12/2016      3       1.0  1.0    1262.0   64.0  -37.71390   145.02150   \n",
       "689  10/09/2016      2       1.0  1.0     228.0   49.0  -37.75310   144.90590   \n",
       "690   8/04/2017      3       1.0  2.0     125.0   29.0  -37.79530   144.98640   \n",
       "691  22/08/2016      3       1.0  1.0     374.0    7.0  -37.80570   144.88820   \n",
       "692   7/05/2016      3       1.0  0.0     220.0   89.0  -37.76590   144.94940   \n",
       "693  23/09/2017      4       2.0  2.0     771.0   49.0  -37.92120   145.09125   \n",
       "694  29/07/2017      4       2.0  2.0     404.0   94.0  -37.95882   145.02138   \n",
       "695  10/09/2016      2       1.0  1.0     161.0    9.0  -37.72510   144.86210   \n",
       "696  24/09/2016      2       1.0  1.0     144.0    4.0  -37.83010   144.99270   \n",
       "697  22/08/2016      3       2.0  2.0     323.0   49.0  -37.87040   145.04110   \n",
       "698  13/05/2017      2       1.0  0.0     269.0  109.0  -37.82010   145.08870   \n",
       "699  19/08/2017      4       2.0  3.0     792.0  114.0  -37.80926   145.03310   \n",
       "\n",
       "    train_station_id  distance_to_train_stat travel_min_to_CBD over_priced?  \\\n",
       "680            20012             2049.497406           2048.57            0   \n",
       "681            20022              927.209698              2190            0   \n",
       "682            19903             2362.104752           2470.91            0   \n",
       "683            20024             1147.840135              2600            0   \n",
       "684            19947              259.694984              1660            0   \n",
       "685            19835              607.847890              3105            0   \n",
       "686            19964              229.881808           4851.43            0   \n",
       "687            19895              539.099140              2382            0   \n",
       "688            20009             1249.048556              3234            0   \n",
       "689            22253              962.516625              1110            0   \n",
       "690            19975              828.241813              4200            0   \n",
       "691            20024              457.536306              2600            0   \n",
       "692            19968              919.010674              5025            0   \n",
       "693            19916             1495.830429              3940            0   \n",
       "694            19948             1752.824844           2598.75            0   \n",
       "695            20033             5292.088888              2004            0   \n",
       "696            19907              563.013956              3180            0   \n",
       "697            22248              795.748942              2420            0   \n",
       "698            19894              467.500641              1356            0   \n",
       "699            19904             1390.188297              3246            0   \n",
       "\n",
       "    crime_A_average crime_B_average crime_C_average  \n",
       "680         85.9565         1043.87         112.778  \n",
       "681         42.5714             147         51.3333  \n",
       "682         41.1429           142.4         25.2222  \n",
       "683         36.5909           147.2         42.7778  \n",
       "684         79.6818         512.188            63.5  \n",
       "685         255.958         1618.41           222.7  \n",
       "686         133.917         1156.73         139.889  \n",
       "687         316.542         1022.81         237.667  \n",
       "688          117.81         378.067            47.8  \n",
       "689         143.042         1283.56         102.455  \n",
       "690         137.208          1183.2             166  \n",
       "691          117.81         378.067            47.8  \n",
       "692         119.833         1063.69           188.4  \n",
       "693          26.625         68.9333         13.1111  \n",
       "694         23.4615         50.2667               7  \n",
       "695          131.81          1040.2              89  \n",
       "696         121.091           439.2         60.4444  \n",
       "697         87.1429         348.733              76  \n",
       "698         316.542         1022.81         237.667  \n",
       "699         41.1429           142.4         25.2222  "
      ]
     },
     "execution_count": 1241,
     "metadata": {},
     "output_type": "execute_result"
    }
   ],
   "source": [
    "property_info.to_csv(\"29567467_solution.csv\", sep=',')\n",
    "property_info.tail(20)"
   ]
  },
  {
   "cell_type": "markdown",
   "metadata": {
    "ExecuteTime": {
     "end_time": "2019-06-12T10:50:02.610929Z",
     "start_time": "2019-06-12T10:50:02.591767Z"
    }
   },
   "source": [
    "### Task 2: data reshaping"
   ]
  },
  {
   "cell_type": "markdown",
   "metadata": {},
   "source": [
    "Studying the effect of different normalization/transformation methods (i.e.\n",
    "standardization, min-max normalization, log, power, and root transformation) on Rooms ,\n",
    "crime_C_average, travel_min_to_CBD , and property_age attributes"
   ]
  },
  {
   "cell_type": "code",
   "execution_count": 1242,
   "metadata": {
    "ExecuteTime": {
     "end_time": "2019-06-12T16:01:19.539898Z",
     "start_time": "2019-06-12T16:01:19.505753Z"
    }
   },
   "outputs": [],
   "source": [
    "%matplotlib inline\n",
    "\n",
    "from matplotlib import pyplot as plt"
   ]
  },
  {
   "cell_type": "code",
   "execution_count": 1243,
   "metadata": {
    "ExecuteTime": {
     "end_time": "2019-06-12T16:01:19.554080Z",
     "start_time": "2019-06-12T16:01:19.544492Z"
    }
   },
   "outputs": [],
   "source": [
    "plot_property_z = property_info.copy()\n",
    "plot_property_min_max = property_info.copy()"
   ]
  },
  {
   "cell_type": "code",
   "execution_count": 1244,
   "metadata": {
    "ExecuteTime": {
     "end_time": "2019-06-12T16:01:19.562758Z",
     "start_time": "2019-06-12T16:01:19.555819Z"
    }
   },
   "outputs": [
    {
     "data": {
      "text/plain": [
       "ID                         object\n",
       "Address                    object\n",
       "Suburb                     object\n",
       "Price                     float64\n",
       "Type                       object\n",
       "Date                       object\n",
       "Rooms                       int64\n",
       "Bathroom                  float64\n",
       "Car                       float64\n",
       "Landsize                  float64\n",
       "Age                       float64\n",
       "Lattitude                 float64\n",
       "Longtitude                float64\n",
       "train_station_id           object\n",
       "distance_to_train_stat    float64\n",
       "travel_min_to_CBD          object\n",
       "over_priced?               object\n",
       "crime_A_average            object\n",
       "crime_B_average            object\n",
       "crime_C_average            object\n",
       "dtype: object"
      ]
     },
     "execution_count": 1244,
     "metadata": {},
     "output_type": "execute_result"
    }
   ],
   "source": [
    "plot_property_z.dtypes"
   ]
  },
  {
   "cell_type": "code",
   "execution_count": 1245,
   "metadata": {
    "ExecuteTime": {
     "end_time": "2019-06-12T16:01:19.569610Z",
     "start_time": "2019-06-12T16:01:19.564560Z"
    }
   },
   "outputs": [],
   "source": [
    "plot_property_z['crime_C_average'] = plot_property_z['crime_C_average'].astype(float)\n",
    "plot_property_z['Age'] = plot_property_z['Age'].astype(float)\n",
    "plot_property_z['travel_min_to_CBD'] = plot_property_z['travel_min_to_CBD'].astype(float)"
   ]
  },
  {
   "cell_type": "markdown",
   "metadata": {
    "ExecuteTime": {
     "end_time": "2019-06-12T14:25:04.221725Z",
     "start_time": "2019-06-12T14:25:04.217695Z"
    }
   },
   "source": [
    "Using z-score value to standardize the columns"
   ]
  },
  {
   "cell_type": "code",
   "execution_count": 1246,
   "metadata": {
    "ExecuteTime": {
     "end_time": "2019-06-12T16:01:19.578828Z",
     "start_time": "2019-06-12T16:01:19.571442Z"
    }
   },
   "outputs": [],
   "source": [
    "from sklearn import preprocessing\n",
    "std_scale = preprocessing.StandardScaler().fit(plot_property_z[['crime_C_average', 'Age','travel_min_to_CBD','Rooms']])\n",
    "df_std = std_scale.transform(plot_property_z[['crime_C_average', 'Age','travel_min_to_CBD','Rooms' ]]) \n"
   ]
  },
  {
   "cell_type": "code",
   "execution_count": 1247,
   "metadata": {
    "ExecuteTime": {
     "end_time": "2019-06-12T16:01:19.625814Z",
     "start_time": "2019-06-12T16:01:19.581566Z"
    }
   },
   "outputs": [
    {
     "data": {
      "text/html": [
       "<div>\n",
       "<style scoped>\n",
       "    .dataframe tbody tr th:only-of-type {\n",
       "        vertical-align: middle;\n",
       "    }\n",
       "\n",
       "    .dataframe tbody tr th {\n",
       "        vertical-align: top;\n",
       "    }\n",
       "\n",
       "    .dataframe thead th {\n",
       "        text-align: right;\n",
       "    }\n",
       "</style>\n",
       "<table border=\"1\" class=\"dataframe\">\n",
       "  <thead>\n",
       "    <tr style=\"text-align: right;\">\n",
       "      <th></th>\n",
       "      <th>ID</th>\n",
       "      <th>Address</th>\n",
       "      <th>Suburb</th>\n",
       "      <th>Price</th>\n",
       "      <th>Type</th>\n",
       "      <th>Date</th>\n",
       "      <th>Rooms</th>\n",
       "      <th>Bathroom</th>\n",
       "      <th>Car</th>\n",
       "      <th>Landsize</th>\n",
       "      <th>...</th>\n",
       "      <th>distance_to_train_stat</th>\n",
       "      <th>travel_min_to_CBD</th>\n",
       "      <th>over_priced?</th>\n",
       "      <th>crime_A_average</th>\n",
       "      <th>crime_B_average</th>\n",
       "      <th>crime_C_average</th>\n",
       "      <th>crime_C_average_z</th>\n",
       "      <th>Age_z</th>\n",
       "      <th>travel_min_to_CBD_z</th>\n",
       "      <th>Rooms_z</th>\n",
       "    </tr>\n",
       "  </thead>\n",
       "  <tbody>\n",
       "    <tr>\n",
       "      <th>0</th>\n",
       "      <td>ID648060837</td>\n",
       "      <td>8/131 Grange Rd</td>\n",
       "      <td>GLEN HUNTLY</td>\n",
       "      <td>260000.0</td>\n",
       "      <td>u</td>\n",
       "      <td>13/05/2017</td>\n",
       "      <td>1</td>\n",
       "      <td>1.0</td>\n",
       "      <td>1.0</td>\n",
       "      <td>1162.0</td>\n",
       "      <td>...</td>\n",
       "      <td>295.809056</td>\n",
       "      <td>2320.000000</td>\n",
       "      <td>0</td>\n",
       "      <td>66.7</td>\n",
       "      <td>196.267</td>\n",
       "      <td>71.900000</td>\n",
       "      <td>-0.472933</td>\n",
       "      <td>-0.032520</td>\n",
       "      <td>-0.457476</td>\n",
       "      <td>-1.991321</td>\n",
       "    </tr>\n",
       "    <tr>\n",
       "      <th>1</th>\n",
       "      <td>ID604692611</td>\n",
       "      <td>76 Newry St</td>\n",
       "      <td>FITZROY NORTH</td>\n",
       "      <td>1116000.0</td>\n",
       "      <td>h</td>\n",
       "      <td>3/09/2016</td>\n",
       "      <td>2</td>\n",
       "      <td>1.0</td>\n",
       "      <td>0.0</td>\n",
       "      <td>152.0</td>\n",
       "      <td>...</td>\n",
       "      <td>1303.384256</td>\n",
       "      <td>3810.000000</td>\n",
       "      <td>0</td>\n",
       "      <td>240.458</td>\n",
       "      <td>1683.62</td>\n",
       "      <td>169.181818</td>\n",
       "      <td>0.378998</td>\n",
       "      <td>1.489271</td>\n",
       "      <td>0.756021</td>\n",
       "      <td>-0.975279</td>\n",
       "    </tr>\n",
       "    <tr>\n",
       "      <th>2</th>\n",
       "      <td>ID803803522</td>\n",
       "      <td>22 Kyarra Rd</td>\n",
       "      <td>GLEN IRIS</td>\n",
       "      <td>1857000.0</td>\n",
       "      <td>h</td>\n",
       "      <td>25/02/2017</td>\n",
       "      <td>4</td>\n",
       "      <td>2.0</td>\n",
       "      <td>3.0</td>\n",
       "      <td>548.0</td>\n",
       "      <td>...</td>\n",
       "      <td>270.040873</td>\n",
       "      <td>3400.000000</td>\n",
       "      <td>0</td>\n",
       "      <td>255.958</td>\n",
       "      <td>1618.41</td>\n",
       "      <td>222.700000</td>\n",
       "      <td>0.847675</td>\n",
       "      <td>0.935893</td>\n",
       "      <td>0.422106</td>\n",
       "      <td>1.056804</td>\n",
       "    </tr>\n",
       "    <tr>\n",
       "      <th>3</th>\n",
       "      <td>ID344558125</td>\n",
       "      <td>5/698 Inkerman Rd</td>\n",
       "      <td>CAULFIELD NORTH</td>\n",
       "      <td>523000.0</td>\n",
       "      <td>u</td>\n",
       "      <td>7/11/2016</td>\n",
       "      <td>2</td>\n",
       "      <td>1.0</td>\n",
       "      <td>1.0</td>\n",
       "      <td>0.0</td>\n",
       "      <td>...</td>\n",
       "      <td>541.150936</td>\n",
       "      <td>1883.076923</td>\n",
       "      <td>0</td>\n",
       "      <td>200.957</td>\n",
       "      <td>1136.69</td>\n",
       "      <td>143.300000</td>\n",
       "      <td>0.152342</td>\n",
       "      <td>0.105824</td>\n",
       "      <td>-0.813318</td>\n",
       "      <td>-0.975279</td>\n",
       "    </tr>\n",
       "    <tr>\n",
       "      <th>4</th>\n",
       "      <td>ID809539804</td>\n",
       "      <td>5/25 Clarence St</td>\n",
       "      <td>MALVERN EAST</td>\n",
       "      <td>373000.0</td>\n",
       "      <td>u</td>\n",
       "      <td>24/09/2016</td>\n",
       "      <td>1</td>\n",
       "      <td>1.0</td>\n",
       "      <td>1.0</td>\n",
       "      <td>0.0</td>\n",
       "      <td>...</td>\n",
       "      <td>523.716330</td>\n",
       "      <td>2420.000000</td>\n",
       "      <td>0</td>\n",
       "      <td>87.1429</td>\n",
       "      <td>348.733</td>\n",
       "      <td>76.000000</td>\n",
       "      <td>-0.437028</td>\n",
       "      <td>-0.032520</td>\n",
       "      <td>-0.376033</td>\n",
       "      <td>-1.991321</td>\n",
       "    </tr>\n",
       "  </tbody>\n",
       "</table>\n",
       "<p>5 rows × 24 columns</p>\n",
       "</div>"
      ],
      "text/plain": [
       "            ID            Address           Suburb      Price Type  \\\n",
       "0  ID648060837    8/131 Grange Rd      GLEN HUNTLY   260000.0    u   \n",
       "1  ID604692611        76 Newry St    FITZROY NORTH  1116000.0    h   \n",
       "2  ID803803522       22 Kyarra Rd        GLEN IRIS  1857000.0    h   \n",
       "3  ID344558125  5/698 Inkerman Rd  CAULFIELD NORTH   523000.0    u   \n",
       "4  ID809539804   5/25 Clarence St     MALVERN EAST   373000.0    u   \n",
       "\n",
       "         Date  Rooms  Bathroom  Car  Landsize    ...     \\\n",
       "0  13/05/2017      1       1.0  1.0    1162.0    ...      \n",
       "1   3/09/2016      2       1.0  0.0     152.0    ...      \n",
       "2  25/02/2017      4       2.0  3.0     548.0    ...      \n",
       "3   7/11/2016      2       1.0  1.0       0.0    ...      \n",
       "4  24/09/2016      1       1.0  1.0       0.0    ...      \n",
       "\n",
       "   distance_to_train_stat  travel_min_to_CBD  over_priced? crime_A_average  \\\n",
       "0              295.809056        2320.000000             0            66.7   \n",
       "1             1303.384256        3810.000000             0         240.458   \n",
       "2              270.040873        3400.000000             0         255.958   \n",
       "3              541.150936        1883.076923             0         200.957   \n",
       "4              523.716330        2420.000000             0         87.1429   \n",
       "\n",
       "   crime_B_average  crime_C_average crime_C_average_z     Age_z  \\\n",
       "0          196.267        71.900000         -0.472933 -0.032520   \n",
       "1          1683.62       169.181818          0.378998  1.489271   \n",
       "2          1618.41       222.700000          0.847675  0.935893   \n",
       "3          1136.69       143.300000          0.152342  0.105824   \n",
       "4          348.733        76.000000         -0.437028 -0.032520   \n",
       "\n",
       "  travel_min_to_CBD_z   Rooms_z  \n",
       "0           -0.457476 -1.991321  \n",
       "1            0.756021 -0.975279  \n",
       "2            0.422106  1.056804  \n",
       "3           -0.813318 -0.975279  \n",
       "4           -0.376033 -1.991321  \n",
       "\n",
       "[5 rows x 24 columns]"
      ]
     },
     "execution_count": 1247,
     "metadata": {},
     "output_type": "execute_result"
    }
   ],
   "source": [
    "plot_property_z['crime_C_average_z'] = df_std[:,0]\n",
    "plot_property_z['Age_z'] = df_std[:,1]\n",
    "plot_property_z['travel_min_to_CBD_z'] = df_std[:,2]\n",
    "plot_property_z['Rooms_z'] = df_std[:,3]\n",
    "\n",
    "plot_property_z.head()"
   ]
  },
  {
   "cell_type": "code",
   "execution_count": 1248,
   "metadata": {
    "ExecuteTime": {
     "end_time": "2019-06-12T16:01:19.639561Z",
     "start_time": "2019-06-12T16:01:19.628030Z"
    }
   },
   "outputs": [
    {
     "data": {
      "text/html": [
       "<div>\n",
       "<style scoped>\n",
       "    .dataframe tbody tr th:only-of-type {\n",
       "        vertical-align: middle;\n",
       "    }\n",
       "\n",
       "    .dataframe tbody tr th {\n",
       "        vertical-align: top;\n",
       "    }\n",
       "\n",
       "    .dataframe thead th {\n",
       "        text-align: right;\n",
       "    }\n",
       "</style>\n",
       "<table border=\"1\" class=\"dataframe\">\n",
       "  <thead>\n",
       "    <tr style=\"text-align: right;\">\n",
       "      <th></th>\n",
       "      <th>Price</th>\n",
       "      <th>crime_C_average_z</th>\n",
       "      <th>Age_z</th>\n",
       "      <th>travel_min_to_CBD_z</th>\n",
       "      <th>Rooms_z</th>\n",
       "    </tr>\n",
       "  </thead>\n",
       "  <tbody>\n",
       "    <tr>\n",
       "      <th>0</th>\n",
       "      <td>260000.0</td>\n",
       "      <td>-0.472933</td>\n",
       "      <td>-0.032520</td>\n",
       "      <td>-0.457476</td>\n",
       "      <td>-1.991321</td>\n",
       "    </tr>\n",
       "    <tr>\n",
       "      <th>1</th>\n",
       "      <td>1116000.0</td>\n",
       "      <td>0.378998</td>\n",
       "      <td>1.489271</td>\n",
       "      <td>0.756021</td>\n",
       "      <td>-0.975279</td>\n",
       "    </tr>\n",
       "    <tr>\n",
       "      <th>2</th>\n",
       "      <td>1857000.0</td>\n",
       "      <td>0.847675</td>\n",
       "      <td>0.935893</td>\n",
       "      <td>0.422106</td>\n",
       "      <td>1.056804</td>\n",
       "    </tr>\n",
       "    <tr>\n",
       "      <th>3</th>\n",
       "      <td>523000.0</td>\n",
       "      <td>0.152342</td>\n",
       "      <td>0.105824</td>\n",
       "      <td>-0.813318</td>\n",
       "      <td>-0.975279</td>\n",
       "    </tr>\n",
       "    <tr>\n",
       "      <th>4</th>\n",
       "      <td>373000.0</td>\n",
       "      <td>-0.437028</td>\n",
       "      <td>-0.032520</td>\n",
       "      <td>-0.376033</td>\n",
       "      <td>-1.991321</td>\n",
       "    </tr>\n",
       "  </tbody>\n",
       "</table>\n",
       "</div>"
      ],
      "text/plain": [
       "       Price  crime_C_average_z     Age_z  travel_min_to_CBD_z   Rooms_z\n",
       "0   260000.0          -0.472933 -0.032520            -0.457476 -1.991321\n",
       "1  1116000.0           0.378998  1.489271             0.756021 -0.975279\n",
       "2  1857000.0           0.847675  0.935893             0.422106  1.056804\n",
       "3   523000.0           0.152342  0.105824            -0.813318 -0.975279\n",
       "4   373000.0          -0.437028 -0.032520            -0.376033 -1.991321"
      ]
     },
     "execution_count": 1248,
     "metadata": {},
     "output_type": "execute_result"
    }
   ],
   "source": [
    "plot_property_z = plot_property_z[['Price','crime_C_average_z','Age_z','travel_min_to_CBD_z','Rooms_z']]\n",
    "plot_property_z.head()"
   ]
  },
  {
   "cell_type": "markdown",
   "metadata": {
    "ExecuteTime": {
     "end_time": "2019-06-12T14:31:34.752179Z",
     "start_time": "2019-06-12T14:31:34.740182Z"
    }
   },
   "source": [
    "As it is seen that on doing data transformation using z-score standarization, we are getting negative values for room, time etc which is ideally incorrect, so for this scenario min max will be a better approach to move with"
   ]
  },
  {
   "cell_type": "code",
   "execution_count": 1249,
   "metadata": {
    "ExecuteTime": {
     "end_time": "2019-06-12T16:01:19.649222Z",
     "start_time": "2019-06-12T16:01:19.642151Z"
    }
   },
   "outputs": [],
   "source": [
    "plot_property_min_max = plot_property_min_max[['Price','crime_C_average','Age','travel_min_to_CBD','Rooms']]"
   ]
  },
  {
   "cell_type": "code",
   "execution_count": 1250,
   "metadata": {
    "ExecuteTime": {
     "end_time": "2019-06-12T16:01:19.656187Z",
     "start_time": "2019-06-12T16:01:19.651402Z"
    }
   },
   "outputs": [
    {
     "data": {
      "text/plain": [
       "Index(['Price', 'crime_C_average', 'Age', 'travel_min_to_CBD', 'Rooms'], dtype='object')"
      ]
     },
     "execution_count": 1250,
     "metadata": {},
     "output_type": "execute_result"
    }
   ],
   "source": [
    "plot_property_min_max.columns"
   ]
  },
  {
   "cell_type": "code",
   "execution_count": 1251,
   "metadata": {
    "ExecuteTime": {
     "end_time": "2019-06-12T16:01:19.779966Z",
     "start_time": "2019-06-12T16:01:19.658774Z"
    }
   },
   "outputs": [],
   "source": [
    "plot_property_min_max['crime_C_average'] = plot_property_min_max['crime_C_average'].astype(float)\n",
    "plot_property_min_max['Age'] = plot_property_min_max['Age'].astype(float)\n",
    "plot_property_min_max['travel_min_to_CBD'] = plot_property_min_max['travel_min_to_CBD'].astype(float)"
   ]
  },
  {
   "cell_type": "code",
   "execution_count": 1252,
   "metadata": {
    "ExecuteTime": {
     "end_time": "2019-06-12T16:01:20.505830Z",
     "start_time": "2019-06-12T16:01:19.782094Z"
    }
   },
   "outputs": [
    {
     "data": {
      "text/html": [
       "<div>\n",
       "<style scoped>\n",
       "    .dataframe tbody tr th:only-of-type {\n",
       "        vertical-align: middle;\n",
       "    }\n",
       "\n",
       "    .dataframe tbody tr th {\n",
       "        vertical-align: top;\n",
       "    }\n",
       "\n",
       "    .dataframe thead th {\n",
       "        text-align: right;\n",
       "    }\n",
       "</style>\n",
       "<table border=\"1\" class=\"dataframe\">\n",
       "  <thead>\n",
       "    <tr style=\"text-align: right;\">\n",
       "      <th></th>\n",
       "      <th>Price</th>\n",
       "      <th>crime_C_average</th>\n",
       "      <th>Age</th>\n",
       "      <th>travel_min_to_CBD</th>\n",
       "      <th>Rooms</th>\n",
       "    </tr>\n",
       "  </thead>\n",
       "  <tbody>\n",
       "    <tr>\n",
       "      <th>0</th>\n",
       "      <td>260000.0</td>\n",
       "      <td>0.127518</td>\n",
       "      <td>0.366197</td>\n",
       "      <td>0.359133</td>\n",
       "      <td>0</td>\n",
       "    </tr>\n",
       "    <tr>\n",
       "      <th>1</th>\n",
       "      <td>1116000.0</td>\n",
       "      <td>0.303578</td>\n",
       "      <td>0.756325</td>\n",
       "      <td>0.589783</td>\n",
       "      <td>0</td>\n",
       "    </tr>\n",
       "    <tr>\n",
       "      <th>2</th>\n",
       "      <td>1857000.0</td>\n",
       "      <td>0.399683</td>\n",
       "      <td>0.617082</td>\n",
       "      <td>0.526316</td>\n",
       "      <td>0</td>\n",
       "    </tr>\n",
       "    <tr>\n",
       "      <th>3</th>\n",
       "      <td>523000.0</td>\n",
       "      <td>0.257101</td>\n",
       "      <td>0.408217</td>\n",
       "      <td>0.291498</td>\n",
       "      <td>0</td>\n",
       "    </tr>\n",
       "    <tr>\n",
       "      <th>4</th>\n",
       "      <td>373000.0</td>\n",
       "      <td>0.136247</td>\n",
       "      <td>0.373407</td>\n",
       "      <td>0.374613</td>\n",
       "      <td>0</td>\n",
       "    </tr>\n",
       "  </tbody>\n",
       "</table>\n",
       "</div>"
      ],
      "text/plain": [
       "       Price  crime_C_average       Age  travel_min_to_CBD  Rooms\n",
       "0   260000.0         0.127518  0.366197           0.359133      0\n",
       "1  1116000.0         0.303578  0.756325           0.589783      0\n",
       "2  1857000.0         0.399683  0.617082           0.526316      0\n",
       "3   523000.0         0.257101  0.408217           0.291498      0\n",
       "4   373000.0         0.136247  0.373407           0.374613      0"
      ]
     },
     "execution_count": 1252,
     "metadata": {},
     "output_type": "execute_result"
    }
   ],
   "source": [
    "for index,row in plot_property_min_max.iterrows():\n",
    "    plot_property_min_max.set_value(index, 'crime_C_average', (row[1] - plot_property_min_max['crime_C_average'].min())/(plot_property_min_max['crime_C_average'].max()- plot_property_min_max['crime_C_average'].min()))\n",
    "    plot_property_min_max.set_value(index, 'Age', (row[2] - plot_property_min_max['Age'].min())/(plot_property_min_max['Age'].max()- plot_property_min_max['Age'].min()))\n",
    "    plot_property_min_max.set_value(index, 'travel_min_to_CBD', (row[3] - plot_property_min_max['travel_min_to_CBD'].min())/(plot_property_min_max['travel_min_to_CBD'].max()- plot_property_min_max['travel_min_to_CBD'].min()))\n",
    "    plot_property_min_max.set_value(index, 'Rooms', (row[4] - plot_property_min_max['Rooms'].min())/(plot_property_min_max['Rooms'].max()- plot_property_min_max['Rooms'].min()))\n",
    "plot_property_min_max.head()   \n",
    "    \n",
    "    "
   ]
  },
  {
   "cell_type": "code",
   "execution_count": 1253,
   "metadata": {
    "ExecuteTime": {
     "end_time": "2019-06-12T16:01:20.765814Z",
     "start_time": "2019-06-12T16:01:20.509225Z"
    }
   },
   "outputs": [
    {
     "data": {
      "image/png": "[encoded data removed]",
      "text/plain": [
       "<Figure size 576x432 with 1 Axes>"
      ]
     },
     "metadata": {},
     "output_type": "display_data"
    }
   ],
   "source": [
    "f = plt.figure(figsize=(8,6))\n",
    "plt.scatter(plot_property_min_max['travel_min_to_CBD'], plot_property_min_max['Price'])\n",
    "plt.title('crime_C_average vs Price')\n",
    "plt.xlabel('Price')\n",
    "plt.ylabel('Maliccrime_C_averageAcid')\n",
    "plt.legend(loc='upper right')\n",
    "plt.grid()\n",
    "plt.tight_layout()"
   ]
  },
  {
   "cell_type": "code",
   "execution_count": 1254,
   "metadata": {
    "ExecuteTime": {
     "end_time": "2019-06-12T16:01:20.778307Z",
     "start_time": "2019-06-12T16:01:20.769015Z"
    }
   },
   "outputs": [],
   "source": [
    "plot_property_min_max['travel_min_to_CBD_log'] = plot_property_min_max['travel_min_to_CBD'].apply(np.log)\n",
    "plot_property_min_max['travel_min_to_CBD_squ'] = plot_property_min_max['travel_min_to_CBD'].apply(lambda x: x**2)\n",
    "plot_property_min_max['travel_min_to_CBD_cube'] = plot_property_min_max['travel_min_to_CBD'].apply(lambda x: x**3)\n",
    "plot_property_min_max['travel_min_to_CBD_sq'] = plot_property_min_max['travel_min_to_CBD'].apply(lambda x: x**0.5)"
   ]
  },
  {
   "cell_type": "markdown",
   "metadata": {},
   "source": [
    "Trying out different transformation for travel_min_to_CBD_log like log, square, cube and square root"
   ]
  },
  {
   "cell_type": "code",
   "execution_count": 1255,
   "metadata": {
    "ExecuteTime": {
     "end_time": "2019-06-12T16:01:21.430050Z",
     "start_time": "2019-06-12T16:01:20.780564Z"
    }
   },
   "outputs": [
    {
     "data": {
      "image/png": "[encoded data removed]",
      "text/plain": [
       "<Figure size 720x720 with 4 Axes>"
      ]
     },
     "metadata": {},
     "output_type": "display_data"
    }
   ],
   "source": [
    "f = plt.figure(figsize=(10,10))\n",
    "plt.subplot(2,2,1)\n",
    "plt.scatter(plot_property_min_max['travel_min_to_CBD'], plot_property_min_max['Price'], color='red')\n",
    "plt.title('Without Transformation')\n",
    "plt.xlabel('travel_min_to_CBD')\n",
    "plt.ylabel('Price')\n",
    "plt.legend(loc='upper right')\n",
    "plt.grid()\n",
    "plt.tight_layout()\n",
    "\n",
    "plt.subplot(2,2,2)\n",
    "plt.scatter(plot_property_min_max['travel_min_to_CBD_log'], plot_property_min_max['Price'], color='green')\n",
    "plt.title('Log Transformation')\n",
    "plt.xlabel('travel_min_to_CBD')\n",
    "plt.ylabel('Price')\n",
    "plt.legend(loc='upper right')\n",
    "plt.grid()\n",
    "plt.tight_layout()\n",
    "\n",
    "plt.subplot(2,2,3)\n",
    "plt.scatter(plot_property_min_max['travel_min_to_CBD_squ'], plot_property_min_max['Price'], color='blue')\n",
    "plt.title('Power Transformation')\n",
    "plt.xlabel('travel_min_to_CBD')\n",
    "plt.ylabel('Price')\n",
    "plt.legend(loc='upper right')\n",
    "plt.grid()\n",
    "plt.tight_layout()\n",
    "\n",
    "plt.subplot(2,2,4)\n",
    "plt.scatter(plot_property_min_max['travel_min_to_CBD_sq'], plot_property_min_max['Price'], color='brown')\n",
    "plt.title('Root Transformation')\n",
    "plt.xlabel('travel_min_to_CBD')\n",
    "plt.ylabel('Price')\n",
    "plt.legend(loc='upper right')\n",
    "plt.grid()\n",
    "plt.tight_layout()"
   ]
  },
  {
   "cell_type": "code",
   "execution_count": 1256,
   "metadata": {
    "ExecuteTime": {
     "end_time": "2019-06-12T16:01:21.444443Z",
     "start_time": "2019-06-12T16:01:21.432310Z"
    }
   },
   "outputs": [
    {
     "name": "stdout",
     "output_type": "stream",
     "text": [
      "R-squared:  -0.0037143902044347588\n"
     ]
    }
   ],
   "source": [
    "from sklearn.cross_validation import train_test_split\n",
    "from sklearn.linear_model import LinearRegression\n",
    "X_train, X_test, y_train, y_test = train_test_split(plot_property_min_max[['travel_min_to_CBD']],plot_property_min_max['Price'], random_state=1000)\n",
    "model = LinearRegression()\n",
    "model.fit(X_train,y_train)\n",
    "print('R-squared: ',model.score(X_test,y_test))\n"
   ]
  },
  {
   "cell_type": "code",
   "execution_count": 1257,
   "metadata": {
    "ExecuteTime": {
     "end_time": "2019-06-12T16:01:21.574777Z",
     "start_time": "2019-06-12T16:01:21.447519Z"
    }
   },
   "outputs": [
    {
     "data": {
      "image/png": "[encoded data removed]",
      "text/plain": [
       "<Figure size 432x288 with 1 Axes>"
      ]
     },
     "metadata": {},
     "output_type": "display_data"
    }
   ],
   "source": [
    "import numpy as np\n",
    "import statsmodels.api as sm\n",
    "import pylab\n",
    "\n",
    "test = np.random.normal(0,1, 1000)\n",
    "\n",
    "sm.qqplot(plot_property_min_max[['travel_min_to_CBD']], line='45')\n",
    "pylab.show()"
   ]
  },
  {
   "cell_type": "markdown",
   "metadata": {},
   "source": [
    "As it is clear from the log log plot of travel_min_to_CBD, feature travel_min_to_CBD do not follow a normal distribution. Also the linear model r-squared value is very less showing that the linear approach is not correct for this. Similarly for other features also we have similar results"
   ]
  }
 ],
 "metadata": {
  "kernelspec": {
   "display_name": "Python 3",
   "language": "python",
   "name": "python3"
  },
  "language_info": {
   "codemirror_mode": {
    "name": "ipython",
    "version": 3
   },
   "file_extension": ".py",
   "mimetype": "text/x-python",
   "name": "python",
   "nbconvert_exporter": "python",
   "pygments_lexer": "ipython3",
   "version": "3.6.8"
  },
  "toc": {
   "base_numbering": 1,
   "nav_menu": {},
   "number_sections": true,
   "sideBar": true,
   "skip_h1_title": false,
   "title_cell": "Table of Contents",
   "title_sidebar": "Contents",
   "toc_cell": false,
   "toc_position": {
    "height": "calc(100% - 180px)",
    "left": "10px",
    "top": "150px",
    "width": "288px"
   },
   "toc_section_display": true,
   "toc_window_display": true
  }
 },
 "nbformat": 4,
 "nbformat_minor": 2
}
