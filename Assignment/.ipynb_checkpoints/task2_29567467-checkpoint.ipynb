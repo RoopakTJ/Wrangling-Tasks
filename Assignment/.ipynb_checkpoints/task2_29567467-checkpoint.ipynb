{
 "cells": [
  {
   "cell_type": "markdown",
   "metadata": {},
   "source": [
    "#                         Assignment 1 - Task 2 Text Pre-Processing \n",
    "\n",
    "### Student Name: Roopak TJ\n",
    "### Student ID: 29567467\n",
    "\n",
    "Date: 14th April, 2019\n",
    "\n",
    "Environment: Python 3 and Jupyter notebook\n",
    "Libraries used: \n",
    "* Tabula (for reading and extracting data from pdf tables )\n",
    "* nltk - natural language toolkit (tokenizer, stemmer, collocations and probabilities)\n",
    "* matplotlib - For plots\n",
    "\n",
    "External files used:\n",
    "* Input file : 29567467.pdf | stopwords_en.txt\n",
    "* Output file : 29567467_vocab.txt | 29567467_countVec.txt"
   ]
  },
  {
   "cell_type": "markdown",
   "metadata": {},
   "source": [
    "## Text Pre-Processing\n",
    "The process basically involves processing and formatting of data which can be fed into differnt machine learning and data analysis processes.The current task mainly covers:\n",
    "* Extracting data from PDF tables\n",
    "* Loading the data into Dataframe\n",
    "* Tokenization\n",
    "* Case Normalization\n",
    "* Removing stop words\n",
    "* Stemming technique\n",
    "* Count vectorization"
   ]
  },
  {
   "cell_type": "markdown",
   "metadata": {},
   "source": [
    "## Import libraries"
   ]
  },
  {
   "cell_type": "code",
   "execution_count": 1034,
   "metadata": {},
   "outputs": [],
   "source": [
    "from tabula import read_pdf\n",
    "from nltk.tokenize import RegexpTokenizer\n",
    "from nltk.tokenize import MWETokenizer\n",
    "from nltk.stem import PorterStemmer\n",
    "from nltk.probability import *\n",
    "import matplotlib.pyplot as plt\n",
    "from pylab import *"
   ]
  },
  {
   "cell_type": "markdown",
   "metadata": {},
   "source": [
    "Using read_pdf function from Tabula package to extract tables in pdf to dataframe.\n",
    "Parameters: \n",
    "* file name\n",
    "* encoding technique\n",
    "* spreadsheet indicator boolean\n",
    "\n",
    "Returns:\n",
    "* dataframe"
   ]
  },
  {
   "cell_type": "code",
   "execution_count": 1035,
   "metadata": {},
   "outputs": [],
   "source": [
    "# Import pdf to dataframe\n",
    "df = tabula.read_pdf(\"29567467.pdf\",encoding='utf-8', spreadsheet=True, pages='all') "
   ]
  },
  {
   "cell_type": "markdown",
   "metadata": {},
   "source": [
    "Understanding the number of rows and columns"
   ]
  },
  {
   "cell_type": "code",
   "execution_count": 1036,
   "metadata": {},
   "outputs": [
    {
     "data": {
      "text/plain": [
       "(200, 3)"
      ]
     },
     "execution_count": 1036,
     "metadata": {},
     "output_type": "execute_result"
    }
   ],
   "source": [
    "df.shape"
   ]
  },
  {
   "cell_type": "code",
   "execution_count": 1037,
   "metadata": {},
   "outputs": [
    {
     "data": {
      "text/plain": [
       "Index(['Title', 'Synopsis', 'Outcomes'], dtype='object')"
      ]
     },
     "execution_count": 1037,
     "metadata": {},
     "output_type": "execute_result"
    }
   ],
   "source": [
    "df.columns"
   ]
  },
  {
   "cell_type": "markdown",
   "metadata": {},
   "source": [
    "On checking the data, it is noticed that some of the values in the cell contains ['NA'] in both Synopsis and Outcomes as seen below. This needs to be removed before text preprocessing"
   ]
  },
  {
   "cell_type": "code",
   "execution_count": 1038,
   "metadata": {},
   "outputs": [
    {
     "data": {
      "text/html": [
       "<div>\n",
       "<style scoped>\n",
       "    .dataframe tbody tr th:only-of-type {\n",
       "        vertical-align: middle;\n",
       "    }\n",
       "\n",
       "    .dataframe tbody tr th {\n",
       "        vertical-align: top;\n",
       "    }\n",
       "\n",
       "    .dataframe thead th {\n",
       "        text-align: right;\n",
       "    }\n",
       "</style>\n",
       "<table border=\"1\" class=\"dataframe\">\n",
       "  <thead>\n",
       "    <tr style=\"text-align: right;\">\n",
       "      <th></th>\n",
       "      <th>Title</th>\n",
       "      <th>Synopsis</th>\n",
       "      <th>Outcomes</th>\n",
       "    </tr>\n",
       "  </thead>\n",
       "  <tbody>\n",
       "    <tr>\n",
       "      <th>111</th>\n",
       "      <td>AZA3644</td>\n",
       "      <td>The unit is a survey course on the history and...</td>\n",
       "      <td>['NA']</td>\n",
       "    </tr>\n",
       "  </tbody>\n",
       "</table>\n",
       "</div>"
      ],
      "text/plain": [
       "       Title                                           Synopsis Outcomes\n",
       "111  AZA3644  The unit is a survey course on the history and...   ['NA']"
      ]
     },
     "execution_count": 1038,
     "metadata": {},
     "output_type": "execute_result"
    }
   ],
   "source": [
    "# Some rows have Synopsis and Outcomes as \"NA\"\n",
    "df[df[\"Title\"] == \"AZA3644\"]"
   ]
  },
  {
   "cell_type": "markdown",
   "metadata": {},
   "source": [
    "Writing a function which will consider such cases and replace ['NA'] with empty string.\n",
    "\n",
    "Parameters : String\n",
    "\n",
    "Return : Same string after removing null cases"
   ]
  },
  {
   "cell_type": "code",
   "execution_count": 1039,
   "metadata": {},
   "outputs": [],
   "source": [
    "def removeNull(s):\n",
    "    s = str(s)\n",
    "    if s == \"['NA']\":\n",
    "        s = \"\"\n",
    "    return s\n",
    "\n",
    "df[\"Synopsis\"] = df[\"Synopsis\"].apply(removeNull)\n",
    "df[\"Outcomes\"] = df[\"Outcomes\"].apply(removeNull)"
   ]
  },
  {
   "cell_type": "markdown",
   "metadata": {},
   "source": [
    "It can be seen that the ['NA'] values has been replaced by empty string "
   ]
  },
  {
   "cell_type": "code",
   "execution_count": 1040,
   "metadata": {},
   "outputs": [
    {
     "data": {
      "text/html": [
       "<div>\n",
       "<style scoped>\n",
       "    .dataframe tbody tr th:only-of-type {\n",
       "        vertical-align: middle;\n",
       "    }\n",
       "\n",
       "    .dataframe tbody tr th {\n",
       "        vertical-align: top;\n",
       "    }\n",
       "\n",
       "    .dataframe thead th {\n",
       "        text-align: right;\n",
       "    }\n",
       "</style>\n",
       "<table border=\"1\" class=\"dataframe\">\n",
       "  <thead>\n",
       "    <tr style=\"text-align: right;\">\n",
       "      <th></th>\n",
       "      <th>Title</th>\n",
       "      <th>Synopsis</th>\n",
       "      <th>Outcomes</th>\n",
       "    </tr>\n",
       "  </thead>\n",
       "  <tbody>\n",
       "    <tr>\n",
       "      <th>16</th>\n",
       "      <td>LAW4227</td>\n",
       "      <td>Criminal investigation and procedure involves ...</td>\n",
       "      <td></td>\n",
       "    </tr>\n",
       "  </tbody>\n",
       "</table>\n",
       "</div>"
      ],
      "text/plain": [
       "      Title                                           Synopsis Outcomes\n",
       "16  LAW4227  Criminal investigation and procedure involves ...         "
      ]
     },
     "execution_count": 1040,
     "metadata": {},
     "output_type": "execute_result"
    }
   ],
   "source": [
    "# Some rows have Synopsis and Outcomes as \"NA\"\n",
    "df[df[\"Title\"] == \"AZA3644\"]\n",
    "df[df[\"Title\"] == \"LAW4227\"]"
   ]
  },
  {
   "cell_type": "markdown",
   "metadata": {},
   "source": [
    "Combining 2 columns(Synopsis and Outcomes) into a single column Combination for simplicity"
   ]
  },
  {
   "cell_type": "code",
   "execution_count": 1041,
   "metadata": {},
   "outputs": [],
   "source": [
    "# Create a new column to combine synopsis and outcome\n",
    "df[\"Combination\"] = df.Synopsis + df.Outcomes"
   ]
  },
  {
   "cell_type": "markdown",
   "metadata": {},
   "source": [
    "Droping the actual columns which contains redundant data"
   ]
  },
  {
   "cell_type": "code",
   "execution_count": 1042,
   "metadata": {},
   "outputs": [],
   "source": [
    "# Drop synopsis and outcome\n",
    "df.drop(columns = ['Synopsis', 'Outcomes'], inplace = True, axis=1)"
   ]
  },
  {
   "cell_type": "code",
   "execution_count": 1043,
   "metadata": {},
   "outputs": [
    {
     "data": {
      "text/plain": [
       "Index(['Title', 'Combination'], dtype='object')"
      ]
     },
     "execution_count": 1043,
     "metadata": {},
     "output_type": "execute_result"
    }
   ],
   "source": [
    "df.columns"
   ]
  },
  {
   "cell_type": "markdown",
   "metadata": {},
   "source": [
    "Writing a function which will be called in the dataframe column which will perform the case Normalization and make every word except the Noun lower case"
   ]
  },
  {
   "cell_type": "code",
   "execution_count": 1044,
   "metadata": {},
   "outputs": [],
   "source": [
    "def preserveNoun(s):\n",
    "    s = str(s)\n",
    "    First = True\n",
    "    new = \"\"\n",
    "    flag = False\n",
    "    for each in s:\n",
    "        if flag and each != \" \":\n",
    "            each = each.lower()\n",
    "            flag = False\n",
    "        if each == \".\" or each == \"?\" or each == \"!\":\n",
    "            flag = True\n",
    "        if First:\n",
    "            each = each.lower()\n",
    "            First = False\n",
    "        new = new + each\n",
    "    return new"
   ]
  },
  {
   "cell_type": "markdown",
   "metadata": {},
   "source": [
    "Create a new column to store the value returned from the function"
   ]
  },
  {
   "cell_type": "code",
   "execution_count": 1045,
   "metadata": {},
   "outputs": [
    {
     "data": {
      "text/html": [
       "<div>\n",
       "<style scoped>\n",
       "    .dataframe tbody tr th:only-of-type {\n",
       "        vertical-align: middle;\n",
       "    }\n",
       "\n",
       "    .dataframe tbody tr th {\n",
       "        vertical-align: top;\n",
       "    }\n",
       "\n",
       "    .dataframe thead th {\n",
       "        text-align: right;\n",
       "    }\n",
       "</style>\n",
       "<table border=\"1\" class=\"dataframe\">\n",
       "  <thead>\n",
       "    <tr style=\"text-align: right;\">\n",
       "      <th></th>\n",
       "      <th>Title</th>\n",
       "      <th>Combination</th>\n",
       "      <th>new</th>\n",
       "    </tr>\n",
       "  </thead>\n",
       "  <tbody>\n",
       "    <tr>\n",
       "      <th>0</th>\n",
       "      <td>ATS3956</td>\n",
       "      <td>This unit focuses on the histories, theories, ...</td>\n",
       "      <td>this unit focuses on the histories, theories, ...</td>\n",
       "    </tr>\n",
       "    <tr>\n",
       "      <th>1</th>\n",
       "      <td>ATS3116</td>\n",
       "      <td>The unit develops Indonesian linguistic and cu...</td>\n",
       "      <td>the unit develops Indonesian linguistic and cu...</td>\n",
       "    </tr>\n",
       "    <tr>\n",
       "      <th>2</th>\n",
       "      <td>APG5337</td>\n",
       "      <td>The unit will explore modern political governa...</td>\n",
       "      <td>the unit will explore modern political governa...</td>\n",
       "    </tr>\n",
       "    <tr>\n",
       "      <th>3</th>\n",
       "      <td>ATS1229</td>\n",
       "      <td>This unit aims to provide a basic foundation i...</td>\n",
       "      <td>this unit aims to provide a basic foundation i...</td>\n",
       "    </tr>\n",
       "    <tr>\n",
       "      <th>4</th>\n",
       "      <td>IMM3990</td>\n",
       "      <td>This unit will provide high achieving students...</td>\n",
       "      <td>this unit will provide high achieving students...</td>\n",
       "    </tr>\n",
       "  </tbody>\n",
       "</table>\n",
       "</div>"
      ],
      "text/plain": [
       "     Title                                        Combination  \\\n",
       "0  ATS3956  This unit focuses on the histories, theories, ...   \n",
       "1  ATS3116  The unit develops Indonesian linguistic and cu...   \n",
       "2  APG5337  The unit will explore modern political governa...   \n",
       "3  ATS1229  This unit aims to provide a basic foundation i...   \n",
       "4  IMM3990  This unit will provide high achieving students...   \n",
       "\n",
       "                                                 new  \n",
       "0  this unit focuses on the histories, theories, ...  \n",
       "1  the unit develops Indonesian linguistic and cu...  \n",
       "2  the unit will explore modern political governa...  \n",
       "3  this unit aims to provide a basic foundation i...  \n",
       "4  this unit will provide high achieving students...  "
      ]
     },
     "execution_count": 1045,
     "metadata": {},
     "output_type": "execute_result"
    }
   ],
   "source": [
    "df[\"new\"] = np.NAN\n",
    "df[\"new\"] = df[\"Combination\"].apply(preserveNoun)\n",
    "df.head()"
   ]
  },
  {
   "cell_type": "markdown",
   "metadata": {},
   "source": [
    "Droping Combination column"
   ]
  },
  {
   "cell_type": "code",
   "execution_count": 1046,
   "metadata": {},
   "outputs": [
    {
     "data": {
      "text/html": [
       "<div>\n",
       "<style scoped>\n",
       "    .dataframe tbody tr th:only-of-type {\n",
       "        vertical-align: middle;\n",
       "    }\n",
       "\n",
       "    .dataframe tbody tr th {\n",
       "        vertical-align: top;\n",
       "    }\n",
       "\n",
       "    .dataframe thead th {\n",
       "        text-align: right;\n",
       "    }\n",
       "</style>\n",
       "<table border=\"1\" class=\"dataframe\">\n",
       "  <thead>\n",
       "    <tr style=\"text-align: right;\">\n",
       "      <th></th>\n",
       "      <th>Title</th>\n",
       "      <th>Information</th>\n",
       "    </tr>\n",
       "  </thead>\n",
       "  <tbody>\n",
       "    <tr>\n",
       "      <th>0</th>\n",
       "      <td>ATS3956</td>\n",
       "      <td>this unit focuses on the histories, theories, ...</td>\n",
       "    </tr>\n",
       "    <tr>\n",
       "      <th>1</th>\n",
       "      <td>ATS3116</td>\n",
       "      <td>the unit develops Indonesian linguistic and cu...</td>\n",
       "    </tr>\n",
       "    <tr>\n",
       "      <th>2</th>\n",
       "      <td>APG5337</td>\n",
       "      <td>the unit will explore modern political governa...</td>\n",
       "    </tr>\n",
       "    <tr>\n",
       "      <th>3</th>\n",
       "      <td>ATS1229</td>\n",
       "      <td>this unit aims to provide a basic foundation i...</td>\n",
       "    </tr>\n",
       "    <tr>\n",
       "      <th>4</th>\n",
       "      <td>IMM3990</td>\n",
       "      <td>this unit will provide high achieving students...</td>\n",
       "    </tr>\n",
       "  </tbody>\n",
       "</table>\n",
       "</div>"
      ],
      "text/plain": [
       "     Title                                        Information\n",
       "0  ATS3956  this unit focuses on the histories, theories, ...\n",
       "1  ATS3116  the unit develops Indonesian linguistic and cu...\n",
       "2  APG5337  the unit will explore modern political governa...\n",
       "3  ATS1229  this unit aims to provide a basic foundation i...\n",
       "4  IMM3990  this unit will provide high achieving students..."
      ]
     },
     "execution_count": 1046,
     "metadata": {},
     "output_type": "execute_result"
    }
   ],
   "source": [
    "df.drop(columns = ['Combination'], inplace = True, axis=1)\n",
    "df = df.rename(columns={'new': 'Information'})\n",
    "df.head()"
   ]
  },
  {
   "cell_type": "markdown",
   "metadata": {},
   "source": [
    "Writing a function tokenise which will generate unigrams from the string\n",
    "\n",
    "Parameters : String (Column value in Information)\n",
    "\n",
    "Returns : List of unigrams"
   ]
  },
  {
   "cell_type": "code",
   "execution_count": 1047,
   "metadata": {},
   "outputs": [],
   "source": [
    "def tokenise(s):\n",
    "    s = str(s)\n",
    "    tokenizer = RegexpTokenizer(r\"\\w+(?:[-']\\w+)?\")\n",
    "    unigram = tokenizer.tokenize(s)\n",
    "    return unigram\n",
    "    "
   ]
  },
  {
   "cell_type": "code",
   "execution_count": 1048,
   "metadata": {},
   "outputs": [
    {
     "data": {
      "text/html": [
       "<div>\n",
       "<style scoped>\n",
       "    .dataframe tbody tr th:only-of-type {\n",
       "        vertical-align: middle;\n",
       "    }\n",
       "\n",
       "    .dataframe tbody tr th {\n",
       "        vertical-align: top;\n",
       "    }\n",
       "\n",
       "    .dataframe thead th {\n",
       "        text-align: right;\n",
       "    }\n",
       "</style>\n",
       "<table border=\"1\" class=\"dataframe\">\n",
       "  <thead>\n",
       "    <tr style=\"text-align: right;\">\n",
       "      <th></th>\n",
       "      <th>Title</th>\n",
       "      <th>Information</th>\n",
       "    </tr>\n",
       "  </thead>\n",
       "  <tbody>\n",
       "    <tr>\n",
       "      <th>0</th>\n",
       "      <td>ATS3956</td>\n",
       "      <td>[this, unit, focuses, on, the, histories, theo...</td>\n",
       "    </tr>\n",
       "    <tr>\n",
       "      <th>1</th>\n",
       "      <td>ATS3116</td>\n",
       "      <td>[the, unit, develops, Indonesian, linguistic, ...</td>\n",
       "    </tr>\n",
       "    <tr>\n",
       "      <th>2</th>\n",
       "      <td>APG5337</td>\n",
       "      <td>[the, unit, will, explore, modern, political, ...</td>\n",
       "    </tr>\n",
       "    <tr>\n",
       "      <th>3</th>\n",
       "      <td>ATS1229</td>\n",
       "      <td>[this, unit, aims, to, provide, a, basic, foun...</td>\n",
       "    </tr>\n",
       "    <tr>\n",
       "      <th>4</th>\n",
       "      <td>IMM3990</td>\n",
       "      <td>[this, unit, will, provide, high, achieving, s...</td>\n",
       "    </tr>\n",
       "  </tbody>\n",
       "</table>\n",
       "</div>"
      ],
      "text/plain": [
       "     Title                                        Information\n",
       "0  ATS3956  [this, unit, focuses, on, the, histories, theo...\n",
       "1  ATS3116  [the, unit, develops, Indonesian, linguistic, ...\n",
       "2  APG5337  [the, unit, will, explore, modern, political, ...\n",
       "3  ATS1229  [this, unit, aims, to, provide, a, basic, foun...\n",
       "4  IMM3990  [this, unit, will, provide, high, achieving, s..."
      ]
     },
     "execution_count": 1048,
     "metadata": {},
     "output_type": "execute_result"
    }
   ],
   "source": [
    "df[\"Information\"] = df[\"Information\"].apply(tokenise)\n",
    "df.head()"
   ]
  },
  {
   "cell_type": "markdown",
   "metadata": {},
   "source": [
    "bigrams() : Creating some of the multigrams using MWETokenizer. Created a unique set of tokens. Appended the tuples of bigrams and used MWETokenizer to replace the existing values in tokens list to words separated by '_'"
   ]
  },
  {
   "cell_type": "code",
   "execution_count": 1049,
   "metadata": {},
   "outputs": [],
   "source": [
    "def bigrams(s):\n",
    "\n",
    "    unique_set = list(set(s))\n",
    "    unique_set.append((\"transhistorical\", \"case\", \"studies\"))\n",
    "    unique_set.append((\"Post-Traumatic\", \"Stress\", \"Disorder\"))\n",
    "    unique_set.append((\"professional\", \"competency\"))\n",
    "    unique_set.append((\"occupational\", \"health\"))\n",
    "    \n",
    "    mwe_tokenizer = MWETokenizer(unique_set)\n",
    "    uni_and_bigrams = mwe_tokenizer.tokenize(s)\n",
    "    return uni_and_bigrams"
   ]
  },
  {
   "cell_type": "code",
   "execution_count": 1050,
   "metadata": {},
   "outputs": [
    {
     "data": {
      "text/html": [
       "<div>\n",
       "<style scoped>\n",
       "    .dataframe tbody tr th:only-of-type {\n",
       "        vertical-align: middle;\n",
       "    }\n",
       "\n",
       "    .dataframe tbody tr th {\n",
       "        vertical-align: top;\n",
       "    }\n",
       "\n",
       "    .dataframe thead th {\n",
       "        text-align: right;\n",
       "    }\n",
       "</style>\n",
       "<table border=\"1\" class=\"dataframe\">\n",
       "  <thead>\n",
       "    <tr style=\"text-align: right;\">\n",
       "      <th></th>\n",
       "      <th>Title</th>\n",
       "      <th>Information</th>\n",
       "    </tr>\n",
       "  </thead>\n",
       "  <tbody>\n",
       "    <tr>\n",
       "      <th>0</th>\n",
       "      <td>ATS3956</td>\n",
       "      <td>[this, unit, focuses, on, the, histories, theo...</td>\n",
       "    </tr>\n",
       "    <tr>\n",
       "      <th>1</th>\n",
       "      <td>ATS3116</td>\n",
       "      <td>[the, unit, develops, Indonesian, linguistic, ...</td>\n",
       "    </tr>\n",
       "    <tr>\n",
       "      <th>2</th>\n",
       "      <td>APG5337</td>\n",
       "      <td>[the, unit, will, explore, modern, political, ...</td>\n",
       "    </tr>\n",
       "    <tr>\n",
       "      <th>3</th>\n",
       "      <td>ATS1229</td>\n",
       "      <td>[this, unit, aims, to, provide, a, basic, foun...</td>\n",
       "    </tr>\n",
       "    <tr>\n",
       "      <th>4</th>\n",
       "      <td>IMM3990</td>\n",
       "      <td>[this, unit, will, provide, high, achieving, s...</td>\n",
       "    </tr>\n",
       "  </tbody>\n",
       "</table>\n",
       "</div>"
      ],
      "text/plain": [
       "     Title                                        Information\n",
       "0  ATS3956  [this, unit, focuses, on, the, histories, theo...\n",
       "1  ATS3116  [the, unit, develops, Indonesian, linguistic, ...\n",
       "2  APG5337  [the, unit, will, explore, modern, political, ...\n",
       "3  ATS1229  [this, unit, aims, to, provide, a, basic, foun...\n",
       "4  IMM3990  [this, unit, will, provide, high, achieving, s..."
      ]
     },
     "execution_count": 1050,
     "metadata": {},
     "output_type": "execute_result"
    }
   ],
   "source": [
    "df[\"Information\"] = df[\"Information\"].apply(bigrams)\n",
    "df.head()"
   ]
  },
  {
   "cell_type": "markdown",
   "metadata": {},
   "source": [
    "remove_three_or_less() : Function to remove the the words which have length less than 3. Such words are usually a part of stop words.\n",
    "\n",
    "Parameters: String (Values in the column Information)\n",
    "    \n",
    "Returns: Same String with the words of length less than 3 removed "
   ]
  },
  {
   "cell_type": "code",
   "execution_count": 1051,
   "metadata": {},
   "outputs": [],
   "source": [
    "# Function to remove tokens less than 3\n",
    "\n",
    "def remove_three_or_less(s):\n",
    "    new_list = []\n",
    "    for each in s:\n",
    "        if len(each) < 3:\n",
    "            continue\n",
    "        else:\n",
    "            new_list.append(each)\n",
    "            \n",
    "    return new_list"
   ]
  },
  {
   "cell_type": "code",
   "execution_count": 1052,
   "metadata": {},
   "outputs": [
    {
     "data": {
      "text/html": [
       "<div>\n",
       "<style scoped>\n",
       "    .dataframe tbody tr th:only-of-type {\n",
       "        vertical-align: middle;\n",
       "    }\n",
       "\n",
       "    .dataframe tbody tr th {\n",
       "        vertical-align: top;\n",
       "    }\n",
       "\n",
       "    .dataframe thead th {\n",
       "        text-align: right;\n",
       "    }\n",
       "</style>\n",
       "<table border=\"1\" class=\"dataframe\">\n",
       "  <thead>\n",
       "    <tr style=\"text-align: right;\">\n",
       "      <th></th>\n",
       "      <th>Title</th>\n",
       "      <th>Information</th>\n",
       "    </tr>\n",
       "  </thead>\n",
       "  <tbody>\n",
       "    <tr>\n",
       "      <th>0</th>\n",
       "      <td>ATS3956</td>\n",
       "      <td>[this, unit, focuses, the, histories, theories...</td>\n",
       "    </tr>\n",
       "    <tr>\n",
       "      <th>1</th>\n",
       "      <td>ATS3116</td>\n",
       "      <td>[the, unit, develops, Indonesian, linguistic, ...</td>\n",
       "    </tr>\n",
       "    <tr>\n",
       "      <th>2</th>\n",
       "      <td>APG5337</td>\n",
       "      <td>[the, unit, will, explore, modern, political, ...</td>\n",
       "    </tr>\n",
       "    <tr>\n",
       "      <th>3</th>\n",
       "      <td>ATS1229</td>\n",
       "      <td>[this, unit, aims, provide, basic, foundation,...</td>\n",
       "    </tr>\n",
       "    <tr>\n",
       "      <th>4</th>\n",
       "      <td>IMM3990</td>\n",
       "      <td>[this, unit, will, provide, high, achieving, s...</td>\n",
       "    </tr>\n",
       "  </tbody>\n",
       "</table>\n",
       "</div>"
      ],
      "text/plain": [
       "     Title                                        Information\n",
       "0  ATS3956  [this, unit, focuses, the, histories, theories...\n",
       "1  ATS3116  [the, unit, develops, Indonesian, linguistic, ...\n",
       "2  APG5337  [the, unit, will, explore, modern, political, ...\n",
       "3  ATS1229  [this, unit, aims, provide, basic, foundation,...\n",
       "4  IMM3990  [this, unit, will, provide, high, achieving, s..."
      ]
     },
     "execution_count": 1052,
     "metadata": {},
     "output_type": "execute_result"
    }
   ],
   "source": [
    "df[\"Information\"] = df[\"Information\"].apply(remove_three_or_less)\n",
    "df.head()"
   ]
  },
  {
   "cell_type": "markdown",
   "metadata": {},
   "source": [
    "Provided with a txt file containing stop words. Creating a function to read the data from the stopwords from the .txt file and removing the words from Information column which has words present in the stop words"
   ]
  },
  {
   "cell_type": "code",
   "execution_count": 1053,
   "metadata": {},
   "outputs": [],
   "source": [
    "def remove_stop_words(s):\n",
    "    \n",
    "    stop_words = open(\"stopwords_en.txt\", 'r')\n",
    "    stop_words = stop_words.read()\n",
    "    stop_words = stop_words.split(\"\\n\")\n",
    "    stopped_list = [w for w in s if w not in stop_words]\n",
    "    return stopped_list"
   ]
  },
  {
   "cell_type": "code",
   "execution_count": 1054,
   "metadata": {},
   "outputs": [
    {
     "data": {
      "text/html": [
       "<div>\n",
       "<style scoped>\n",
       "    .dataframe tbody tr th:only-of-type {\n",
       "        vertical-align: middle;\n",
       "    }\n",
       "\n",
       "    .dataframe tbody tr th {\n",
       "        vertical-align: top;\n",
       "    }\n",
       "\n",
       "    .dataframe thead th {\n",
       "        text-align: right;\n",
       "    }\n",
       "</style>\n",
       "<table border=\"1\" class=\"dataframe\">\n",
       "  <thead>\n",
       "    <tr style=\"text-align: right;\">\n",
       "      <th></th>\n",
       "      <th>Title</th>\n",
       "      <th>Information</th>\n",
       "    </tr>\n",
       "  </thead>\n",
       "  <tbody>\n",
       "    <tr>\n",
       "      <th>0</th>\n",
       "      <td>ATS3956</td>\n",
       "      <td>[unit, focuses, histories, theories, applicati...</td>\n",
       "    </tr>\n",
       "    <tr>\n",
       "      <th>1</th>\n",
       "      <td>ATS3116</td>\n",
       "      <td>[unit, develops, Indonesian, linguistic, cultu...</td>\n",
       "    </tr>\n",
       "    <tr>\n",
       "      <th>2</th>\n",
       "      <td>APG5337</td>\n",
       "      <td>[unit, explore, modern, political, governance,...</td>\n",
       "    </tr>\n",
       "    <tr>\n",
       "      <th>3</th>\n",
       "      <td>ATS1229</td>\n",
       "      <td>[unit, aims, provide, basic, foundation, basic...</td>\n",
       "    </tr>\n",
       "    <tr>\n",
       "      <th>4</th>\n",
       "      <td>IMM3990</td>\n",
       "      <td>[unit, provide, high, achieving, students, str...</td>\n",
       "    </tr>\n",
       "  </tbody>\n",
       "</table>\n",
       "</div>"
      ],
      "text/plain": [
       "     Title                                        Information\n",
       "0  ATS3956  [unit, focuses, histories, theories, applicati...\n",
       "1  ATS3116  [unit, develops, Indonesian, linguistic, cultu...\n",
       "2  APG5337  [unit, explore, modern, political, governance,...\n",
       "3  ATS1229  [unit, aims, provide, basic, foundation, basic...\n",
       "4  IMM3990  [unit, provide, high, achieving, students, str..."
      ]
     },
     "execution_count": 1054,
     "metadata": {},
     "output_type": "execute_result"
    }
   ],
   "source": [
    "df[\"Information\"] = df[\"Information\"].apply(remove_stop_words)\n",
    "df.head()"
   ]
  },
  {
   "cell_type": "markdown",
   "metadata": {},
   "source": [
    "Writing a function which will get the words fromt the Information column and stem it to its base form."
   ]
  },
  {
   "cell_type": "code",
   "execution_count": 1055,
   "metadata": {},
   "outputs": [],
   "source": [
    "def stem(mwe_text):\n",
    "    \n",
    "    tagged_sent = nltk.tag.pos_tag(mwe_text)\n",
    "    lemmatizer = PorterStemmer()\n",
    "    \n",
    "    final_tokens = [lemmatizer.stem(w[0]) for w in tagged_sent ]\n",
    "\n",
    "    return final_tokens"
   ]
  },
  {
   "cell_type": "code",
   "execution_count": 1056,
   "metadata": {},
   "outputs": [
    {
     "data": {
      "text/html": [
       "<div>\n",
       "<style scoped>\n",
       "    .dataframe tbody tr th:only-of-type {\n",
       "        vertical-align: middle;\n",
       "    }\n",
       "\n",
       "    .dataframe tbody tr th {\n",
       "        vertical-align: top;\n",
       "    }\n",
       "\n",
       "    .dataframe thead th {\n",
       "        text-align: right;\n",
       "    }\n",
       "</style>\n",
       "<table border=\"1\" class=\"dataframe\">\n",
       "  <thead>\n",
       "    <tr style=\"text-align: right;\">\n",
       "      <th></th>\n",
       "      <th>Title</th>\n",
       "      <th>Information</th>\n",
       "    </tr>\n",
       "  </thead>\n",
       "  <tbody>\n",
       "    <tr>\n",
       "      <th>0</th>\n",
       "      <td>ATS3956</td>\n",
       "      <td>[unit, focus, histori, theori, applic, concept...</td>\n",
       "    </tr>\n",
       "    <tr>\n",
       "      <th>1</th>\n",
       "      <td>ATS3116</td>\n",
       "      <td>[unit, develop, indonesian, linguist, cultur, ...</td>\n",
       "    </tr>\n",
       "    <tr>\n",
       "      <th>2</th>\n",
       "      <td>APG5337</td>\n",
       "      <td>[unit, explor, modern, polit, govern, mode, au...</td>\n",
       "    </tr>\n",
       "    <tr>\n",
       "      <th>3</th>\n",
       "      <td>ATS1229</td>\n",
       "      <td>[unit, aim, provid, basic, foundat, basic, lan...</td>\n",
       "    </tr>\n",
       "    <tr>\n",
       "      <th>4</th>\n",
       "      <td>IMM3990</td>\n",
       "      <td>[unit, provid, high, achiev, student, structur...</td>\n",
       "    </tr>\n",
       "  </tbody>\n",
       "</table>\n",
       "</div>"
      ],
      "text/plain": [
       "     Title                                        Information\n",
       "0  ATS3956  [unit, focus, histori, theori, applic, concept...\n",
       "1  ATS3116  [unit, develop, indonesian, linguist, cultur, ...\n",
       "2  APG5337  [unit, explor, modern, polit, govern, mode, au...\n",
       "3  ATS1229  [unit, aim, provid, basic, foundat, basic, lan...\n",
       "4  IMM3990  [unit, provid, high, achiev, student, structur..."
      ]
     },
     "execution_count": 1056,
     "metadata": {},
     "output_type": "execute_result"
    }
   ],
   "source": [
    "df[\"Information\"] = df[\"Information\"].apply(stem)\n",
    "df.head()"
   ]
  },
  {
   "cell_type": "markdown",
   "metadata": {},
   "source": [
    "Till now, we were handling tokens for each units. Now, we will iterate through the entire data frame to extract data from all units together into a global token list . Also using \"set\" to get unique tokens from the list"
   ]
  },
  {
   "cell_type": "code",
   "execution_count": 1057,
   "metadata": {},
   "outputs": [
    {
     "name": "stdout",
     "output_type": "stream",
     "text": [
      "The number of global tokens: 20345\n",
      "The number of unique tokens: 2624\n"
     ]
    }
   ],
   "source": [
    "# Get complete tokens in a list\n",
    "count = df.shape[0]\n",
    "tokens = list()\n",
    "for index, row in df.head(n=count).iterrows():\n",
    "    for each in row[1]:\n",
    "        tokens.append(each)\n",
    "tokens_set = list(set(tokens))\n",
    "print(\"The number of global tokens: \" + str(len(tokens)))\n",
    "print(\"The number of unique tokens: \" + str(len(tokens_set)))"
   ]
  },
  {
   "cell_type": "markdown",
   "metadata": {},
   "source": [
    "To get the first 200 meaningful bigrams, nltk.collocations.BigramAssocMeasures is used and this will be added to the existing unique set of tokens for updating the tokens already present in the tokens list."
   ]
  },
  {
   "cell_type": "code",
   "execution_count": 1058,
   "metadata": {},
   "outputs": [],
   "source": [
    "# First 200 meaningful bigrams\n",
    "bigram = nltk.collocations.BigramAssocMeasures()\n",
    "locater = nltk.collocations.BigramCollocationFinder.from_words(tokens_set)\n",
    "bestbigrams = locater.nbest(bigram.pmi, 200)    "
   ]
  },
  {
   "cell_type": "code",
   "execution_count": 1059,
   "metadata": {},
   "outputs": [
    {
     "name": "stdout",
     "output_type": "stream",
     "text": [
      "Size of token set for MWE:  2824\n",
      "Size of initial unique token list:  2624\n"
     ]
    }
   ],
   "source": [
    "# Added 200 to the existing set of global tokens\n",
    "token_set_bi = []\n",
    "\n",
    "for each in tokens_set:\n",
    "    token_set_bi.append(each)\n",
    "\n",
    "for each in bestbigrams:\n",
    "    token_set_bi.append(each)\n",
    "    \n",
    "print(\"Size of token set for MWE: \",len(token_set_bi))\n",
    "print(\"Size of initial unique token list: \", len(tokens_set))"
   ]
  },
  {
   "cell_type": "markdown",
   "metadata": {},
   "source": [
    "It can be noticed that the size of unique tokens has increased by 200."
   ]
  },
  {
   "cell_type": "code",
   "execution_count": 1060,
   "metadata": {},
   "outputs": [
    {
     "name": "stdout",
     "output_type": "stream",
     "text": [
      "Before updating the bigrams, size of the tokens are :  2624\n",
      "After updating the bigrams, size of the tokens are :  2437\n"
     ]
    }
   ],
   "source": [
    "# Changing the values in the existing tokens to bigrams using MWETokenizer class\n",
    "print(\"Before updating the bigrams, size of the tokens are : \",len(tokens_set))\n",
    "mwe_tokenizer = MWETokenizer(token_set_bi)\n",
    "tokens_set = mwe_tokenizer.tokenize(tokens_set)\n",
    "print(\"After updating the bigrams, size of the tokens are : \", len(tokens_set))"
   ]
  },
  {
   "cell_type": "markdown",
   "metadata": {},
   "source": [
    "After updating the bigrams, it can be noticed that the size of tokens have decreased below the count of original number of uniqur tokens. This is because we have combined tokens in the process. Alos updating the tokens in the dataframe with bigrams such that frequency can be calculated accurately"
   ]
  },
  {
   "cell_type": "code",
   "execution_count": 1061,
   "metadata": {},
   "outputs": [],
   "source": [
    "def updateColumn(s):\n",
    "    mwe_tokenizer = MWETokenizer(token_set_bi)\n",
    "    tokens = mwe_tokenizer.tokenize(s)\n",
    "    return s"
   ]
  },
  {
   "cell_type": "code",
   "execution_count": 1062,
   "metadata": {},
   "outputs": [
    {
     "data": {
      "text/html": [
       "<div>\n",
       "<style scoped>\n",
       "    .dataframe tbody tr th:only-of-type {\n",
       "        vertical-align: middle;\n",
       "    }\n",
       "\n",
       "    .dataframe tbody tr th {\n",
       "        vertical-align: top;\n",
       "    }\n",
       "\n",
       "    .dataframe thead th {\n",
       "        text-align: right;\n",
       "    }\n",
       "</style>\n",
       "<table border=\"1\" class=\"dataframe\">\n",
       "  <thead>\n",
       "    <tr style=\"text-align: right;\">\n",
       "      <th></th>\n",
       "      <th>Title</th>\n",
       "      <th>Information</th>\n",
       "    </tr>\n",
       "  </thead>\n",
       "  <tbody>\n",
       "    <tr>\n",
       "      <th>0</th>\n",
       "      <td>ATS3956</td>\n",
       "      <td>[unit, focus, histori, theori, applic, concept...</td>\n",
       "    </tr>\n",
       "    <tr>\n",
       "      <th>1</th>\n",
       "      <td>ATS3116</td>\n",
       "      <td>[unit, develop, indonesian, linguist, cultur, ...</td>\n",
       "    </tr>\n",
       "    <tr>\n",
       "      <th>2</th>\n",
       "      <td>APG5337</td>\n",
       "      <td>[unit, explor, modern, polit, govern, mode, au...</td>\n",
       "    </tr>\n",
       "    <tr>\n",
       "      <th>3</th>\n",
       "      <td>ATS1229</td>\n",
       "      <td>[unit, aim, provid, basic, foundat, basic, lan...</td>\n",
       "    </tr>\n",
       "    <tr>\n",
       "      <th>4</th>\n",
       "      <td>IMM3990</td>\n",
       "      <td>[unit, provid, high, achiev, student, structur...</td>\n",
       "    </tr>\n",
       "  </tbody>\n",
       "</table>\n",
       "</div>"
      ],
      "text/plain": [
       "     Title                                        Information\n",
       "0  ATS3956  [unit, focus, histori, theori, applic, concept...\n",
       "1  ATS3116  [unit, develop, indonesian, linguist, cultur, ...\n",
       "2  APG5337  [unit, explor, modern, polit, govern, mode, au...\n",
       "3  ATS1229  [unit, aim, provid, basic, foundat, basic, lan...\n",
       "4  IMM3990  [unit, provid, high, achiev, student, structur..."
      ]
     },
     "execution_count": 1062,
     "metadata": {},
     "output_type": "execute_result"
    }
   ],
   "source": [
    "df[\"Information\"] = df[\"Information\"].apply(updateColumn)\n",
    "df.head()"
   ]
  },
  {
   "cell_type": "markdown",
   "metadata": {},
   "source": [
    "Using getTokenFrequency to get the frequency of tokens as a Dictionary and sorting the dictionary with respect to values to identify the most frequent and rare tokens"
   ]
  },
  {
   "cell_type": "code",
   "execution_count": 1063,
   "metadata": {},
   "outputs": [
    {
     "name": "stdout",
     "output_type": "stream",
     "text": [
      "[('twenty-first', 1), ('transhistorical_case_studi', 1), ('nineteenth', 1), ('struggl', 1), ('genocid', 1), ('globe', 1), ('colon', 1), ('decolon', 1), ('gender-bas', 1), ('worldwid', 1), ('post-traumatic_stress_disord', 1), ('rememb', 1), ('non-western', 1), ('memoir', 1), ('historiographi', 1), ('televis', 1), ('photographi', 1), ('ethnic', 1), ('serv', 1), ('20th', 1), ('presidenti', 1), ('parliamentari', 1), ('south-east', 1), ('formalis', 1), ('persist', 1), ('persever', 1), ('autocrat', 1), ('authoritarian', 1), ('intric', 1), ('highest', 1), ('succinctli', 1), ('elementari', 1), ('up-to', 1), ('multi-part', 1), ('virtuoso', 1), ('professional_compet', 1), ('socio-linguist', 1), ('dialogu', 1), ('monologu', 1), ('apologis', 1), ('hope', 1), ('gratitud', 1), ('japan-rel', 1), ('kanji', 1), ('240', 1), ('curv', 1), ('short-term', 1), ('medium-term', 1), ('usag', 1), ('wisdom', 1), ('hard', 1), ('copi', 1), ('exemplifi', 1), ('principles-bas', 1), ('adequ', 1), ('milieu', 1), ('icm', 1), ('statut', 1), ('reach', 1), ('espous', 1), ('avail', 1), ('micro', 1), ('macro', 1), ('ethico-leg', 1), ('advoc', 1), ('breastfeed', 1), ('acmi', 1), ('publicli', 1), ('valuat', 1), ('return', 1), ('ensur', 1), ('value-chang', 1), ('maximis', 1), ('riski', 1), ('bff2140', 1), ('cancer', 1), ('difficult', 1), ('debilit', 1), ('diabet', 1), ('sclerosi', 1), ('imm2011', 1), ('mediat', 1), ('inflamm', 1), ('utter', 1), ('genesi', 1), ('pragmat', 1), ('fashion', 1), ('problemat', 1), ('individually-bas', 1), ('high-risk', 1), ('weak', 1), ('foster', 1), ('hundr', 1), ('alleg', 1), ('problem-bas', 1), ('cohort', 1), ('clearer', 1), ('contributor', 1), ('discipline-specif', 1), ('enquiri', 1), ('fastest', 1), ('subdisciplin', 1), ('bioethic', 1), ('obes', 1), ('tobacco', 1), ('pandem', 1), ('nudg', 1), ('arriv', 1), ('well-argu', 1), ('ncommonli', 1), ('nargument', 1), ('pro', 1), ('con', 1), ('nof', 1), ('ngenr', 1), ('alert', 1), ('ncomposit', 1), ('retrofit', 1), ('allevi', 1), ('remain', 1), ('mass-market', 1), ('smaller', 1), ('entrepreneuri', 1), ('bureaucrat', 1), ('nine', 1), ('fairfax', 1), ('appl', 1), ('itun', 1), ('facebook', 1), ('wikipedia', 1), ('trigger', 1), ('revolut', 1), ('broadcast', 1), ('nin', 1), ('apg5401', 1), ('canvass', 1), ('reportag', 1), ('showcas', 1), (\"monash'\", 1), ('mojo', 1), ('interview', 1), ('evidentiari', 1), ('sponsorship', 1), ('forum', 1), ('deadlin', 1), ('socio-profession', 1), ('portray', 1), ('high-perform', 1), ('chromatographi', 1), ('hplc', 1), ('chromatography-mass', 1), ('lc-m', 1), ('operator-control', 1), ('reproduc', 1), ('generalis', 1), ('psychosoci', 1), ('entrant', 1), ('end-of', 1), ('glean', 1), ('episod', 1), ('mid-term', 1), ('masterclass', 1), ('breakfast', 1), ('keen', 1), ('citizenship', 1), ('due', 1), ('purchas', 1), ('and', 1), ('paradigm', 1), ('subsect', 1), ('decid', 1), ('defect', 1), ('unwarr', 1), ('leukaemia', 1), ('tumour', 1), ('evad', 1), ('microorgan', 1), ('leukemia', 1), ('immunosuppress', 1), ('immunopotenti', 1), ('cure', 1), ('mmd4001not', 1), ('intranet', 1), ('ipv6', 1), ('subnet', 1), ('supernet', 1), ('reno', 1), ('new-reno', 1), ('retransmit', 1), ('unicast', 1), ('multicast', 1), ('bgp4', 1), ('ospf', 1), ('mospf', 1), ('dvmrp', 1), ('smtp', 1), ('mime', 1), ('pop3', 1), ('imap', 1), ('http', 1), ('rtp', 1), ('rtcp', 1), ('rsvp', 1), ('firewal', 1), ('diffserv', 1), ('intserv', 1), ('configur', 1), ('tune', 1), ('organisataion', 1), ('setup', 1), ('upgrad', 1), ('brief', 1), ('scheme', 1), ('fluenci', 1), ('reduc', 1), ('post-fascist', 1), ('communist', 1), ('yet', 1), ('politi', 1), ('profound', 1), ('credenti', 1), ('wake', 1), ('eurozon', 1), ('resurg', 1), ('russia', 1), ('influx', 1), ('refuge', 1), ('path', 1), (\"eu'\", 1), ('wick', 1), ('leav', 1), ('repercuss', 1), ('old', 1), ('second', 1), (\"union'\", 1), ('inter-play', 1), ('secondary-sourc', 1), ('work-famili', 1), ('separ', 1), ('alter', 1), ('endocrinolog', 1), ('danger', 1), ('extinct', 1), ('pet', 1), ('zoo', 1), ('hormon', 1), ('insemin', 1), ('intra-cytoplasm', 1), ('sperm', 1), ('endang', 1), ('captiv', 1), ('2-hour', 1), ('pool', 1), ('criticis', 1), ('nthose', 1), ('pedagogi', 1), ('cd-rom', 1), ('dvd-rom', 1), ('eye', 1), ('start', 1), ('galileo', 1), ('galilei', 1), ('17th', 1), ('nurtur', 1), ('medici', 1), ('lorrain', 1), ('founder', 1), ('ruler', 1), ('18th', 1), ('planetarium', 1), ('tap', 1), ('telescop', 1), ('squar', 1), ('kilometr', 1), ('ska', 1), ('laser', 1), ('interferomet', 1), ('gravitational-wav', 1), ('ligo', 1), ('propag', 1), ('internationalis', 1), ('breadth', 1), ('sequenti', 1), ('unknown', 1), ('shortcom', 1), (\"school'\", 1), ('cutting-edg', 1), ('magneto-hydrodynam', 1), ('nucleosynthesi', 1), ('galact', 1), ('remnant', 1), ('neutron', 1), ('supermass', 1), ('black', 1), ('hole', 1), ('gravit', 1), ('planetari', 1), ('exoplanet', 1), ('msc', 1), ('last', 1), ('council', 1), ('non-stat', 1), ('ngo', 1), ('terrorist', 1), ('on-lin', 1), ('tropospher', 1), ('presenc', 1), ('timescal', 1), ('turbul', 1), ('monin-obukhov', 1), ('flux', 1), ('entrain', 1), ('numer', 1), ('pollut', 1), ('diurnal', 1), ('terrestri', 1), ('maritim', 1), ('warm', 1), ('cold', 1), ('advect', 1), ('stronger', 1), ('overlap', 1), ('neg', 1), (\"family'\", 1), ('wide-rang', 1), ('bridg', 1), ('trust', 1), ('augment', 1), ('informat', 1), ('problem-ori', 1), ('cinema', 1), ('hallyu', 1), ('insid', 1), ('peninsula', 1), ('state-cent', 1), ('fandom', 1), ('each', 1), ('util', 1), ('unpack', 1), ('korea', 1), ('connect', 1), ('sociocultur', 1), ('tendenc', 1), ('spread', 1), ('uncertainti', 1), (\"pearson'\", 1), ('coeffici', 1), ('proport', 1), ('bureau', 1), ('domain', 1), ('poll', 1), ('neurolog', 1), ('neural', 1), ('visuospati', 1), ('mould', 1), ('bronz', 1), ('aluminium', 1), ('plaster', 1), ('bps1032', 1), ('3rd', 1), ('buffer', 1), ('titrat', 1), ('solubl', 1), ('sketch', 1), ('temperatur', 1), ('tempor', 1), ('logarithm', 1), ('exponenti', 1), ('group-workshop', 1), ('blueprint', 1), ('genom', 1), ('world-class', 1), ('precis', 1), ('databas', 1), ('student-gener', 1), ('self-manag', 1), ('schedul', 1), ('not-for', 1), ('faculti', 1), ('confirm', 1), ('react', 1), ('drug-target', 1), ('steric', 1), ('arrow-push', 1), ('rationalis', 1), ('purif', 1), ('primarili', 1), ('magnet', 1), ('reson', 1), ('clearli', 1), ('wealth', 1), ('punish', 1), (\"state'\", 1), ('attempt', 1), ('analyst', 1), ('lie', 1), ('non-financi', 1), ('acs1000', 1), ('osc', 1), ('sit', 1), ('compulsori', 1), ('dietari', 1), ('conting', 1), ('segment', 1), ('maladapt', 1), ('gastrointestin', 1), ('tract', 1), ('gross', 1), ('section', 1), ('pelvi', 1), ('coron', 1), ('sagitt', 1), ('atherosclerosi', 1), ('vein', 1), ('thrombosi', 1), ('symptom', 1), ('knee', 1), ('abdomin', 1), ('pancrea', 1), ('breast', 1), ('pelvic', 1), ('urinari', 1), ('inter-lingu', 1), ('administr', 1), ('dosag', 1), ('ingredi', 1), ('intestin', 1), ('parenter', 1), ('pharmacokinet', 1), ('plasma', 1), ('bioavail', 1), ('profil', 1), ('mother', 1), ('pre-concept', 1), ('fetal', 1), ('women-centr', 1), ('anmc', 1), ('2006', 1), ('depict', 1), ('wall', 1), ('impress', 1), ('000-40', 1), ('000', 1), ('ago', 1), ('imageri', 1), ('preconcept', 1), ('ice', 1), ('matter', 1), ('descend', 1), ('infanc', 1), ('eat', 1), ('alfr', 1), ('prognosi', 1), ('amen', 1), ('usabl', 1), ('robust', 1), ('defens', 1), ('high-level', 1), ('ntrauma', 1), ('resuscit', 1), ('injur', 1), ('inter-disciplinari', 1), ('self-discoveri', 1), ('occas', 1), ('unsettl', 1), ('undo', 1), ('track', 1), ('reader', 1), ('geo-loc', 1), ('tuscan', 1), ('situ', 1), ('excurs', 1), ('agent', 1), ('non-italian', 1), ('broken', 1), ('breakdown', 1), ('gate', 1), ('keep', 1), ('amount', 1), ('add', 1), ('potent', 1), ('pitfal', 1), ('friendship', 1), ('multilingu', 1), ('led', 1), ('nadvers', 1), ('nsatisfact', 1), ('nbenchmark', 1), ('nevid', 1), ('nqualiti', 1), ('naccredit', 1), ('nrisk', 1), ('upstream', 1), ('mid-stream', 1), ('dowstream', 1), ('prioriti', 1), ('remark', 1), ('distant', 1), ('pole', 1), ('contin', 1), ('usual', 1), ('non-indigen', 1), ('diverg', 1), ('ceremoni', 1), ('ethnobiolog', 1), ('linnaean', 1), ('ethnoecolog', 1), ('forefront', 1), ('religion', 1), ('etiolog', 1), (\"member'\", 1), ('premis', 1), ('charter', 1), ('co-exist', 1), ('motor', 1), ('leisur', 1), ('preschool', 1), ('standardis', 1), ('hered', 1), ('disadvantag', 1), ('psychologist', 1), ('item', 1), ('administ', 1), ('textual', 1), (\"translator'\", 1), ('cat', 1), ('corpora', 1), ('guest', 1), (\"one'\", 1), ('poster', 1), ('programm', 1), ('career-readi', 1), ('bottom', 1), ('first-ord', 1), ('second-ord', 1), ('stiff', 1), ('matrix', 1), ('refin', 1), ('aircraft', 1), ('truss', 1), ('commonly-us', 1), ('eae4000', 1), ('deeper', 1), ('larger', 1), ('exam', 1), ('service-domin', 1), ('theory-build', 1), ('dispar', 1), ('discontinu', 1), ('mine-to', 1), ('mill', 1), ('mine', 1), ('in-situ', 1), ('ndesign', 1), ('nmanag', 1), ('nevalu', 1), ('explos', 1), ('colleagu', 1), ('circul', 1), ('geopolit', 1), ('vital', 1), ('landmass', 1), ('pacif', 1), ('neighbour', 1), ('nation-st', 1), ('fluiditi', 1), ('voic', 1), ('otheris', 1), ('super-powerdom', 1), ('ever-mobil', 1), ('fluentli', 1), ('retold', 1), ('refut', 1), ('nsocio-cultur', 1), ('oversight', 1), ('self-regulatori', 1), ('broad-bas', 1), ('summar', 1), ('afs2740', 1), ('wholli', 1), ('partli', 1), ('at-acquisit', 1), ('adjust', 1), ('goodwil', 1), ('afs3730', 1), ('acs3730', 1), ('wholly-own', 1), ('partly-own', 1), ('subsidiari', 1), ('ownership', 1), ('acs3740', 1), ('apa', 1), ('6th', 1), ('par1011', 1), ('consciou', 1), ('pain', 1), ('hypoxia', 1), ('manual', 1), ('ambul', 1), ('operationalis', 1), ('socio-histor', 1), ('illicit', 1), ('gambl', 1), ('aod-rel', 1), ('intersect', 1), ('workforc', 1), ('employe', 1), ('grand', 1), ('rapid', 1), ('highlight', 1), ('pervas', 1), ('acknowledg', 1), ('veget', 1), ('geographi', 1), ('landform', 1), ('photo', 1), ('satellit', 1), ('gi', 1), ('phenomena', 1), ('fine', 1), ('payment', 1), ('bank', 1), ('unsecur', 1), ('issuer', 1), ('varianc', 1), ('non-parametr', 1), ('rivalri', 1), ('intertwin', 1), ('imperi', 1), ('unfold', 1), ('affair', 1), ('exploratori', 1), ('ats2296', 1), ('ats3296', 1), ('entail', 1), ('semester-long', 1), ('concurr', 1), ('sing', 1), ('danc', 1), ('incept', 1), ('tabular', 1), ('manuscript', 1), ('apprehend', 1), ('etiquett', 1), ('adher', 1), ('recogn', 1), ('haematopoiesi', 1), ('gut', 1), ('prostat', 1), ('limb', 1), ('infertil', 1), ('moder', 1), ('pluripotenti', 1), ('tissue-specif', 1), ('controversi', 1), ('subsystem', 1), ('orthodox', 1), ('www', 1), ('phil', 1), ('ats2866', 1), ('equival', 1), ('post-tens', 1), ('anchorag', 1), ('lower', 1), ('bound', 1), ('strip', 1), ('team-work', 1), ('strut-and', 1), ('ultim', 1), ('theorem', 1), ('capitalist', 1), ('apartheid', 1), ('dual', 1), ('mass-bas', 1), ('view', 1), ('proce', 1), ('testament', 1), ('apocalypt', 1), ('devot', 1), ('israel', 1), ('revel', 1), ('redempt', 1), ('evil', 1), ('divin', 1), ('propheci', 1), ('cult', 1), ('authorship', 1), ('canonis', 1), ('christian', 1), ('intertestament', 1), ('israelit', 1), ('sea', 1), ('crucial', 1), ('canon', 1), ('notat', 1), ('excerpt', 1), ('aasw', 1), (\"provider'\", 1), ('self-learn', 1), ('nstudent', 1), ('post-gradu', 1), ('drone', 1), ('unman', 1), ('aerial', 1), ('vehicl', 1), ('photogrammetri', 1), ('sensor', 1), ('photogrammetr', 1), ('extract', 1), ('cloud', 1), ('ortho-imag', 1), ('geophys', 1), ('later', 1), ('geoscienc', 1), ('dataset', 1), ('exclus', 1), ('sole', 1), ('owner', 1), ('deserv', 1), ('meta-cultur', 1), ('final-year', 1), ('co-produc', 1), ('recollect', 1), ('enrich', 1), ('succinct', 1), ('marxist', 1), ('psychoanalyt', 1), ('poststructuralist', 1), ('favourit', 1), ('they', 1), ('lifetim', 1), ('stimul', 1), ('engrain', 1), ('mention', 1), ('mind', 1), ('conscious', 1), ('opinion', 1), ('stimuli', 1), ('multi-degre', 1), ('discret', 1), ('free', 1), ('non-period', 1), ('kinemat', 1), ('vector', 1), ('modal', 1), ('arbitrari', 1), ('excit', 1), ('woman-centr', 1), ('screen', 1), ('post-partum', 1), ('grief', 1), ('loss', 1), ('stress-diathesi', 1), ('fit3169', 1), ('prerequisit', 1), ('fit1033', 1), ('javascript', 1), ('visualis', 1), ('cpd', 1), ('rome', 1), ('india', 1), ('mediev', 1), ('nineteenth-centuri', 1), ('happen', 1), ('extent', 1), ('stanc', 1), ('mainten', 1), ('laboratory-bas', 1), ('categoris', 1), ('two-week', 1), ('citi', 1), ('brussel', 1), ('tokyo', 1), ('vienna', 1), ('london', 1), ('washington', 1), ('tank', 1), ('embassi', 1), ('defenc', 1), ('trade', 1), ('terror', 1), ('policy-relev', 1), ('inter-profession', 1), ('aborigin', 1), ('torr', 1), ('strait', 1), ('island', 1), ('nmba', 1), ('similarli', 1), ('volum', 1), ('operation', 1), ('nanomateri', 1), ('nanocryst', 1), ('copolym', 1), ('supramolecular', 1), ('amphiphil', 1), (\"worker'\", 1), ('compens', 1), ('ohsm', 1), ('aspir', 1), ('bargain', 1), ('termin', 1), ('interplay', 1), ('hypothet', 1), ('nan', 1), ('shader', 1), ('radiographi', 1), (\"master'\", 1), ('accuraci', 1), ('error', 1), ('psychophys', 1), ('vision', 1), ('culmin', 1), ('sequenc', 1), ('through', 1), ('input', 1), ('procur', 1), ('ats1267not', 1), ('virgil', 1), ('cicero', 1), ('suetoniu', 1), ('republican', 1), ('exegesi', 1), ('argu', 1), ('ambiti', 1), ('transfer', 1), ('personnel', 1), ('layout', 1), ('troubleshoot', 1), ('succeed', 1), ('embodi', 1), ('autonomi', 1), ('benefic', 1), ('alloc', 1), ('patern', 1), ('breach', 1), ('fertilis', 1), ('euthanasia', 1), ('conscienti', 1), ('race', 1), ('symbiot', 1), ('well-structur', 1), ('inter-st', 1), ('state-centr', 1), ('preserv', 1), ('sovereignti', 1), ('back', 1), ('allow', 1), ('empiric', 1), ('sceptic', 1), ('ration', 1), ('pseudosci', 1), ('scientist', 1), ('politician', 1), ('grant', 1), ('generalist', 1), ('reinvent', 1), ('bioactiv', 1), ('metal-medi', 1), ('apparatu', 1), ('conjug', 1), ('assembl', 1), ('aromat', 1), ('pericycl', 1), ('catalys', 1), ('organocatalyt', 1), ('speaker', 1), ('grammat', 1), ('vernacular', 1), ('three-dimension', 1), ('thing', 1), ('card', 1), ('paper', 1), ('foam', 1), ('cad', 1), ('sketch-up', 1), ('cardboard', 1), ('geometri', 1), ('static', 1), (\"designer'\", 1), ('held', 1), ('revenu', 1), ('exert', 1), ('older', 1), ('consol', 1), ('remedi', 1), ('tailor', 1), ('academic-bas', 1), ('industry-bas', 1), ('summer', 1), ('decemb', 1), ('campu', 1), ('there', 1), ('fulfil', 1), ('dietitian', 1), ('nutriti', 1), ('dissemin', 1), ('variant', 1), ('transduc', 1), ('infect', 1), ('artefact', 1), ('modif', 1), ('spectral', 1), ('colour', 1), ('doppler', 1), ('psycho-dynam', 1), ('contra-ind', 1), ('psychotherapi', 1), ('mandarin', 1), ('aural', 1), ('pinyin', 1), ('romanis', 1), ('dealt', 1), ('annual', 1), ('conform', 1), ('intracompani', 1), ('demand', 1), ('marketplac', 1), ('inter-government', 1), ('civil', 1), ('hegemoni', 1), ('realism', 1), ('neo-marxist', 1), ('constructivist', 1), ('green', 1), ('substanc', 1), ('steady-st', 1), ('more', 1), ('briefli', 1), ('electr', 1), ('hydraul', 1), ('pneumat', 1), ('graph', 1), ('time-domain', 1), ('frequency-domain', 1), ('unifi', 1), ('capacit', 1), ('inertia', 1), ('induct', 1), ('laplac', 1), ('bode', 1), ('plot', 1), ('desir', 1), ('non-linear', 1), ('matlab', 1), ('fieldwork', 1), ('necess', 1), ('it-rel', 1), ('ac', 1), ('disempower', 1), ('dispossess', 1), ('assimil', 1), ('over-represent', 1), ('custodi', 1), ('stolen', 1), ('land', 1), ('mabo', 1), ('wik', 1), ('titl', 1), ('act', 1), ('1993', 1), ('cth', 1), ('reconcili', 1), ('reform', 1), ('victoria', 1), ('injustic', 1), ('eighteenth', 1), ('spanish', 1), ('baroqu', 1), ('spectacl', 1), ('poussin', 1), ('ingr', 1), ('northern', 1), ('still-lif', 1), ('commentari', 1), ('franc', 1), ('england', 1), ('spain', 1), ('picturesqu', 1), ('sublim', 1), ('erotic', 1), ('escap', 1), ('rococo', 1), ('romantic', 1), ('modular', 1), ('discipline-rel', 1), ('minimum', 1), ('for', 1), ('short-list', 1), ('pre-hospit', 1), ('flight', 1), ('mitig', 1), ('reput', 1), ('realist', 1), ('timelin', 1), ('endnot', 1), ('curricula', 1), ('teacher', 1), ('vocal', 1), ('trace', 1), ('criminalist', 1), ('tension', 1), ('end-us', 1), ('marginalis', 1), ('iii', 1), ('elicit', 1), (\"organisation'\", 1), ('sbu', 1), ('brand', 1), ('mindset', 1), ('metric', 1), ('semin', 1), ('privaci', 1), ('iso', 1), ('multiplex', 1), ('wan', 1), ('lan', 1), ('internetwork', 1), ('transport', 1), ('countermeasur', 1), ('permiss', 1), ('geneva', 1), ('customari', 1), ('combat', 1), ('civilian', 1), ('imbal', 1), ('ju', 1), ('bellum', 1), ('illeg', 1), ('scalabl', 1), ('process-unit', 1), ('biomolecul', 1), ('recombin', 1), ('protein', 1), ('peptid', 1), ('enzym', 1), ('nucleic', 1), ('large-scal', 1), ('biomolecular', 1), ('bioreactor', 1), ('filtrat', 1), ('chromatograph', 1), ('column', 1), ('sterilis', 1), ('asept', 1), ('auxiliari', 1), ('gxp', 1), ('biosafeti', 1), ('bio-mechan', 1), ('bite', 1), ('mark', 1), ('manifest', 1), ('abus', 1), ('cctv', 1), ('board', 1), ('malpractic', 1), ('fraud', 1), ('dento-leg', 1), ('ramif', 1), ('paramedicin', 1), ('wonder', 1), (\"marketing'\", 1), ('anthropologist', 1), ('ethnograph', 1), ('rest', 1), ('receiv', 1), ('so-cal', 1), ('beneficiari', 1), ('automat', 1), ('insan', 1), ('intox', 1), ('duress', 1), ('entrap', 1), ('obscen', 1), ('contempt', 1), ('homicid', 1), ('juri', 1), ('psychiatrist', 1), ('settler', 1), ('frontier', 1), ('battl', 1), ('servicemen', 1), ('contest', 1), ('rich', 1), ('diari', 1), ('letter', 1), ('repatri', 1), ('veteran', 1), ('grown', 1), ('redefin', 1), ('learnt', 1), ('illumin', 2), ('transnat', 2), ('rise', 2), ('middl', 2), ('violat', 2), ('classif', 2), ('possibl', 2), ('museum', 2), ('paint', 2), ('audiovisu', 2), ('testimoni', 2), ('vi', 2), ('democratis', 2), ('participatori', 2), ('pressur', 2), ('democrat', 2), ('america', 2), ('effort', 2), ('date', 2), ('instanc', 2), ('consult', 2), ('preliminari', 2), ('enrol', 2), ('china', 2), ('viabl', 2), ('japanes', 2), ('advic', 2), ('approx', 2), ('long-term', 2), ('oversea', 2), ('syndic', 2), ('open', 2), ('lactat', 2), ('put', 2), ('activist', 2), ('advocaci', 2), ('who', 2), ('well-b', 2), ('midwiv', 2), ('pathogen', 2), ('surveil', 2), ('caus', 2), ('broaden', 2), ('antisoci', 2), ('stalk', 2), ('fire-set', 2), ('complain', 2), ('commiss', 2), ('convers', 2), ('break', 2), ('earlier', 2), ('diffus', 2), ('note', 2), ('elabor', 2), ('submiss', 2), ('21st', 2), ('follow', 2), ('dilemma', 2), ('compil', 2), ('accommod', 2), ('job', 2), ('graduat', 2), ('consist', 2), ('smart', 2), ('dispers', 2), ('advertis', 2), ('new', 2), ('channel', 2), ('pose', 2), ('googl', 2), ('exploit', 2), ('converg', 2), ('websit', 2), ('lifestyl', 2), ('concis', 2), ('meet', 2), ('liquid', 2), ('spectrometri', 2), ('viewpoint', 2), ('overarch', 2), ('experienti', 2), ('day', 2), ('craft', 2), ('deepli', 2), ('buyer', 2), ('proper', 2), ('specimen', 2), ('storag', 2), ('pathogenesi', 2), ('excess', 2), ('immunodefici', 2), ('lymphoma', 2), ('prospect', 2), ('molecular', 2), ('2019', 2), (\"individual'\", 2), ('folio', 2), ('embrac', 2), ('site-specif', 2), ('further', 2), ('match', 2), ('fast', 2), ('recoveri', 2), ('messag', 2), ('client-serv', 2), ('remot', 2), ('previou', 2), ('nomin', 2), ('zone', 2), ('crisi', 2), ('deep', 2), ('interdepend', 2), ('radic', 2), ('demograph', 2), ('men', 2), ('decad', 2), ('tutori', 2), ('farm', 2), ('how', 2), ('vertebr', 2), ('pest', 2), ('artifici', 2), ('vitro', 2), ('facil', 2), ('drawn', 2), ('astronom', 2), ('tuscani', 2), ('forward', 2), ('array', 2), ('observatori', 2), ('research-bas', 2), ('endeavour', 2), ('biomed', 2), ('synthes', 2), ('galaxi', 2), ('fluid', 2), ('supernova', 2), ('energi', 2), ('wave', 2), ('nich', 2), ('non-tradit', 2), ('meteorolog', 2), ('hour', 2), ('hierarchi', 2), ('strengths-bas', 2), ('optim', 2), ('healthi', 2), ('vulner', 2), ('multicultur', 2), ('reshap', 2), ('broadli', 2), ('replac', 2), ('pop', 2), ('tie', 2), ('notion', 2), ('business-rel', 2), ('probabl', 2), ('forecast', 2), ('sheet', 2), ('deviat', 2), ('privat', 2), ('execut', 2), ('metal', 2), ('finish', 2), ('proposit', 2), ('constant', 2), ('acid-bas', 2), ('aqueou', 2), ('stabil', 2), ('algebra', 2), ('transmit', 2), ('biochemistri', 2), ('attribut', 2), ('fulli', 2), ('sector', 2), ('profit', 2), ('modifi', 2), ('reactiv', 2), ('nmr', 2), ('spectroscopi', 2), ('spectroscop', 2), ('princip', 2), ('sharehold', 2), ('chronic', 2), ('readi', 2), ('polic', 2), ('wwc', 2), ('immunis', 2), ('certif', 2), ('longer', 2), ('localis', 2), ('thyroid', 2), ('hepatobiliari', 2), ('embryolog', 2), ('digest', 2), ('shoulder', 2), ('choos', 2), ('metabol', 2), ('excret', 2), ('suggest', 2), ('carer', 2), ('partnership', 2), ('archaeologist', 2), ('cave', 2), ('artwork', 2), ('earliest', 2), ('chronolog', 2), ('harm', 2), ('nemerg', 2), ('rigor', 2), ('treat', 2), ('narr', 2), ('actual', 2), ('legaci', 2), ('tell', 2), ('grasp', 2), ('admiss', 2), ('satisfact', 2), ('benchmark', 2), ('nclinic', 2), ('accredit', 2), ('disclosur', 2), ('embed', 2), ('opposit', 2), ('spiritu', 2), ('kinship', 2), ('zoolog', 2), ('botan', 2), ('taxonomi', 2), ('icf', 2), ('neurodevelop', 2), ('expertis', 2), ('face-to', 2), ('ideal', 2), ('pair', 2), ('bio1011', 2), ('bio1022', 2), ('biodivers', 2), ('biogeochem', 2), ('self-evalu', 2), ('moral', 2), ('enter', 2), ('scholar', 2), ('citizen', 2), ('top', 2), ('computer-aid', 2), ('mesh', 2), ('strain', 2), ('axisymmetr', 2), ('nonlinear', 2), ('deform', 2), ('correct', 2), ('legitim', 2), ('readili', 2), ('damag', 2), ('imaginari', 2), ('hegemon', 2), ('discurs', 2), ('correctli', 2), ('convey', 2), ('explicit', 2), ('acs2740', 2), ('intragroup', 2), ('fair', 2), ('prefer', 2), ('referenc', 2), ('acuiti', 2), ('conclud', 2), ('higher', 2), ('literaci', 2), ('confid', 2), ('deconstruct', 2), ('minimis', 2), ('valuabl', 2), ('soil', 2), (\"world'\", 2), ('light', 2), ('assum', 2), ('abstract', 2), ('extens', 2), ('close', 2), ('satisfactori', 2), ('pluripot', 2), ('newborn', 2), ('induc', 2), ('anatom', 2), ('kidney', 2), ('regener', 2), ('nanotechnolog', 2), ('monash', 2), ('beam', 2), ('hillerborg', 2), ('collaps', 2), (\"africa'\", 2), ('transit', 2), ('coloni', 2), ('constitut', 2), ('hebrew', 2), ('near', 2), ('eastern', 2), ('jewish', 2), ('jurisdict', 2), ('disput', 2), ('self-def', 2), ('in-class', 2), ('referr', 2), ('inclus', 2), ('bad', 2), ('real-lif', 2), ('enjoy', 2), ('postcoloni', 2), ('exeget', 2), ('theorist', 2), ('life-long', 2), ('thinker', 2), ('realiti', 2), ('fact', 2), ('rigid', 2), ('focuss', 2), (\"newton'\", 2), ('lagrang', 2), ('suffici', 2), ('pharmaci', 2), ('appf', 2), ('slave', 2), ('bibliograph', 2), ('repertoir', 2), ('intens', 2), ('promin', 2), ('non-government', 2), ('interconnect', 2), ('postgradu', 2), ('uphold', 2), ('nanofabr', 2), ('death', 2), ('urban', 2), ('hop', 2), ('ats2113', 2), ('prompt', 2), ('semi-form', 2), ('indonesia', 2), ('pipelin', 2), ('render', 2), ('opengl', 2), ('skeleton', 2), ('bone', 2), ('soft', 2), ('skelet', 2), ('pan-disciplinari', 2), ('realis', 2), ('inher', 2), ('architect', 2), ('candid', 2), ('assur', 2), ('run', 2), ('clinician', 2), ('confidenti', 2), ('liter', 2), ('rational', 2), ('begun', 2), ('900', 2), ('ecosystem', 2), ('spatial', 2), ('photograph', 2), ('scale', 2), ('prescrib', 2), ('scan', 2), ('recognit', 2), ('paid', 2), ('consent', 2), (\"adolescent'\", 2), ('250', 2), ('earn', 2), ('competitor', 2), ('mainstream', 2), ('root', 2), ('locu', 2), ('linear', 2), ('signal', 2), ('resist', 2), ('call', 2), ('need', 2), ('historiograph', 2), ('algorithm', 2), ('vocat', 2), ('chm4180', 2), ('triag', 2), ('insular', 2), ('silo', 2), ('multin', 2), ('court', 2), ('non-intern', 2), ('bioprocess', 2), ('odontolog', 2), ('facial', 2), ('offenc', 2), ('mytholog', 2), ('anzac', 2), ('interrog', 2), ('anthropolog', 3), ('turn', 3), ('perpetr', 3), ('suffer', 3), ('traumat', 3), ('youth', 3), ('writer', 3), ('norm', 3), ('move', 3), ('directli', 3), ('highli', 3), ('listen', 3), ('depart', 3), ('regard', 3), ('supervisor', 3), ('depend', 3), ('subsequ', 3), ('rel', 3), ('doubl', 3), ('request', 3), ('end', 3), ('suppli', 3), ('distinct', 3), ('submit', 3), ('undergradu', 3), ('medico-leg', 3), ('assault', 3), ('neglig', 3), ('parent', 3), ('definit', 3), ('counsel', 3), ('childbirth', 3), ('price', 3), ('firm', 3), ('transplant', 3), ('allergi', 3), ('autoimmun', 3), ('web', 3), ('output', 3), ('aetiolog', 3), ('offend', 3), ('psychiatr', 3), ('societ', 3), ('empir', 3), ('ongo', 3), ('socioeconom', 3), ('explan', 3), ('coher', 3), ('lab', 3), ('bachelor', 3), ('devis', 3), ('project-bas', 3), ('disciplinari', 3), ('coverag', 3), ('grow', 3), ('edit', 3), ('peer-review', 3), ('learner', 3), ('latest', 3), ('complement', 3), ('contact', 3), ('coordin', 3), ('gather', 3), ('factual', 3), ('packag', 3), ('oblig', 3), ('journalist', 3), ('alcohol', 3), ('shift', 3), ('persuas', 3), ('leader', 3), ('exhibit', 3), ('satisfi', 3), ('branch', 3), ('reject', 3), ('cellular', 3), ('immunopatholog', 3), (\"student'\", 3), ('tcp', 3), ('rout', 3), ('file', 3), ('identif', 3), ('help', 3), ('era', 3), ('prato', 3), (\"today'\", 3), ('linkag', 3), ('work-lif', 3), ('breed', 3), ('nativ', 3), ('coursework', 3), ('attend', 3), ('optimis', 3), ('astronomi', 3), ('encompass', 3), ('star', 3), ('nuclear', 3), ('archaeolog', 3), ('transient', 3), ('scholarship', 3), (\"earth'\", 3), ('air', 3), ('singl', 3), ('consequ', 3), ('drama', 3), ('north', 3), ('frequenc', 3), ('hypothesi', 3), ('regress', 3), ('correl', 3), ('emot', 3), ('impair', 3), ('cross', 3), ('2nd', 3), ('absorpt', 3), ('equilibria', 3), ('concentr', 3), ('har', 3), ('pertin', 3), ('internship', 3), ('synthet', 3), ('mass', 3), ('compound', 3), ('user', 3), ('lender', 3), ('therapeut', 3), ('autonom', 3), ('target', 3), ('trend', 3), ('adult', 3), ('childhood', 3), ('advers', 3), ('nervou', 3), ('genitourinari', 3), ('vascular', 3), ('ultrasound', 3), ('cross-sect', 3), ('symbol', 3), ('evolutionari', 3), ('growth', 3), ('credit', 3), ('diagnost', 3), ('disturb', 3), ('renew', 3), ('geograph', 3), ('devic', 3), ('dimens', 3), ('weekli', 3), ('career', 3), ('merit', 3), ('expect', 3), ('inequ', 3), ('myth', 3), ('depth', 3), ('encod', 3), ('neurodevelopment', 3), (\"child'\", 3), ('psychometr', 3), ('word', 3), ('self-direct', 3), ('practis', 3), ('fractur', 3), ('drill', 3), ('handl', 3), ('special', 3), ('refus', 3), ('comment', 3), ('sophist', 3), ('enforc', 3), ('wit', 3), ('accord', 3), ('joint', 3), ('emphasis', 3), ('low', 3), ('ubiquit', 3), ('block', 3), ('tax', 3), ('ideolog', 3), ('religi', 3), ('commercialis', 3), ('load', 3), ('greek', 3), ('poetri', 3), ('feminist', 3), ('500', 3), ('uav', 3), ('geolog', 3), ('globalis', 3), ('real-world', 3), ('agreement', 3), ('cognitive-behaviour', 3), ('particl', 3), ('vibratori', 3), ('freedom', 3), ('enslav', 3), ('campaign', 3), ('librari', 3), ('agenc', 3), ('humanitarian', 3), ('provis', 3), ('budget', 3), ('modul', 3), ('transmiss', 3), ('legend', 3), ('found', 3), ('statutori', 3), ('chest', 3), ('appear', 3), ('sentenc', 3), ('approxim', 3), ('cash', 3), ('state-spac', 3), ('eighteenth-centuri', 3), ('python', 3), ('underli', 3), ('bia', 3), ('ntheme', 3), ('loac', 3), ('biotechnolog', 3), ('dental', 3), ('aid', 3), ('front', 3), ('span', 4), ('sexual', 4), ('memori', 4), ('extern', 4), ('phenomenon', 4), ('clear', 4), ('linguist', 4), ('concern', 4), ('analyz', 4), ('deepen', 4), ('mode', 4), ('domin', 4), ('liber', 4), ('display', 4), ('speak', 4), ('award', 4), ('univers', 4), ('seek', 4), ('inquiri', 4), ('socio-cultur', 4), ('intermedi', 4), ('short', 4), ('speech', 4), ('essay', 4), ('similar', 4), ('comparison', 4), ('money', 4), ('yield', 4), ('foreign', 4), ('interperson', 4), ('whilst', 4), ('fertil', 4), ('woman', 4), ('facilit', 4), ('made', 4), ('equiti', 4), ('fund', 4), ('asset', 4), ('dividend', 4), ('deliv', 4), ('commonli', 4), ('abnorm', 4), ('variabl', 4), ('multidisciplinari', 4), ('medium', 4), ('evolv', 4), ('hand', 4), ('background', 4), ('conceptualis', 4), ('vaccin', 4), ('obtain', 4), ('conclus', 4), ('rehabilit', 4), ('long', 4), ('fragment', 4), ('meaning', 4), ('entertain', 4), ('seri', 4), ('illustr', 4), ('worker', 4), ('recommend', 4), ('capston', 4), ('scenario', 4), ('immers', 4), ('confront', 4), ('problem-solv', 4), ('reliabl', 4), ('strong', 4), ('instal', 4), ('preced', 4), ('union', 4), ('uniqu', 4), ('greater', 4), ('balanc', 4), ('speci', 4), ('stream', 4), ('pursu', 4), ('earli', 4), ('statu', 4), ('astrophys', 4), ('stellar', 4), ('gap', 4), ('suitabl', 4), ('interim', 4), ('atmospher', 4), ('mix', 4), ('daili', 4), ('valu', 4), ('belief', 4), ('mathemat', 4), ('expos', 4), ('neuropsycholog', 4), ('attent', 4), ('artist', 4), ('acid', 4), ('thermodynam', 4), ('phase', 4), ('diagram', 4), ('physicochem', 4), ('kinet', 4), ('earth', 4), ('microbiolog', 4), ('resolv', 4), ('host', 4), ('incom', 4), ('entri', 4), ('regular', 4), ('check', 4), ('sociolog', 4), ('adolesc', 4), ('stage', 4), ('embryon', 4), ('step', 4), ('complianc', 4), ('continuum', 4), ('scene', 4), ('mobil', 4), ('ecolog', 4), ('home', 4), ('african', 4), ('audio', 4), ('taught', 4), ('biospher', 4), ('articl', 4), ('respect', 4), ('plane', 4), ('breakag', 4), ('asia-pacif', 4), ('accept', 4), ('climat', 4), ('abl', 4), ('map', 4), ('theatr', 4), ('steel', 4), ('computer-bas', 4), ('scriptur', 4), ('orchestr', 4), ('motion', 4), ('good', 4), ('labour', 4), ('slaveri', 4), ('regist', 4), ('polym', 4), ('contextu', 4), ('enterpris', 4), ('train', 4), ('charact', 4), ('paediatr', 4), ('neonat', 4), ('seventeenth', 4), ('europ', 5), ('violenc', 5), ('repres', 5), ('western', 5), ('non-fict', 5), ('novel', 5), ('kind', 5), ('solid', 5), ('asian', 5), ('expand', 5), ('frame', 5), ('adapt', 5), ('larg', 5), ('list', 5), ('intent', 5), ('session', 5), ('exchang', 5), ('total', 5), ('sensit', 5), ('borrow', 5), ('summ', 5), ('economi', 5), ('final', 5), ('portfolio', 5), ('effici', 5), ('estim', 5), ('reason', 5), ('tissu', 5), ('exampl', 5), ('occur', 5), ('threat', 5), ('criminolog', 5), ('answer', 5), ('featur', 5), ('distinguish', 5), ('combin', 5), ('bring', 5), ('aris', 5), ('piec', 5), ('sampl', 5), ('motiv', 5), ('paramet', 5), ('rais', 5), ('equal', 5), ('sens', 5), ('prototyp', 5), ('interior', 5), ('hazard', 5), ('gender', 5), ('ivf', 5), ('sub-unit', 5), ('theme', 5), ('prior', 5), ('commenc', 5), ('today', 5), ('surfac', 5), ('lifespan', 5), ('wellb', 5), ('ict', 5), ('domest', 5), ('indic', 5), ('descript', 5), ('terminolog', 5), ('manner', 5), ('aesthet', 5), ('partner', 5), ('small', 5), ('elucid', 5), ('link', 5), ('cross-cultur', 5), ('point', 5), ('itali', 5), ('increasingli', 5), ('carri', 5), ('score', 5), ('plant', 5), ('instruct', 5), ('hands-on', 5), ('biota', 5), ('stress', 5), ('honour', 5), ('imagin', 5), (\"australia'\", 5), ('cooper', 5), ('associ', 5), ('biopsychosoci', 5), ('addict', 5), ('contract', 5), ('encount', 5), ('plastic', 5), ('line', 5), ('slab', 5), ('bibl', 5), ('biblic', 5), ('routin', 5), ('obstetr', 5), ('brain', 5), ('wider', 5), ('ensembl', 5), ('built', 5), ('custom', 5), ('jazz', 5), ('film', 6), ('scholarli', 6), ('vari', 6), ('comprehend', 6), ('authent', 6), ('appropri', 6), ('staff', 6), ('maintain', 6), ('accur', 6), ('record', 6), ('defend', 6), ('direct', 6), ('electron', 6), ('orient', 6), ('member', 6), ('profess', 6), ('consider', 6), ('babi', 6), ('choic', 6), ('attitud', 6), ('debt', 6), ('cost', 6), ('purpos', 6), ('multi-disciplinari', 6), ('age', 6), ('chang', 6), ('circuit', 6), ('overview', 6), ('hypothes', 6), ('competit', 6), ('ground', 6), ('consumpt', 6), ('use', 6), ('diagnosi', 6), ('space', 6), ('crise', 6), ('initi', 6), ('full', 6), ('actor', 6), ('pertain', 6), ('week', 6), ('sound', 6), ('chemistri', 6), ('pharmaceut', 6), ('expert', 6), ('judgement', 6), ('characteris', 6), ('centr', 6), ('pathophysiolog', 6), ('altern', 6), ('draw', 6), ('action', 6), ('negoti', 6), ('landscap', 6), ('thought', 6), ('experienc', 6), ('intellig', 6), ('multimod', 6), ('differenti', 6), ('syntax', 6), ('paramed', 6), ('glass', 6), ('blow', 6), ('engin', 6), ('vibrat', 6), ('injuri', 6), ('hip', 6), ('twentieth', 7), ('number', 7), ('east', 7), ('fiction', 7), ('show', 7), ('formal', 7), ('italian', 7), ('everyday', 7), ('high', 7), ('patholog', 7), ('assign', 7), ('encourag', 7), ('thi', 7), ('resolut', 7), ('consolid', 7), ('spoken', 7), ('assumpt', 7), ('real', 7), ('client', 7), ('radiat', 7), ('in-depth', 7), ('childbear', 7), ('invest', 7), ('option', 7), ('give', 7), ('broader', 7), ('specialis', 7), ('feedback', 7), ('infrastructur', 7), ('predict', 7), ('surround', 7), ('capac', 7), ('discrimin', 7), ('visit', 7), ('decision-mak', 7), ('search', 7), ('secondari', 7), ('play', 7), ('live', 7), ('pathway', 7), ('storytel', 7), ('benefit', 7), ('constraint', 7), ('genet', 7), ('appreci', 7), ('discoveri', 7), ('classroom', 7), ('summaris', 7), ('verbal', 7), ('cycl', 7), ('graphic', 7), ('pattern', 7), ('molecul', 7), ('musculoskelet', 7), ('period', 7), ('stakehold', 7), ('survey', 7), ('countri', 7), ('creation', 7), ('entiti', 7), ('transact', 7), ('ancient', 7), ('oh', 7), ('equat', 7), ('regim', 7), ('radiograph', 7), ('crime', 7), ('arm', 7), ('past', 8), ('style', 8), ('convent', 8), ('vocabulari', 8), ('democraci', 8), ('futur', 8), ('publish', 8), ('lectur', 8), ('lead', 8), ('cognit', 8), ('genr', 8), ('class', 8), ('term', 8), ('access', 8), ('degre', 8), ('matern', 8), ('pregnanc', 8), ('power', 8), ('deal', 8), ('central', 8), ('incorpor', 8), ('epidemiolog', 8), ('scriptwrit', 8), ('philosoph', 8), ('distribut', 8), ('onlin', 8), ('prevent', 8), ('ill', 8), ('legisl', 8), ('code', 8), ('locat', 8), ('main', 8), ('studio', 8), ('offer', 8), ('interfac', 8), ('virtual', 8), ('increas', 8), ('popul', 8), ('seminar', 8), ('format', 8), ('forc', 8), ('cast', 8), ('sculptur', 8), ('calcul', 8), ('capabl', 8), ('dietet', 8), ('abdomen', 8), ('subject', 8), ('guidelin', 8), ('school', 8), ('child', 8), ('finit', 8), ('fea', 8), ('thesi', 8), ('blast', 8), ('grammar', 8), ('psychodynam', 8), ('talent', 8), ('sonograph', 8), ('author', 9), ('enhanc', 9), ('immunolog', 9), ('content', 9), ('semest', 9), ('south', 9), ('synthesi', 9), ('intercultur', 9), ('rate', 9), ('birth', 9), ('observ', 9), ('compani', 9), ('multipl', 9), ('progress', 9), ('reinforc', 9), ('video', 9), ('disord', 9), ('evidence-bas', 9), ('characterist', 9), ('outlin', 9), ('strength', 9), ('platform', 9), ('year', 9), ('share', 9), ('exercis', 9), ('tradit', 9), ('stori', 9), ('systemat', 9), ('treatment', 9), ('wide', 9), ('chemic', 9), ('recent', 9), ('physiolog', 9), ('manipul', 9), ('bodi', 9), ('introductori', 9), ('signific', 9), ('concret', 9), ('children', 9), ('interdisciplinari', 10), ('take', 10), ('place', 10), ('insight', 10), ('latin', 10), ('innov', 10), ('begin', 10), ('express', 10), ('extend', 10), ('assist', 10), ('flow', 10), ('practition', 10), ('protect', 10), ('consid', 10), ('peer', 10), ('core', 10), ('medicin', 10), ('enabl', 10), ('workshop', 10), ('valid', 10), ('specialist', 10), ('potenti', 10), ('classic', 10), ('french', 10), ('ifr', 10), ('establish', 11), ('visual', 11), ('master', 11), ('occupational_health', 11), ('contrast', 11), ('instrument', 11), ('teamwork', 11), ('arrang', 11), ('justic', 11), ('audienc', 11), ('transform', 11), ('journal', 11), ('underpin', 11), ('simul', 11), ('qualit', 11), ('softwar', 11), ('essenti', 11), ('peac', 11), ('korean', 11), ('intellectu', 11), ('reaction', 11), ('ident', 11), ('basi', 11), ('scope', 12), ('posit', 12), ('refer', 12), ('supervis', 12), ('undertaken', 12), ('respond', 12), ('discours', 12), ('compon', 12), ('capit', 12), ('midwif', 12), ('local', 12), ('site', 12), ('monitor', 12), ('statist', 12), ('development', 12), ('philosophi', 13), ('profici', 13), ('chosen', 13), ('procedur', 13), ('simpl', 13), ('document', 13), ('implic', 13), ('mental', 13), ('logic', 13), ('architectur', 13), ('goal', 13), ('disabl', 13), ('normal', 13), ('utilis', 13), ('network', 13), ('reproduct', 13), ('commerci', 13), ('popular', 13), ('evolut', 13), ('cell', 13), ('stem', 13), ('indigen', 13), ('centuri', 14), ('asia', 14), ('right', 14), ('acquisit', 14), ('produc', 14), ('nation', 14), ('teach', 14), ('order', 14), ('consum', 14), ('diseas', 14), ('broad', 14), ('continu', 14), ('exist', 14), ('justifi', 14), ('nurs', 14), ('composit', 14), ('anatomi', 14), ('rock', 14), ('represent', 15), ('object', 15), ('boundari', 15), ('success', 15), ('internet', 15), ('econom', 15), ('type', 15), ('affect', 15), ('deliveri', 15), ('defin', 15), ('support', 15), ('safe', 15), ('review', 15), ('face', 15), ('way', 15), ('influenc', 15), ('layer', 15), ('part', 15), ('properti', 15), ('nutrit', 15), ('bilingu', 15), ('the', 16), ('articul', 16), ('differ', 16), ('region', 16), ('particip', 16), ('interest', 16), ('comprehens', 16), ('mean', 16), ('primari', 16), ('educ', 16), ('women', 16), ('corpor', 16), ('immun', 16), ('equip', 16), ('organ', 16), ('peopl', 16), ('protocol', 16), ('origin', 16), ('have', 16), ('english', 16), ('war', 17), ('shape', 17), ('divers', 17), ('strateg', 17), ('resourc', 17), ('emphasi', 17), ('addit', 17), ('technic', 17), ('synthesis', 17), ('financ', 17), ('promot', 17), ('argument', 17), ('forens', 17), ('time', 17), ('acquir', 17), ('propos', 17), ('physic', 17), ('statement', 17), ('event', 18), ('limit', 18), ('australia', 18), ('rule', 18), ('conduct', 18), ('safeti', 18), ('find', 18), ('anim', 18), ('crimin', 18), ('occup', 18), ('measur', 18), ('healthcar', 18), ('chines', 18), ('comput', 18), ('focus', 19), ('indonesian', 19), ('apprais', 19), ('experiment', 19), ('outcom', 19), ('conceptu', 19), ('task', 19), ('institut', 19), ('regulatori', 19), ('intervent', 19), ('familiar', 19), ('food', 19), ('conflict', 20), ('literari', 20), ('solut', 20), ('test', 20), ('quantit', 20), ('european', 20), ('music', 20), ('engag', 21), ('detail', 21), ('varieti', 21), ('independ', 21), ('recognis', 21), ('compar', 21), ('therapi', 21), ('risk', 21), ('condit', 21), ('mechan', 21), ('creativ', 21), ('workplac', 21), ('complet', 21), ('tool', 21), ('imag', 21), ('contribut', 22), ('debat', 22), ('standard', 22), ('introduct', 22), ('achiev', 22), ('laboratori', 22), ('determin', 22), ('critiqu', 22), ('life', 22), ('creat', 22), ('drug', 22), ('placement', 22), ('aim', 23), ('foundat', 23), ('opportun', 23), ('awar', 23), ('question', 23), ('natur', 23), ('digit', 23), ('sustain', 23), ('dynam', 23), ('oper', 24), ('govern', 24), ('analyt', 24), ('solv', 24), ('midwiferi', 24), ('fundament', 24), ('histori', 25), ('trauma', 25), ('focu', 25), ('text', 25), ('state', 25), ('field', 25), ('academ', 25), ('regul', 25), ('idea', 25), ('major', 25), ('think', 25), ('import', 25), ('medic', 25), ('multimedia', 25), ('biolog', 25), ('modern', 26), ('sourc', 26), ('control', 26), ('build', 26), ('formul', 26), ('game', 26), ('australian', 27), ('translat', 27), ('qualiti', 27), ('address', 27), ('emerg', 27), ('world', 28), ('investig', 28), ('activ', 28), ('methodolog', 28), ('prepar', 28), ('patient', 28), ('construct', 29), ('leadership', 29), ('materi', 29), ('secur', 29), ('psycholog', 30), ('employ', 30), ('level', 30), ('interact', 30), ('team', 30), ('common', 30), ('decis', 31), ('collect', 32), ('read', 32), ('case', 32), ('situat', 32), ('cover', 32), ('evid', 32), ('element', 32), ('aspect', 33), ('industri', 33), ('plan', 33), ('relationship', 33), ('gain', 34), ('implement', 34), ('disciplin', 34), ('involv', 34), ('histor', 35), ('collabor', 35), ('gener', 35), ('undertak', 35), ('person', 35), ('public', 35), ('product', 35), ('compet', 36), ('financi', 36), ('improv', 36), ('factor', 37), ('form', 37), ('specif', 37), ('select', 37), ('result', 37), ('technolog', 37), ('global', 39), ('experi', 39), ('complex', 39), ('requir', 39), ('make', 39), ('environment', 39), ('famili', 39), ('perspect', 40), ('current', 40), ('societi', 40), ('perform', 40), ('function', 40), ('servic', 40), ('integr', 40), ('set', 41), ('scienc', 41), ('polici', 42), ('art', 43), ('languag', 44), ('organis', 44), ('polit', 45), ('oral', 45), ('clinic', 45), ('behaviour', 45), ('framework', 45), ('program', 45), ('area', 46), ('literatur', 46), ('challeng', 46), ('account', 46), ('provid', 47), ('scientif', 47), ('strategi', 48), ('base', 48), ('impact', 48), ('model', 49), ('theoret', 49), ('introduc', 49), ('individu', 50), ('legal', 50), ('applic', 51), ('group', 51), ('report', 51), ('respons', 51), ('written', 53), ('human', 54), ('advanc', 54), ('care', 54), ('contemporari', 56), ('structur', 56), ('topic', 58), ('environ', 59), ('relev', 61), ('abil', 62), ('explain', 62), ('busi', 62), ('techniqu', 62), ('data', 63), ('basic', 64), ('analysi', 64), ('reflect', 64), ('problem', 65), ('examin', 66), ('assess', 67), ('write', 67), ('effect', 67), ('interpret', 67), ('method', 67), ('discuss', 69), ('present', 70), ('law', 70), ('approach', 72), ('key', 73), ('media', 75), ('rang', 75), ('explor', 76), ('process', 76), ('role', 76), ('inform', 77), ('social', 78), ('ethic', 78), ('describ', 79), ('studi', 81), ('learn', 81), ('profession', 82), ('principl', 82), ('context', 85), ('cultur', 90), ('intern', 96), ('market', 96), ('concept', 97), ('knowledg', 97), ('issu', 99), ('health', 102), ('theori', 104), ('system', 105), ('evalu', 105), ('project', 109), ('work', 112), ('demonstr', 113), ('includ', 114), ('relat', 115), ('manag', 118), ('identifi', 120), ('commun', 128), ('analys', 129), ('appli', 145), ('design', 160), ('critic', 181), ('skill', 184), ('practic', 200), ('understand', 213), ('research', 245), ('student', 250), ('develop', 257), ('unit', 275)]\n"
     ]
    }
   ],
   "source": [
    "global_token_frequency_dict = getTokenFrequency(tokens)\n",
    "global_token_frequency_dict = sorted(global_token_frequency_dict.items(), key=lambda x: x[1], reverse=False)\n",
    "print(global_token_frequency_dict)"
   ]
  },
  {
   "cell_type": "code",
   "execution_count": 1064,
   "metadata": {},
   "outputs": [
    {
     "data": {
      "text/plain": [
       "2624"
      ]
     },
     "execution_count": 1064,
     "metadata": {},
     "output_type": "execute_result"
    }
   ],
   "source": [
    "len(global_token_frequency_dict)"
   ]
  },
  {
   "cell_type": "markdown",
   "metadata": {},
   "source": [
    "In order to remove 5% of the global rare tokens, we will iterate through the dictionary till the count of 131(which was separately calculated to be 5% of the total number of unique tokens) and store the keys in a rare_tokens list. This rare_token list will be further used to remove from the actual tokens."
   ]
  },
  {
   "cell_type": "code",
   "execution_count": 1065,
   "metadata": {},
   "outputs": [
    {
     "name": "stdout",
     "output_type": "stream",
     "text": [
      "['twenty-first', 'transhistorical_case_studi', 'nineteenth', 'struggl', 'genocid', 'globe', 'colon', 'decolon', 'gender-bas', 'worldwid', 'post-traumatic_stress_disord', 'rememb', 'non-western', 'memoir', 'historiographi', 'televis', 'photographi', 'ethnic', 'serv', '20th', 'presidenti', 'parliamentari', 'south-east', 'formalis', 'persist', 'persever', 'autocrat', 'authoritarian', 'intric', 'highest', 'succinctli', 'elementari', 'up-to', 'multi-part', 'virtuoso', 'professional_compet', 'socio-linguist', 'dialogu', 'monologu', 'apologis', 'hope', 'gratitud', 'japan-rel', 'kanji', '240', 'curv', 'short-term', 'medium-term', 'usag', 'wisdom', 'hard', 'copi', 'exemplifi', 'principles-bas', 'adequ', 'milieu', 'icm', 'statut', 'reach', 'espous', 'avail', 'micro', 'macro', 'ethico-leg', 'advoc', 'breastfeed', 'acmi', 'publicli', 'valuat', 'return', 'ensur', 'value-chang', 'maximis', 'riski', 'bff2140', 'cancer', 'difficult', 'debilit', 'diabet', 'sclerosi', 'imm2011', 'mediat', 'inflamm', 'utter', 'genesi', 'pragmat', 'fashion', 'problemat', 'individually-bas', 'high-risk', 'weak', 'foster', 'hundr', 'alleg', 'problem-bas', 'cohort', 'clearer', 'contributor', 'discipline-specif', 'enquiri', 'fastest', 'subdisciplin', 'bioethic', 'obes', 'tobacco', 'pandem', 'nudg', 'arriv', 'well-argu', 'ncommonli', 'nargument', 'pro', 'con', 'nof', 'ngenr', 'alert', 'ncomposit', 'retrofit', 'allevi', 'remain', 'mass-market', 'smaller', 'entrepreneuri', 'bureaucrat', 'nine', 'fairfax', 'appl', 'itun', 'facebook', 'wikipedia']\n"
     ]
    }
   ],
   "source": [
    "count = 0\n",
    "rare_tokens = []\n",
    "for k,v in global_token_frequency_dict:\n",
    "    count += 1\n",
    "    if(count == 131):\n",
    "        break\n",
    "    rare_tokens.append(k)\n",
    "print(rare_tokens)"
   ]
  },
  {
   "cell_type": "code",
   "execution_count": 1066,
   "metadata": {},
   "outputs": [],
   "source": [
    "# Removing the rare tokens from the tokens present in dataframe column\n",
    "\n",
    "def remove_rare_words(s):\n",
    "    \n",
    "    rare_removed_list = [w for w in s if w not in rare_tokens]\n",
    "    return rare_removed_list"
   ]
  },
  {
   "cell_type": "code",
   "execution_count": 1067,
   "metadata": {},
   "outputs": [
    {
     "data": {
      "text/html": [
       "<div>\n",
       "<style scoped>\n",
       "    .dataframe tbody tr th:only-of-type {\n",
       "        vertical-align: middle;\n",
       "    }\n",
       "\n",
       "    .dataframe tbody tr th {\n",
       "        vertical-align: top;\n",
       "    }\n",
       "\n",
       "    .dataframe thead th {\n",
       "        text-align: right;\n",
       "    }\n",
       "</style>\n",
       "<table border=\"1\" class=\"dataframe\">\n",
       "  <thead>\n",
       "    <tr style=\"text-align: right;\">\n",
       "      <th></th>\n",
       "      <th>Title</th>\n",
       "      <th>Information</th>\n",
       "    </tr>\n",
       "  </thead>\n",
       "  <tbody>\n",
       "    <tr>\n",
       "      <th>0</th>\n",
       "      <td>ATS3956</td>\n",
       "      <td>[unit, focus, histori, theori, applic, concept...</td>\n",
       "    </tr>\n",
       "    <tr>\n",
       "      <th>1</th>\n",
       "      <td>ATS3116</td>\n",
       "      <td>[unit, develop, indonesian, linguist, cultur, ...</td>\n",
       "    </tr>\n",
       "    <tr>\n",
       "      <th>2</th>\n",
       "      <td>APG5337</td>\n",
       "      <td>[unit, explor, modern, polit, govern, mode, au...</td>\n",
       "    </tr>\n",
       "    <tr>\n",
       "      <th>3</th>\n",
       "      <td>ATS1229</td>\n",
       "      <td>[unit, aim, provid, basic, foundat, basic, lan...</td>\n",
       "    </tr>\n",
       "    <tr>\n",
       "      <th>4</th>\n",
       "      <td>IMM3990</td>\n",
       "      <td>[unit, provid, high, achiev, student, structur...</td>\n",
       "    </tr>\n",
       "  </tbody>\n",
       "</table>\n",
       "</div>"
      ],
      "text/plain": [
       "     Title                                        Information\n",
       "0  ATS3956  [unit, focus, histori, theori, applic, concept...\n",
       "1  ATS3116  [unit, develop, indonesian, linguist, cultur, ...\n",
       "2  APG5337  [unit, explor, modern, polit, govern, mode, au...\n",
       "3  ATS1229  [unit, aim, provid, basic, foundat, basic, lan...\n",
       "4  IMM3990  [unit, provid, high, achiev, student, structur..."
      ]
     },
     "execution_count": 1067,
     "metadata": {},
     "output_type": "execute_result"
    }
   ],
   "source": [
    "df[\"Information\"] = df[\"Information\"].apply(remove_rare_words)\n",
    "df.head()"
   ]
  },
  {
   "cell_type": "markdown",
   "metadata": {},
   "source": [
    "Using FreqDist to get the frequency of tokens in the Information column as a separate TokenFrequency column"
   ]
  },
  {
   "cell_type": "code",
   "execution_count": 1068,
   "metadata": {},
   "outputs": [],
   "source": [
    "# Generate frequency column\n",
    "\n",
    "def getTokenFrequency(tokens):\n",
    "    fc = FreqDist(tokens)\n",
    "    fc = dict(fc)\n",
    "    return fc"
   ]
  },
  {
   "cell_type": "code",
   "execution_count": 1069,
   "metadata": {},
   "outputs": [
    {
     "data": {
      "text/html": [
       "<div>\n",
       "<style scoped>\n",
       "    .dataframe tbody tr th:only-of-type {\n",
       "        vertical-align: middle;\n",
       "    }\n",
       "\n",
       "    .dataframe tbody tr th {\n",
       "        vertical-align: top;\n",
       "    }\n",
       "\n",
       "    .dataframe thead th {\n",
       "        text-align: right;\n",
       "    }\n",
       "</style>\n",
       "<table border=\"1\" class=\"dataframe\">\n",
       "  <thead>\n",
       "    <tr style=\"text-align: right;\">\n",
       "      <th></th>\n",
       "      <th>Title</th>\n",
       "      <th>Information</th>\n",
       "      <th>TokenFrequency</th>\n",
       "    </tr>\n",
       "  </thead>\n",
       "  <tbody>\n",
       "    <tr>\n",
       "      <th>0</th>\n",
       "      <td>ATS3956</td>\n",
       "      <td>[unit, focus, histori, theori, applic, concept...</td>\n",
       "      <td>{'unit': 1, 'focus': 1, 'histori': 3, 'theori'...</td>\n",
       "    </tr>\n",
       "    <tr>\n",
       "      <th>1</th>\n",
       "      <td>ATS3116</td>\n",
       "      <td>[unit, develop, indonesian, linguist, cultur, ...</td>\n",
       "      <td>{'unit': 2, 'develop': 1, 'indonesian': 9, 'li...</td>\n",
       "    </tr>\n",
       "    <tr>\n",
       "      <th>2</th>\n",
       "      <td>APG5337</td>\n",
       "      <td>[unit, explor, modern, polit, govern, mode, au...</td>\n",
       "      <td>{'unit': 4, 'explor': 3, 'modern': 1, 'polit':...</td>\n",
       "    </tr>\n",
       "    <tr>\n",
       "      <th>3</th>\n",
       "      <td>ATS1229</td>\n",
       "      <td>[unit, aim, provid, basic, foundat, basic, lan...</td>\n",
       "      <td>{'unit': 1, 'aim': 1, 'provid': 1, 'basic': 4,...</td>\n",
       "    </tr>\n",
       "    <tr>\n",
       "      <th>4</th>\n",
       "      <td>IMM3990</td>\n",
       "      <td>[unit, provid, high, achiev, student, structur...</td>\n",
       "      <td>{'unit': 1, 'provid': 1, 'high': 1, 'achiev': ...</td>\n",
       "    </tr>\n",
       "  </tbody>\n",
       "</table>\n",
       "</div>"
      ],
      "text/plain": [
       "     Title                                        Information  \\\n",
       "0  ATS3956  [unit, focus, histori, theori, applic, concept...   \n",
       "1  ATS3116  [unit, develop, indonesian, linguist, cultur, ...   \n",
       "2  APG5337  [unit, explor, modern, polit, govern, mode, au...   \n",
       "3  ATS1229  [unit, aim, provid, basic, foundat, basic, lan...   \n",
       "4  IMM3990  [unit, provid, high, achiev, student, structur...   \n",
       "\n",
       "                                      TokenFrequency  \n",
       "0  {'unit': 1, 'focus': 1, 'histori': 3, 'theori'...  \n",
       "1  {'unit': 2, 'develop': 1, 'indonesian': 9, 'li...  \n",
       "2  {'unit': 4, 'explor': 3, 'modern': 1, 'polit':...  \n",
       "3  {'unit': 1, 'aim': 1, 'provid': 1, 'basic': 4,...  \n",
       "4  {'unit': 1, 'provid': 1, 'high': 1, 'achiev': ...  "
      ]
     },
     "execution_count": 1069,
     "metadata": {},
     "output_type": "execute_result"
    }
   ],
   "source": [
    "df[\"TokenFrequency\"] = np.NAN\n",
    "df[\"TokenFrequency\"] = df[\"Information\"].apply(getTokenFrequency)\n",
    "df.head()"
   ]
  },
  {
   "cell_type": "markdown",
   "metadata": {},
   "source": [
    "In order to create a token id dictionary in the format (token,id), we will iterate through all the unique tokens  and insert it to a dictionary assigning a value to it value which will be the count. Id starts with index 1 and not 0"
   ]
  },
  {
   "cell_type": "code",
   "execution_count": 1070,
   "metadata": {},
   "outputs": [
    {
     "name": "stdout",
     "output_type": "stream",
     "text": [
      "{'inter-play': 1, 'succinctli': 2, 'biomolecul': 3, 'past': 4, 'unifi': 5, 'extent': 6, \"translator'\": 7, 'reaction': 8, 'persever': 9, 'illustr': 10, 'affect_care': 11, 'rout': 12, 'recognit': 13, 'extract': 14, 'crime': 15, 'regular': 16, 'layer': 17, 'immunolog': 18, 'imap': 19, 'bad': 20, 'unfold': 21, 'satisfi': 22, 'europ': 23, 'everyday': 24, \"world'\": 25, 'sheet': 26, 'afs3730_glass': 27, 'lower': 28, 'group-workshop': 29, 'requir': 30, 'motion': 31, 'neurolog': 32, 'mime': 33, 'learnt': 34, 'group': 35, 'blow': 36, 'retrofit': 37, 'politi': 38, 'smart': 39, 'intertwin': 40, 'inter-disciplinari': 41, 'decis': 42, 'multilingu': 43, 'analys_bff2140': 44, 'controversi': 45, 'fit1033': 46, 'corpora': 47, 'justifi': 48, 'school': 49, 'emot': 50, 'paramed': 51, 'strut-and': 52, 'confirm': 53, 'endnot': 54, 'independ': 55, 'open': 56, 'fine': 57, 'motor': 58, 'unsettl': 59, 'authorship': 60, 'co-produc': 61, 'establish': 62, 'avail': 63, 'conceptualis': 64, 'multi-disciplinari': 65, 'autocrat': 66, 'tradit': 67, 'money': 68, 'contin': 69, 'microbiolog': 70, 'submit': 71, 'vienna': 72, 'credenti': 73, 'scholarship': 74, 'monash': 75, 'slaveri': 76, 'moral': 77, 'mid-term': 78, 'meaning': 79, 'tissue-specif': 80, 'shape': 81, 'piec': 82, 'televis': 83, 'so-cal': 84, 'busi': 85, 'live': 86, 'javascript': 87, 'pursu': 88, 'disciplin': 89, 'host': 90, 'business-rel': 91, 'pregnanc': 92, 'ration': 93, 'evalu': 94, 'linear': 95, 'profess': 96, 'collabor': 97, 'autonomi': 98, 'theori': 99, 'enjoy': 100, 'equiti': 101, 'fluentli': 102, 'steric': 103, 'eighteenth': 104, 'format': 105, 'island': 106, 'edit': 107, 'romantic': 108, 'benefit': 109, 'home': 110, 'domest': 111, 'rigor': 112, 'par1011': 113, 'mytholog': 114, 'entrepreneuri': 115, 'revolut': 116, 'compulsori': 117, 'case': 118, 'flow': 119, 'profil': 120, 'america_psychophys': 121, 'norm': 122, 'adolesc_output': 123, 'turbul': 124, 'coher': 125, 'ats2866': 126, 'triag': 127, 'compens': 128, 'soft': 129, 'patern': 130, 'long': 131, 'microorgan': 132, 'larger': 133, 'adher_channel': 134, 'childbirth': 135, 'product': 136, 'bargain': 137, 'stress': 138, 'intric': 139, 'fea': 140, 'nmba': 141, 'diabet': 142, 'part': 143, 'util': 144, 'turn': 145, 'econom': 146, 'thyroid': 147, 'entiti': 148, 'democrat': 149, 'enhanc': 150, 'offend': 151, 'complet': 152, 'divin': 153, 'approxim_nudg': 154, 'pharmaceut': 155, 'juri': 156, 'pancrea': 157, 'truss': 158, 'nargument': 159, 'latin': 160, 'real-lif': 161, 'evidentiari': 162, 'odontolog': 163, 'possibl': 164, 'investig': 165, 'complex': 166, '2nd_arm': 167, 'synthet': 168, 'manifest': 169, 'secur': 170, 'site-specif': 171, 'speech': 172, 'forc': 173, 'frequency-domain': 174, 'biopsychosoci': 175, 'mediat': 176, 'cooper': 177, 'author': 178, 'aspect_overlap': 179, 'bachelor': 180, 'operation': 181, 'python': 182, 'mix': 183, 'highest': 184, 'univers': 185, 'mean': 186, 'nuclear': 187, 'criminalist': 188, 'packag': 189, 'medium-term': 190, 'supervis': 191, 'specialis': 192, 'wealth': 193, 'laboratori': 194, 'veteran': 195, 'referenc': 196, 'art_state-centr': 197, 'non-stat': 198, 'seek': 199, 'visuospati': 200, 'partly-own': 201, 'environ': 202, 'acmi_spiritu': 203, 'administ_sharehold': 204, 'return': 205, 'acs2740_pathway': 206, 'cutting-edg': 207, 'joint': 208, 'nervou': 209, 'evidence-bas': 210, 'hazard': 211, 'orchestr': 212, 'daili': 213, 'price': 214, 'field': 215, 'problem-solv': 216, 'protein': 217, 'deform': 218, 'gxp': 219, 'long-term': 220, 'diagnosi': 221, 'buffer': 222, 'energi': 223, 'dosag': 224, 'copolym': 225, 'ethnoecolog': 226, 'disput': 227, 'civil': 228, 'nrisk': 229, 'entail': 230, 'shift': 231, 'nevid': 232, 'structur': 233, 'cost': 234, 'molecul': 235, 'for': 236, 'etiquett': 237, 'resolv': 238, 'excess': 239, 'broken': 240, 'metric': 241, 'calcul': 242, 'compil': 243, 'precis': 244, 'deal': 245, 'biotechnolog': 246, 'articl_poster': 247, 'equip': 248, 'maritim': 249, 'geo-loc': 250, 'assur_problem-ori': 251, 'citi': 252, 'growth': 253, 'unsecur': 254, 'hole': 255, 'manuscript': 256, 'prognosi': 257, 'intercultur': 258, 'pathogenesi': 259, 'bps1032': 260, 'thought': 261, 'speaker': 262, 'consent': 263, 'unman': 264, 'control': 265, 'ident': 266, 'insan': 267, 'goal': 268, 'influx': 269, 'drone': 270, 'phenomenon': 271, 'experienc': 272, 'capacit': 273, 'physiolog': 274, 'equilibria': 275, 'note': 276, 'chemic': 277, 'arrow-push_substanc': 278, 'filtrat': 279, 'coordin': 280, 'class': 281, 'partner': 282, 'degre': 283, 'smtp': 284, 'affair_full': 285, 'verbal': 286, 'the': 287, 'polici': 288, 'suffici': 289, 'fraud': 290, 'aid_pathogen': 291, 'event': 292, 'address_usabl': 293, 'vibrat': 294, 'implic': 295, 'continu': 296, 'numer': 297, 'diagnost': 298, 'riski': 299, 'directli': 300, 'defect': 301, 'wit': 302, 'day': 303, 'recombin': 304, 'modal': 305, 'reno': 306, 'dietari': 307, 'pluripot': 308, 'act_scienc': 309, 'trigger': 310, 'boundari': 311, 'confront': 312, 'criticis': 313, 'ensur': 314, 'australian': 315, 'divers': 316, 'development': 317, 'discontinu': 318, 'anthropolog_extend': 319, 'key': 320, 'text': 321, 'violat': 322, 'doubl': 323, 'argument_modif': 324, '000_lagrang': 325, 'bio-mechan': 326, 'self-manag': 327, 'stolen': 328, 'biolog': 329, 'blast': 330, 'mental': 331, 'pedagogi': 332, 'intent': 333, 'hplc': 334, 'plaster': 335, 'food': 336, 'regim': 337, 'pneumat': 338, 'techniqu': 339, 'encount': 340, 'socio-linguist': 341, 'evolutionari': 342, 'anthropologist_deeper': 343, 'marxist': 344, 'argu_potenti': 345, 'foundat': 346, 'narr': 347, 'surveil': 348, 'astrophys_enquiri': 349, 'danc': 350, 'graduat': 351, 'result': 352, 'neglig': 353, 'observ': 354, 'inflamm': 355, 'jewish': 356, 'file': 357, 'regist': 358, 'orthodox': 359, 'transduc': 360, 'canvass': 361, 'purchas': 362, 'reach': 363, 'thrombosi': 364, 'in-situ': 365, 'media': 366, 'novel': 367, 'contemporari': 368, 'thinker': 369, 'provid': 370, 'clearer': 371, 'cad': 372, 'gain': 373, 'propag': 374, 'method': 375, 'neurodevelopment': 376, 'definit': 377, 'resolut': 378, '000-40_ngo': 379, 'nurtur': 380, 'condit': 381, 'memori': 382, 'natur': 383, 'fandom': 384, 'leader': 385, 'recent': 386, 'spoken': 387, 'expos': 388, 'allevi_multin': 389, 'discurs': 390, 'perspect': 391, 'photo': 392, 'resist': 393, 'tropospher': 394, 'infertil': 395, 'pose': 396, 'end-us': 397, 'embryon': 398, 'writer': 399, 'terrestri': 400, 'societi': 401, 'suetoniu': 402, 'gastrointestin': 403, 'struggl': 404, 'profit': 405, 'tank': 406, 'grammar': 407, 'share': 408, 'second': 409, 'vari': 410, 'program': 411, 'impact': 412, 'transient': 413, 'post-traumatic_stress_disord': 414, 'injuri': 415, 'slab': 416, 'distinct': 417, 'crise': 418, 'sole': 419, 'question': 420, 'test': 421, 'subdisciplin': 422, 'specimen': 423, 'add_captiv': 424, 'fluid': 425, 'studi': 426, 'erotic': 427, 'israelit': 428, 'notion': 429, 'globe': 430, 'work': 431, 'fragment': 432, 'apologis_wwc': 433, 'evolut': 434, 'asia_psychometr': 435, \"designer'\": 436, 'non-period': 437, 'accord_approach': 438, 'iii': 439, 'privat': 440, 'hillerborg': 441, 'astronomi_ground': 442, 'draw': 443, 'philosophi': 444, 'pathophysiolog': 445, 'vocat': 446, 'eae4000': 447, 'combin': 448, 'metabol': 449, 'escap': 450, 'humanitarian': 451, 'transfer': 452, 'determin': 453, 'found': 454, \"union'\": 455, \"member'\": 456, 'east': 457, 'discours': 458, 'analyz_stiff': 459, 'pre-hospit': 460, 'virgil': 461, 'customari': 462, 'life': 463, 'develop': 464, 'cpd': 465, 'race': 466, 'eye': 467, 'facilit': 468, 'assembl_wik': 469, 'individu': 470, 'placement': 471, 'anatomi_monitor': 472, 'spread': 473, 'intserv': 474, 'socio-histor': 475, 'neg': 476, 'relev': 477, 'manual': 478, 'absorpt_reliabl': 479, 'inclus': 480, 'utilis': 481, 'aromat_layout': 482, 'privaci': 483, 'practic': 484, 'client': 485, 'damag': 486, 'issu': 487, 'firewal': 488, 'obtain': 489, 'reson': 490, 'ats3296': 491, 'limit': 492, 'underpin': 493, 'multimedia': 494, 'listen': 495, 'liter': 496, 'platform': 497, 'still-lif': 498, 'global': 499, 'stage': 500, 'longer': 501, 'legend': 502, 'occur': 503, 'nin': 504, 'prerequisit': 505, 'simpl': 506, 'stakehold': 507, 'south-east': 508, 'dental': 509, 'hydraul': 510, 'composit': 511, 'multicast': 512, 'deepli': 513, 'bodi': 514, 'organ': 515, 'perform': 516, 'common': 517, '2006_ifr': 518, 'theoret': 519, 'increas': 520, \"africa'_plot\": 521, '900_renew': 522, 'array_virtuoso': 523, \"organisation'\": 524, 'etiolog': 525, 'societ': 526, 'compon': 527, 'contribut': 528, 'nstudent': 529, 'unicast': 530, 'small': 531, 'hierarchi': 532, 'geograph': 533, \"australia'\": 534, 'proper': 535, 'kind': 536, 'asian_traumat': 537, 'ncommonli': 538, 'point': 539, 'secondary-sourc': 540, 'oblig': 541, 'crimin': 542, 'survey': 543, 'multicultur': 544, 'scholar': 545, 'lab': 546, 'onlin': 547, 'wide-rang': 548, 'chang': 549, 'contrast': 550, 'galaxi': 551, 'presidenti': 552, 'radiat': 553, 'broad-bas': 554, 'dowstream': 555, 'statist': 556, 'select': 557, 'sentenc': 558, 'at-acquisit_cctv': 559, 'medium': 560, 'audio': 561, 'conclud': 562, 'micro': 563, 'web': 564, 'extern': 565, 'high': 566, 'candid': 567, 'score': 568, 'critic': 569, 'ruler': 570, 'imbal': 571, 'foster': 572, 'discrimin': 573, 'match': 574, 'major': 575, 'stimul': 576, 'cash': 577, 'syndic': 578, 'pertin': 579, 'synthesis': 580, 'imaginari': 581, 'pop3': 582, 'demand': 583, 'benefic': 584, 'asset_centr': 585, 'pest': 586, 'monin-obukhov': 587, 'unwarr': 588, 'spatial': 589, 'librari': 590, 'liquid': 591, 'terror': 592, 'injur': 593, 'monologu': 594, 'achiev_aasw': 595, 'psycholog': 596, 'grow': 597, 'preced': 598, 'fashion': 599, 'urinari': 600, 'comment': 601, 'carer': 602, 'allow_time': 603, 'syntax': 604, 'messag': 605, 'promot': 606, 'nineteenth': 607, 'situat': 608, 'archaeologist_stronger': 609, 'lie': 610, 'final-year': 611, 'forefront': 612, 'convent': 613, 'observatori': 614, 'hepatobiliari': 615, 'remark': 616, 'www': 617, 'diverg': 618, 'biochemistri': 619, 'face-to': 620, 'held': 621, 'fact': 622, 'exploit': 623, 'conceptu': 624, 'begin': 625, 'sterilis': 626, 'domin': 627, 'reinforc': 628, 'washington': 629, 'teach': 630, 'surround': 631, 'type': 632, 'enter': 633, 'commonli': 634, 'expertis': 635, 'hormon': 636, 'optim': 637, 'extens': 638, 'picturesqu': 639, 'metal': 640, 'innov': 641, 'notat': 642, 'self-learn': 643, 'total': 644, 'communist': 645, 'describ': 646, 'wonder': 647, 'injustic': 648, 'insemin': 649, 'through': 650, 'role': 651, 'framework': 652, 'fractur': 653, 'journal': 654, 'aluminium_vertebr': 655, 'cross': 656, 'star': 657, 'testament': 658, 'briefli': 659, 'sbu': 660, 'linkag': 661, 'galact': 662, 'disturb': 663, 'resurg': 664, 'glean': 665, 'publish': 666, 'testimoni': 667, 'evil': 668, 'ramif': 669, 'mother': 670, 'campaign': 671, 'sequenc': 672, 'wider': 673, 'review': 674, 'model': 675, 'ubiquit': 676, 'ownership': 677, 'focuss': 678, 'respond': 679, 'poussin': 680, 'court': 681, 'ju': 682, 'induc': 683, 'abus_intens': 684, 'foam': 685, 'transit': 686, 'enslav': 687, 'research-bas': 688, 'post-gradu': 689, 'agent_semest': 690, 'maladapt': 691, 'temperatur': 692, 'audienc': 693, 'museum': 694, 'softwar': 695, 'continuum': 696, 'sponsorship': 697, 'fastest': 698, 'nomin': 699, 'stalk': 700, 'north': 701, 'bureau': 702, 'estim': 703, 'actor_rationalis': 704, 'korea': 705, 'acs3740_nanocryst': 706, 'upstream': 707, 'issuer': 708, 'duress': 709, 'bone': 710, 'astronom_reproduc': 711, 'virtual': 712, 'identif': 713, 'consumpt': 714, 'skeleton': 715, 'speak': 716, 'domain': 717, 'high-perform': 718, 'charter': 719, 'plasma': 720, 'geophys': 721, 'disabl': 722, 'land': 723, 'osc': 724, 'architect_site': 725, 'unknown': 726, 'regener': 727, 'colleagu': 728, 'ska': 729, 'embassi': 730, 'breakdown': 731, 'brand': 732, 'steady-st': 733, 'ice': 734, 'complement': 735, 'hip': 736, 'entertain': 737, 'middl': 738, 'imm2011': 739, 'theorist': 740, 'minimis': 741, 'lead': 742, 'euthanasia': 743, 'area_empiric': 744, 'earlier': 745, 'context': 746, 'co-exist': 747, 'career-readi': 748, 'opengl': 749, 'appear_credit': 750, 'reason': 751, 'geographi': 752, 'multidisciplinari': 753, 'rememb': 754, 'kidney': 755, 'planetari': 756, 'cult': 757, 'japan-rel': 758, 'impair': 759, 'ecolog': 760, 'import': 761, 'teacher': 762, 'union': 763, 'biblic': 764, 'provis': 765, \"earth'\": 766, 'breed': 767, 'semester-long': 768, 'danger': 769, 'utter': 770, 'leukemia': 771, 'self-evalu': 772, 'child': 773, 'beneficiari': 774, 'mention': 775, 'form': 776, 'reject': 777, 'gap': 778, 'bioprocess': 779, 'expect': 780, 'spanish': 781, 'supervisor': 782, 'emerg': 783, 'realiti': 784, 'style': 785, 'how': 786, 'consolid': 787, 'statu': 788, 'number': 789, 'support': 790, 'not-for': 791, 'debilit': 792, 'summ': 793, 'symbol': 794, 'dispers': 795, 'comput': 796, 'posit': 797, 'showcas': 798, 'profound': 799, 'today': 800, 'air_advertis': 801, 'map': 802, 'ncomposit': 803, 'biodivers': 804, 'antisoci_dvmrp': 805, 'caus': 806, 'subnet': 807, 'embed': 808, 'haematopoiesi': 809, 'geometri': 810, 'strain': 811, 'adult_pinyin': 812, 'apartheid_scene': 813, 'sociolog': 814, 'internetwork': 815, 'read': 816, 'reactiv': 817, \"worker'\": 818, 'consol': 819, 'liber': 820, 'coverag': 821, 'face': 822, 'nativ': 823, 'cross-cultur': 824, 'conscienti': 825, 'video': 826, 'task': 827, 'coursework': 828, 'zone': 829, 'chest': 830, 'rococo': 831, 'craft': 832, 'similar': 833, 'tension': 834, 'wisdom': 835, 'object': 836, 'goodwil': 837, 'scholarli': 838, 'acs3730_chronic': 839, 'assum_protocol': 840, 'exclus': 841, 'consider': 842, 'studio': 843, 'pertain': 844, '2-hour_vector': 845, 'hope': 846, 'convers': 847, 'repercuss': 848, 'outlin': 849, 'conflict': 850, 'immun': 851, 'trauma': 852, 'corpor': 853, 'ntheme': 854, 'suppli': 855, 'malpractic': 856, 'realism': 857, 'psychoanalyt': 858, 'non-government': 859, 'climat': 860, 'twentieth': 861, 'storytel': 862, 'legisl': 863, 'fire-set': 864, 'intervent': 865, 'appl_programm': 866, 'unit': 867, 'essay': 868, 'progress': 869, 'compound': 870, 'poetri': 871, 'statement': 872, 'earliest': 873, 'gratitud': 874, 'wake': 875, 'dimens': 876, 'visit': 877, 'public': 878, 'sketch-up': 879, 'hard': 880, 'graphic': 881, 'new-reno': 882, 'breach': 883, 'consum': 884, 'learn': 885, 'wikipedia': 886, 'life-long': 887, 'multiplex': 888, 'motiv': 889, 'find': 890, 'nqualiti': 891, 'behaviour': 892, 'wellb': 893, 'realist': 894, 'organis': 895, 'cicero': 896, 'year': 897, 'cycl': 898, 'uniqu': 899, 'genitourinari': 900, 'interior': 901, 'vernacular': 902, 'distinguish': 903, 'propheci': 904, 'inequ': 905, 'hour': 906, 'acquir_back': 907, 'ict': 908, 'mainstream': 909, 'symbiot': 910, 'practition': 911, 'refuge': 912, 'embrac': 913, 'technic': 914, \"family'\": 915, 'correct': 916, 'devic': 917, 'histori': 918, 'over-represent': 919, 'canon': 920, 'biomolecular': 921, 'empir': 922, 'preliminari': 923, 'resuscit': 924, \"student'\": 925, 'offenc': 926, 'photogrammetri': 927, 'connect': 928, 'nurs': 929, 'near': 930, 'gender': 931, 'led': 932, 'space': 933, 'rtcp': 934, 'take': 935, 'northern': 936, 'fiction': 937, 'expand': 938, 'breakfast': 939, 'belief': 940, 'apprais_psychosoci': 941, 'hallyu': 942, 'mmd4001not': 943, 'flight': 944, 'move': 945, 'leav': 946, 'basi': 947, 'weekli': 948, 'jazz': 949, 'in-class': 950, 'factor': 951, 'contest': 952, 'age_it-rel': 953, 'plastic': 954, 'capston': 955, 'genr': 956, 'sexual': 957, 'sit': 958, 'citizen': 959, 'focus': 960, 'asia-pacif_process': 961, 'copi': 962, 'strong': 963, 'state-cent': 964, 'acid_vulner': 965, 'sceptic': 966, 'sampl': 967, 'entri': 968, 'promin': 969, 'subject': 970, 'skill': 971, 'depend': 972, 'call': 973, 'futur': 974, \"marketing'\": 975, 'informat': 976, 'competitor': 977, 'brief': 978, 'safe': 979, 'physicochem': 980, 'iso': 981, 'discipline-specif': 982, 'self-regulatori': 983, 'way': 984, 'target': 985, 'imag': 986, 'power': 987, 'victoria': 988, 'keep': 989, 'torr': 990, 'procur': 991, 'theme': 992, 'googl': 993, 'state': 994, 'fieldwork': 995, 'comparison': 996, 'defin': 997, 'execut': 998, 'finish': 999, 'advers_hebrew': 1000, 'similarli': 1001, 'galileo': 1002, 'student': 1003, 'self-direct': 1004, 'founder': 1005, 'build': 1006, 'decolon': 1007, 'prescrib': 1008, \"child'\": 1009, 'contact': 1010, 'person': 1011, 'sophist': 1012, 'mojo': 1013, 'seri': 1014, 'infect': 1015, 'equival': 1016, 'allergi_semin': 1017, 'primarili': 1018, 'franc': 1019, 'self-def': 1020, 'forecast': 1021, 'induct': 1022, 'succinct': 1023, 'excret': 1024, 'law': 1025, 'creat': 1026, 'canonis': 1027, 'refer': 1028, 'service-domin': 1029, 'gut': 1030, 'bellum': 1031, 'aircraft_state-spac': 1032, 'squar': 1033, 'repertoir': 1034, 'optimis': 1035, 'gender-bas': 1036, 'acuiti_engrain': 1037, 'nanofabr': 1038, 'frame': 1039, 'step': 1040, 'discoveri': 1041, '2019_korean': 1042, 'orient': 1043, 'hypoxia': 1044, 'capit': 1045, 'level': 1046, 'lifetim': 1047, 'commerci': 1048, 'highli': 1049, 'mitig': 1050, 'prevent': 1051, 'thermodynam': 1052, 'vaccin': 1053, 'disciplinari': 1054, 'tcp': 1055, 'success': 1056, 'apprehend_troubleshoot': 1057, 'broaden': 1058, 'genet': 1059, 'dissemin': 1060, 'vein': 1061, 'marginalis': 1062, 'cast': 1063, 'peopl': 1064, 'subsystem': 1065, 'biosafeti': 1066, 'prato': 1067, 'activ_scriptwrit': 1068, 'acs1000_bibl': 1069, 'sensor': 1070, 'apa_super-powerdom': 1071, 'prospect': 1072, 'parenter': 1073, 'elementari': 1074, 'thesi': 1075, 'alcohol_personnel': 1076, 'rsvp': 1077, 'display': 1078, 'enterpris': 1079, 'perpetr': 1080, 'autonom': 1081, 'tract': 1082, 'commonly-us': 1083, 'landform': 1084, 'design': 1085, 'hop': 1086, 'mobil': 1087, 'neutron': 1088, 'employe': 1089, 'reflect': 1090, 'interdisciplinari': 1091, 'mandarin': 1092, 'follow': 1093, 'region': 1094, 'intox': 1095, 'genesi': 1096, 'landmass': 1097, 'dietitian': 1098, 'reproduct': 1099, 'standard': 1100, 'ethnobiolog': 1101, 'scale': 1102, 'democratis': 1103, 'work-lif': 1104, 'autoimmun': 1105, 'psychiatr': 1106, 'debt': 1107, 'ortho-imag': 1108, 'religion': 1109, 'poll': 1110, 'team': 1111, 'undertaken': 1112, 'cell': 1113, 'imagin': 1114, 'resourc': 1115, 'basic': 1116, 'polym': 1117, 'engin': 1118, 'learner': 1119, 'paramet': 1120, 'administr_uncertainti': 1121, 'assault_biota': 1122, 'ethnograph': 1123, 'greek': 1124, 'elabor': 1125, 'nadvers': 1126, 'tailor': 1127, 'recognis': 1128, 'embryolog': 1129, 'prototyp': 1130, 'redempt': 1131, 'ats2113_landscap': 1132, 'high-risk': 1133, 'neighbour': 1134, 'phil': 1135, 'postgradu': 1136, \"master'\": 1137, 'dispossess': 1138, 'ingredi': 1139, 'partli': 1140, 'stimuli': 1141, 'coron': 1142, 'biogeochem': 1143, 'cancer': 1144, 'expert': 1145, 'depart': 1146, 'excurs': 1147, 'multipl': 1148, 'equat': 1149, 'imperi': 1150, 'immers': 1151, 'succeed': 1152, \"eu'\": 1153, 'rise': 1154, 'altern_twenty-first': 1155, 'transplant': 1156, 'dilemma': 1157, 'computer-bas': 1158, 'constraint': 1159, 'enzym': 1160, 'cold': 1161, 'well-structur': 1162, 'participatori': 1163, 'firm': 1164, 'intermedi': 1165, 'adequ_integr': 1166, 'automat': 1167, 'wall': 1168, 'illicit': 1169, 'seventeenth': 1170, '500_bureaucrat': 1171, 'sing': 1172, 'grand': 1173, 'auxiliari': 1174, 'culmin': 1175, 'suitabl': 1176, 'eat': 1177, 'patient': 1178, 'profession': 1179, 'consult': 1180, 'advanc_espous': 1181, 'value-chang': 1182, 'woman': 1183, 'broadli': 1184, 'theatr': 1185, 'featur': 1186, 'socio-profession': 1187, 'cross-sect': 1188, 'exegesi': 1189, 'custom': 1190, 'ethnic': 1191, 'nbenchmark': 1192, 'inter-lingu': 1193, 'complianc': 1194, 'differenti': 1195, 'drug-target': 1196, 'instal': 1197, 'invest': 1198, 'new': 1199, 'inter-government': 1200, 'realis': 1201, 'variant': 1202, 'obstetr': 1203, 'opinion': 1204, 'qualit': 1205, 'colour': 1206, 'dividend': 1207, 'constitut': 1208, '3rd_large-scal': 1209, 'formal': 1210, 'weak': 1211, 'geolog': 1212, 'keen': 1213, 'explor': 1214, 'indonesian': 1215, 'classroom': 1216, 'commercialis': 1217, 'satisfact': 1218, 'anmc_childhood': 1219, 'potent': 1220, 'diseas': 1221, 'interconnect': 1222, 'exam': 1223, 'intersect': 1224, 'philosoph': 1225, 'warm': 1226, 'high-level': 1227, 'nmanag': 1228, 'payment': 1229, 'recogn': 1230, 'time-domain': 1231, 'healthi': 1232, 'repres': 1233, 'matlab': 1234, 'arriv_subsidiari': 1235, 'popul': 1236, 'aris_musculoskelet': 1237, 'fluenci': 1238, 'mind': 1239, 'midwiv': 1240, 'pressur': 1241, 'concentr': 1242, 'curricula': 1243, 'photographi': 1244, 'set': 1245, 'demograph': 1246, 'terminolog': 1247, 'start': 1248, 'three-dimension': 1249, 'probabl': 1250, 'dynam': 1251, 'bioethic': 1252, 'dataset': 1253, 'nucleic': 1254, 'custodi': 1255, 'research': 1256, 'primari': 1257, 'neo-marxist': 1258, 'botan': 1259, 'supernova': 1260, 'honour': 1261, 'politician': 1262, 'access_medic': 1263, 'spectral': 1264, 'short-term': 1265, 'construct': 1266, 'breadth': 1267, 'begun': 1268, 'term': 1269, 'artwork_tendenc': 1270, 'pool': 1271, 'rome': 1272, 'preschool': 1273, 'sustain': 1274, 'naccredit': 1275, 'pet': 1276, 'statutori': 1277, 'ligo': 1278, 'gross': 1279, 'regul': 1280, 'fit3169': 1281, 'laboratory-bas': 1282, 'adapt_multi-part': 1283, 'elicit': 1284, 'loac': 1285, 'forum': 1286, 'surfac': 1287, 'close': 1288, 'lectur': 1289, 'advoc_persist': 1290, 'strip': 1291, 'elucid': 1292, 'english': 1293, 'check': 1294, '6th_aborigin': 1295, 'categoris': 1296, 'hypothesi': 1297, 'premis': 1298, 'psychiatrist': 1299, 'foreign': 1300, 'disadvantag': 1301, 'deliveri': 1302, 'inher': 1303, 'nevalu': 1304, 'psychologist': 1305, 'rate': 1306, 'civilian': 1307, 'sector': 1308, 'analysi_bilingu': 1309, 'entrant': 1310, 'submiss': 1311, 'apparatu_deconstruct': 1312, 'path': 1313, 'psychotherapi': 1314, 'men': 1315, 'deviat': 1316, 'algorithm_transhistorical_case_studi': 1317, 'engag': 1318, 'literari': 1319, 'indigen': 1320, 'finit': 1321, 'reshap': 1322, 'commentari': 1323, 'babi': 1324, 'memoir': 1325, 'flux': 1326, 'modul': 1327, 'rational': 1328, 'scientif': 1329, 'broader': 1330, 'fulfil': 1331, 'telescop': 1332, 'correctli': 1333, 'bioreactor': 1334, 'undergradu': 1335, 'intellig': 1336, 'bioactiv': 1337, 'audiovisu': 1338, 'who': 1339, 'india': 1340, 'matter': 1341, 'articul_solubl': 1342, 'non-western': 1343, 'sensit': 1344, 'hered': 1345, 'carri': 1346, 'mainten': 1347, 'competit': 1348, 'enabl': 1349, 'japanes': 1350, 'remot': 1351, 'cohort': 1352, 'amphiphil_apg5401': 1353, 'ancient_inquiri': 1354, 'consid': 1355, 'root': 1356, 'contempt': 1357, 'locat': 1358, 'locu': 1359, 'refin': 1360, 'suffer': 1361, 'immunodefici': 1362, 'date': 1363, 'digit': 1364, 'therapi': 1365, 'operationalis': 1366, 'neonat': 1367, 'base': 1368, 'persuas': 1369, 'post-fascist': 1370, 'specif': 1371, 'graph': 1372, 'more': 1373, 'refus': 1374, 'textual': 1375, 'authent': 1376, 'bottom': 1377, 'photogrammetr': 1378, 'justic': 1379, 'hand': 1380, 'entrain': 1381, 'sovereignti': 1382, 'con': 1383, 'phenomena': 1384, 'knee': 1385, 'routin': 1386, 'experi': 1387, 'propos': 1388, 'rapid': 1389, 'loss': 1390, 'policy-relev': 1391, 'death': 1392, 'each': 1393, 'atmospher_feminist': 1394, 'exert': 1395, 'experienti': 1396, 'order': 1397, 'replac': 1398, 'authoritarian': 1399, 'deepen': 1400, 'overarch': 1401, 'endeavour': 1402, 'have': 1403, 'physic': 1404, 'facil': 1405, 'subsect': 1406, 'religi': 1407, 'demonstr': 1408, 'challeng': 1409, 'titrat': 1410, 'worker': 1411, 'geopolit': 1412, 'freedom': 1413, 'synthes': 1414, 'charact': 1415, 'counsel': 1416, 'debat': 1417, 'colon': 1418, 'industry-bas': 1419, 'constructivist': 1420, 'in-depth': 1421, 'accredit_volum': 1422, 'mode': 1423, 'favourit': 1424, 'zoo': 1425, 'atherosclerosi_trust': 1426, 'ngenr': 1427, 'ndesign': 1428, 'treat': 1429, 'lan': 1430, 'vitro': 1431, 'nineteenth-centuri': 1432, 'lender': 1433, 'advect_nsocio-cultur': 1434, 'error': 1435, 'war': 1436, '250_anim': 1437, 'multi-degre': 1438, 'written': 1439, 'transact': 1440, 'tumour': 1441, 'relationship': 1442, 'benchmark': 1443, 'produc': 1444, 'crucial': 1445, 'sperm': 1446, 'aesthet_necess': 1447, 'curv': 1448, 'children': 1449, 'mospf': 1450, 'har': 1451, 'standardis': 1452, 'acid-bas_financ': 1453, 'excit': 1454, 'referr': 1455, 'front': 1456, 'sculptur': 1457, 'operator-control': 1458, 'excerpt': 1459, 'arbitrari_tuscan': 1460, 'main': 1461, 'maximis': 1462, 'servicemen': 1463, '1993_remain': 1464, 'grammat': 1465, 'viewpoint': 1466, 'transport': 1467, 'educ': 1468, 'accuraci_initi': 1469, 'capac': 1470, 'bound': 1471, 'sagitt': 1472, 'nsatisfact': 1473, 'abl_jurisdict': 1474, 'problemat': 1475, 'assimil_intertestament': 1476, 'concern': 1477, 'dento-leg': 1478, 'includ': 1479, 'quantit': 1480, 'risk': 1481, 'marketplac': 1482, 'magnet': 1483, 'anzac_convey': 1484, 'stream': 1485, 'central': 1486, 'consequ': 1487, 'vehicl': 1488, 'pelvi': 1489, 'decemb': 1490, 'mass-market': 1491, 'bioavail': 1492, 'instruct': 1493, 'multimod': 1494, 'tap': 1495, 'worldwid': 1496, 'aqueou_clinic': 1497, 'client-serv': 1498, 'render': 1499, 'underli': 1500, 'manner': 1501, 'sonograph': 1502, 'aural': 1503, 'leisur': 1504, 'mesh': 1505, 'prioriti': 1506, 'laplac': 1507, 'mabo': 1508, 'distribut': 1509, 'job': 1510, 'react': 1511, 'lifestyl': 1512, 'lifespan': 1513, 'accommod_readi': 1514, 'converg': 1515, 'compar': 1516, \"individual'\": 1517, 'electr': 1518, 'transmit': 1519, 'direct': 1520, 'sens': 1521, 'redefin': 1522, 'breastfeed': 1523, 'vi': 1524, 'scheme': 1525, 'pharmacokinet': 1526, 'economi': 1527, 'award': 1528, 'introduct': 1529, 'internet': 1530, 'world': 1531, 'biomed': 1532, 'earli': 1533, 'anatom_older': 1534, 'artifici_simul': 1535, 'good': 1536, 'emphasis': 1537, 'therapeut': 1538, 'woman-centr': 1539, 'wan': 1540, 'usag': 1541, 'element': 1542, 'up-to': 1543, '17th_scope': 1544, 'ceremoni': 1545, 'otheris': 1546, 'insight': 1547, 'timelin': 1548, 'cognitive-behaviour': 1549, 'opportun': 1550, 'essenti': 1551, 'differ': 1552, 'dvd-rom': 1553, 'archaeolog_critiqu': 1554, 'scriptur': 1555, 'matern': 1556, 'stori': 1557, 'chemistri': 1558, 'involv': 1559, \"today'\": 1560, 'birth': 1561, 'variabl': 1562, 'countermeasur': 1563, 'timescal': 1564, 'veget': 1565, 'cat': 1566, 'eighteenth-centuri': 1567, 'titl': 1568, 'italian': 1569, 'tabular': 1570, 'coeffici': 1571, 'aspir_trace': 1572, 'kinship': 1573, 'oper': 1574, '18th_chm4180': 1575, 'french': 1576, 'increasingli': 1577, 'alleg_hegemoni': 1578, 'strengths-bas': 1579, '21st_emphasi': 1580, 'depth': 1581, 'uav': 1582, 'icm': 1583, 'track': 1584, 'princip': 1585, 'satisfactori': 1586, 'cognit': 1587, 'protect': 1588, 'addit_sub-unit': 1589, 'talent': 1590, 'gi': 1591, 'particl': 1592, 'action_exercis': 1593, 'discuss': 1594, 'sequenti': 1595, 'yield': 1596, 'manipul': 1597, 'certif': 1598, 'neural': 1599, 'addict_gate': 1600, 'inter-st': 1601, 'evad': 1602, 'ambiti_bia': 1603, 'occupational_health': 1604, 'nan': 1605, 'creativ': 1606, 'report': 1607, 'historiographi': 1608, 'pluripotenti': 1609, 'polit': 1610, 'moder': 1611, 'adjust_dealt': 1612, 'agenc_sound': 1613, 'statut': 1614, 'ongo': 1615, 'solut': 1616, 'transform': 1617, 'pragmat': 1618, 'shader': 1619, 'qualiti': 1620, 'final': 1621, 'episod': 1622, 'workforc': 1623, 'exploratori': 1624, 'recollect': 1625, 'embodi': 1626, 'hundr': 1627, 'medici': 1628, 'kilometr': 1629, 'medico-leg': 1630, 'geoscienc': 1631, 'minimum': 1632, 'process-unit': 1633, 'circuit': 1634, 'collect': 1635, 'pro': 1636, 'interview': 1637, 'journalist': 1638, 'span': 1639, 'assumpt_planetarium': 1640, 'generalist': 1641, 'photograph': 1642, 'made': 1643, 'paint': 1644, 'ideal': 1645, 'exeget': 1646, 'socioeconom': 1647, 'pseudosci': 1648, 'diffserv': 1649, \"state'\": 1650, 'trade': 1651, 'christian': 1652, 'bronz': 1653, 'document': 1654, 'gather': 1655, 'appreci_ambul': 1656, 'thing': 1657, 'desir': 1658, 'input': 1659, 'thi': 1660, 'interfac': 1661, 'suggest': 1662, 'contract': 1663, 'storag': 1664, 'exoplanet': 1665, 'real': 1666, 'fast': 1667, 'well-argu': 1668, 'topic': 1669, 'concurr': 1670, 'fluiditi': 1671, 'conduct': 1672, 'advocaci_give': 1673, 'ats2296_inform': 1674, 'cd-rom': 1675, 'pan-disciplinari': 1676, 'accept_financi': 1677, 'meteorolog': 1678, 'detail': 1679, 'blueprint': 1680, 'western': 1681, 'pericycl': 1682, 'linguist': 1683, 'eurozon': 1684, 'accur_maintain': 1685, 'epidemiolog': 1686, 'zoolog': 1687, 'opposit': 1688, 'appli_rigid': 1689, 'amount_entrap': 1690, 'ecosystem': 1691, 'milieu': 1692, 'bite': 1693, 'frequenc': 1694, 'ac_system': 1695, 'interest': 1696, 'black': 1697, 'block': 1698, 'last': 1699, 'transnat': 1700, 'green': 1701, 'occas': 1702, 'organocatalyt': 1703, 'intra-cytoplasm': 1704, 'chines': 1705, 'drug': 1706, 'list': 1707, 'current': 1708, 'facebook': 1709, 'special': 1710, 'constant': 1711, 'explos': 1712, 'spectacl': 1713, 'signal': 1714, 'conform': 1715, 'hands-on': 1716, 'permiss': 1717, 'nutrit': 1718, 'aod-rel_baroqu': 1719, 'distant': 1720, 'respect': 1721, 'varianc': 1722, 'gravit': 1723, 'aim_pharmaci': 1724, 'endang': 1725, 'valuabl': 1726, 'cultur': 1727, 'parent': 1728, 'medicin': 1729, 'treatment': 1730, 'peac': 1731, 'actual_judgement': 1732, 'pole': 1733, 'bio1011': 1734, 'refut': 1735, 'presenc': 1736, 'institut': 1737, 'exist': 1738, 'supermass': 1739, 'fetal': 1740, 'reinvent': 1741, 'post-tens': 1742, 'game': 1743, 'properti': 1744, 'non-tradit': 1745, 'session': 1746, 'health': 1747, 'employ': 1748, 'shoulder': 1749, 'industri': 1750, 'solv': 1751, 'paper': 1752, 'artist_doppler': 1753, 'student-gener': 1754, 'highlight': 1755, 'inertia': 1756, 'molecular': 1757, 'drawn': 1758, 'experiment': 1759, 'arrang_run': 1760, 'stem': 1761, 'combat': 1762, 'scalabl': 1763, 'diurnal': 1764, 'represent': 1765, 'publicli': 1766, 'comprehens': 1767, 'galilei': 1768, 'formalis': 1769, 'prompt': 1770, 'immunopatholog': 1771, 'russia': 1772, 'film': 1773, 'gambl': 1774, 'viabl': 1775, 'guest': 1776, 'on-lin': 1777, 'bring': 1778, 'magneto-hydrodynam': 1779, 'obscen': 1780, 'uphold': 1781, 'chronolog': 1782, 'chromatography-mass': 1783, 'problem': 1784, 'architectur_modular': 1785, 'negoti': 1786, 'diari': 1787, 'shortcom': 1788, 'express': 1789, 'compani': 1790, 'abdomen_interim': 1791, 'computer-aid': 1792, 'particip': 1793, 'environment': 1794, 'spectroscopi': 1795, 'schedul': 1796, 'earth': 1797, 'non-parametr': 1798, 'grant': 1799, 'illumin': 1800, 'need': 1801, 'evid': 1802, 'subsequ': 1803, 'reduc': 1804, 'coloni': 1805, 'occup': 1806, 'reput': 1807, \"newton'\": 1808, 'internship': 1809, 'modifi': 1810, 'cellular': 1811, 'spain': 1812, 'lorrain': 1813, 'msc': 1814, 'campu': 1815, 'south': 1816, 'http': 1817, 'oh': 1818, 'vascular': 1819, 'user': 1820, 'attempt': 1821, 'strength': 1822, '20th_steel': 1823, 'legal': 1824, 'genom': 1825, 'countri': 1826, 'wholli': 1827, 'regard': 1828, 'spectrometri': 1829, 'forens': 1830, 'seminar': 1831, 'safeti': 1832, 'punish': 1833, 'violenc': 1834, 'item': 1835, 'soil': 1836, 'vital': 1837, 'broad': 1838, 'genocid': 1839, 'contributor': 1840, 'meet': 1841, 'oversight': 1842, 'theory-build': 1843, 'ethico-leg': 1844, 'impress': 1845, 'wave': 1846, 'confid': 1847, 'background': 1848, 'ever-mobil': 1849, 'silo': 1850, 'drill': 1851, 'historiograph': 1852, 'asept_theorem': 1853, 'metal-medi': 1854, 'transmiss': 1855, 'women': 1856, 'previou': 1857, 'idea': 1858, 'balanc': 1859, 'commun': 1860, 'women-centr': 1861, 'immunosuppress': 1862, 'stress-diathesi': 1863, 'anchorag_sea': 1864, 'prefer': 1865, 'myth': 1866, 'free': 1867, '240_relat': 1868, 'retold': 1869, 'mill': 1870, 'circul': 1871, 'folio': 1872, 'icf': 1873, 'peptid': 1874, 'logic': 1875, 'tobacco': 1876, 'leadership': 1877, 'play': 1878, 'ago_regress': 1879, 'databas': 1880, 'measur': 1881, 'influenc': 1882, 'endocrinolog': 1883, 'answer_deep': 1884, 'organisataion': 1885, 'defend': 1886, 'undertak': 1887, 'aetiolog_incorpor': 1888, 'pollut': 1889, 'grown': 1890, 'pattern': 1891, 'borrow': 1892, 'socio-cultur': 1893, \"monash'\": 1894, 'mass': 1895, 'cardboard': 1896, 'popular': 1897, 'faculti': 1898, 'configur': 1899, 'letter': 1900, 'preserv': 1901, 'vocal': 1902, 'attent': 1903, 'introductori': 1904, 'card': 1905, 'vocabulari': 1906, 'synthesi': 1907, 'brain': 1908, 'fund': 1909, 'democraci': 1910, 'cinema': 1911, 'outcom': 1912, 'attend': 1913, 'pain': 1914, 'beam': 1915, 'explicit': 1916, 'urban': 1917, 'column': 1918, 'satellit': 1919, 'european': 1920, 'break': 1921, 'leukaemia': 1922, 'ideolog': 1923, 'explan': 1924, 'decision-mak': 1925, 'classif': 1926, 'defenc': 1927, 'conclus': 1928, 'cth': 1929, 'difficult': 1930, 'globalis': 1931, 'psychodynam': 1932, 'immunis': 1933, 'lymphoma': 1934, 'origin': 1935, 'effect': 1936, 'consist': 1937, 'nemerg': 1938, 'discret': 1939, 'later': 1940, 'itali': 1941, 'imageri': 1942, 'abnorm_ospf': 1943, 'ultim': 1944, 'summer': 1945, 'disempower': 1946, 'partnership': 1947, 'neurodevelop': 1948, 'clinician': 1949, 'function': 1950, \"school'\": 1951, 'option': 1952, 'manag': 1953, 'encompass': 1954, 'usual': 1955, 'paediatr': 1956, 'plan': 1957, 'breakag': 1958, 'owner': 1959, 'consciou': 1960, 'load': 1961, 'singl': 1962, 'they': 1963, 'hypothes': 1964, 'defens': 1965, 'repatri': 1966, 'methodolog': 1967, 'speci': 1968, 'apocalypt_abil': 1969, 'england': 1970, 'branch': 1971, 'gravitational-wav': 1972, 'serv': 1973, 'hegemon': 1974, 'ethic': 1975, 'latest': 1976, 'taught': 1977, 'mine-to': 1978, 'electron': 1979, 'member': 1980, 'algebra_interplay': 1981, 'problem-bas': 1982, 'obes': 1983, 'capitalist': 1984, 'disord': 1985, 'characteris': 1986, 'assess_and': 1987, 'static': 1988, 'linnaean': 1989, 'nclinic': 1990, 'stanc': 1991, 'wholly-own': 1992, 'chromatograph': 1993, 'citizenship': 1994, 'guidelin': 1995, 'harm': 1996, 'mine': 1997, 'career': 1998, 'augment': 1999, 'upgrad': 2000, 'readili': 2001, 'non-fict': 2002, 'fertil': 2003, 'paid': 2004, 'separ': 2005, 'masterclass': 2006, 'nich': 2007, 'top': 2008, 'portfolio': 2009, 'systemat': 2010, 'meta-cultur': 2011, 'materi': 2012, 'descript': 2013, 'conjug': 2014, 'show': 2015, 'assign_appf': 2016, 'vibratori': 2017, 'polic': 2018, 'preconcept': 2019, 'sourc': 2020, 'childbear': 2021, 'non-italian': 2022, 'devot': 2023, 'rest': 2024, 'purpos': 2025, 'wick': 2026, 'summaris': 2027, \"pearson'\": 2028, 'make': 2029, 'ats1267not_fairfax': 2030, 'plant': 2031, 'instrument': 2032, 'brussel': 2033, 'whilst': 2034, 'intragroup': 2035, 'word': 2036, 'bibliograph': 2037, 'board': 2038, 'forward': 2039, 'conting': 2040, 'dispar': 2041, 'labour': 2042, 'valuat': 2043, 'postcoloni': 2044, 'intranet': 2045, 'music': 2046, 'indonesia': 2047, 'legitim': 2048, 'further': 2049, 'activist_devis': 2050, 'prior': 2051, 'annual_abdomin': 2052, 'mark': 2053, 'core': 2054, 'dietet': 2055, 'govern': 2056, 'remedi': 2057, 'commenc': 2058, 'smaller': 2059, 'assist_fulli': 2060, 'right': 2061, 'correl': 2062, 'exchang': 2063, 'paradigm': 2064, 'symptom': 2065, 'acquisit_poststructuralist': 2066, 'contra-ind': 2067, 'evolv': 2068, 'interdepend': 2069, 'limb': 2070, 'effici': 2071, 'concis': 2072, 'bode': 2073, 'project-bas': 2074, 'pre-concept': 2075, 'nutriti': 2076, 'mechan': 2077, 'grasp': 2078, 'rich': 2079, 'indic': 2080, 'fundament': 2081, 'mindset': 2082, 'strateg': 2083, 'larg': 2084, 'there': 2085, 'short-list': 2086, 'intracompani': 2087, 'unpack': 2088, 'overview': 2089, 'analyst_undo': 2090, 'china': 2091, 'characterist': 2092, 'self-discoveri': 2093, 'interrog': 2094, 'termin': 2095, 'light': 2096, 'bgp4': 2097, 'procedur': 2098, 'cover': 2099, 'stellar': 2100, 'non-indigen': 2101, 'mass-bas': 2102, 'paramedicin': 2103, 'itun': 2104, 'youth': 2105, 'classic': 2106, 'use': 2107, 'period': 2108, 'commiss': 2109, 'nof': 2110, 'setup': 2111, 'varieti': 2112, 'lactat': 2113, 'confidenti': 2114, 'decad': 2115, 'african_reader': 2116, 'drama': 2117, 'valu': 2118, 'reportag': 2119, 'collaps': 2120, 'master': 2121, 'translat': 2122, 'awar': 2123, 'clearli': 2124, 'enrich': 2125, 'reform': 2126, 'pandem': 2127, 'revel': 2128, 'request': 2129, 'proce': 2130, 'tie': 2131, 'ingr': 2132, 'attitud': 2133, 'network': 2134, 'prostat': 2135, 'mould': 2136, 'macro': 2137, 'hypothet': 2138, 'introduc': 2139, 'supramolecular': 2140, 'non-financi': 2141, 'frontier': 2142, 'present': 2143, 'content': 2144, 'technolog': 2145, 'exemplifi': 2146, 'merit': 2147, 'ntrauma': 2148, 'facial': 2149, 'websit': 2150, 'admiss_intellectu': 2151, 'artefact_regulatori': 2152, 'lc-m': 2153, 'due': 2154, 'screen': 2155, 'write': 2156, 'help': 2157, 'grief': 2158, 'nthose': 2159, 'oversea': 2160, 'profici': 2161, 'line': 2162, 'two-week': 2163, 'alter_midwif': 2164, 'rel': 2165, 'radiographi': 2166, 'analyt_receiv': 2167, 'skelet': 2168, 'peer': 2169, 'built': 2170, 'visualis': 2171, 'situ': 2172, 'slave': 2173, 'creation': 2174, 'alfr_plane': 2175, 'exponenti': 2176, 'gener': 2177, 'attribut': 2178, 'improv': 2179, 'ohsm': 2180, 'abstract_newborn': 2181, 'axisymmetr': 2182, 'conscious': 2183, 'individually-bas': 2184, 'choic': 2185, 'identifi': 2186, 'bridg': 2187, 'yet': 2188, 'spectroscop': 2189, 'literatur': 2190, 'compet': 2191, 'bank': 2192, 'end-of': 2193, 'ivf': 2194, 'catalys': 2195, 'bio1022': 2196, 'instanc': 2197, 'explain': 2198, 'principles-bas': 2199, 'agreement_cave': 2200, 'interperson': 2201, 'threat': 2202, 'pipelin': 2203, 'specialist': 2204, 'logarithm': 2205, 'strategi': 2206, 'buyer': 2207, 'robust': 2208, 'homicid': 2209, 'battl': 2210, 'nonlinear': 2211, 'deadlin': 2212, 'encourag': 2213, 'signific': 2214, 'tax': 2215, 'amen_centuri': 2216, 'scan': 2217, 'proport': 2218, 'neuropsycholog': 2219, 'incom': 2220, 'normal': 2221, 'clear': 2222, 'phase': 2223, 'chromatographi': 2224, 'alloc_data': 2225, 'rock': 2226, 'sublim': 2227, 'descend': 2228, 'supernet': 2229, 'ultrasound': 2230, 'world-class': 2231, 'secondari': 2232, 'put': 2233, 'nanotechnolog': 2234, 'romanis': 2235, 'decid': 2236, 'patholog': 2237, 'happen': 2238, 'recommend': 2239, 'friendship': 2240, 'handl': 2241, 'link': 2242, 'interferomet': 2243, 'midwiferi': 2244, 'intern': 2245, 'illeg': 2246, 'interact': 2247, 'farm': 2248, 'non-intern': 2249, 'fair': 2250, 'cure': 2251, 'legaci': 2252, 'disclosur': 2253, 'advic_immunopotenti': 2254, 'deliv': 2255, 'taxonomi': 2256, 'well-b': 2257, 'rtp': 2258, 'modern': 2259, 'rivalri': 2260, 'geneva': 2261, 'scenario': 2262, 'rehabilit': 2263, 'contextu': 2264, 'higher': 2265, 'view': 2266, 'criminolog': 2267, 'depict': 2268, 'famili': 2269, 'tune': 2270, 'pacif': 2271, 'familiar': 2272, 'generalis': 2273, 'nine': 2274, 'local': 2275, 'factual': 2276, 'feedback': 2277, 'solid': 2278, 'diagram': 2279, 'focu': 2280, 'appropri_old': 2281, 'purif': 2282, 'nation': 2283, 'diffus': 2284, 'peer-review': 2285, 'recoveri': 2286, 'parliamentari': 2287, 'strait': 2288, 'real-world': 2289, 'digest': 2290, 'ill': 2291, 'matrix': 2292, 'teamwork': 2293, 'tokyo': 2294, 'london': 2295, 'nmr': 2296, 'voic': 2297, 'stabil': 2298, 'concret': 2299, 'alert_eastern': 2300, 'implement': 2301, 'tempor': 2302, 'semi-form': 2303, 'staff': 2304, 'crisi': 2305, 'ipv6': 2306, 'effort': 2307, 'search': 2308, 'broadcast': 2309, 'exampl': 2310, 'mediev': 2311, 'mathemat': 2312, 'trend': 2313, 'terrorist': 2314, 'afs2740_australia': 2315, 'tool': 2316, 'short': 2317, 'portray': 2318, 'ensembl': 2319, 'pervas': 2320, 'wide': 2321, 'council': 2322, 'market': 2323, 'nanomateri': 2324, 'sociocultur': 2325, 'budget': 2326, 'account_project': 2327, 'settler': 2328, 'chosen': 2329, 'knowledg': 2330, 'human': 2331, 'valid': 2332, 'oral': 2333, 'predict': 2334, 'equal': 2335, 'professional_compet': 2336, 'scientist': 2337, 'rang': 2338, 'first-ord': 2339, 'principl': 2340, 'post-partum': 2341, 'code': 2342, 'week': 2343, 'aerial_record': 2344, 'dialogu': 2345, 'greater': 2346, 'tuscani': 2347, 'choos': 2348, 'tutori': 2349, 'offer': 2350, 'kinemat': 2351, 'comprehend': 2352, 'sclerosi': 2353, 'segment': 2354, 'sketch': 2355, 'kanji': 2356, 'think': 2357, 'team-work': 2358, 'low': 2359, 'radiograph': 2360, 'nation-st': 2361, 'tell': 2362, 'mid-stream': 2363, 'respons': 2364, 'era': 2365, 'literaci': 2366, \"provider'\": 2367, 'non-linear': 2368, 'insid': 2369, 'histor': 2370, 'extinct': 2371, 'inter-profession': 2372, 'summar': 2373, 'pelvic': 2374, 'intestin': 2375, 'retransmit': 2376, 'deserv': 2377, 'fertilis': 2378, 'psycho-dynam': 2379, 'train': 2380, 'exhibit': 2381, \"adolescent'_one'\": 2382, 'workshop': 2383, 'kinet': 2384, 'localis': 2385, 'examin': 2386, 'incept': 2387, 'vision': 2388, 'rule': 2389, 'proposit': 2390, 'pair': 2391, 'tissu': 2392, 'encod': 2393, 'laser': 2394, 'understand': 2395, 'biospher': 2396, 'second-ord': 2397, 'rais': 2398, 'enrol': 2399, 'languag': 2400, 'infanc': 2401, 'section': 2402, 'formul': 2403, 'associ_academic-bas': 2404, 'work-famili': 2405, 'infrastructur': 2406, 'social': 2407, 'complain': 2408, 'acknowledg_republican': 2409, 'prepar': 2410, 'academ_discipline-rel': 2411, 'israel': 2412, 'interpret': 2413, 'concept': 2414, 'breast': 2415, 'healthcar': 2416, 'cloud': 2417, 'approx_radic': 2418, 'practis': 2419, 'workplac': 2420, 'enforc': 2421, 'earn': 2422, 'end': 2423, 'remnant': 2424, 'pitfal': 2425, 'visual': 2426, 'internationalis': 2427, 'peninsula': 2428, 'dual': 2429, 'servic': 2430, 'applic_pop': 2431, 'revenu': 2432, 'insular': 2433, 'nucleosynthesi': 2434, 'capabl': 2435, 'reconcili': 2436, 'place': 2437}\n"
     ]
    }
   ],
   "source": [
    "# Creating a dictionary for unique id\n",
    "\n",
    "token_id_dict = {}\n",
    "count = 0\n",
    "for each in tokens_set:\n",
    "    count += 1\n",
    "    token_id_dict[each] = count\n",
    "\n",
    "print(token_id_dict)"
   ]
  },
  {
   "cell_type": "markdown",
   "metadata": {},
   "source": [
    "Iterating through the dictionary in the column Token frequency, using the key of the dictionary to find the value in the previously created global dictionary to get its token id and inserting it to a separate dictionary which is added to a separate column in the dataframe - IdFrequency. See the data in head display to understand better."
   ]
  },
  {
   "cell_type": "code",
   "execution_count": 1071,
   "metadata": {},
   "outputs": [],
   "source": [
    "def mapping_frequency(s):\n",
    "    tokenid_freq_dict = {}\n",
    "    for k, v in s.items():\n",
    "        if k in token_id_dict:\n",
    "            token_id = token_id_dict[k]\n",
    "            tokenid_freq_dict[token_id] = v\n",
    "    return tokenid_freq_dict    "
   ]
  },
  {
   "cell_type": "code",
   "execution_count": 1072,
   "metadata": {},
   "outputs": [
    {
     "data": {
      "text/html": [
       "<div>\n",
       "<style scoped>\n",
       "    .dataframe tbody tr th:only-of-type {\n",
       "        vertical-align: middle;\n",
       "    }\n",
       "\n",
       "    .dataframe tbody tr th {\n",
       "        vertical-align: top;\n",
       "    }\n",
       "\n",
       "    .dataframe thead th {\n",
       "        text-align: right;\n",
       "    }\n",
       "</style>\n",
       "<table border=\"1\" class=\"dataframe\">\n",
       "  <thead>\n",
       "    <tr style=\"text-align: right;\">\n",
       "      <th></th>\n",
       "      <th>Title</th>\n",
       "      <th>Information</th>\n",
       "      <th>TokenFrequency</th>\n",
       "      <th>IdFrequency</th>\n",
       "    </tr>\n",
       "  </thead>\n",
       "  <tbody>\n",
       "    <tr>\n",
       "      <th>0</th>\n",
       "      <td>ATS3956</td>\n",
       "      <td>[unit, focus, histori, theori, applic, concept...</td>\n",
       "      <td>{'unit': 1, 'focus': 1, 'histori': 3, 'theori'...</td>\n",
       "      <td>{867: 1, 960: 1, 918: 3, 99: 1, 2414: 3, 852: ...</td>\n",
       "    </tr>\n",
       "    <tr>\n",
       "      <th>1</th>\n",
       "      <td>ATS3116</td>\n",
       "      <td>[unit, develop, indonesian, linguist, cultur, ...</td>\n",
       "      <td>{'unit': 2, 'develop': 1, 'indonesian': 9, 'li...</td>\n",
       "      <td>{867: 2, 464: 1, 1215: 9, 1683: 1, 1727: 4, 21...</td>\n",
       "    </tr>\n",
       "    <tr>\n",
       "      <th>2</th>\n",
       "      <td>APG5337</td>\n",
       "      <td>[unit, explor, modern, polit, govern, mode, au...</td>\n",
       "      <td>{'unit': 4, 'explor': 3, 'modern': 1, 'polit':...</td>\n",
       "      <td>{867: 4, 1214: 3, 2259: 1, 1610: 3, 2056: 2, 1...</td>\n",
       "    </tr>\n",
       "    <tr>\n",
       "      <th>3</th>\n",
       "      <td>ATS1229</td>\n",
       "      <td>[unit, aim, provid, basic, foundat, basic, lan...</td>\n",
       "      <td>{'unit': 1, 'aim': 1, 'provid': 1, 'basic': 4,...</td>\n",
       "      <td>{867: 1, 370: 1, 1116: 4, 346: 1, 2400: 3, 971...</td>\n",
       "    </tr>\n",
       "    <tr>\n",
       "      <th>4</th>\n",
       "      <td>IMM3990</td>\n",
       "      <td>[unit, provid, high, achiev, student, structur...</td>\n",
       "      <td>{'unit': 1, 'provid': 1, 'high': 1, 'achiev': ...</td>\n",
       "      <td>{867: 1, 370: 1, 566: 1, 1003: 4, 233: 1, 1256...</td>\n",
       "    </tr>\n",
       "  </tbody>\n",
       "</table>\n",
       "</div>"
      ],
      "text/plain": [
       "     Title                                        Information  \\\n",
       "0  ATS3956  [unit, focus, histori, theori, applic, concept...   \n",
       "1  ATS3116  [unit, develop, indonesian, linguist, cultur, ...   \n",
       "2  APG5337  [unit, explor, modern, polit, govern, mode, au...   \n",
       "3  ATS1229  [unit, aim, provid, basic, foundat, basic, lan...   \n",
       "4  IMM3990  [unit, provid, high, achiev, student, structur...   \n",
       "\n",
       "                                      TokenFrequency  \\\n",
       "0  {'unit': 1, 'focus': 1, 'histori': 3, 'theori'...   \n",
       "1  {'unit': 2, 'develop': 1, 'indonesian': 9, 'li...   \n",
       "2  {'unit': 4, 'explor': 3, 'modern': 1, 'polit':...   \n",
       "3  {'unit': 1, 'aim': 1, 'provid': 1, 'basic': 4,...   \n",
       "4  {'unit': 1, 'provid': 1, 'high': 1, 'achiev': ...   \n",
       "\n",
       "                                         IdFrequency  \n",
       "0  {867: 1, 960: 1, 918: 3, 99: 1, 2414: 3, 852: ...  \n",
       "1  {867: 2, 464: 1, 1215: 9, 1683: 1, 1727: 4, 21...  \n",
       "2  {867: 4, 1214: 3, 2259: 1, 1610: 3, 2056: 2, 1...  \n",
       "3  {867: 1, 370: 1, 1116: 4, 346: 1, 2400: 3, 971...  \n",
       "4  {867: 1, 370: 1, 566: 1, 1003: 4, 233: 1, 1256...  "
      ]
     },
     "execution_count": 1072,
     "metadata": {},
     "output_type": "execute_result"
    }
   ],
   "source": [
    "df[\"IdFrequency\"] = np.NAN\n",
    "df[\"IdFrequency\"] = df[\"TokenFrequency\"].apply(mapping_frequency)\n",
    "df.head()"
   ]
  },
  {
   "cell_type": "markdown",
   "metadata": {},
   "source": [
    "Writing the results to files - '29567467_vocab.txt' and '29567467_countVec.txt'.\n",
    "Global dictionary of token with its id is sorted first alphabetically and written to a file, each token in a separate line\n",
    "In order to write the count vector, we are iterating through the dataframe and writing the first(unitId) and fourth column(IdFrequency). Each unit is written to a separate line"
   ]
  },
  {
   "cell_type": "code",
   "execution_count": 1073,
   "metadata": {},
   "outputs": [],
   "source": [
    "# Writing the results to a file\n",
    "\n",
    "file_vocab = open('29567467_vocab.txt', 'w')\n",
    "\n",
    "# Sort dictionary with respect to key\n",
    "token_id_dict = dict(sorted(token_id_dict.items()))\n",
    "\n",
    "for k,v in token_id_dict.items():\n",
    "    file_vocab.write(str(k) + \":\" + str(v) + \"\\n\")\n",
    "file_vocab.close()\n",
    "\n",
    "file_frequency = open('29567467_countVec.txt', 'w')\n",
    "\n",
    "count = df.shape[0]\n",
    "for index, row in df.head(n=count).iterrows():\n",
    "    output = row[0]\n",
    "    for k,v in row[3].items():\n",
    "        output = output + \",\" + str(k) + \":\" + str(v)\n",
    "    output = output + \"\\n\"\n",
    "    file_frequency.write(output)\n",
    "file_frequency.close()"
   ]
  },
  {
   "cell_type": "markdown",
   "metadata": {},
   "source": [
    "To understand the most frequent words in the global tokens, we will plot the first 10 tokens along with their frequencies"
   ]
  },
  {
   "cell_type": "code",
   "execution_count": 1074,
   "metadata": {},
   "outputs": [
    {
     "data": {
      "text/plain": [
       "{'unit': 275,\n",
       " 'develop': 257,\n",
       " 'student': 250,\n",
       " 'research': 245,\n",
       " 'understand': 213,\n",
       " 'practic': 200,\n",
       " 'skill': 184,\n",
       " 'critic': 181,\n",
       " 'design': 160,\n",
       " 'appli': 145}"
      ]
     },
     "execution_count": 1074,
     "metadata": {},
     "output_type": "execute_result"
    }
   ],
   "source": [
    "tokens_frequent = FreqDist(tokens)\n",
    "type(tokens_frequent.most_common(10))\n",
    "plot = {}\n",
    "for k,v in tokens_frequent.most_common(10):\n",
    "    plot[k] = v\n",
    "plot"
   ]
  },
  {
   "cell_type": "code",
   "execution_count": 1075,
   "metadata": {},
   "outputs": [
    {
     "data": {
      "image/png": "[encoded data removed]",
      "text/plain": [
       "<Figure size 720x360 with 1 Axes>"
      ]
     },
     "metadata": {},
     "output_type": "display_data"
    }
   ],
   "source": [
    "plt.figure(figsize=(10,5))\n",
    "plt.bar(range(len(plot)), list(plot.values()), align='center')\n",
    "plt.xticks(range(len(plot)), list(plot.keys()))\n",
    "plt.show()"
   ]
  },
  {
   "cell_type": "code",
   "execution_count": 1076,
   "metadata": {},
   "outputs": [
    {
     "data": {
      "image/png": "[encoded data removed]",
      "text/plain": [
       "<Figure size 432x288 with 1 Axes>"
      ]
     },
     "metadata": {},
     "output_type": "display_data"
    }
   ],
   "source": [
    "tokens_frequent.plot(25, cumulative=True)"
   ]
  },
  {
   "cell_type": "markdown",
   "metadata": {},
   "source": [
    "Plotting frequency of frequency using a bar chart"
   ]
  },
  {
   "cell_type": "code",
   "execution_count": 1077,
   "metadata": {},
   "outputs": [
    {
     "data": {
      "image/png": "[encoded data removed]",
      "text/plain": [
       "<Figure size 576x576 with 1 Axes>"
      ]
     },
     "metadata": {},
     "output_type": "display_data"
    }
   ],
   "source": [
    "# Applying frequency distribution function on all the values of the tokens(k,v) which will have the frequency count\n",
    "fd = FreqDist(tokens_frequent.values())\n",
    "\n",
    "y = [0]*14\n",
    "for k, v in fd.items():\n",
    "     if k <= 10:\n",
    "        y[k-1] = v\n",
    "     elif k >10 and k <= 50:\n",
    "        y[10] =  y[10] + v\n",
    "     elif k >50 and k <= 100:\n",
    "        y[11] =  y[11] + v\n",
    "     elif k > 100 and k <= 500:\n",
    "        y[12] =  y[12] + v\n",
    "     else:\n",
    "        y[13] =  y[13] + v\n",
    "figure(figsize=(8,8))\n",
    "x = range(1, 15) \n",
    "ytks =list(map(str, range(1, 11))) \n",
    "ytks.append('10-50')\n",
    "ytks.append('51-100')\n",
    "ytks.append('101-400')\n",
    "barh(x,y)\n",
    "yticks(x, ytks)\n",
    "xlabel('Frequency of Frequency')\n",
    "ylabel('Word Frequency')\n",
    "grid(True)"
   ]
  },
  {
   "cell_type": "markdown",
   "metadata": {},
   "source": [
    "## Summary\n",
    "\n",
    "* Extracted data from PDF tables\n",
    "* Loaded the data into Dataframe\n",
    "* Completed word Tokenization\n",
    "* Did Case Normalization\n",
    "* Removed stop words\n",
    "* Stemming technique\n",
    "* Performed Count vectorization\n",
    "* Plotted charts of frequencies"
   ]
  }
 ],
 "metadata": {
  "kernelspec": {
   "display_name": "Python 3",
   "language": "python",
   "name": "python3"
  },
  "language_info": {
   "codemirror_mode": {
    "name": "ipython",
    "version": 3
   },
   "file_extension": ".py",
   "mimetype": "text/x-python",
   "name": "python",
   "nbconvert_exporter": "python",
   "pygments_lexer": "ipython3",
   "version": "3.6.5"
  }
 },
 "nbformat": 4,
 "nbformat_minor": 2
}
